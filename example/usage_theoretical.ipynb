{
 "cells": [
  {
   "cell_type": "markdown",
   "source": [
    "# Usage: SIR-derived models\n",
    "\n",
    "[![Open In Colab](https://colab.research.google.com/assets/colab-badge.svg)](https://colab.research.google.com/github/lisphilar/covid19-sir/blob/master/example/usage_theoretical.ipynb)\n",
    "\n",
    "Here, we will create example datasets with simulated values of SIR-derived models. Then, we will perform scenario analysis with them."
   ],
   "metadata": {}
  },
  {
   "cell_type": "markdown",
   "source": [
    "## Preparation\n",
    "Prepare tha packages."
   ],
   "metadata": {}
  },
  {
   "cell_type": "code",
   "execution_count": null,
   "source": [
    "# !pip install covsirphy --upgrade\n",
    "from pprint import pprint\n",
    "import covsirphy as cs\n",
    "cs.__version__"
   ],
   "outputs": [],
   "metadata": {
    "tags": []
   }
  },
  {
   "cell_type": "markdown",
   "source": [
    "## Create example dataset with theoretical values\n",
    "We will use `ExampleData` class to perform simulation with preset initial values and parameters. $\\tau$ (coeficient for non-dimensionalization) will be set as $1440\\ \\mathrm{[min]}$. The first date of records will be 01Jan2020 as an example."
   ],
   "metadata": {}
  },
  {
   "cell_type": "code",
   "execution_count": null,
   "source": [
    "# Set tau value and start date of records\n",
    "example_data = cs.ExampleData(tau=1440, start_date=\"01Jan2020\")"
   ],
   "outputs": [],
   "metadata": {}
  },
  {
   "cell_type": "markdown",
   "source": [
    "No records were registered at this time."
   ],
   "metadata": {}
  },
  {
   "cell_type": "code",
   "execution_count": null,
   "source": [
    "# Check records\n",
    "example_data.cleaned()"
   ],
   "outputs": [],
   "metadata": {}
  },
  {
   "cell_type": "markdown",
   "source": [
    "`ExampleData` class is a child class of `JHUData`. i.e. We can use the example data in scenario analysis. Example codes will be shown in \"Scenario analysis with theoretical data\" subsection."
   ],
   "metadata": {}
  },
  {
   "cell_type": "code",
   "execution_count": null,
   "source": [
    "issubclass(cs.ExampleData, cs.JHUData)"
   ],
   "outputs": [],
   "metadata": {}
  },
  {
   "cell_type": "code",
   "execution_count": null,
   "source": [
    "isinstance(example_data, cs.JHUData)"
   ],
   "outputs": [],
   "metadata": {}
  },
  {
   "cell_type": "markdown",
   "source": [
    "## SIR model\n",
    "Let's start with the simlest SIR model proposed by [Kermack, W. O., & McKendrick, A. G. (1927)](https://royalsocietypublishing.org/doi/10.1098/rspa.1927.0118). \"Susceptible people\" may meet \"Infected\" persons and may be confirmed as \"Infected\". \"Infected\" patients will move to \"Recovered\" compertment later.\n",
    "\\begin{align*}\n",
    "\\mathrm{S} \\overset{\\beta I}{\\longrightarrow} \\mathrm{I} \\overset{\\gamma}{\\longrightarrow} \\mathrm{R}  \\\\\n",
    "\\end{align*}\n",
    "\n",
    "Variables:  \n",
    "\n",
    "* $\\mathrm{S}$: Susceptible (= Population - Confirmed)  \n",
    "* $\\mathrm{I}$: Infected (=Confirmed - Recovered - Fatal)  \n",
    "* $\\mathrm{R}$: Recovered or Fatal (= Recovered + Fatal)  \n",
    "\n",
    "Parameters:  \n",
    "\n",
    "* $\\beta$: Effective contact rate $\\mathrm{[1/min]}$  \n",
    "* $\\gamma$: Recovery (+ Mortality) rate $\\mathrm{[1/min]}$  \n",
    "\n",
    "Note:  \n",
    "Though $R$ in SIR model is \"Recovered and have immunity\", we defines $R$ as \"Recovered or fatal\". This is because mortality rate cannot be ignored in our COVID-19 outbreak."
   ],
   "metadata": {}
  },
  {
   "cell_type": "markdown",
   "source": [
    "### Non-dimensional SIR model\n",
    "To simplify the model, we will remove the units of the variables from the ODE model.\n",
    "\n",
    "Set $(S, I, R) = N \\times (x, y, z)$ and $(T, \\beta, \\gamma) = (\\tau t, \\tau^{-1} \\rho, \\tau^{-1} \\sigma)$.  \n",
    "\n",
    "This results in the ODE  \n",
    "\\begin{align*}\n",
    "& \\frac{\\mathrm{d}x}{\\mathrm{d}t}= - \\rho x y  \\\\\n",
    "& \\frac{\\mathrm{d}y}{\\mathrm{d}t}= \\rho x y - \\sigma y  \\\\\n",
    "& \\frac{\\mathrm{d}z}{\\mathrm{d}t}= \\sigma y  \\\\\n",
    "\\end{align*}\n",
    "\n",
    "Where $N$ is the total population and $\\tau$ is a coefficient ([min], is an integer to simplify).  "
   ],
   "metadata": {}
  },
  {
   "cell_type": "markdown",
   "source": [
    "The model name and preset of parameter and initial values are registed as class variables of `SIR` class."
   ],
   "metadata": {}
  },
  {
   "cell_type": "code",
   "execution_count": null,
   "source": [
    "# Model name\n",
    "print(cs.SIR.NAME)\n",
    "# Example parameter values\n",
    "pprint(cs.SIR.EXAMPLE, compact=True)"
   ],
   "outputs": [],
   "metadata": {
    "tags": []
   }
  },
  {
   "cell_type": "markdown",
   "source": [
    "With the preset values, `ExampleData` instance will produce a example data."
   ],
   "metadata": {}
  },
  {
   "cell_type": "code",
   "execution_count": null,
   "source": [
    "model = cs.SIR\n",
    "area = {\"country\": \"Full\", \"province\": model.NAME}\n",
    "# Add records with SIR model\n",
    "example_data.add(model, **area)"
   ],
   "outputs": [],
   "metadata": {}
  },
  {
   "cell_type": "markdown",
   "source": [
    "We can get example records with `ExampleData.specialized()` method."
   ],
   "metadata": {}
  },
  {
   "cell_type": "code",
   "execution_count": null,
   "source": [
    "# Records with model variables\n",
    "df = example_data.specialized(model, **area)\n",
    "df.head()"
   ],
   "outputs": [],
   "metadata": {}
  },
  {
   "cell_type": "markdown",
   "source": [
    "With `covsirphy.line_plot()` function, figures will be shown (or saved when `filename` argument was applied)."
   ],
   "metadata": {}
  },
  {
   "cell_type": "code",
   "execution_count": null,
   "source": [
    "# Line plot with the example data\n",
    "cs.line_plot(df.set_index(\"Date\"), title=f\"Example data of {model.NAME} model\", y_integer=True)"
   ],
   "outputs": [],
   "metadata": {}
  },
  {
   "cell_type": "markdown",
   "source": [
    "### Reproduction number\n",
    "\n",
    "Reproduction number of SIR model is defined as follows.\n",
    "\n",
    "\\begin{align*}\n",
    "R_0 = \\rho \\sigma^{-1} = \\beta \\gamma^{-1}\n",
    "\\end{align*}\n",
    "\n",
    "$R_0$ (\"R naught\") means \"the average number of secondary infections caused by an infected host\" ([external link: Infection Modeling — Part 1](https://towardsdatascience.com/infection-modeling-part-1-87e74645568a)). When $x=\\frac{1}{R_0}$, $\\frac{\\mathrm{d}y}{\\mathrm{d}t}=0$ (the number of infected cases does not change).  \n",
    "\n",
    "We can calculate reproduction number using `.calc_r0()` method."
   ],
   "metadata": {}
  },
  {
   "cell_type": "code",
   "execution_count": null,
   "source": [
    "# Calculate reproduction number\n",
    "# Note: population value will be applied, but not used in calculation\n",
    "param_dict = cs.SIR.EXAMPLE[\"param_dict\"].copy()\n",
    "model_instance = cs.SIR(population=100000, **param_dict)\n",
    "r0 = model_instance.calc_r0()\n",
    "print(f\"Reproduction number of {model_instance.NAME} model: {r0}\")"
   ],
   "outputs": [],
   "metadata": {}
  },
  {
   "cell_type": "markdown",
   "source": [
    "## SIR-D model\n",
    "Because we are measuring the number of fatal cases and recovered cases separately, we can use two variables (\"Recovered\" and \"Deaths\") instead of \"Recovered + Deaths\" in the mathematical model. We call this model as SIR-D model.\n",
    "\\begin{align*}\n",
    "\\mathrm{S} \\overset{\\beta  I}{\\longrightarrow}\\ & \\mathrm{I} \\overset{\\gamma}{\\longrightarrow} \\mathrm{R}  \\\\\n",
    "& \\mathrm{I} \\overset{\\alpha}{\\longrightarrow} \\mathrm{D}  \\\\\n",
    "\\end{align*}\n",
    "\n",
    "Variables:  \n",
    "\n",
    "* $\\mathrm{S}$: Susceptible (= Population - Confirmed)  \n",
    "* $\\mathrm{I}$: Infected (=Confirmed - Recovered - Fatal)  \n",
    "* $\\mathrm{R}$: Recovered  \n",
    "* $\\mathrm{D}$: Fatal  \n",
    "\n",
    "Parameters:  \n",
    "\n",
    "* $\\alpha$: Mortality rate $\\mathrm{[1/min]}$  \n",
    "* $\\beta$: Effective contact rate $\\mathrm{[1/min]}$  \n",
    "* $\\gamma$: Recovery rate $\\mathrm{[1/min]}$  \n",
    "\n",
    "### Non-dimensional SIR-D model\n",
    "Set $(S, I, R, D) = N \\times (x, y, z, w)$ and $(T, \\alpha, \\beta, \\gamma) = (\\tau t, \\tau^{-1} \\kappa, \\tau^{-1} \\rho, \\tau^{-1} \\sigma)$.  \n",
    "This results in the ODE  \n",
    "\\begin{align*}\n",
    "& \\frac{\\mathrm{d}x}{\\mathrm{d}t}= - \\rho x y  \\\\\n",
    "& \\frac{\\mathrm{d}y}{\\mathrm{d}t}= \\rho x y - (\\sigma + \\kappa) y  \\\\\n",
    "& \\frac{\\mathrm{d}z}{\\mathrm{d}t}= \\sigma y  \\\\\n",
    "& \\frac{\\mathrm{d}w}{\\mathrm{d}t}= \\kappa y  \\\\\n",
    "\\end{align*}\n"
   ],
   "metadata": {}
  },
  {
   "cell_type": "markdown",
   "source": [
    "The model name and preset values are registered in `SIRD` class."
   ],
   "metadata": {}
  },
  {
   "cell_type": "code",
   "execution_count": null,
   "source": [
    "# Model name\n",
    "print(cs.SIRD.NAME)\n",
    "# Example parameter values\n",
    "pprint(cs.SIRD.EXAMPLE, compact=True)"
   ],
   "outputs": [],
   "metadata": {
    "tags": []
   }
  },
  {
   "cell_type": "markdown",
   "source": [
    "Example data is here."
   ],
   "metadata": {}
  },
  {
   "cell_type": "code",
   "execution_count": null,
   "source": [
    "model = cs.SIRD\n",
    "area = {\"country\": \"Full\", \"province\": model.NAME}\n",
    "# Add records with SIR model\n",
    "example_data.add(model, **area)\n",
    "# Records with model variables\n",
    "df = example_data.specialized(model, **area)\n",
    "cs.line_plot(df.set_index(\"Date\"), title=f\"Example data of {model.NAME} model\", y_integer=True)"
   ],
   "outputs": [],
   "metadata": {}
  },
  {
   "cell_type": "markdown",
   "source": [
    "### Reproduction number\n",
    "\n",
    "Reproduction number of SIR-D model is defined as follows.\n",
    "\n",
    "\\begin{align*}\n",
    "R_0 = \\rho (\\sigma + \\kappa)^{-1} = \\beta (\\gamma + \\alpha)^{-1}\n",
    "\\end{align*}\n",
    "\n",
    "We can calculate reproduction number using `.calc_r0()` method.\n"
   ],
   "metadata": {}
  },
  {
   "cell_type": "code",
   "execution_count": null,
   "source": [
    "# Calculate reproduction number\n",
    "# Note: population value will be applied, but not used in calculation\n",
    "param_dict = cs.SIRD.EXAMPLE[\"param_dict\"].copy()\n",
    "model_instance = cs.SIRD(population=100000, **param_dict)\n",
    "r0 = model_instance.calc_r0()\n",
    "print(f\"Reproduction number of {model_instance.NAME} model: {r0}\")"
   ],
   "outputs": [],
   "metadata": {}
  },
  {
   "cell_type": "markdown",
   "source": [
    "## SIR-F model\n",
    "In the initial phase of COVID-19 outbreak, many cases were confirmed after they died. To consider this issue, \"S + I $\\to$ Fatal + I\" should be added. We call the next model as SIR-F model. This is an original model of CovsirPhy. When $\\alpha_{1}=0$, no difference with the SIR-D model.\n",
    "\\begin{align*}\n",
    "\\mathrm{S} \\overset{\\beta I}{\\longrightarrow} \\mathrm{S}^\\ast \\overset{\\alpha_1}{\\longrightarrow}\\ & \\mathrm{F}    \\\\\n",
    "\\mathrm{S}^\\ast \\overset{1 - \\alpha_1}{\\longrightarrow}\\ & \\mathrm{I} \\overset{\\gamma}{\\longrightarrow} \\mathrm{R}    \\\\\n",
    "& \\mathrm{I} \\overset{\\alpha_2}{\\longrightarrow} \\mathrm{F}    \\\\\n",
    "\\end{align*}\n",
    "\n",
    "Variables:  \n",
    "\n",
    "* $\\mathrm{S}$: Susceptible (= Population - Confirmed)  \n",
    "* $\\mathrm{S}^\\ast$: Confirmed and un-categorized  \n",
    "* $\\mathrm{I}$: Confirmed and categorized as Infected  \n",
    "* $\\mathrm{R}$: Confirmed and categorized as Recovered  \n",
    "* $\\mathrm{F}$: Confirmed and categorzied as Fatal  \n",
    "\n",
    "Parameters:  \n",
    "\n",
    "* $\\alpha_1$: Direct fatality probability of $\\mathrm{S}^\\ast$ (non-dimensional) \n",
    "* $\\alpha_2$: Mortality rate of Infected cases $\\mathrm{[1/min]}$  \n",
    "* $\\beta$: Effective contact rate $\\mathrm{[1/min]}$  \n",
    "* $\\gamma$: Recovery rate $\\mathrm{[1/min]}$  "
   ],
   "metadata": {}
  },
  {
   "cell_type": "markdown",
   "source": [
    "Notes on $\\mathrm{S}^\\ast$ variable:  \n",
    "$\\mathrm{S}^\\ast$ describes the cases who are actually carriers of the disease without anyone (including themselves) knowing about it, who either die and they are confirmed positive after death, while some others are moved to infected after being confirmed.\n",
    "\n",
    "In JHU-style dataset, we know the number of cases who were confirmed with COVID-19, but we do not know the number of died cases who died without COVID-19.\n",
    "Essentially $\\mathrm{S}^\\ast$ serves as an auxiliary compartment in SIR-F model to separate the two death situations and insert a probability factor of {$\\alpha_1$, $1 - \\alpha_1$}.  "
   ],
   "metadata": {}
  },
  {
   "cell_type": "markdown",
   "source": [
    "Notes on the difference of SIR-D and SIR-F model:  \n",
    "$\\alpha_1$ is small at this time because performance of PCR tests was improved, but we can use SIR-F model rather than SIR-D model as an enhanced model even now becase $\\alpha_1$ can be 0 in the ODE model.  \n",
    "\n",
    "SIR-F model was developed with [Kaggle: COVID-19 data with SIR model](https://www.kaggle.com/lisphilar/covid-19-data-with-sir-model#SIR-to-SIR-F)."
   ],
   "metadata": {}
  },
  {
   "cell_type": "markdown",
   "source": [
    "### Non-dimensional SIR-F model\n",
    "Set $(S, I, R, F) = N \\times (x, y, z, w)$ and $(T, \\alpha_1, \\alpha_2, \\beta, \\gamma) = (\\tau t, \\theta, \\tau^{-1} \\kappa, \\tau^{-1} \\rho, \\tau^{-1} \\sigma)$.  \n",
    "This results in the ODE  \n",
    "\\begin{align*}\n",
    "& \\frac{\\mathrm{d}x}{\\mathrm{d}t}= - \\rho x y  \\\\\n",
    "& \\frac{\\mathrm{d}y}{\\mathrm{d}t}= \\rho (1-\\theta) x y - (\\sigma + \\kappa) y  \\\\\n",
    "& \\frac{\\mathrm{d}z}{\\mathrm{d}t}= \\sigma y  \\\\\n",
    "& \\frac{\\mathrm{d}w}{\\mathrm{d}t}= \\rho \\theta x y + \\kappa y  \\\\\n",
    "\\end{align*}\n"
   ],
   "metadata": {}
  },
  {
   "cell_type": "markdown",
   "source": [
    "We use `SIRF` class."
   ],
   "metadata": {}
  },
  {
   "cell_type": "code",
   "execution_count": null,
   "source": [
    "# Model name\n",
    "print(cs.SIRF.NAME)\n",
    "# Example parameter values\n",
    "pprint(cs.SIRF.EXAMPLE, compact=True)"
   ],
   "outputs": [],
   "metadata": {
    "tags": []
   }
  },
  {
   "cell_type": "markdown",
   "source": [
    "Example data is here."
   ],
   "metadata": {}
  },
  {
   "cell_type": "code",
   "execution_count": null,
   "source": [
    "model = cs.SIRF\n",
    "area = {\"country\": \"Full\", \"province\": model.NAME}\n",
    "# Add records with SIR model\n",
    "example_data.add(model, **area)\n",
    "# Records with model variables\n",
    "df = example_data.specialized(model, **area)\n",
    "cs.line_plot(df.set_index(\"Date\"), title=f\"Example data of {model.NAME} model\", y_integer=True)"
   ],
   "outputs": [],
   "metadata": {}
  },
  {
   "cell_type": "markdown",
   "source": [
    "### Reproduction number\n",
    "\n",
    "Reproduction number of SIR-F model is defined as follows.\n",
    "\n",
    "\\begin{align*}\n",
    "R_0 = \\rho (1 - \\theta) (\\sigma + \\kappa)^{-1} = \\beta (1 - \\alpha_1) (\\gamma + \\alpha_2)^{-1}\n",
    "\\end{align*}\n",
    "\n",
    "We can calculate reproduction number using `.calc_r0()` method."
   ],
   "metadata": {}
  },
  {
   "cell_type": "code",
   "execution_count": null,
   "source": [
    "# Calculate reproduction number\n",
    "# Note: population value will be applied, but not used in calculation\n",
    "param_dict = cs.SIRF.EXAMPLE[\"param_dict\"].copy()\n",
    "model_instance = cs.SIRF(population=100000, **param_dict)\n",
    "r0 = model_instance.calc_r0()\n",
    "print(f\"Reproduction number of {model_instance.NAME} model: {r0}\")"
   ],
   "outputs": [],
   "metadata": {}
  },
  {
   "cell_type": "markdown",
   "source": [
    "## SIR-F with exposed/waiting cases\n",
    "The next model is SEWIR-F model.  \n",
    "The number of exposed cases in latent period (E) and wating cases for confirmation (W) are un-measurable variables, but key variables as well as S, I, R, F. If E and W are large, outbreak will occur in the near future. Let's replace S$\\overset{\\beta I}{\\longrightarrow}$S$^\\ast$ as follows because W also has infectivity.\n",
    "\\begin{align*}\n",
    "\\mathrm{S} \\overset{\\beta_1 (W+I)}{\\longrightarrow} \\mathrm{E} \\overset{\\beta_2}{\\longrightarrow} \\mathrm{W} \\overset{\\beta_3}{\\longrightarrow} \\mathrm{S}^\\ast \\overset{\\alpha_1}{\\longrightarrow}\\ & \\mathrm{F}    \\\\\n",
    "\\mathrm{S}^\\ast \\overset{1 - \\alpha_1}{\\longrightarrow}\\ & \\mathrm{I} \\overset{\\gamma}{\\longrightarrow} \\mathrm{R}    \\\\\n",
    "& \\mathrm{I} \\overset{\\alpha_2}{\\longrightarrow} \\mathrm{F}    \\\\\n",
    "\\end{align*}"
   ],
   "metadata": {}
  },
  {
   "cell_type": "markdown",
   "source": [
    "Variables:  \n",
    "\n",
    "* $\\mathrm{S}$: Susceptible  \n",
    "* $\\mathrm{E}$: <u>Exposed and in latent period (without infectivity)</u>  \n",
    "* $\\mathrm{W}$: <u>Waiting for confirmaion fiagnosis (with infectivity)</u>  \n",
    "* $\\mathrm{S}^\\ast$: Confirmed and un-categorized  \n",
    "* $\\mathrm{I}$: Confirmed and categorized as Infected  \n",
    "* $\\mathrm{R}$: Confirmed and categorized as Recovered  \n",
    "* $\\mathrm{F}$: Confirmed and categorzied as Fatal  \n",
    "\n",
    "Parameters:  \n",
    "\n",
    "* $\\alpha_1$: Direct fatality probability of $\\mathrm{S}^\\ast$ (non-dimensional) \n",
    "* $\\alpha_2$: Mortality rate of Infected cases $\\mathrm{[1/min]}$  \n",
    "* $\\beta_1$: <u>Exposure rate (the nymber of encounter with the virus in a minute)</u> $\\mathrm{[1/min]}$  \n",
    "* $\\beta_2$: <u>Inverse of latent period</u> $\\mathrm{[1/min]}$  \n",
    "* $\\beta_3$: <u>Inverse of waiting time for confirmation</u> $\\mathrm{[1/min]}$  \n",
    "* $\\gamma$: Recovery rate $\\mathrm{[1/min]}$ \n",
    "\n",
    "### Non-dimensional SEWIR-F model\n",
    "Set $(S, E, W, I, R, F) = N \\times (x_1, x_2, x_3, y, z, w)$, $(T, \\alpha_1) = (\\tau t, \\theta)$ and $(\\alpha_2, \\beta_i, \\gamma) = \\tau^{-1} \\times (\\kappa, \\rho_i, \\sigma)$.  \n",
    "This results in the ODE  \n",
    "\\begin{align*}\n",
    "& \\frac{\\mathrm{d}x_1}{\\mathrm{d}t}= - \\rho_1 x_1 (x_3 + y)  \\\\\n",
    "& \\frac{\\mathrm{d}x_2}{\\mathrm{d}t}= \\rho_1 x_1 (x_3 + y) - \\rho_2 x_2  \\\\\n",
    "& \\frac{\\mathrm{d}x_3}{\\mathrm{d}t}= \\rho_2 x_2 - \\rho_3 x_3  \\\\\n",
    "& \\frac{\\mathrm{d}y}{\\mathrm{d}t}= (1-\\theta) \\rho_3 x_3 - (\\sigma + \\kappa) y  \\\\\n",
    "& \\frac{\\mathrm{d}z}{\\mathrm{d}t}= \\sigma y  \\\\\n",
    "& \\frac{\\mathrm{d}w}{\\mathrm{d}t}= \\theta \\rho_3 x_3 + \\kappa y  \\\\\n",
    "\\end{align*}"
   ],
   "metadata": {}
  },
  {
   "cell_type": "markdown",
   "source": [
    "Note:  \n",
    "**We cannot use SEWIR-F model for parameter estimation because we do not have records of Exposed and Waiting. Please use SIR-F model with covsirphy.SIRF class.**"
   ],
   "metadata": {}
  },
  {
   "cell_type": "markdown",
   "source": [
    "`SEWIRF` class is for the SEWIR-F model."
   ],
   "metadata": {}
  },
  {
   "cell_type": "code",
   "execution_count": null,
   "source": [
    "# Model name\n",
    "print(cs.SEWIRF.NAME)\n",
    "# Example parameter values\n",
    "pprint(cs.SEWIRF.EXAMPLE, compact=True)"
   ],
   "outputs": [],
   "metadata": {
    "tags": []
   }
  },
  {
   "cell_type": "markdown",
   "source": [
    "Example records are here."
   ],
   "metadata": {}
  },
  {
   "cell_type": "code",
   "execution_count": null,
   "source": [
    "model = cs.SEWIRF\n",
    "area = {\"country\": \"Full\", \"province\": model.NAME}\n",
    "# Add records with SIR model\n",
    "example_data.add(model, **area)\n",
    "# Records with model variables\n",
    "df = example_data.specialized(model, **area)\n",
    "cs.line_plot(df.set_index(\"Date\"), title=f\"Example data of {model.NAME} model\", y_integer=True)"
   ],
   "outputs": [],
   "metadata": {}
  },
  {
   "cell_type": "markdown",
   "source": [
    "### Reproduction number\n",
    "\n",
    "Reproduction number of SEWIR-F model is defined as follows.\n",
    "\n",
    "\\begin{align*}\n",
    "R_0 = \\rho_1 /\\rho_2 * \\rho_3 (1-\\theta) (\\sigma + \\kappa)^{-1}\n",
    "\\end{align*}\n",
    "\n",
    "We can calculate reproduction number using `.calc_r0()` method."
   ],
   "metadata": {}
  },
  {
   "cell_type": "code",
   "execution_count": null,
   "source": [
    "# Calculate reproduction number\n",
    "# Note: population value will be applied, but not used in calculation\n",
    "param_dict = cs.SEWIRF.EXAMPLE[\"param_dict\"].copy()\n",
    "model_instance = cs.SEWIRF(population=100000, **param_dict)\n",
    "r0 = model_instance.calc_r0()\n",
    "print(f\"Reproduction number of {model_instance.NAME} model: {r0}\")"
   ],
   "outputs": [],
   "metadata": {}
  },
  {
   "cell_type": "markdown",
   "source": [
    "## SIR-F with vaccination\n",
    "Vaccination is a key factor to prevent outbreak as you know.\n",
    "\n",
    "In the previous version, we defined SIR-FV model with $\\omega$ (vaccination rate) and\n",
    "$$\n",
    "\\frac{\\mathrm{d}S}{\\mathrm{d}T}= - \\beta S I - \\omega N  \\\\\n",
    "$$\n",
    "\n",
    "However, **SIR-FV model was removed because vaccinated persons may move to the other compartments, including \"Susceprtible\". Please use SIR-F model for simulation and parameter estimation with adjusted parameter values, considering the impact of vaccinations on infectivity, its effectivity and safety.**"
   ],
   "metadata": {}
  },
  {
   "cell_type": "markdown",
   "source": [
    "## SIR-F with re-infection\n",
    "Re-infection (Recovered -> Susceptble) is sometimes reported and we can consider SIR-S (SIR-FS) model. However, this is not impremented at this time because we do not have data regarding re-infection. SIR-F model could be the final model in our data-driven approach at this time.  \n",
    "\n",
    "Re-infection changes the parameter values of SIR-F model. There are two patterns.\n",
    "\n",
    "1. If re-infected case are counted as new confirmed cases and removed from \"Recovered\" compartment, $\\sigma$ will be decreased.\n",
    "2. If re-infected cases are counted as new confirmed cases and **NOT** removed from \"Recovered\" compartment, $\\rho$ will be increased because \"Susceptible\" will be decreased."
   ],
   "metadata": {}
  },
  {
   "cell_type": "markdown",
   "source": [
    "## Impact of parameter change\n",
    "Because `ExampleData` class is a subclass of `JHUData`, we can perform scenario analysis with example datasets easily. We evaluate the impact of parameter changes.  \n",
    "\n",
    "Here, we will use the following scenarios. For explanation, $\\tau=1440$, the start date is 01Jan2020, population is 1,000,000 and country name is \"Theoretical\". **Their scenarios are not based on actual data.**\n",
    "\n",
    "| name | 01Jan2020 - 31Jan2020 | 01Feb2020 - 31Dec2020 |\n",
    "|:---:|:---:|:---|\n",
    "| Main | SIR-F | SIR-F|\n",
    "| Lockdown | SIR-F | SIR-F with 50% of $\\rho$ |\n",
    "| Medicine | SIR-F | SIR-F with 50% of $\\kappa$ and 200% of $\\sigma$ |\n",
    "| Vaccine | SIR-F | SIR-F with 80% of $\\rho$, 60% of $\\kappa$ and 120% of $\\sigma$|"
   ],
   "metadata": {}
  },
  {
   "cell_type": "markdown",
   "source": [
    "As baseline (main scenario), we use preset values of the SIR-F model."
   ],
   "metadata": {}
  },
  {
   "cell_type": "code",
   "execution_count": null,
   "source": [
    "# Preset of SIR-F parameters and initial values\n",
    "preset_dict = cs.SIRF.EXAMPLE[\"param_dict\"]\n",
    "preset_dict"
   ],
   "outputs": [],
   "metadata": {
    "tags": []
   }
  },
  {
   "cell_type": "markdown",
   "source": [
    "Create records from 01Jan2020 to 31Jan2020. These records will be used commonly in the scenarios."
   ],
   "metadata": {}
  },
  {
   "cell_type": "code",
   "execution_count": null,
   "source": [
    "area = {\"country\": \"Theoretical\"}\n",
    "# Create dataset from 01Jan2020 to 31Jan2020\n",
    "example_data.add(cs.SIRF, step_n=30, **area)"
   ],
   "outputs": [],
   "metadata": {}
  },
  {
   "cell_type": "markdown",
   "source": [
    "Create `Scenario` instance for scenario analysis."
   ],
   "metadata": {}
  },
  {
   "cell_type": "code",
   "execution_count": null,
   "source": [
    "# Create Scenario instance\n",
    "snl = cs.Scenario(tau=1440, **area)\n",
    "snl.register(example_data)"
   ],
   "outputs": [],
   "metadata": {}
  },
  {
   "cell_type": "markdown",
   "source": [
    "Then, confirm the records with `Scenario.records()` instance."
   ],
   "metadata": {}
  },
  {
   "cell_type": "code",
   "execution_count": null,
   "source": [
    "# Show records with Scenario instance\n",
    "record_df = snl.records()\n",
    "display(record_df.head())\n",
    "display(record_df.tail())"
   ],
   "outputs": [],
   "metadata": {}
  },
  {
   "cell_type": "markdown",
   "source": [
    "Note:  \n",
    "Record on 01Jan2020 was removed because the number of recovered cases is 0 and this sometimes causes error in estimation."
   ],
   "metadata": {}
  },
  {
   "cell_type": "markdown",
   "source": [
    "Then, set the records from 02Jan2020 to 31Jan2020 as the 0th phase. The 0th phase is commonly used in the all scenarios."
   ],
   "metadata": {}
  },
  {
   "cell_type": "code",
   "execution_count": null,
   "source": [
    "# Set 0th phase from 02Jan2020 to 31Jan2020 with preset parameter values\n",
    "snl.clear(include_past=True)\n",
    "snl.add(end_date=\"31Jan2020\", model=cs.SIRF, **preset_dict)\n",
    "# Show summary\n",
    "snl.summary()"
   ],
   "outputs": [],
   "metadata": {}
  },
  {
   "cell_type": "markdown",
   "source": [
    "Set the 1st phase with the same parameter values."
   ],
   "metadata": {}
  },
  {
   "cell_type": "code",
   "execution_count": null,
   "source": [
    "# Add main scenario\n",
    "snl.add(end_date=\"31Dec2020\", name=\"Main\")\n",
    "snl.summary()"
   ],
   "outputs": [],
   "metadata": {}
  },
  {
   "cell_type": "markdown",
   "source": [
    "Copy the main scenario and name it as Lockdown scenario. `Scenario.clear()` removes the future phase (th 1st phase here) and we will register th 1st phase with halved $\\rho$ value. Lockdown is supposed to reduce effective contact rate."
   ],
   "metadata": {}
  },
  {
   "cell_type": "code",
   "execution_count": null,
   "source": [
    "# Add lockdown scenario\n",
    "snl.clear(name=\"Lockdown\")\n",
    "# Get rho value of the 0th phase and halve it\n",
    "rho_lock = snl.get(\"rho\", phase=\"0th\") * 0.5\n",
    "# Add th 1st phase with the calculated rho value\n",
    "snl.add(end_date=\"31Dec2020\", name=\"Lockdown\", rho=rho_lock)"
   ],
   "outputs": [],
   "metadata": {}
  },
  {
   "cell_type": "markdown",
   "source": [
    "Next, we define medicine scenario. $\\kappa$ will be halved and $\\sigma$ will be doubled. New medicines may reduce the severity rate and enhance recovery."
   ],
   "metadata": {}
  },
  {
   "cell_type": "code",
   "execution_count": null,
   "source": [
    "# Add medicine scenario\n",
    "snl.clear(name=\"Medicine\")\n",
    "kappa_med = snl.get(\"kappa\", phase=\"0th\") * 0.5\n",
    "sigma_med = snl.get(\"sigma\", phase=\"0th\") * 2\n",
    "snl.add(end_date=\"31Dec2020\", name=\"Medicine\", kappa=kappa_med, sigma=sigma_med)"
   ],
   "outputs": [],
   "metadata": {}
  },
  {
   "cell_type": "markdown",
   "source": [
    "We define vaccine scenario. As noted in \"SIR-F model with vaccination\" section, vaccination impacts on $\\sigma$ and $\\kappa$ with depending on its effectivity and safety. If vaccinations impact on infectivity, $\\rho$ value will be also changed."
   ],
   "metadata": {}
  },
  {
   "cell_type": "code",
   "execution_count": null,
   "source": [
    "# Add vaccine scenario\n",
    "snl.clear(name=\"Vaccine\")\n",
    "rho_vac = snl.get(\"rho\", phase=\"0th\") * 0.8\n",
    "kappa_vac = snl.get(\"kappa\", phase=\"0th\") * 0.6\n",
    "sigma_vac = snl.get(\"sigma\", phase=\"0th\") * 1.2\n",
    "snl.add(end_date=\"31Dec2020\", name=\"Vaccine\",  rho=rho_vac, kappa=kappa_vac, sigma=sigma_vac)"
   ],
   "outputs": [],
   "metadata": {}
  },
  {
   "cell_type": "markdown",
   "source": [
    "See the phase settings with `Scenario.summary()` as always."
   ],
   "metadata": {}
  },
  {
   "cell_type": "code",
   "execution_count": null,
   "source": [
    "# Show summary\n",
    "snl.summary()"
   ],
   "outputs": [],
   "metadata": {}
  },
  {
   "cell_type": "markdown",
   "source": [
    "Show the parameter setting with `Scenario.history()`."
   ],
   "metadata": {}
  },
  {
   "cell_type": "code",
   "execution_count": null,
   "source": [
    "# Show the history of rho as a dataframe and a figure\n",
    "# we can set theta/kappa/rho/sigma for SIR-F model\n",
    "snl.history(target=\"rho\").head()"
   ],
   "outputs": [],
   "metadata": {}
  },
  {
   "cell_type": "markdown",
   "source": [
    "### Compare the scenarios\n",
    "We will compare the scenarios to discuss the impact of changing parameters. We have some methods for that.\n",
    "\n",
    "1. `Scenario.describe()` shows representative values as a dataframe.\n",
    "2. `Scenario.history(target=\"Rt\")` shows the history of automatically calculated reproduction number.\n",
    "3. `Scenario.history(target=\"variable name\")` shows simulated number of cases for the specified variable.\n",
    "4. If you have any ideas, please create [issues](https://github.com/lisphilar/covid19-sir/issues)! :)"
   ],
   "metadata": {}
  },
  {
   "cell_type": "markdown",
   "source": [
    "#### 1. Show representative values\n",
    "`Scenario.describe()` compares\n",
    "\n",
    "- max number of infected cases and the date with the max value, \n",
    "- the number of confirmed/infected/fatal cases on the next date of the last phase, and\n",
    "- reproduction numbers for the phases with different numbers."
   ],
   "metadata": {}
  },
  {
   "cell_type": "code",
   "execution_count": null,
   "source": [
    "# Describe the scenarios\n",
    "snl.describe()"
   ],
   "outputs": [],
   "metadata": {
    "tags": []
   }
  },
  {
   "cell_type": "markdown",
   "source": [
    "#### 2. History of reproduction number\n",
    "`Scenario.history(target=\"Rt\")` shows the history of reproduction number."
   ],
   "metadata": {}
  },
  {
   "cell_type": "code",
   "execution_count": null,
   "source": [
    "# Show the history of reproduction number\n",
    "_ = snl.history(target=\"Rt\")"
   ],
   "outputs": [],
   "metadata": {}
  },
  {
   "cell_type": "markdown",
   "source": [
    "#### 3. Simulated number of cases of the specified variable\n",
    "We can also set Confired/Infected/Fatal/Recovered as the target of `Scenario.history()`."
   ],
   "metadata": {}
  },
  {
   "cell_type": "code",
   "execution_count": null,
   "source": [
    "# The number of infected cases\n",
    "_ = snl.history(target=\"Infected\")"
   ],
   "outputs": [],
   "metadata": {}
  },
  {
   "cell_type": "code",
   "execution_count": null,
   "source": [
    "# The number of fatal cases\n",
    "_ = snl.history(target=\"Fatal\")"
   ],
   "outputs": [],
   "metadata": {}
  },
  {
   "cell_type": "markdown",
   "source": [
    "### Simulation of each scenario\n",
    "We can simulate the all kind of the number of cases for a specific scenario with `Scenario.simulate()`."
   ],
   "metadata": {}
  },
  {
   "cell_type": "code",
   "execution_count": null,
   "source": [
    "# Main scenario\n",
    "_ = snl.simulate(name=\"Main\")"
   ],
   "outputs": [],
   "metadata": {}
  },
  {
   "cell_type": "code",
   "execution_count": null,
   "source": [
    "# Lockdown scenario\n",
    "_ = snl.simulate(name=\"Lockdown\")"
   ],
   "outputs": [],
   "metadata": {}
  },
  {
   "cell_type": "code",
   "execution_count": null,
   "source": [
    "# Medicine scenario\n",
    "_ = snl.simulate(name=\"Medicine\")"
   ],
   "outputs": [],
   "metadata": {}
  },
  {
   "cell_type": "code",
   "execution_count": null,
   "source": [
    "# Vaccine scenario\n",
    "_ = snl.simulate(name=\"Vaccine\")"
   ],
   "outputs": [],
   "metadata": {
    "tags": []
   }
  },
  {
   "cell_type": "markdown",
   "source": [
    "**For futher analysis, let's change the parameter settings and add new scenarios!**"
   ],
   "metadata": {}
  }
 ],
 "metadata": {
  "kernelspec": {
   "display_name": "Python 3",
   "language": "python",
   "name": "python3"
  },
  "language_info": {
   "codemirror_mode": {
    "name": "ipython",
    "version": 3
   },
   "file_extension": ".py",
   "mimetype": "text/x-python",
   "name": "python",
   "nbconvert_exporter": "python",
   "pygments_lexer": "ipython3",
   "version": "3.9.1-final"
  }
 },
 "nbformat": 4,
 "nbformat_minor": 4
}