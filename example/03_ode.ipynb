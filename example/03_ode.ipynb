{
  "cells": [
    {
      "cell_type": "markdown",
      "metadata": {
        "colab_type": "text",
        "id": "view-in-github"
      },
      "source": [
        "<a href=\"https://colab.research.google.com/github/lisphilar/covid19-sir/blob/master/example/03_ode.ipynb\" target=\"_parent\"><img src=\"https://colab.research.google.com/assets/colab-badge.svg\" alt=\"Open In Colab\"/></a>"
      ]
    },
    {
      "cell_type": "markdown",
      "metadata": {
        "id": "oVkKo7ZIxtr0"
      },
      "source": [
        "# SIR-derived ODE models\n",
        "SIR-derived ODE (ordinary differential equation) models are used in epidemiology. They are also named as compartment models and useful to understand the dynamics of outbreak of infectious diseases, including COVID-19.\n",
        "\n",
        "Mathematical model enables us to describe complicated systems with some parameters simply. So, we can study how to predict and end the outbreak in epidemiology."
      ]
    },
    {
      "cell_type": "code",
      "execution_count": 84,
      "metadata": {
        "colab": {
          "base_uri": "https://localhost:8080/",
          "height": 35
        },
        "id": "OB01Ln_6k2aL",
        "outputId": "d0c14ef3-fdd3-4506-fed0-cebd325c0182"
      },
      "outputs": [
        {
          "data": {
            "application/vnd.google.colaboratory.intrinsic+json": {
              "type": "string"
            },
            "text/plain": [
              "'2.24.0-xi'"
            ]
          },
          "execution_count": 84,
          "metadata": {},
          "output_type": "execute_result"
        }
      ],
      "source": [
        "from copy import deepcopy\n",
        "from pprint import pprint\n",
        "try:\n",
        "    import covsirphy as cs\n",
        "except ImportError:\n",
        "    !pip install --upgrade \"git+https://github.com/lisphilar/covid19-sir.git#egg=covsirphy\" -qqq\n",
        "    import covsirphy as cs\n",
        "import numpy as np\n",
        "cs.__version__"
      ]
    },
    {
      "cell_type": "markdown",
      "metadata": {
        "id": "Y1WeSVlEymY6"
      },
      "source": [
        "## 1. SIR model\n",
        "SIR model is the simplest mathematical model with ODEs. Population is assigned to compartments named as follows.\n",
        "\n",
        "Let’s start with the simplest SIR model proposed by [Kermack, W. O., & McKendrick, A. G. (1927)](https://royalsocietypublishing.org/doi/10.1098/rspa.1927.0118). Population is assigned to some compartments. \"Susceptible people\" may meet \"Infected\" patients and may be confirmed as \"Infected\". \"Infected\" patients will move to \"Removed (Recovered or Fatal)\" compartment later."
      ]
    },
    {
      "cell_type": "markdown",
      "metadata": {
        "id": "8H2RtlDI3TTN"
      },
      "source": [
        "### 1-1. Definition"
      ]
    },
    {
      "cell_type": "markdown",
      "metadata": {
        "id": "Qw96ajfv2Ssu"
      },
      "source": [
        "\\begin{align*}\n",
        "\\mathrm{S} \\overset{\\beta I}{\\longrightarrow} \\mathrm{I} \\overset{\\gamma}{\\longrightarrow} \\mathrm{R}  \\\\\n",
        "\\end{align*}"
      ]
    },
    {
      "cell_type": "markdown",
      "metadata": {
        "id": "snIu-Rbm2v3-"
      },
      "source": [
        "Variables:  \n",
        "\n",
        "* $\\mathrm{S}$: Susceptible (= Population - Confirmed)  \n",
        "* $\\mathrm{I}$: Infected (=Confirmed - Recovered - Fatal)  \n",
        "* $\\mathrm{R}$: Recovered or Fatal (= Recovered + Fatal)  \n",
        "\n",
        "Parameters:  \n",
        "\n",
        "* $\\beta$: Effective contact rate $\\mathrm{[1/min]}$  \n",
        "* $\\gamma$: Recovery (+ Mortality) rate $\\mathrm{[1/min]}$  \n",
        "\n",
        "Note:  \n",
        "Though $R$ in SIR model is \"Recovered and have immunity\", we defines $R$ as \"Recovered or fatal\". This is because mortality rate cannot be ignored in our COVID-19 outbreak."
      ]
    },
    {
      "cell_type": "markdown",
      "metadata": {
        "id": "2PmWdZS83ArB"
      },
      "source": [
        "### 1-2. Non-dimensional SIR model\n",
        "To simplify the model, we will remove the units of the variables from the ODE model.\n",
        "\n",
        "Set $(S, I, R) = N \\times (x, y, z)$ and $(T, \\beta, \\gamma) = (\\tau t, \\tau^{-1} \\rho, \\tau^{-1} \\sigma)$.  \n",
        "\n",
        "This results in the ODE  \n",
        "\\begin{align*}\n",
        "& \\frac{\\mathrm{d}x}{\\mathrm{d}t}= - \\rho x y  \\\\\n",
        "& \\frac{\\mathrm{d}y}{\\mathrm{d}t}= \\rho x y - \\sigma y  \\\\\n",
        "& \\frac{\\mathrm{d}z}{\\mathrm{d}t}= \\sigma y  \\\\\n",
        "\\end{align*}\n",
        "\n",
        "Where $N$ is the total population and $\\tau$ is a coefficient ([min], is an integer to simplify)."
      ]
    },
    {
      "cell_type": "markdown",
      "metadata": {
        "id": "GSAw2DXi3GIt"
      },
      "source": [
        "Note regarding the roles of ODE parameter values:  \n",
        "When $\\rho$ is large, $\\beta$ is large. When $\\beta$ (effective contact rate [1/min]) is large, S -> I is faster because dI/dT = $\\beta$ * [S] [I]."
      ]
    },
    {
      "cell_type": "markdown",
      "metadata": {
        "id": "Nw3wdOu23bC6"
      },
      "source": [
        "### 1-3. Create sample data\n",
        "We use `SIRModel` class, a child class of `ODEModel`. They have class method `.from_sample(date_range=None, tau=1440)` (as default) and this method creates an instance with preset parameter values and initial values of variables."
      ]
    },
    {
      "cell_type": "code",
      "execution_count": 85,
      "metadata": {
        "colab": {
          "base_uri": "https://localhost:8080/",
          "height": 53
        },
        "id": "sCC7Ceem2PBX",
        "outputId": "1e1ebc2d-0bce-4192-fe8a-c96c7a0a8304"
      },
      "outputs": [
        {
          "data": {
            "application/vnd.google.colaboratory.intrinsic+json": {
              "type": "string"
            },
            "text/plain": [
              "\"SIRModel(date_range=('30Jul2022', '26Jan2023'), tau=1440, initial_dict={'Susceptible': 999000, 'Infected': 1000, 'Fatal or Recovered': 0}, param_dict={'rho': 0.2, 'sigma': 0.075})\""
            ]
          },
          "execution_count": 85,
          "metadata": {},
          "output_type": "execute_result"
        }
      ],
      "source": [
        "sir = cs.SIRModel.from_sample()\n",
        "repr(sir)"
      ]
    },
    {
      "cell_type": "markdown",
      "metadata": {
        "id": "BN0Pri464cF1"
      },
      "source": [
        "We can specify the start/end date of dynamics and tau value as follows. Note that tau value [min] should be a divisor of 1440 to simplify operations."
      ]
    },
    {
      "cell_type": "code",
      "execution_count": 86,
      "metadata": {
        "colab": {
          "base_uri": "https://localhost:8080/"
        },
        "id": "zH0mH8wa3rQL",
        "outputId": "f85c5a90-69fa-4b68-e273-0e619a9a813a"
      },
      "outputs": [
        {
          "data": {
            "text/plain": [
              "SIRModel(date_range=('01Jan2022', '31Dec2022'), tau=720, initial_dict={'Susceptible': 999000, 'Infected': 1000, 'Fatal or Recovered': 0}, param_dict={'rho': 0.2, 'sigma': 0.075})"
            ]
          },
          "execution_count": 86,
          "metadata": {},
          "output_type": "execute_result"
        }
      ],
      "source": [
        "cs.SIRModel.from_sample(date_range=(\"01Jan2022\", \"31Dec2022\"), tau=720)"
      ]
    },
    {
      "cell_type": "markdown",
      "metadata": {
        "id": "V-FjMgLt5Hz6"
      },
      "source": [
        "When we need to change the values of arguments, create an instance directly with the class."
      ]
    },
    {
      "cell_type": "code",
      "execution_count": 87,
      "metadata": {
        "colab": {
          "base_uri": "https://localhost:8080/"
        },
        "id": "cd4mykB140_J",
        "outputId": "4477eecd-cd9b-4e2e-ed45-b98d8c090f0f"
      },
      "outputs": [
        {
          "data": {
            "text/plain": [
              "SIRModel(date_range=('01Jan2022', '31Dec2022'), tau=720, initial_dict={'Susceptible': 995000, 'Infected': 4000, 'Fatal or Recovered': 1000}, param_dict={'rho': 0.4, 'sigma': 0.075})"
            ]
          },
          "execution_count": 87,
          "metadata": {},
          "output_type": "execute_result"
        }
      ],
      "source": [
        "cs.SIRModel(\n",
        "    date_range=('01Jan2022', '31Dec2022'),\n",
        "    tau=720,\n",
        "    initial_dict={'Susceptible': 995_000, 'Infected': 4_000, 'Fatal or Recovered': 1_000},\n",
        "    param_dict={'rho': 0.4, 'sigma': 0.075}\n",
        ")"
      ]
    },
    {
      "cell_type": "markdown",
      "metadata": {
        "id": "aGWKf2Bh55ex"
      },
      "source": [
        "We can also confirm the settings and definitions of the instance with instance method `ODEModel().settings()` and class method `ODEModel.definition()`."
      ]
    },
    {
      "cell_type": "code",
      "execution_count": 88,
      "metadata": {
        "colab": {
          "base_uri": "https://localhost:8080/"
        },
        "id": "Mks5ki9n5vQP",
        "outputId": "c3f1b9d4-3336-44f2-b245-eee3e55e3ccf"
      },
      "outputs": [
        {
          "name": "stdout",
          "output_type": "stream",
          "text": [
            "{'date_range': ('30Jul2022', '26Jan2023'),\n",
            " 'initial_dict': {'Fatal or Recovered': 0,\n",
            "                  'Infected': 1000,\n",
            "                  'Susceptible': 999000},\n",
            " 'param_dict': {'rho': 0.2, 'sigma': 0.075},\n",
            " 'tau': 1440}\n"
          ]
        }
      ],
      "source": [
        "pprint(sir.settings())"
      ]
    },
    {
      "cell_type": "code",
      "execution_count": 89,
      "metadata": {
        "colab": {
          "base_uri": "https://localhost:8080/"
        },
        "id": "WekWolft6OEa",
        "outputId": "2d876cbb-21b8-4d67-9afe-b4d102bf713b"
      },
      "outputs": [
        {
          "name": "stdout",
          "output_type": "stream",
          "text": [
            "{'dimensional_parameters': ['1/beta [day]', '1/gamma [day]'],\n",
            " 'name': 'SIR Model',\n",
            " 'parameters': ['rho', 'sigma'],\n",
            " 'variables': ['Susceptible', 'Infected', 'Fatal or Recovered']}\n"
          ]
        }
      ],
      "source": [
        "# pprint(cs.SIRModel.definitions())\n",
        "pprint(sir.definitions())"
      ]
    },
    {
      "cell_type": "markdown",
      "metadata": {
        "id": "JzT7jHukFmB4"
      },
      "source": [
        "We can calculate dimensional parameter values with `ODEModel().dimensional_parameters()`."
      ]
    },
    {
      "cell_type": "code",
      "execution_count": 90,
      "metadata": {
        "colab": {
          "base_uri": "https://localhost:8080/"
        },
        "id": "ge1i0bkSFlcq",
        "outputId": "854f8746-5193-49c4-cd51-04109099277a"
      },
      "outputs": [
        {
          "data": {
            "text/plain": [
              "{'1/beta [day]': 5, '1/gamma [day]': 13}"
            ]
          },
          "execution_count": 90,
          "metadata": {},
          "output_type": "execute_result"
        }
      ],
      "source": [
        "sir.dimensional_parameters()"
      ]
    },
    {
      "cell_type": "markdown",
      "metadata": {
        "id": "lz6kxAkQ6lGP"
      },
      "source": [
        "### 1-4. Solve ODEs\n",
        "We can solve the ODEs with `ODEModel().solve()`."
      ]
    },
    {
      "cell_type": "code",
      "execution_count": 91,
      "metadata": {
        "colab": {
          "base_uri": "https://localhost:8080/",
          "height": 238
        },
        "id": "1RdDaRWI6Yzi",
        "outputId": "b05748fe-b24f-4bbc-f481-52f29fced18b"
      },
      "outputs": [
        {
          "data": {
            "text/html": [
              "\n",
              "  <div id=\"df-57781fe5-ec7c-4dd8-ad94-3ba7a3a35539\">\n",
              "    <div class=\"colab-df-container\">\n",
              "      <div>\n",
              "<style scoped>\n",
              "    .dataframe tbody tr th:only-of-type {\n",
              "        vertical-align: middle;\n",
              "    }\n",
              "\n",
              "    .dataframe tbody tr th {\n",
              "        vertical-align: top;\n",
              "    }\n",
              "\n",
              "    .dataframe thead th {\n",
              "        text-align: right;\n",
              "    }\n",
              "</style>\n",
              "<table border=\"1\" class=\"dataframe\">\n",
              "  <thead>\n",
              "    <tr style=\"text-align: right;\">\n",
              "      <th></th>\n",
              "      <th>Susceptible</th>\n",
              "      <th>Infected</th>\n",
              "      <th>Fatal or Recovered</th>\n",
              "    </tr>\n",
              "    <tr>\n",
              "      <th>Date</th>\n",
              "      <th></th>\n",
              "      <th></th>\n",
              "      <th></th>\n",
              "    </tr>\n",
              "  </thead>\n",
              "  <tbody>\n",
              "    <tr>\n",
              "      <th>2023-01-22</th>\n",
              "      <td>88354</td>\n",
              "      <td>750</td>\n",
              "      <td>910895</td>\n",
              "    </tr>\n",
              "    <tr>\n",
              "      <th>2023-01-23</th>\n",
              "      <td>88342</td>\n",
              "      <td>708</td>\n",
              "      <td>910950</td>\n",
              "    </tr>\n",
              "    <tr>\n",
              "      <th>2023-01-24</th>\n",
              "      <td>88329</td>\n",
              "      <td>669</td>\n",
              "      <td>911002</td>\n",
              "    </tr>\n",
              "    <tr>\n",
              "      <th>2023-01-25</th>\n",
              "      <td>88318</td>\n",
              "      <td>632</td>\n",
              "      <td>911050</td>\n",
              "    </tr>\n",
              "    <tr>\n",
              "      <th>2023-01-26</th>\n",
              "      <td>88307</td>\n",
              "      <td>596</td>\n",
              "      <td>911096</td>\n",
              "    </tr>\n",
              "  </tbody>\n",
              "</table>\n",
              "</div>\n",
              "      <button class=\"colab-df-convert\" onclick=\"convertToInteractive('df-57781fe5-ec7c-4dd8-ad94-3ba7a3a35539')\"\n",
              "              title=\"Convert this dataframe to an interactive table.\"\n",
              "              style=\"display:none;\">\n",
              "        \n",
              "  <svg xmlns=\"http://www.w3.org/2000/svg\" height=\"24px\"viewBox=\"0 0 24 24\"\n",
              "       width=\"24px\">\n",
              "    <path d=\"M0 0h24v24H0V0z\" fill=\"none\"/>\n",
              "    <path d=\"M18.56 5.44l.94 2.06.94-2.06 2.06-.94-2.06-.94-.94-2.06-.94 2.06-2.06.94zm-11 1L8.5 8.5l.94-2.06 2.06-.94-2.06-.94L8.5 2.5l-.94 2.06-2.06.94zm10 10l.94 2.06.94-2.06 2.06-.94-2.06-.94-.94-2.06-.94 2.06-2.06.94z\"/><path d=\"M17.41 7.96l-1.37-1.37c-.4-.4-.92-.59-1.43-.59-.52 0-1.04.2-1.43.59L10.3 9.45l-7.72 7.72c-.78.78-.78 2.05 0 2.83L4 21.41c.39.39.9.59 1.41.59.51 0 1.02-.2 1.41-.59l7.78-7.78 2.81-2.81c.8-.78.8-2.07 0-2.86zM5.41 20L4 18.59l7.72-7.72 1.47 1.35L5.41 20z\"/>\n",
              "  </svg>\n",
              "      </button>\n",
              "      \n",
              "  <style>\n",
              "    .colab-df-container {\n",
              "      display:flex;\n",
              "      flex-wrap:wrap;\n",
              "      gap: 12px;\n",
              "    }\n",
              "\n",
              "    .colab-df-convert {\n",
              "      background-color: #E8F0FE;\n",
              "      border: none;\n",
              "      border-radius: 50%;\n",
              "      cursor: pointer;\n",
              "      display: none;\n",
              "      fill: #1967D2;\n",
              "      height: 32px;\n",
              "      padding: 0 0 0 0;\n",
              "      width: 32px;\n",
              "    }\n",
              "\n",
              "    .colab-df-convert:hover {\n",
              "      background-color: #E2EBFA;\n",
              "      box-shadow: 0px 1px 2px rgba(60, 64, 67, 0.3), 0px 1px 3px 1px rgba(60, 64, 67, 0.15);\n",
              "      fill: #174EA6;\n",
              "    }\n",
              "\n",
              "    [theme=dark] .colab-df-convert {\n",
              "      background-color: #3B4455;\n",
              "      fill: #D2E3FC;\n",
              "    }\n",
              "\n",
              "    [theme=dark] .colab-df-convert:hover {\n",
              "      background-color: #434B5C;\n",
              "      box-shadow: 0px 1px 3px 1px rgba(0, 0, 0, 0.15);\n",
              "      filter: drop-shadow(0px 1px 2px rgba(0, 0, 0, 0.3));\n",
              "      fill: #FFFFFF;\n",
              "    }\n",
              "  </style>\n",
              "\n",
              "      <script>\n",
              "        const buttonEl =\n",
              "          document.querySelector('#df-57781fe5-ec7c-4dd8-ad94-3ba7a3a35539 button.colab-df-convert');\n",
              "        buttonEl.style.display =\n",
              "          google.colab.kernel.accessAllowed ? 'block' : 'none';\n",
              "\n",
              "        async function convertToInteractive(key) {\n",
              "          const element = document.querySelector('#df-57781fe5-ec7c-4dd8-ad94-3ba7a3a35539');\n",
              "          const dataTable =\n",
              "            await google.colab.kernel.invokeFunction('convertToInteractive',\n",
              "                                                     [key], {});\n",
              "          if (!dataTable) return;\n",
              "\n",
              "          const docLinkHtml = 'Like what you see? Visit the ' +\n",
              "            '<a target=\"_blank\" href=https://colab.research.google.com/notebooks/data_table.ipynb>data table notebook</a>'\n",
              "            + ' to learn more about interactive tables.';\n",
              "          element.innerHTML = '';\n",
              "          dataTable['output_type'] = 'display_data';\n",
              "          await google.colab.output.renderOutput(dataTable, element);\n",
              "          const docLink = document.createElement('div');\n",
              "          docLink.innerHTML = docLinkHtml;\n",
              "          element.appendChild(docLink);\n",
              "        }\n",
              "      </script>\n",
              "    </div>\n",
              "  </div>\n",
              "  "
            ],
            "text/plain": [
              "            Susceptible  Infected  Fatal or Recovered\n",
              "Date                                                 \n",
              "2023-01-22        88354       750              910895\n",
              "2023-01-23        88342       708              910950\n",
              "2023-01-24        88329       669              911002\n",
              "2023-01-25        88318       632              911050\n",
              "2023-01-26        88307       596              911096"
            ]
          },
          "execution_count": 91,
          "metadata": {},
          "output_type": "execute_result"
        }
      ],
      "source": [
        "sir_df = sir.solve()\n",
        "sir_df.tail()"
      ]
    },
    {
      "cell_type": "code",
      "execution_count": 92,
      "metadata": {
        "colab": {
          "base_uri": "https://localhost:8080/",
          "height": 294
        },
        "id": "uzuTaOUM6zvj",
        "outputId": "5f3ae9ca-ef4b-430a-9ad0-20bf6352595d"
      },
      "outputs": [
        {
          "data": {
            "image/png": "[encoded data removed]",
            "text/plain": [
              "<Figure size 432x288 with 1 Axes>"
            ]
          },
          "metadata": {
            "needs_background": "light"
          },
          "output_type": "display_data"
        }
      ],
      "source": [
        "cs.line_plot(sir_df, title=f\"Sample data of {sir}\", y_integer=True)"
      ]
    },
    {
      "cell_type": "markdown",
      "metadata": {
        "id": "OojXCEBJ7dGB"
      },
      "source": [
        "### 1-5. Reproduction number\n",
        "Reproduction number of SIR model is defined as follows.\n",
        "\n",
        "\\begin{align*}\n",
        "R_0 = \\rho \\sigma^{-1} = \\beta \\gamma^{-1}\n",
        "\\end{align*}\n",
        "\n",
        "$R_0$ (\"R naught\") means \"the average number of secondary infections caused by an infected host\" ([external link: Infection Modeling — Part 1](https://towardsdatascience.com/infection-modeling-part-1-87e74645568a)).  \n",
        "\n",
        "We can calculate reproduction number using `ODEModel().r0()` method."
      ]
    },
    {
      "cell_type": "code",
      "execution_count": 93,
      "metadata": {
        "colab": {
          "base_uri": "https://localhost:8080/"
        },
        "id": "8vC-oZLD7IEB",
        "outputId": "a5cda037-4c35-4a27-a61b-7f194639377e"
      },
      "outputs": [
        {
          "data": {
            "text/plain": [
              "2.67"
            ]
          },
          "execution_count": 93,
          "metadata": {},
          "output_type": "execute_result"
        }
      ],
      "source": [
        "sir.r0()"
      ]
    },
    {
      "cell_type": "markdown",
      "metadata": {
        "id": "p_kH1C4qCXNe"
      },
      "source": [
        "When $x=\\frac{1}{R_0}$, $\\frac{\\mathrm{d}y}{\\mathrm{d}t}=0$ (the number of infected cases does not change)  \n",
        "because $\\frac{\\mathrm{d}y}{\\mathrm{d}t}=\\rho x y - \\sigma y=\\rho \\times (\\rho \\sigma^{-1})^{-1} \\times y - \\sigma y=0$."
      ]
    },
    {
      "cell_type": "code",
      "execution_count": 94,
      "metadata": {
        "colab": {
          "base_uri": "https://localhost:8080/",
          "height": 297
        },
        "id": "fyTApIbd7p7g",
        "outputId": "ec9d1ec6-90a4-42b7-b718-74054c6327f8"
      },
      "outputs": [
        {
          "data": {
            "image/png": "[encoded data removed]",
            "text/plain": [
              "<Figure size 432x288 with 1 Axes>"
            ]
          },
          "metadata": {
            "needs_background": "light"
          },
          "output_type": "display_data"
        }
      ],
      "source": [
        "model = deepcopy(sir)\n",
        "df = sir_df.copy()\n",
        "# Calculate R0\n",
        "r0 = model.r0()\n",
        "# Prepare non-dimensional values\n",
        "tau = model.settings()[\"tau\"]\n",
        "df.index = ((df.index - df.index.min()) / np.timedelta64(1440, \"m\")).astype(np.int64)\n",
        "df.index.name = \"t\"\n",
        "population = sum(model.settings()[\"initial_dict\"].values())\n",
        "df[\"x\"] = df[\"Susceptible\"] / population\n",
        "df[\"y\"] = df[\"Infected\"] / population\n",
        "# t for x = 1/R0\n",
        "t0 = np.argmin(np.abs(df[\"x\"] - 1/r0))\n",
        "# y when x = 1/R0\n",
        "y0 = df.loc[t0, \"y\"]\n",
        "# Show x, y for t\n",
        "cs.line_plot(\n",
        "    df[[\"x\", \"y\"]],\n",
        "    title=f\"{model} with R0 = {r0}: x, y for t (vertical line: t when x = 1/R0)\", xlabel=\"t\", math_scale=False, ylabel=None,\n",
        "    h=[1/r0, y0], v=t0,\n",
        "    bbox_to_anchor=None, bbox_loc=\"upper right\", ncol=1,\n",
        ")"
      ]
    },
    {
      "cell_type": "markdown",
      "metadata": {
        "id": "mFO3L3OHG7fY"
      },
      "source": [
        "## 2. SIR-D model\n",
        "Because we are measuring the number of fatal cases and recovered cases separately, we can use two variables (\"Recovered\" and \"Deaths\") instead of \"Recovered + Deaths\" in the mathematical model. We call this model as SIR-D model."
      ]
    },
    {
      "cell_type": "markdown",
      "metadata": {
        "id": "Fl00Bu1qHTSJ"
      },
      "source": [
        "### 2-1. Definition"
      ]
    },
    {
      "cell_type": "markdown",
      "metadata": {
        "id": "G_sAJmGSHC6t"
      },
      "source": [
        "\\begin{align*}\n",
        "\\mathrm{S} \\overset{\\beta  I}{\\longrightarrow}\\ & \\mathrm{I} \\overset{\\gamma}{\\longrightarrow} \\mathrm{R}  \\\\\n",
        "& \\mathrm{I} \\overset{\\alpha}{\\longrightarrow} \\mathrm{D}  \\\\\n",
        "\\end{align*}"
      ]
    },
    {
      "cell_type": "markdown",
      "metadata": {
        "id": "qh743H5dHEQ0"
      },
      "source": [
        "Variables:  \n",
        "\n",
        "* $\\mathrm{S}$: Susceptible (= Population - Confirmed)  \n",
        "* $\\mathrm{I}$: Infected (=Confirmed - Recovered - Fatal)  \n",
        "* $\\mathrm{R}$: Recovered  \n",
        "* $\\mathrm{D}$: Fatal  \n",
        "\n",
        "Parameters:  \n",
        "\n",
        "* $\\alpha$: Mortality rate $\\mathrm{[1/min]}$  \n",
        "* $\\beta$: Effective contact rate $\\mathrm{[1/min]}$  \n",
        "* $\\gamma$: Recovery rate $\\mathrm{[1/min]}$  "
      ]
    },
    {
      "cell_type": "markdown",
      "metadata": {
        "id": "5obERwxKHFzn"
      },
      "source": [
        "### 2-2. Non-dimensional SIR-D model\n",
        "Set $(S, I, R, D) = N \\times (x, y, z, w)$ and $(T, \\alpha, \\beta, \\gamma) = (\\tau t, \\tau^{-1} \\kappa, \\tau^{-1} \\rho, \\tau^{-1} \\sigma)$.  \n",
        "This results in the ODE  \n",
        "\\begin{align*}\n",
        "& \\frac{\\mathrm{d}x}{\\mathrm{d}t}= - \\rho x y  \\\\\n",
        "& \\frac{\\mathrm{d}y}{\\mathrm{d}t}= \\rho x y - (\\sigma + \\kappa) y  \\\\\n",
        "& \\frac{\\mathrm{d}z}{\\mathrm{d}t}= \\sigma y  \\\\\n",
        "& \\frac{\\mathrm{d}w}{\\mathrm{d}t}= \\kappa y  \\\\\n",
        "\\end{align*}"
      ]
    },
    {
      "cell_type": "markdown",
      "metadata": {
        "id": "xKSN5tRNHa2O"
      },
      "source": [
        "### 2-3. Create sample data\n",
        "We use `SIRDModel` class, a child class of `ODEModel`. They have class method `.from_sample(date_range=None, tau=1440)` (as default)."
      ]
    },
    {
      "cell_type": "code",
      "execution_count": 95,
      "metadata": {
        "colab": {
          "base_uri": "https://localhost:8080/",
          "height": 53
        },
        "id": "Db_4HO008-QT",
        "outputId": "9483fe3b-fbbe-4fa9-fe61-f70ee688c899"
      },
      "outputs": [
        {
          "data": {
            "application/vnd.google.colaboratory.intrinsic+json": {
              "type": "string"
            },
            "text/plain": [
              "\"SIRDModel(date_range=('30Jul2022', '26Jan2023'), tau=1440, initial_dict={'Susceptible': 999000, 'Infected': 1000, 'Recovered': 0, 'Fatal': 0}, param_dict={'kappa': 0.005, 'rho': 0.2, 'sigma': 0.075})\""
            ]
          },
          "execution_count": 95,
          "metadata": {},
          "output_type": "execute_result"
        }
      ],
      "source": [
        "sird = cs.SIRDModel.from_sample()\n",
        "repr(sird)"
      ]
    },
    {
      "cell_type": "markdown",
      "metadata": {
        "id": "cvFHR04bHysQ"
      },
      "source": [
        "### 2-4. Solve ODEs\n",
        "We can solve the ODEs with `ODEModel().solve()`."
      ]
    },
    {
      "cell_type": "code",
      "execution_count": 96,
      "metadata": {
        "colab": {
          "base_uri": "https://localhost:8080/",
          "height": 294
        },
        "id": "1G-T-sYSIDGi",
        "outputId": "01f1cd06-e186-44e1-df79-fccb4f56e9dc"
      },
      "outputs": [
        {
          "data": {
            "image/png": "[encoded data removed]",
            "text/plain": [
              "<Figure size 432x288 with 1 Axes>"
            ]
          },
          "metadata": {
            "needs_background": "light"
          },
          "output_type": "display_data"
        }
      ],
      "source": [
        "sird_df = sird.solve()\n",
        "cs.line_plot(sird_df, title=f\"Sample data of {sird}\", y_integer=True)"
      ]
    },
    {
      "cell_type": "markdown",
      "metadata": {
        "id": "fNt3H84pIrJq"
      },
      "source": [
        "### 2-5. Reproduction number\n",
        "Reproduction number of SIR-D model is defined as follows.\n",
        "\n",
        "\\begin{align*}\n",
        "R_0 = \\rho (\\sigma + \\kappa)^{-1} = \\beta (\\gamma + \\alpha)^{-1}\n",
        "\\end{align*}"
      ]
    },
    {
      "cell_type": "code",
      "execution_count": 97,
      "metadata": {
        "colab": {
          "base_uri": "https://localhost:8080/"
        },
        "id": "VaS6RLo6ILVF",
        "outputId": "c54f9c81-dc2f-403e-e938-0781ba1c64a7"
      },
      "outputs": [
        {
          "data": {
            "text/plain": [
              "2.5"
            ]
          },
          "execution_count": 97,
          "metadata": {},
          "output_type": "execute_result"
        }
      ],
      "source": [
        "sird.r0()"
      ]
    },
    {
      "cell_type": "markdown",
      "metadata": {
        "id": "KdlzUtezI-tw"
      },
      "source": [
        "## 3. SIR-F model\n",
        "In the initial phase of COVID-19 outbreak, many cases were confirmed after they died. To consider this issue, \"S + I $\\to$ Fatal + I\" should be added. We call the next model as SIR-F model. This is an original model of CovsirPhy. When $\\alpha_{1}=0$, no difference with the SIR-D model.\n",
        "\n",
        "SIR-F model was developed with [Kaggle: COVID-19 data with SIR model](https://www.kaggle.com/lisphilar/covid-19-data-with-sir-model#SIR-to-SIR-F)."
      ]
    },
    {
      "cell_type": "markdown",
      "metadata": {
        "id": "YAwj5lV5I-tx"
      },
      "source": [
        "### 3-1. Definition"
      ]
    },
    {
      "cell_type": "markdown",
      "metadata": {
        "id": "rJai5EbGI-tx"
      },
      "source": [
        "\\begin{align*}\n",
        "\\mathrm{S} \\overset{\\beta I}{\\longrightarrow} \\mathrm{S}^\\ast \\overset{\\alpha_1}{\\longrightarrow}\\ & \\mathrm{F}    \\\\\n",
        "\\mathrm{S}^\\ast \\overset{1 - \\alpha_1}{\\longrightarrow}\\ & \\mathrm{I} \\overset{\\gamma}{\\longrightarrow} \\mathrm{R}    \\\\\n",
        "& \\mathrm{I} \\overset{\\alpha_2}{\\longrightarrow} \\mathrm{F}    \\\\\n",
        "\\end{align*}"
      ]
    },
    {
      "cell_type": "markdown",
      "metadata": {
        "id": "SUxDsgnHI-ty"
      },
      "source": [
        "Variables:  \n",
        "\n",
        "* $\\mathrm{S}$: Susceptible (= Population - Confirmed)  \n",
        "* $\\mathrm{S}^\\ast$: Confirmed and un-categorized  \n",
        "* $\\mathrm{I}$: Confirmed and categorized as Infected  \n",
        "* $\\mathrm{R}$: Confirmed and categorized as Recovered  \n",
        "* $\\mathrm{F}$: Confirmed and categorized as Fatal  \n",
        "\n",
        "Parameters:  \n",
        "\n",
        "* $\\alpha_1$: Direct fatality probability of $\\mathrm{S}^\\ast$ (non-dimensional) \n",
        "* $\\alpha_2$: Mortality rate of Infected cases $\\mathrm{[1/min]}$  \n",
        "* $\\beta$: Effective contact rate $\\mathrm{[1/min]}$  \n",
        "* $\\gamma$: Recovery rate $\\mathrm{[1/min]}$  \n"
      ]
    },
    {
      "cell_type": "markdown",
      "metadata": {
        "id": "FoWOwuBvJTh5"
      },
      "source": [
        "Notes on $\\mathrm{S}^\\ast$ variable:  \n",
        "$\\mathrm{S}^\\ast$ describes the cases who are actually carriers of the disease without anyone (including themselves) knowing about it, who either die and they are confirmed positive after death, while some others are moved to infected after being confirmed.\n",
        "\n",
        "In JHU-style dataset, we know the number of cases who were confirmed with COVID-19, but we do not know the number of died cases who died without COVID-19.\n",
        "Essentially $\\mathrm{S}^\\ast$ serves as an auxiliary compartment in SIR-F model to separate the two death situations and insert a probability factor of {$\\alpha_1$, $1 - \\alpha_1$}.  "
      ]
    },
    {
      "cell_type": "markdown",
      "metadata": {
        "id": "9dg_joTTJ2WZ"
      },
      "source": [
        "Note regarding the roles of ODE parameter values:  \n",
        "When $\\rho$ is large, $\\beta$ is large. When $\\beta$ (effective contact rate [1/min]) is large, S -> S* -> I is faster because dS*/dT = $\\beta$ * [S] [I].  \n",
        "When $\\theta$ is large, $\\alpha_1$ is large. When $\\alpha_1$ (direct fatality probability) is large, S -> S* -> F is faster because dF/dT = $\\alpha_1$ * [S*] + $\\alpha_2$ * [I]."
      ]
    },
    {
      "cell_type": "markdown",
      "metadata": {
        "id": "mx6VjJfkJX4-"
      },
      "source": [
        "Notes on the difference of SIR-D and SIR-F model:  \n",
        "$\\alpha_1$ is small at this time because performance of PCR tests was improved, but we can use SIR-F model rather than SIR-D model as an enhanced model even now because $\\alpha_1$ can be 0 in the ODE model."
      ]
    },
    {
      "cell_type": "markdown",
      "metadata": {
        "id": "yf_B4WmVI-ty"
      },
      "source": [
        "### 3-2. Non-dimensional SIR-F model\n",
        "Set $(S, I, R, F) = N \\times (x, y, z, w)$ and $(T, \\alpha_1, \\alpha_2, \\beta, \\gamma) = (\\tau t, \\theta, \\tau^{-1} \\kappa, \\tau^{-1} \\rho, \\tau^{-1} \\sigma)$.  \n",
        "This results in the ODE  \n",
        "\\begin{align*}\n",
        "& \\frac{\\mathrm{d}x}{\\mathrm{d}t}= - \\rho x y  \\\\\n",
        "& \\frac{\\mathrm{d}y}{\\mathrm{d}t}= \\rho (1-\\theta) x y - (\\sigma + \\kappa) y  \\\\\n",
        "& \\frac{\\mathrm{d}z}{\\mathrm{d}t}= \\sigma y  \\\\\n",
        "& \\frac{\\mathrm{d}w}{\\mathrm{d}t}= \\rho \\theta x y + \\kappa y  \\\\\n",
        "\\end{align*}"
      ]
    },
    {
      "cell_type": "markdown",
      "metadata": {
        "id": "wTFKRYwbI-ty"
      },
      "source": [
        "### 3-3. Create sample data\n",
        "We use `SIRFModel` class, a child class of `ODEModel`. They have class method `.from_sample(date_range=None, tau=1440)` (as default)."
      ]
    },
    {
      "cell_type": "code",
      "execution_count": 98,
      "metadata": {
        "colab": {
          "base_uri": "https://localhost:8080/",
          "height": 53
        },
        "id": "i7ctasMAI-tz",
        "outputId": "4580da79-d045-4f41-a27a-7d900113eb4f"
      },
      "outputs": [
        {
          "data": {
            "application/vnd.google.colaboratory.intrinsic+json": {
              "type": "string"
            },
            "text/plain": [
              "\"SIRFModel(date_range=('30Jul2022', '26Jan2023'), tau=1440, initial_dict={'Susceptible': 999000, 'Infected': 1000, 'Recovered': 0, 'Fatal': 0}, param_dict={'theta': 0.002, 'kappa': 0.005, 'rho': 0.2, 'sigma': 0.075})\""
            ]
          },
          "execution_count": 98,
          "metadata": {},
          "output_type": "execute_result"
        }
      ],
      "source": [
        "sirf = cs.SIRFModel.from_sample()\n",
        "repr(sirf)"
      ]
    },
    {
      "cell_type": "markdown",
      "metadata": {
        "id": "D38Z23HrI-t0"
      },
      "source": [
        "### 3-4. Solve ODEs\n",
        "We can solve the ODEs with `ODEModel().solve()`."
      ]
    },
    {
      "cell_type": "code",
      "execution_count": 99,
      "metadata": {
        "colab": {
          "base_uri": "https://localhost:8080/",
          "height": 294
        },
        "id": "QBt-wChGI-t0",
        "outputId": "506cae24-c02e-4c99-8ed1-a446e295c695"
      },
      "outputs": [
        {
          "data": {
            "image/png": "[encoded data removed]",
            "text/plain": [
              "<Figure size 432x288 with 1 Axes>"
            ]
          },
          "metadata": {
            "needs_background": "light"
          },
          "output_type": "display_data"
        }
      ],
      "source": [
        "sirf_df = sirf.solve()\n",
        "cs.line_plot(sirf_df, title=f\"Sample data of {sirf}\", y_integer=True)"
      ]
    },
    {
      "cell_type": "markdown",
      "metadata": {
        "id": "Ogjfy9UcI-t0"
      },
      "source": [
        "### 3-5. Reproduction number\n",
        "Reproduction number of SIR-F model is defined as follows.\n",
        "\n",
        "\\begin{align*}\n",
        "R_0 = \\rho (1 - \\theta) (\\sigma + \\kappa)^{-1} = \\beta (1 - \\alpha_1) (\\gamma + \\alpha_2)^{-1}\n",
        "\\end{align*}"
      ]
    },
    {
      "cell_type": "code",
      "execution_count": 100,
      "metadata": {
        "colab": {
          "base_uri": "https://localhost:8080/"
        },
        "id": "H1yv5t3LI-t1",
        "outputId": "14ac6be1-cb87-4182-f93c-63d5ac6c27b4"
      },
      "outputs": [
        {
          "data": {
            "text/plain": [
              "2.5"
            ]
          },
          "execution_count": 100,
          "metadata": {},
          "output_type": "execute_result"
        }
      ],
      "source": [
        "sirf.r0()"
      ]
    },
    {
      "cell_type": "markdown",
      "metadata": {
        "id": "FfObxSnJKqyj"
      },
      "source": [
        "## 4. SIR-F with exposed/waiting cases\n",
        "The next model is SEWIR-F model.  \n",
        "The number of exposed cases in latent period (E) and waiting cases for confirmation (W) are un-measurable variables, but key variables as well as S, I, R, F. If E and W are large, outbreak will occur in the near future. Let's replace S$\\overset{\\beta I}{\\longrightarrow}$S$^\\ast$ as follows because W also has infectivity."
      ]
    },
    {
      "cell_type": "markdown",
      "metadata": {
        "id": "T43rPAl7LB0y"
      },
      "source": [
        "Note:  \n",
        "**We cannot use SEWIR-F model for parameter estimation because we do not have records of Exposed and Waiting. Please use SIR-F model.**"
      ]
    },
    {
      "cell_type": "markdown",
      "metadata": {
        "id": "uREwQ4-5KvvX"
      },
      "source": [
        "### 4-1. Definition"
      ]
    },
    {
      "cell_type": "markdown",
      "metadata": {
        "id": "Wr5fbxdeK2pB"
      },
      "source": [
        "\\begin{align*}\n",
        "\\mathrm{S} \\overset{\\beta_1 (W+I)}{\\longrightarrow} \\mathrm{E} \\overset{\\beta_2}{\\longrightarrow} \\mathrm{W} \\overset{\\beta_3}{\\longrightarrow} \\mathrm{S}^\\ast \\overset{\\alpha_1}{\\longrightarrow}\\ & \\mathrm{F}    \\\\\n",
        "\\mathrm{S}^\\ast \\overset{1 - \\alpha_1}{\\longrightarrow}\\ & \\mathrm{I} \\overset{\\gamma}{\\longrightarrow} \\mathrm{R}    \\\\\n",
        "& \\mathrm{I} \\overset{\\alpha_2}{\\longrightarrow} \\mathrm{F}    \\\\\n",
        "\\end{align*}"
      ]
    },
    {
      "cell_type": "markdown",
      "metadata": {
        "id": "eB0QWZ6HK5VH"
      },
      "source": [
        "Variables:  \n",
        "\n",
        "* $\\mathrm{S}$: Susceptible  \n",
        "* $\\mathrm{E}$: <u>Exposed and in latent period (without infectivity)</u>  \n",
        "* $\\mathrm{W}$: <u>Waiting for confirmation diagnosis (with infectivity)</u>  \n",
        "* $\\mathrm{S}^\\ast$: Confirmed and un-categorized  \n",
        "* $\\mathrm{I}$: Confirmed and categorized as Infected  \n",
        "* $\\mathrm{R}$: Confirmed and categorized as Recovered  \n",
        "* $\\mathrm{F}$: Confirmed and categorized as Fatal  \n",
        "\n",
        "Parameters:  \n",
        "\n",
        "* $\\alpha_1$: Direct fatality probability of $\\mathrm{S}^\\ast$ (non-dimensional) \n",
        "* $\\alpha_2$: Mortality rate of Infected cases $\\mathrm{[1/min]}$  \n",
        "* $\\beta_1$: <u>Exposure rate (the number of encounter with the virus in a minute)</u> $\\mathrm{[1/min]}$  \n",
        "* $\\beta_2$: <u>Inverse of latent period</u> $\\mathrm{[1/min]}$  \n",
        "* $\\beta_3$: <u>Inverse of waiting time for confirmation</u> $\\mathrm{[1/min]}$  \n",
        "* $\\gamma$: Recovery rate $\\mathrm{[1/min]}$ "
      ]
    },
    {
      "cell_type": "markdown",
      "metadata": {
        "id": "7TZFVvXfK75s"
      },
      "source": [
        "### 4-2. Non-dimensional SEWIR-F model\n",
        "Set $(S, E, W, I, R, F) = N \\times (x_1, x_2, x_3, y, z, w)$, $(T, \\alpha_1) = (\\tau t, \\theta)$ and $(\\alpha_2, \\beta_i, \\gamma) = \\tau^{-1} \\times (\\kappa, \\rho_i, \\sigma)$.  \n",
        "This results in the ODE  \n",
        "\\begin{align*}\n",
        "& \\frac{\\mathrm{d}x_1}{\\mathrm{d}t}= - \\rho_1 x_1 (x_3 + y)  \\\\\n",
        "& \\frac{\\mathrm{d}x_2}{\\mathrm{d}t}= \\rho_1 x_1 (x_3 + y) - \\rho_2 x_2  \\\\\n",
        "& \\frac{\\mathrm{d}x_3}{\\mathrm{d}t}= \\rho_2 x_2 - \\rho_3 x_3  \\\\\n",
        "& \\frac{\\mathrm{d}y}{\\mathrm{d}t}= (1-\\theta) \\rho_3 x_3 - (\\sigma + \\kappa) y  \\\\\n",
        "& \\frac{\\mathrm{d}z}{\\mathrm{d}t}= \\sigma y  \\\\\n",
        "& \\frac{\\mathrm{d}w}{\\mathrm{d}t}= \\theta \\rho_3 x_3 + \\kappa y  \\\\\n",
        "\\end{align*}"
      ]
    },
    {
      "cell_type": "markdown",
      "metadata": {
        "id": "h1EJK16BLZik"
      },
      "source": [
        "### 4-3. Create sample data\n",
        "We use `SEWIRFModel` class, a child class of `ODEModel`. They have class method `.from_sample(date_range=None, tau=1440)` (as default)."
      ]
    },
    {
      "cell_type": "code",
      "execution_count": 101,
      "metadata": {
        "colab": {
          "base_uri": "https://localhost:8080/",
          "height": 53
        },
        "id": "mJdDP5iDLZil",
        "outputId": "4c237dca-3581-4049-f75e-9d14859a682b"
      },
      "outputs": [
        {
          "data": {
            "application/vnd.google.colaboratory.intrinsic+json": {
              "type": "string"
            },
            "text/plain": [
              "\"SEWIRFModel(date_range=('30Jul2022', '26Jan2023'), tau=1440, initial_dict={'Susceptible': 994000, 'Exposed': 3000, 'Waiting': 2000, 'Infected': 1000, 'Recovered': 0, 'Fatal': 0}, param_dict={'theta': 0.002, 'kappa': 0.005, 'rho1': 0.2, 'rho2': 0.167, 'rho3': 0.167, 'sigma': 0.075})\""
            ]
          },
          "execution_count": 101,
          "metadata": {},
          "output_type": "execute_result"
        }
      ],
      "source": [
        "sewirf = cs.SEWIRFModel.from_sample()\n",
        "repr(sewirf)"
      ]
    },
    {
      "cell_type": "markdown",
      "metadata": {
        "id": "0L5ku-tALZim"
      },
      "source": [
        "### 3-4. Solve ODEs\n",
        "We can solve the ODEs with `ODEModel().solve()`."
      ]
    },
    {
      "cell_type": "code",
      "execution_count": 102,
      "metadata": {
        "colab": {
          "base_uri": "https://localhost:8080/",
          "height": 294
        },
        "id": "IM69WKcYLZim",
        "outputId": "c830dac9-9c3f-42f1-9098-7dc690d939b1"
      },
      "outputs": [
        {
          "data": {
            "image/png": "[encoded data removed]",
            "text/plain": [
              "<Figure size 432x288 with 1 Axes>"
            ]
          },
          "metadata": {
            "needs_background": "light"
          },
          "output_type": "display_data"
        }
      ],
      "source": [
        "sewirf_df = sewirf.solve()\n",
        "cs.line_plot(sewirf_df, title=f\"Sample data of {sewirf}\", y_integer=True, bbox_to_anchor=(0.5, -0.3), ncol=3)"
      ]
    },
    {
      "cell_type": "markdown",
      "metadata": {
        "id": "m8Log7AULZin"
      },
      "source": [
        "### 4-5. Reproduction number\n",
        "Reproduction number of SEWIR-F model is defined as follows.\n",
        "\n",
        "\\begin{align*}\n",
        "R_0 = \\rho_1 /\\rho_2 * \\rho_3 (1-\\theta) (\\sigma + \\kappa)^{-1}\n",
        "\\end{align*}"
      ]
    },
    {
      "cell_type": "code",
      "execution_count": 103,
      "metadata": {
        "colab": {
          "base_uri": "https://localhost:8080/"
        },
        "id": "CfXZHqa7LZin",
        "outputId": "56b00dac-2ebe-4a1f-8b56-8452a091c4cc"
      },
      "outputs": [
        {
          "data": {
            "text/plain": [
              "2.49"
            ]
          },
          "execution_count": 103,
          "metadata": {},
          "output_type": "execute_result"
        }
      ],
      "source": [
        "sewirf.r0()"
      ]
    },
    {
      "cell_type": "markdown",
      "metadata": {
        "id": "Ta3Qi8iPMEAf"
      },
      "source": [
        "## 5. SIR-F with vaccination\n",
        "Vaccination is a key factor to prevent outbreak as you know.\n",
        "\n",
        "In the previous version, we defined SIR-FV model with $\\omega$ (vaccination rate) and\n",
        "$$\n",
        "\\frac{\\mathrm{d}S}{\\mathrm{d}T}= - \\beta S I - \\omega N  \\\\\n",
        "$$\n",
        "\n",
        "However, **SIR-FV model was removed because vaccinated persons may move to the other compartments, including \"Susceptible\". Please use SIR-F model for simulation and parameter estimation with adjusted parameter values, considering the impact of vaccinations on infectivity, its effectivity and safety.**"
      ]
    },
    {
      "cell_type": "markdown",
      "metadata": {
        "id": "ZXWVHqE_MI8E"
      },
      "source": [
        "## 6. SIR-F with re-infection\n",
        "Re-infection (Recovered -> Susceptible) is sometimes reported and we can consider SIR-S (SIR-FS) model. However, this is not implemented at this time because we do not have data regarding re-infection. SIR-F model could be the final model in our data-driven approach at this time.  \n",
        "\n",
        "Re-infection changes the parameter values of SIR-F model. There are two patterns.\n",
        "\n",
        "1. If re-infected case are counted as new confirmed cases and removed from \"Recovered\" compartment, $\\sigma$ will be decreased.\n",
        "2. If re-infected cases are counted as new confirmed cases and **NOT** removed from \"Recovered\" compartment, $\\rho$ will be increased because \"Susceptible\" will be decreased."
      ]
    },
    {
      "cell_type": "markdown",
      "metadata": {
        "id": "Q1C86SgIMSIL"
      },
      "source": [
        "Thank you!"
      ]
    }
  ],
  "metadata": {
    "colab": {
      "authorship_tag": "ABX9TyMz8qOvez8HC9JyCYoD5puH",
      "collapsed_sections": [],
      "include_colab_link": true,
      "name": "03_ode.ipynb",
      "provenance": [],
      "toc_visible": true
    },
    "kernelspec": {
      "display_name": "Python 3.9.8 ('.venv': poetry)",
      "language": "python",
      "name": "python3"
    },
    "language_info": {
      "name": "python",
      "version": "3.9.8"
    },
    "vscode": {
      "interpreter": {
        "hash": "22bb74880181aee4909a67ef083e714bf83db977b91038d43aef8b1870a4f681"
      }
    }
  },
  "nbformat": 4,
  "nbformat_minor": 0
}
