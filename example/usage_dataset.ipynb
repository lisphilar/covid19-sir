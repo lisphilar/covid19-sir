{
 "cells": [
  {
   "cell_type": "markdown",
   "source": [
    "# Usage: datasets\n",
    "\n",
    "[![Open In Colab](https://colab.research.google.com/assets/colab-badge.svg)](https://colab.research.google.com/github/lisphilar/covid19-sir/blob/master/example/usage_dataset.ipynb)\n",
    "\n",
    "Here, we will review the datasets downladed and cleaned with `DataLoader` class. Methods of this class produces the following class instances.\n",
    "\n",
    "1. `JHUData`: the number of confirmed/infected/fatal/recovored cases\n",
    "2. `PopulationData`: population values\n",
    "3. `OxCGRTData`: indicators of government responses (OxCGRT)\n",
    "4. `PCRData`: the number of tests\n",
    "5. `VaccineData`: the number of vaccinations, people vaccinated\n",
    "6. `MobilityData`: percentage to baseline in visits (will be usable from 2.22.0)\n",
    "7. `PyramidData`: population pyramid\n",
    "8. `JapanData`: Japan-specific dataset\n",
    "\n",
    "If you want to use a new dataset for your analysis, please kindly inform us with [GitHub Issues: Request new method of DataLoader class](https://github.com/lisphilar/covid19-sir/issues/new/?template=request-new-method-of-dataloader-class.md).\n",
    "\n",
    "Note:  \n",
    "`LinelistData` (linelist of case reports) was deprecated with [issue #866](https://github.com/lisphilar/covid19-sir/issues/866) at development version 2.21.0-theta."
   ],
   "metadata": {}
  },
  {
   "cell_type": "markdown",
   "source": [
    "In this notebook, review the cleaned datasets one by one and visualize them."
   ],
   "metadata": {}
  },
  {
   "cell_type": "markdown",
   "source": [
    "## Preparation\n",
    "\n",
    "Import the packages."
   ],
   "metadata": {}
  },
  {
   "cell_type": "code",
   "execution_count": null,
   "source": [
    "# !pip install covsirphy --upgrade\n",
    "from pprint import pprint\n",
    "import covsirphy as cs\n",
    "cs.__version__"
   ],
   "outputs": [],
   "metadata": {}
  },
  {
   "cell_type": "markdown",
   "source": [
    "Data cleaning classes will be produced with methods of `DataLoader` class. Please specify the directory to save CSV files when creating `DataLoader` instance. The default value of `directory` is \"input\" and we will set \"../input\" here.\n",
    "\n",
    "Note:  \n",
    "When the directory has a CSV file with the same name, `DataLoader` will load them without downloading dataset from server. When the CSV file was created/updated more than 12 hours ago, the CSV file will be updated automatically. \"12 hours\" is the default value and we can change it with `update_interval` argument when creating `DataLoader` instance."
   ],
   "metadata": {}
  },
  {
   "cell_type": "code",
   "execution_count": null,
   "source": [
    "# Create DataLoader instance\n",
    "loader = cs.DataLoader(\"../input\", update_interval=12)"
   ],
   "outputs": [],
   "metadata": {}
  },
  {
   "cell_type": "markdown",
   "source": [
    "Usage of methods will be explained in the following sections. If you want to download all datasets with copy & paste, please refer to [Dataset preparation](https://lisphilar.github.io/covid19-sir/markdown/INSTALLATION.html#dataset-preparation)."
   ],
   "metadata": {}
  },
  {
   "cell_type": "markdown",
   "source": [
    "## The number of cases (JHU style)\n",
    "\n",
    "The main data for analysis is that of the number of cases. `JHUData` class created with `DataLoader.jhu()` method is for the number of confirmed/fatal/recovered cases. The number of infected cases will be calculated as \"Confirmed - Recovered - Fatal\" when data cleaning.\n",
    "\n",
    "If you want to create this instance with your local CSV file, please refer to [Dataset preparation: 3. Use a local CSV file which has the number of cases](https://lisphilar.github.io/covid19-sir/markdown/INSTALLATION.html#use-a-local-csv-file-which-has-the-number-of-cases)."
   ],
   "metadata": {}
  },
  {
   "cell_type": "code",
   "execution_count": null,
   "source": [
    "# Create instance\n",
    "jhu_data = loader.jhu()"
   ],
   "outputs": [],
   "metadata": {}
  },
  {
   "cell_type": "code",
   "execution_count": null,
   "source": [
    "# Check type\n",
    "type(jhu_data)"
   ],
   "outputs": [],
   "metadata": {}
  },
  {
   "cell_type": "markdown",
   "source": [
    "`JHUData.citation` property shows the description of this dataset."
   ],
   "metadata": {}
  },
  {
   "cell_type": "code",
   "execution_count": null,
   "source": [
    "print(jhu_data.citation)"
   ],
   "outputs": [],
   "metadata": {}
  },
  {
   "cell_type": "markdown",
   "source": [
    "Detailed citation list is saved in `DataLoader.covid19dh_citation` property. This is not a property of `JHUData`. Because many links are included, the will not be shown in this tutorial."
   ],
   "metadata": {}
  },
  {
   "cell_type": "code",
   "execution_count": null,
   "source": [
    "# Detailed citations (string)\n",
    "# data_loader.covid19dh_citation"
   ],
   "outputs": [],
   "metadata": {}
  },
  {
   "cell_type": "markdown",
   "source": [
    "We can check the raw data with `JHUData.raw` property."
   ],
   "metadata": {}
  },
  {
   "cell_type": "code",
   "execution_count": null,
   "source": [
    "jhu_data.raw.tail()"
   ],
   "outputs": [],
   "metadata": {}
  },
  {
   "cell_type": "markdown",
   "source": [
    "The cleaned dataset is here."
   ],
   "metadata": {}
  },
  {
   "cell_type": "code",
   "execution_count": null,
   "source": [
    "jhu_data.cleaned().tail()"
   ],
   "outputs": [],
   "metadata": {}
  },
  {
   "cell_type": "markdown",
   "source": [
    "As you noticed, they are returned as a Pandas dataframe. Because tails are the latest values, `pandas.DataFrame.tail()` was used for reviewing it."
   ],
   "metadata": {}
  },
  {
   "cell_type": "markdown",
   "source": [
    "Check the data types and memory usage as follows."
   ],
   "metadata": {}
  },
  {
   "cell_type": "code",
   "execution_count": null,
   "source": [
    "jhu_data.cleaned().info()"
   ],
   "outputs": [],
   "metadata": {}
  },
  {
   "cell_type": "markdown",
   "source": [
    "Note that date is `pandas.datetime64`, area names are `pandas.Category` and the number of cases is `numpy.int64`."
   ],
   "metadata": {}
  },
  {
   "cell_type": "markdown",
   "source": [
    "### Total number of cases in all countries\n",
    "\n",
    "`JHUData.total()` returns total number of cases in all countries. Fatality and recovery rate are added."
   ],
   "metadata": {}
  },
  {
   "cell_type": "code",
   "execution_count": null,
   "source": [
    "total_df = jhu_data.total()\n",
    "# Show the oldest data\n",
    "display(total_df.loc[total_df[\"Confirmed\"] > 0].head())\n",
    "# Show the latest data\n",
    "display(total_df.tail())"
   ],
   "outputs": [],
   "metadata": {}
  },
  {
   "cell_type": "markdown",
   "source": [
    "The first case (registered in the dataset) was 07Jan2020. COVID-19 outbreak is still ongoing."
   ],
   "metadata": {}
  },
  {
   "cell_type": "markdown",
   "source": [
    "We can create line plots with `covsirphy.line_plot()` function."
   ],
   "metadata": {}
  },
  {
   "cell_type": "code",
   "execution_count": null,
   "source": [
    "cs.line_plot(total_df[[\"Infected\", \"Fatal\", \"Recovered\"]], \"Total number of cases over time\")"
   ],
   "outputs": [],
   "metadata": {}
  },
  {
   "cell_type": "markdown",
   "source": [
    "Statistics of fatality and recovery rate are here."
   ],
   "metadata": {}
  },
  {
   "cell_type": "code",
   "execution_count": null,
   "source": [
    "total_df.loc[:, total_df.columns.str.contains(\"per\")].describe().T"
   ],
   "outputs": [],
   "metadata": {}
  },
  {
   "cell_type": "markdown",
   "source": [
    "### Subset for area\n",
    "\n",
    "`JHUData.subset()` creates a subset for a specific area. We can select country name and province name. In this tutorial, \"Japan\" and \"Tokyo in Japan\" will be used. Please replace it with your country/province name."
   ],
   "metadata": {}
  },
  {
   "cell_type": "markdown",
   "source": [
    "Subset for a country:   \n",
    "We can use both of country names and ISO3 codes."
   ],
   "metadata": {}
  },
  {
   "cell_type": "code",
   "execution_count": null,
   "source": [
    "# Specify contry name\n",
    "df, complement = jhu_data.records(\"Japan\")\n",
    "# Or, specify ISO3 code\n",
    "# df, complement = jhu_data.records(\"JPN\")\n",
    "# Show records\n",
    "display(df.tail())\n",
    "# Show details of complement\n",
    "print(complement)"
   ],
   "outputs": [],
   "metadata": {}
  },
  {
   "cell_type": "markdown",
   "source": [
    "Complement of records was performed. The second returned value is the description of complement. Details will be explained later and we can skip complement with `auto_complement=False` argument. Or, use just use `JHUData.subset()` method when the second returned value (`False` because no complement) is un-necessary."
   ],
   "metadata": {}
  },
  {
   "cell_type": "code",
   "execution_count": null,
   "source": [
    "# Skip complement\n",
    "df, complement = jhu_data.records(\"Japan\", auto_complement=False)\n",
    "# Or,\n",
    "# df = jhu_data.subset(\"Japan\")\n",
    "display(df.tail())\n",
    "# Show complement (False because not complemented)\n",
    "print(complement)"
   ],
   "outputs": [],
   "metadata": {}
  },
  {
   "cell_type": "markdown",
   "source": [
    "Subset for a province (called \"prefecture\" in Japan):"
   ],
   "metadata": {}
  },
  {
   "cell_type": "code",
   "execution_count": null,
   "source": [
    "df, _ = jhu_data.records(\"Japan\", province=\"Tokyo\")\n",
    "df.tail()"
   ],
   "outputs": [],
   "metadata": {}
  },
  {
   "cell_type": "markdown",
   "source": [
    "The list of countries can be checked with `JHUdata.countries()` as folows."
   ],
   "metadata": {}
  },
  {
   "cell_type": "code",
   "execution_count": null,
   "source": [
    "pprint(jhu_data.countries(), compact=True)"
   ],
   "outputs": [],
   "metadata": {}
  },
  {
   "cell_type": "markdown",
   "source": [
    "### Complement\n",
    "\n",
    "`JHUData.records()` automatically complement the records, if necessary and `auto_complement=True` (default). Each area can have either none or one or multiple complements, depending on the records and their preprocessing analysis."
   ],
   "metadata": {}
  },
  {
   "cell_type": "markdown",
   "source": [
    "We can show the specific kind of complements that were applied to the records of each country with `JHUData.show_complement()` method. The possible kinds of complement for each country are the following:\n",
    "\n",
    "1. “Monotonic_confirmed/fatal/recovered” (monotonic increasing complement)\n",
    "    Force the variable show monotonic increasing.\n",
    "2. “Full_recovered” (full complement of recovered data)\n",
    "    Estimate the number of recovered cases using the value of estimated average recovery period.\n",
    "3. “Partial_recovered” (partial complement of recovered data)\n",
    "    When recovered values are not updated for some days, extrapolate the values.\n",
    "\n",
    "Note:  \n",
    "\"Recovery period\" will be discussed in the next subsection."
   ],
   "metadata": {}
  },
  {
   "cell_type": "markdown",
   "source": [
    "For `JHUData.show_complement()`, we can specify country names and province names."
   ],
   "metadata": {}
  },
  {
   "cell_type": "code",
   "execution_count": null,
   "source": [
    "# Specify country name\n",
    "jhu_data.show_complement(country=\"Japan\")\n",
    "# Or, specify country and province name\n",
    "# jhu_data.show_complement(country=\"Japan\", province=\"Tokyo\")"
   ],
   "outputs": [],
   "metadata": {}
  },
  {
   "cell_type": "markdown",
   "source": [
    "When list was apllied was `country` argument, the all spefied countries will be shown. If `None`, all registered countries will be used."
   ],
   "metadata": {}
  },
  {
   "cell_type": "code",
   "execution_count": null,
   "source": [
    "# Specify country names\n",
    "jhu_data.show_complement(country=[\"Greece\", \"Japan\"])\n",
    "# Or, apply None\n",
    "# jhu_data.show_complement(country=None)"
   ],
   "outputs": [],
   "metadata": {}
  },
  {
   "cell_type": "markdown",
   "source": [
    "If complement was performed incorrectly or you need new algorithms, kindly let us know via [issue page](https://github.com/lisphilar/covid19-sir/issues)."
   ],
   "metadata": {}
  },
  {
   "cell_type": "markdown",
   "source": [
    "### Recovery period\n",
    "\n",
    "We defined \"recovery period\" as yhe time period between case confirmation and recovery (as it is subjectively defined per country). With the global cases records, we estimate the average recovery period using `JHUData.calculate_recovery_period()`."
   ],
   "metadata": {}
  },
  {
   "cell_type": "code",
   "execution_count": null,
   "source": [
    "recovery_period = jhu_data.calculate_recovery_period()\n",
    "print(f\"Average recovery period: {recovery_period} [days]\")"
   ],
   "outputs": [],
   "metadata": {}
  },
  {
   "cell_type": "markdown",
   "source": [
    "What we currently do is to calculate the difference between confirmed cases and fatal cases and try to match it to some recovered cases value in the future. We apply this method for every country that has valid recovery data and average the partial recovery periods in order to obtain a single (average) recovery period. During the calculations, we ignore time intervals that lead to very short (<7 days) or very long (>90 days) partial recovery periods, if these exist with high frequency (>50%) in the records. We have to assume temporarily invariable compartments for this analysis to extract an approximation of the average recovery period.\n",
    "\n",
    "Alternatively, we had tried to use linelist of case reports to get precise value of recovery period (average of recovery date minus confirmation date for cases), but the number of records was too small."
   ],
   "metadata": {}
  },
  {
   "cell_type": "markdown",
   "source": [
    "### Visualize the number of cases at a timepoint\n",
    "\n",
    "We can visualize the number of cases with `JHUData.map()` method. When country is None, global map will be shown."
   ],
   "metadata": {}
  },
  {
   "cell_type": "markdown",
   "source": [
    "Global map with country level data:"
   ],
   "metadata": {}
  },
  {
   "cell_type": "code",
   "execution_count": null,
   "source": [
    "# Global map with country level data\n",
    "jhu_data.map(country=None, variable=\"Infected\")\n",
    "# To set included/exclude some countries\n",
    "# jhu_data.map(country=None, variable=\"Infected\", included=[\"Japan\"])\n",
    "# jhu_data.map(country=None, variable=\"Infected\", excluded=[\"Japan\"])\n",
    "# To change the date\n",
    "# jhu_data.map(country=None, variable=\"Infected\", date=\"01Oct2021\")"
   ],
   "outputs": [],
   "metadata": {}
  },
  {
   "cell_type": "markdown",
   "source": [
    "Values can be retrieved with `.layer()` method."
   ],
   "metadata": {}
  },
  {
   "cell_type": "code",
   "execution_count": null,
   "source": [
    "jhu_data.layer(country=None).tail()"
   ],
   "outputs": [],
   "metadata": {}
  },
  {
   "cell_type": "markdown",
   "source": [
    "Country map with province level data:"
   ],
   "metadata": {}
  },
  {
   "cell_type": "code",
   "execution_count": null,
   "source": [
    "# Country map with province level data\n",
    "jhu_data.map(country=\"Japan\", variable=\"Infected\")\n",
    "# To set included/exclude some countries\n",
    "# jhu_data.map(country=\"Japan\", variable=\"Infected\", included=[\"Tokyo\"])\n",
    "# jhu_data.map(country=\"Japan\", variable=\"Infected\", excluded=[\"Tokyo\"])\n",
    "# To change the date\n",
    "# jhu_data.map(country=\"Japan\", variable=\"Infected\", date=\"01Oct2021\")"
   ],
   "outputs": [],
   "metadata": {}
  },
  {
   "cell_type": "markdown",
   "source": [
    "Values are here."
   ],
   "metadata": {}
  },
  {
   "cell_type": "code",
   "execution_count": null,
   "source": [
    "jhu_data.layer(country=\"Japan\").tail()"
   ],
   "outputs": [],
   "metadata": {}
  },
  {
   "cell_type": "markdown",
   "source": [
    "Note for Japan:  \n",
    "Province \"Entering\" means the number of cases who were confirmed when entering Japan."
   ],
   "metadata": {}
  },
  {
   "cell_type": "markdown",
   "source": [
    "## Population values\n",
    "\n",
    "Population values are necessary to calculate the number of susceptible people. Susceptible is a variable of SIR-derived models. `PopulationData` class will be created with `DataLoader.population()` method."
   ],
   "metadata": {}
  },
  {
   "cell_type": "code",
   "execution_count": null,
   "source": [
    "population_data = loader.population()"
   ],
   "outputs": [],
   "metadata": {}
  },
  {
   "cell_type": "code",
   "execution_count": null,
   "source": [
    "type(population_data)"
   ],
   "outputs": [],
   "metadata": {}
  },
  {
   "cell_type": "markdown",
   "source": [
    "Description is here. This is the same as `JHUData`. Raw data is also the same."
   ],
   "metadata": {}
  },
  {
   "cell_type": "code",
   "execution_count": null,
   "source": [
    "# Description\n",
    "print(population_data.citation)\n",
    "# Raw\n",
    "# population_data.raw.tail()"
   ],
   "outputs": [],
   "metadata": {}
  },
  {
   "cell_type": "markdown",
   "source": [
    "The cleaned dataset is here."
   ],
   "metadata": {}
  },
  {
   "cell_type": "code",
   "execution_count": null,
   "source": [
    "population_data.cleaned().tail()"
   ],
   "outputs": [],
   "metadata": {}
  },
  {
   "cell_type": "markdown",
   "source": [
    "### Show population\n",
    "\n",
    "We will get the population values with `PopulationData.value()`."
   ],
   "metadata": {}
  },
  {
   "cell_type": "code",
   "execution_count": null,
   "source": [
    "# In a country\n",
    "population_data.value(\"Japan\", province=None)\n",
    "# In a country with ISO3 code\n",
    "# population_data.value(\"JPN\", province=None)\n",
    "# In a province (prefecture)\n",
    "# population_data.value(\"Japan\", province=\"Tokyo\")"
   ],
   "outputs": [],
   "metadata": {}
  },
  {
   "cell_type": "markdown",
   "source": [
    "### Update population\n",
    "\n",
    "We can update the population values."
   ],
   "metadata": {}
  },
  {
   "cell_type": "code",
   "execution_count": null,
   "source": [
    "# Before\n",
    "population_before = population_data.value(\"Japan\", province=\"Tokyo\")\n",
    "print(f\"Before: {population_before}\")\n",
    "# Register population value of Tokyo in Japan\n",
    "# https://www.metro.tokyo.lg.jp/tosei/hodohappyo/press/2020/06/11/07.html\n",
    "population_data.update(14_002_973, \"Japan\", province=\"Tokyo\")\n",
    "population_after = population_data.value(\"Japan\", province=\"Tokyo\")\n",
    "print(f\" After: {population_after}\")"
   ],
   "outputs": [],
   "metadata": {}
  },
  {
   "cell_type": "markdown",
   "source": [
    "### Visualize population\n",
    "\n",
    "We can visualize population values with `.map()` method. When country is None, global map will be shown. Arguments are the same as `JHUData.map()`, but variable name cannot be specified."
   ],
   "metadata": {}
  },
  {
   "cell_type": "markdown",
   "source": [
    "Country level data:"
   ],
   "metadata": {}
  },
  {
   "cell_type": "code",
   "execution_count": null,
   "source": [
    "population_data.map(country=None)"
   ],
   "outputs": [],
   "metadata": {}
  },
  {
   "cell_type": "markdown",
   "source": [
    "Values are here."
   ],
   "metadata": {}
  },
  {
   "cell_type": "code",
   "execution_count": null,
   "source": [
    "population_data.layer(country=None).tail()"
   ],
   "outputs": [],
   "metadata": {}
  },
  {
   "cell_type": "markdown",
   "source": [
    "Province level data:"
   ],
   "metadata": {}
  },
  {
   "cell_type": "code",
   "execution_count": null,
   "source": [
    "population_data.map(country=\"Japan\")"
   ],
   "outputs": [],
   "metadata": {}
  },
  {
   "cell_type": "markdown",
   "source": [
    "Values are here."
   ],
   "metadata": {}
  },
  {
   "cell_type": "code",
   "execution_count": null,
   "source": [
    "population_data.layer(country=\"Japan\").tail()"
   ],
   "outputs": [],
   "metadata": {}
  },
  {
   "cell_type": "markdown",
   "source": [
    "## OxCGRT indicators\n",
    "\n",
    "Government responses are tracked with [Oxford Covid-19 Government Response Tracker (OxCGRT)](https://github.com/OxCGRT/covid-policy-tracker). Because government responses and activities of persons change the parameter values of SIR-derived models, this dataset is significant when we try to forcast the number of cases. `OxCGRTData` class will be created with `DataLoader.oxcgrt()` method."
   ],
   "metadata": {}
  },
  {
   "cell_type": "code",
   "execution_count": null,
   "source": [
    "oxcgrt_data = loader.oxcgrt()"
   ],
   "outputs": [],
   "metadata": {}
  },
  {
   "cell_type": "code",
   "execution_count": null,
   "source": [
    "type(oxcgrt_data)"
   ],
   "outputs": [],
   "metadata": {}
  },
  {
   "cell_type": "markdown",
   "source": [
    "Because records will be retrieved via \"COVID-19 Data Hub\" as well as `JHUData`, data description and raw data is the same."
   ],
   "metadata": {}
  },
  {
   "cell_type": "code",
   "execution_count": null,
   "source": [
    "# Description\n",
    "print(oxcgrt_data.citation)\n",
    "# Raw\n",
    "# oxcgrt_data.raw.tail()"
   ],
   "outputs": [],
   "metadata": {}
  },
  {
   "cell_type": "markdown",
   "source": [
    "The cleaned dataset is here."
   ],
   "metadata": {}
  },
  {
   "cell_type": "code",
   "execution_count": null,
   "source": [
    "oxcgrt_data.cleaned().tail()"
   ],
   "outputs": [],
   "metadata": {}
  },
  {
   "cell_type": "markdown",
   "source": [
    "### Subset for area\n",
    "\n",
    "`PopulationData.subset()` creates a subset for a specific area. We can select only country name. Note that province level data is not registered in `OxCGRTData`."
   ],
   "metadata": {}
  },
  {
   "cell_type": "markdown",
   "source": [
    "Subset for a country:   \n",
    "We can use both of country names and ISO3 codes."
   ],
   "metadata": {}
  },
  {
   "cell_type": "code",
   "execution_count": null,
   "source": [
    "oxcgrt_data.subset(\"Japan\").tail()\n",
    "# Or, with ISO3 code\n",
    "# oxcgrt_data.subset(\"JPN\").tail()"
   ],
   "outputs": [],
   "metadata": {}
  },
  {
   "cell_type": "markdown",
   "source": [
    "### Visualize indicator values\n",
    "\n",
    "We can visualize indicator values with `.map()` method. Arguments are the same as `JHUData.map()`, but country name cannot be specified."
   ],
   "metadata": {}
  },
  {
   "cell_type": "code",
   "execution_count": null,
   "source": [
    "oxcgrt_data.map(variable=\"Stringency_index\")"
   ],
   "outputs": [],
   "metadata": {}
  },
  {
   "cell_type": "markdown",
   "source": [
    "Values are here."
   ],
   "metadata": {}
  },
  {
   "cell_type": "code",
   "execution_count": null,
   "source": [
    "oxcgrt_data.layer().tail()"
   ],
   "outputs": [],
   "metadata": {}
  },
  {
   "cell_type": "markdown",
   "source": [
    "## The number of tests\n",
    "\n",
    "The number of tests is also key information to understand the situation. `PCRData` class will be created with `DataLoader.pcr()` method."
   ],
   "metadata": {}
  },
  {
   "cell_type": "code",
   "execution_count": null,
   "source": [
    "pcr_data = loader.pcr()"
   ],
   "outputs": [],
   "metadata": {}
  },
  {
   "cell_type": "code",
   "execution_count": null,
   "source": [
    "type(pcr_data)"
   ],
   "outputs": [],
   "metadata": {}
  },
  {
   "cell_type": "markdown",
   "source": [
    "Because records will be retrieved via \"COVID-19 Data Hub\" as well as `JHUData`, data description and raw data is the same."
   ],
   "metadata": {}
  },
  {
   "cell_type": "code",
   "execution_count": null,
   "source": [
    "# Description\n",
    "print(pcr_data.citation)\n",
    "# Raw\n",
    "# pcr_data.raw.tail()"
   ],
   "outputs": [],
   "metadata": {}
  },
  {
   "cell_type": "markdown",
   "source": [
    "The cleaned dataset is here."
   ],
   "metadata": {}
  },
  {
   "cell_type": "code",
   "execution_count": null,
   "source": [
    "pcr_data.cleaned().tail()"
   ],
   "outputs": [],
   "metadata": {}
  },
  {
   "cell_type": "markdown",
   "source": [
    "### Subset for area\n",
    "\n",
    "`PCRData.subset()` creates a subset for a specific area. We can select country name and province name. "
   ],
   "metadata": {}
  },
  {
   "cell_type": "markdown",
   "source": [
    "Subset for a country:   \n",
    "We can use both of country names and ISO3 codes."
   ],
   "metadata": {}
  },
  {
   "cell_type": "code",
   "execution_count": null,
   "source": [
    "pcr_data.subset(\"Japan\").tail()\n",
    "# Or, with ISO3 code\n",
    "# pcr_data.subset(\"JPN\").tail()"
   ],
   "outputs": [],
   "metadata": {}
  },
  {
   "cell_type": "markdown",
   "source": [
    "### Positive rate\n",
    "\n",
    "Under the assumption that all tests were PCR test, we can calculate the positive rate of PCR tests as \"the number of confirmed cases per the number of tests\" with `PCRData.positive_rate()` method."
   ],
   "metadata": {}
  },
  {
   "cell_type": "code",
   "execution_count": null,
   "source": [
    "pcr_data.positive_rate(\"Japan\").tail()"
   ],
   "outputs": [],
   "metadata": {}
  },
  {
   "cell_type": "markdown",
   "source": [
    "### Visualize the number of tests\n",
    "\n",
    "We can visualize the number of tests with `.map()` method. When country is None, global map will be shown. Arguments are the same as `JHUData`, but variable name cannot be specified."
   ],
   "metadata": {}
  },
  {
   "cell_type": "markdown",
   "source": [
    "Country level data:"
   ],
   "metadata": {}
  },
  {
   "cell_type": "code",
   "execution_count": null,
   "source": [
    "pcr_data.map(country=None)"
   ],
   "outputs": [],
   "metadata": {}
  },
  {
   "cell_type": "markdown",
   "source": [
    "Values are here."
   ],
   "metadata": {}
  },
  {
   "cell_type": "code",
   "execution_count": null,
   "source": [
    "pcr_data.layer(country=None).tail()"
   ],
   "outputs": [],
   "metadata": {}
  },
  {
   "cell_type": "markdown",
   "source": [
    "Province level data:"
   ],
   "metadata": {}
  },
  {
   "cell_type": "code",
   "execution_count": null,
   "source": [
    "pcr_data.map(country=\"Japan\")"
   ],
   "outputs": [],
   "metadata": {}
  },
  {
   "cell_type": "markdown",
   "source": [
    "Values are here."
   ],
   "metadata": {}
  },
  {
   "cell_type": "code",
   "execution_count": null,
   "source": [
    "pcr_data.layer(country=\"Japan\").tail()"
   ],
   "outputs": [],
   "metadata": {}
  },
  {
   "cell_type": "markdown",
   "source": [
    "## Vaccinations\n",
    "\n",
    "Vaccinations is a key factor to end the outbreak as soon as possible. `VaccineData` class will be created with `DataLoader.vaccine()` method."
   ],
   "metadata": {}
  },
  {
   "cell_type": "code",
   "execution_count": null,
   "source": [
    "vaccine_data = loader.vaccine()"
   ],
   "outputs": [],
   "metadata": {}
  },
  {
   "cell_type": "code",
   "execution_count": null,
   "source": [
    "type(vaccine_data)"
   ],
   "outputs": [],
   "metadata": {}
  },
  {
   "cell_type": "markdown",
   "source": [
    "Description is here."
   ],
   "metadata": {}
  },
  {
   "cell_type": "code",
   "execution_count": null,
   "source": [
    "print(vaccine_data.citation)"
   ],
   "outputs": [],
   "metadata": {}
  },
  {
   "cell_type": "markdown",
   "source": [
    "Raw data is here."
   ],
   "metadata": {}
  },
  {
   "cell_type": "code",
   "execution_count": null,
   "source": [
    "vaccine_data.raw.tail()"
   ],
   "outputs": [],
   "metadata": {}
  },
  {
   "cell_type": "markdown",
   "source": [
    "The next is the cleaned dataset."
   ],
   "metadata": {}
  },
  {
   "cell_type": "code",
   "execution_count": null,
   "source": [
    "vaccine_data.cleaned().tail()"
   ],
   "outputs": [],
   "metadata": {}
  },
  {
   "cell_type": "markdown",
   "source": [
    "### Note for variables\n",
    "\n",
    "Definition of variables are as follows.\n",
    "\n",
    "- Vaccinations: cumulative number of vaccinations\n",
    "- Vaccinated_once: cumulative number of people who received at least one vaccine dose\n",
    "- Vaccinated_full: cumulative number of people who received all doses prescrived by the protocol"
   ],
   "metadata": {}
  },
  {
   "cell_type": "markdown",
   "source": [
    "Registered countries can be checked with `VaccineData.countries()` method."
   ],
   "metadata": {}
  },
  {
   "cell_type": "code",
   "execution_count": null,
   "source": [
    "pprint(vaccine_data.countries(), compact=True)"
   ],
   "outputs": [],
   "metadata": {}
  },
  {
   "cell_type": "markdown",
   "source": [
    "### Subset for area\n",
    "\n",
    "`VaccineData.subset()` creates a subset for a specific area. We can select only country name. Note that province level data is not registered."
   ],
   "metadata": {}
  },
  {
   "cell_type": "markdown",
   "source": [
    "Subset for a country:   \n",
    "We can use both of country names and ISO3 codes."
   ],
   "metadata": {}
  },
  {
   "cell_type": "code",
   "execution_count": null,
   "source": [
    "vaccine_data.subset(\"Japan\").tail()\n",
    "# Or, with ISO3 code\n",
    "# vaccine_data.subset(\"JPN\").tail()"
   ],
   "outputs": [],
   "metadata": {}
  },
  {
   "cell_type": "markdown",
   "source": [
    "### Visualize the number of vaccinations\n",
    "\n",
    "We can visualize the number of vaccinations and the other variables with `.map()` method. Arguments are the same as `JHUData`, but country name cannot be specified."
   ],
   "metadata": {}
  },
  {
   "cell_type": "code",
   "execution_count": null,
   "source": [
    "vaccine_data.map()"
   ],
   "outputs": [],
   "metadata": {}
  },
  {
   "cell_type": "markdown",
   "source": [
    "Values are here."
   ],
   "metadata": {}
  },
  {
   "cell_type": "code",
   "execution_count": null,
   "source": [
    "vaccine_data.layer().tail()"
   ],
   "outputs": [],
   "metadata": {}
  },
  {
   "cell_type": "markdown",
   "source": [
    "## Mobility\n",
    "\n",
    "Levels of mobility is a key factor of $\\rho$ (effective contact rate) of SIR-derived ODE models. `MobilityData` class will be created with `DataLoader.mobility()` method."
   ],
   "metadata": {}
  },
  {
   "cell_type": "code",
   "execution_count": null,
   "source": [
    "# mobility_data = loader.mobility()"
   ],
   "outputs": [],
   "metadata": {}
  },
  {
   "cell_type": "code",
   "execution_count": null,
   "source": [
    "# type(mobility_data)"
   ],
   "outputs": [],
   "metadata": {}
  },
  {
   "cell_type": "markdown",
   "source": [
    "Description is here."
   ],
   "metadata": {}
  },
  {
   "cell_type": "code",
   "execution_count": null,
   "source": [
    "# print(mobility_data.citation)"
   ],
   "outputs": [],
   "metadata": {}
  },
  {
   "cell_type": "markdown",
   "source": [
    "Raw data is here."
   ],
   "metadata": {}
  },
  {
   "cell_type": "code",
   "execution_count": null,
   "source": [
    "# mobility_data.raw.tail()"
   ],
   "outputs": [],
   "metadata": {}
  },
  {
   "cell_type": "markdown",
   "source": [
    "The next is the cleaned dataset."
   ],
   "metadata": {}
  },
  {
   "cell_type": "code",
   "execution_count": null,
   "source": [
    "# mobility_data.cleaned().tail()"
   ],
   "outputs": [],
   "metadata": {}
  },
  {
   "cell_type": "markdown",
   "source": [
    "### Note for variables\n",
    "\n",
    "Definition of variables are as follows.\n",
    "\n",
    "- Mobility_grocery_and_pharmacy (int): % to baseline in visits (grocery markets, pharmacies etc.)\n",
    "- Mobility_parks (int): % to baseline in visits (parks etc.)\n",
    "- Mobility_transit_stations (int): % to baseline in visits (public transport hubs etc.)\n",
    "- Mobility_retail_and_recreation (int): % to baseline in visits (restaurant, museums etc.)\n",
    "- Mobility_residential (int): % to baseline in visits (places of residence)\n",
    "- Mobility_workplaces (int): % to baseline in visits (places of work)"
   ],
   "metadata": {}
  },
  {
   "cell_type": "markdown",
   "source": [
    "Registered countries can be checked with `MobilityData.countries()` method."
   ],
   "metadata": {}
  },
  {
   "cell_type": "code",
   "execution_count": null,
   "source": [
    "# pprint(mobility_data.countries(), compact=True)"
   ],
   "outputs": [],
   "metadata": {}
  },
  {
   "cell_type": "markdown",
   "source": [
    "### Subset for area\n",
    "\n",
    "`MobilityData.subset()` creates a subset for a specific area (country/province).\n",
    "\n",
    "Subset for a country:\n",
    "We can use both of country names and ISO3 codes."
   ],
   "metadata": {}
  },
  {
   "cell_type": "code",
   "execution_count": null,
   "source": [
    "# mobility_data.subset(\"Japan\").tail()\n",
    "# Or, with ISO3 code\n",
    "# mobility_data.subset(\"JPN\").tail()"
   ],
   "outputs": [],
   "metadata": {}
  },
  {
   "cell_type": "markdown",
   "source": [
    "### Visualize mobility data\n",
    "\n",
    "We can visualize the levels of mobility with `MobilityData.map()` method. Arguments are the same as `JHUData`."
   ],
   "metadata": {}
  },
  {
   "cell_type": "code",
   "execution_count": null,
   "source": [
    "# mobility_ata.map()"
   ],
   "outputs": [],
   "metadata": {}
  },
  {
   "cell_type": "markdown",
   "source": [
    "Values are here."
   ],
   "metadata": {}
  },
  {
   "cell_type": "code",
   "execution_count": null,
   "source": [
    "# mobility_data.layer().tail()\n"
   ],
   "outputs": [],
   "metadata": {}
  },
  {
   "cell_type": "markdown",
   "source": [
    "## Population pyramid\n",
    "\n",
    "With population pyramid, we can divide the population to sub-groups. This will be useful when we analyse the meaning of parameters. For example, how many days go out is different between the sub-groups. `PyramidData` class will be created with `DataLoader.pyramid()` method."
   ],
   "metadata": {}
  },
  {
   "cell_type": "code",
   "execution_count": null,
   "source": [
    "pyramid_data = loader.pyramid()"
   ],
   "outputs": [],
   "metadata": {}
  },
  {
   "cell_type": "code",
   "execution_count": null,
   "source": [
    "type(pyramid_data)"
   ],
   "outputs": [],
   "metadata": {}
  },
  {
   "cell_type": "markdown",
   "source": [
    "Description is here."
   ],
   "metadata": {}
  },
  {
   "cell_type": "code",
   "execution_count": null,
   "source": [
    "print(pyramid_data.citation)"
   ],
   "outputs": [],
   "metadata": {}
  },
  {
   "cell_type": "markdown",
   "source": [
    "Raw dataset is not registered. Subset will be retrieved when `PyramidData.subset()` was called."
   ],
   "metadata": {}
  },
  {
   "cell_type": "code",
   "execution_count": null,
   "source": [
    "pyramid_data.subset(\"Japan\").tail()"
   ],
   "outputs": [],
   "metadata": {}
  },
  {
   "cell_type": "markdown",
   "source": [
    "\"Per_total\" is the proportion of the age group in the total population."
   ],
   "metadata": {}
  },
  {
   "cell_type": "markdown",
   "source": [
    "## Japan-specific dataset\n",
    "\n",
    "This includes the number of confirmed/infected/fatal/recovered/tests/moderate/severe cases at country/prefecture level and metadata of each prefecture (province). `JapanData` class will be created with `DataLoader.japan()` method."
   ],
   "metadata": {}
  },
  {
   "cell_type": "code",
   "execution_count": null,
   "source": [
    "japan_data = loader.japan()"
   ],
   "outputs": [],
   "metadata": {}
  },
  {
   "cell_type": "code",
   "execution_count": null,
   "source": [
    "type(japan_data)"
   ],
   "outputs": [],
   "metadata": {}
  },
  {
   "cell_type": "markdown",
   "source": [
    "Description is here."
   ],
   "metadata": {}
  },
  {
   "cell_type": "code",
   "execution_count": null,
   "source": [
    "print(japan_data.citation)"
   ],
   "outputs": [],
   "metadata": {}
  },
  {
   "cell_type": "markdown",
   "source": [
    "The next is the cleaned dataset."
   ],
   "metadata": {}
  },
  {
   "cell_type": "code",
   "execution_count": null,
   "source": [
    "japan_data.cleaned().tail()"
   ],
   "outputs": [],
   "metadata": {}
  },
  {
   "cell_type": "markdown",
   "source": [
    "### Visualize values\n",
    "\n",
    "We can visualize the values with `.map()` method. Arguments are the same as `JHUData`."
   ],
   "metadata": {}
  },
  {
   "cell_type": "code",
   "execution_count": null,
   "source": [
    "japan_data.map(variable=\"Severe\")"
   ],
   "outputs": [],
   "metadata": {}
  },
  {
   "cell_type": "markdown",
   "source": [
    "Values are here."
   ],
   "metadata": {}
  },
  {
   "cell_type": "code",
   "execution_count": null,
   "source": [
    "japan_data.layer(country=\"Japan\").tail()"
   ],
   "outputs": [],
   "metadata": {}
  },
  {
   "cell_type": "markdown",
   "source": [
    "Map with country level data is not prepared, but country level data can be retrieved."
   ],
   "metadata": {}
  },
  {
   "cell_type": "code",
   "execution_count": null,
   "source": [
    "japan_data.layer(country=None).tail()"
   ],
   "outputs": [],
   "metadata": {}
  },
  {
   "cell_type": "markdown",
   "source": [
    "### Metadata\n",
    "\n",
    "Additionally, `JapanData.meta()` retrieves meta data for Japan prefectures."
   ],
   "metadata": {}
  },
  {
   "cell_type": "code",
   "execution_count": null,
   "source": [
    "japan_data.meta().tail()"
   ],
   "outputs": [],
   "metadata": {}
  }
 ],
 "metadata": {
  "kernelspec": {
   "display_name": "Python 3.9.1 64-bit ('.venv')",
   "metadata": {
    "interpreter": {
     "hash": "aa53c8c6e6798222a2084c11cc25017700a8d3ad495b587e3a634f357767115f"
    }
   },
   "name": "python3"
  },
  "language_info": {
   "codemirror_mode": {
    "name": "ipython",
    "version": 3
   },
   "file_extension": ".py",
   "mimetype": "text/x-python",
   "name": "python",
   "nbconvert_exporter": "python",
   "pygments_lexer": "ipython3",
   "version": "3.9.1-final"
  },
  "orig_nbformat": 2
 },
 "nbformat": 4,
 "nbformat_minor": 2
}