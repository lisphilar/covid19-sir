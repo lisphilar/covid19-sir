{
  "cells": [
    {
      "cell_type": "markdown",
      "metadata": {
        "colab_type": "text",
        "id": "view-in-github"
      },
      "source": [
        "<a href=\"https://colab.research.google.com/github/lisphilar/covid19-sir/blob/master/example/02_data_engineering.ipynb\" target=\"_parent\"><img src=\"https://colab.research.google.com/assets/colab-badge.svg\" alt=\"Open In Colab\"/></a>"
      ]
    },
    {
      "cell_type": "markdown",
      "metadata": {
        "id": "kUpbQk_WOhdK"
      },
      "source": [
        "# Data engineering\n",
        "With [Data preparation tutorial](https://github.com/lisphilar/covid19-sir/blob/master/example/01_data_preparation.ipynb), we prepared datasets (geospatial time-series data) to analyze.  As the next step of data engineering, we will perform the followings here.\n",
        "\n",
        "1. Data cleaning\n",
        "2. Data transformation\n",
        "3. Arithmetic operations\n",
        "4. EDA at a geospatial layer\n",
        "5. Data subsetting for a location and data complement\n",
        "6. EDA of subset\n",
        "\n",
        "Note that EDA = explanatory data analysis"
      ]
    },
    {
      "cell_type": "code",
      "execution_count": 79,
      "metadata": {
        "colab": {
          "base_uri": "https://localhost:8080/",
          "height": 35
        },
        "id": "j1uZf_TbOHX_",
        "outputId": "4e9a54a0-cbea-41a6-b1dc-771f01bc02c9"
      },
      "outputs": [
        {
          "data": {
            "application/vnd.google.colaboratory.intrinsic+json": {
              "type": "string"
            },
            "text/plain": [
              "'2.24.0-xi'"
            ]
          },
          "execution_count": 79,
          "metadata": {},
          "output_type": "execute_result"
        }
      ],
      "source": [
        "from pprint import pprint\n",
        "try:\n",
        "    import covsirphy as cs\n",
        "except ImportError:\n",
        "    !pip install --upgrade \"git+https://github.com/lisphilar/covid19-sir.git#egg=covsirphy\" -qq\n",
        "    import covsirphy as cs\n",
        "import numpy as np\n",
        "cs.__version__"
      ]
    },
    {
      "cell_type": "markdown",
      "metadata": {
        "id": "3WbDfMogRp_v"
      },
      "source": [
        "We will use the recommended datasets at country-level data as an example."
      ]
    },
    {
      "cell_type": "code",
      "execution_count": 80,
      "metadata": {
        "colab": {
          "base_uri": "https://localhost:8080/"
        },
        "id": "wiAS8CkKRdCM",
        "outputId": "fd2118e3-c95b-4d83-e5a7-fb8e33fdcd3f"
      },
      "outputs": [
        {
          "name": "stdout",
          "output_type": "stream",
          "text": [
            "<class 'pandas.core.frame.DataFrame'>\n",
            "RangeIndex: 208779 entries, 0 to 208778\n",
            "Data columns (total 36 columns):\n",
            " #   Column                               Non-Null Count   Dtype         \n",
            "---  ------                               --------------   -----         \n",
            " 0   ISO3                                 208779 non-null  category      \n",
            " 1   Province                             208779 non-null  category      \n",
            " 2   City                                 208779 non-null  category      \n",
            " 3   Date                                 208779 non-null  datetime64[ns]\n",
            " 4   Cancel_events                        165469 non-null  object        \n",
            " 5   Confirmed                            189232 non-null  object        \n",
            " 6   Contact_tracing                      165402 non-null  object        \n",
            " 7   Country                              206130 non-null  string        \n",
            " 8   Fatal                                172850 non-null  object        \n",
            " 9   Gatherings_restrictions              165465 non-null  object        \n",
            " 10  Information_campaigns                165474 non-null  object        \n",
            " 11  Internal_movement_restrictions       165461 non-null  object        \n",
            " 12  International_movement_restrictions  165496 non-null  object        \n",
            " 13  Mobility_grocery_and_pharmacy        111554 non-null  object        \n",
            " 14  Mobility_parks                       111482 non-null  object        \n",
            " 15  Mobility_residential                 111231 non-null  object        \n",
            " 16  Mobility_retail_and_recreation       111623 non-null  object        \n",
            " 17  Mobility_transit_stations            112504 non-null  object        \n",
            " 18  Mobility_workplaces                  112946 non-null  object        \n",
            " 19  Population                           205214 non-null  object        \n",
            " 20  Product                              107216 non-null  string        \n",
            " 21  Recovered                            71110 non-null   object        \n",
            " 22  School_closing                       165508 non-null  object        \n",
            " 23  Stay_home_restrictions               165472 non-null  object        \n",
            " 24  Stringency_index                     165391 non-null  object        \n",
            " 25  Testing_policy                       165465 non-null  object        \n",
            " 26  Tests                                84594 non-null   object        \n",
            " 27  Transport_closing                    165475 non-null  object        \n",
            " 28  Vaccinated_1st                       894 non-null     object        \n",
            " 29  Vaccinated_2nd                       894 non-null     object        \n",
            " 30  Vaccinated_3rd                       894 non-null     object        \n",
            " 31  Vaccinated_full                      44842 non-null   object        \n",
            " 32  Vaccinated_once                      47160 non-null   object        \n",
            " 33  Vaccinations                         49743 non-null   object        \n",
            " 34  Vaccinations_boosters                23008 non-null   object        \n",
            " 35  Workplace_closing                    165510 non-null  object        \n",
            "dtypes: category(3), datetime64[ns](1), object(30), string(2)\n",
            "memory usage: 53.4+ MB\n"
          ]
        }
      ],
      "source": [
        "eng = cs.DataEngineer()\n",
        "eng.download()\n",
        "eng.all().info()"
      ]
    },
    {
      "cell_type": "markdown",
      "metadata": {
        "id": "ipoi8IyqQcry"
      },
      "source": [
        "## 1. Data cleaning\n",
        "`DataEngineer().clean()` performs the following data cleaning functionalities. By applying a list of strings to `kinds` argument (eg. `kinds=[\"resample\"]`), we can specify the cleaning method(s).\n",
        "\n",
        "\n",
        "- \"convert_date\": Convert dtype of date column to pandas.Timestamp.\n",
        "- \"resample\": Resample records with dates.\n",
        "- \"fillna\": Fill NA values with '-' (layers) and the previous values and 0."
      ]
    },
    {
      "cell_type": "code",
      "execution_count": 81,
      "metadata": {
        "colab": {
          "base_uri": "https://localhost:8080/"
        },
        "id": "ijYm41OwTPrM",
        "outputId": "796ca014-9d6c-4c92-b559-ce64659aa6fa"
      },
      "outputs": [
        {
          "name": "stdout",
          "output_type": "stream",
          "text": [
            "<class 'pandas.core.frame.DataFrame'>\n",
            "RangeIndex: 208844 entries, 0 to 208843\n",
            "Data columns (total 36 columns):\n",
            " #   Column                               Non-Null Count   Dtype         \n",
            "---  ------                               --------------   -----         \n",
            " 0   ISO3                                 208844 non-null  category      \n",
            " 1   Province                             208844 non-null  category      \n",
            " 2   City                                 208844 non-null  category      \n",
            " 3   Date                                 208844 non-null  datetime64[ns]\n",
            " 4   Cancel_events                        208844 non-null  Int64         \n",
            " 5   Confirmed                            208844 non-null  Int64         \n",
            " 6   Contact_tracing                      208844 non-null  Int64         \n",
            " 7   Country                              208844 non-null  object        \n",
            " 8   Fatal                                208844 non-null  Int64         \n",
            " 9   Gatherings_restrictions              208844 non-null  Int64         \n",
            " 10  Information_campaigns                208844 non-null  Int64         \n",
            " 11  Internal_movement_restrictions       208844 non-null  Int64         \n",
            " 12  International_movement_restrictions  208844 non-null  Int64         \n",
            " 13  Mobility_grocery_and_pharmacy        208844 non-null  Int64         \n",
            " 14  Mobility_parks                       208844 non-null  Int64         \n",
            " 15  Mobility_residential                 208844 non-null  Int64         \n",
            " 16  Mobility_retail_and_recreation       208844 non-null  Int64         \n",
            " 17  Mobility_transit_stations            208844 non-null  Int64         \n",
            " 18  Mobility_workplaces                  208844 non-null  Int64         \n",
            " 19  Population                           208844 non-null  Int64         \n",
            " 20  Product                              208844 non-null  object        \n",
            " 21  Recovered                            208844 non-null  Int64         \n",
            " 22  School_closing                       208844 non-null  Int64         \n",
            " 23  Stay_home_restrictions               208844 non-null  Int64         \n",
            " 24  Stringency_index                     208844 non-null  Float64       \n",
            " 25  Testing_policy                       208844 non-null  Int64         \n",
            " 26  Tests                                208844 non-null  Int64         \n",
            " 27  Transport_closing                    208844 non-null  Int64         \n",
            " 28  Vaccinated_1st                       208844 non-null  Int64         \n",
            " 29  Vaccinated_2nd                       208844 non-null  Int64         \n",
            " 30  Vaccinated_3rd                       208844 non-null  Int64         \n",
            " 31  Vaccinated_full                      208844 non-null  Int64         \n",
            " 32  Vaccinated_once                      208844 non-null  Int64         \n",
            " 33  Vaccinations                         208844 non-null  Int64         \n",
            " 34  Vaccinations_boosters                208844 non-null  Int64         \n",
            " 35  Workplace_closing                    208844 non-null  Int64         \n",
            "dtypes: Float64(1), Int64(29), category(3), datetime64[ns](1), object(2)\n",
            "memory usage: 59.4+ MB\n"
          ]
        }
      ],
      "source": [
        "eng.clean()\n",
        "eng.all().info()"
      ]
    },
    {
      "cell_type": "markdown",
      "metadata": {
        "id": "AZHepK1WQhAP"
      },
      "source": [
        "## 2. Data transformation\n",
        "Transform all registered data, calculating the number of susceptible and infected cases. This is required to analyze real data with SIR-derived models.\n",
        "\n",
        "- Susceptible = Population - Confirmed\n",
        "- Infected = Confirmed - Fatal - Recovered"
      ]
    },
    {
      "cell_type": "code",
      "execution_count": 82,
      "metadata": {
        "id": "Ah3PPRmkUTPm"
      },
      "outputs": [],
      "source": [
        "main_variables = [\"Population\", \"Susceptible\", \"Confirmed\", \"Infected\", \"Fatal\", \"Recovered\"]"
      ]
    },
    {
      "cell_type": "code",
      "execution_count": 83,
      "metadata": {
        "colab": {
          "base_uri": "https://localhost:8080/",
          "height": 206
        },
        "id": "mQljdcP3TxNz",
        "outputId": "d6280829-1b3d-4564-cfc9-a290ce3fcb01"
      },
      "outputs": [
        {
          "data": {
            "text/html": [
              "\n",
              "  <div id=\"df-01d14d4d-e077-4641-a29a-48f48fc9e6cb\">\n",
              "    <div class=\"colab-df-container\">\n",
              "      <div>\n",
              "<style scoped>\n",
              "    .dataframe tbody tr th:only-of-type {\n",
              "        vertical-align: middle;\n",
              "    }\n",
              "\n",
              "    .dataframe tbody tr th {\n",
              "        vertical-align: top;\n",
              "    }\n",
              "\n",
              "    .dataframe thead th {\n",
              "        text-align: right;\n",
              "    }\n",
              "</style>\n",
              "<table border=\"1\" class=\"dataframe\">\n",
              "  <thead>\n",
              "    <tr style=\"text-align: right;\">\n",
              "      <th></th>\n",
              "      <th>ISO3</th>\n",
              "      <th>Province</th>\n",
              "      <th>City</th>\n",
              "      <th>Date</th>\n",
              "      <th>Population</th>\n",
              "      <th>Susceptible</th>\n",
              "      <th>Confirmed</th>\n",
              "      <th>Infected</th>\n",
              "      <th>Fatal</th>\n",
              "      <th>Recovered</th>\n",
              "    </tr>\n",
              "  </thead>\n",
              "  <tbody>\n",
              "    <tr>\n",
              "      <th>208839</th>\n",
              "      <td>ZWE</td>\n",
              "      <td>-</td>\n",
              "      <td>-</td>\n",
              "      <td>2022-07-22</td>\n",
              "      <td>14439018</td>\n",
              "      <td>14182801</td>\n",
              "      <td>256217</td>\n",
              "      <td>167653</td>\n",
              "      <td>5570</td>\n",
              "      <td>82994</td>\n",
              "    </tr>\n",
              "    <tr>\n",
              "      <th>208840</th>\n",
              "      <td>ZWE</td>\n",
              "      <td>-</td>\n",
              "      <td>-</td>\n",
              "      <td>2022-07-23</td>\n",
              "      <td>14439018</td>\n",
              "      <td>14182772</td>\n",
              "      <td>256246</td>\n",
              "      <td>167680</td>\n",
              "      <td>5572</td>\n",
              "      <td>82994</td>\n",
              "    </tr>\n",
              "    <tr>\n",
              "      <th>208841</th>\n",
              "      <td>ZWE</td>\n",
              "      <td>-</td>\n",
              "      <td>-</td>\n",
              "      <td>2022-07-24</td>\n",
              "      <td>14439018</td>\n",
              "      <td>14182764</td>\n",
              "      <td>256254</td>\n",
              "      <td>167688</td>\n",
              "      <td>5572</td>\n",
              "      <td>82994</td>\n",
              "    </tr>\n",
              "    <tr>\n",
              "      <th>208842</th>\n",
              "      <td>ZWE</td>\n",
              "      <td>-</td>\n",
              "      <td>-</td>\n",
              "      <td>2022-07-25</td>\n",
              "      <td>14439018</td>\n",
              "      <td>14182748</td>\n",
              "      <td>256270</td>\n",
              "      <td>167704</td>\n",
              "      <td>5572</td>\n",
              "      <td>82994</td>\n",
              "    </tr>\n",
              "    <tr>\n",
              "      <th>208843</th>\n",
              "      <td>ZWE</td>\n",
              "      <td>-</td>\n",
              "      <td>-</td>\n",
              "      <td>2022-07-26</td>\n",
              "      <td>14439018</td>\n",
              "      <td>14182748</td>\n",
              "      <td>256270</td>\n",
              "      <td>167704</td>\n",
              "      <td>5572</td>\n",
              "      <td>82994</td>\n",
              "    </tr>\n",
              "  </tbody>\n",
              "</table>\n",
              "</div>\n",
              "      <button class=\"colab-df-convert\" onclick=\"convertToInteractive('df-01d14d4d-e077-4641-a29a-48f48fc9e6cb')\"\n",
              "              title=\"Convert this dataframe to an interactive table.\"\n",
              "              style=\"display:none;\">\n",
              "        \n",
              "  <svg xmlns=\"http://www.w3.org/2000/svg\" height=\"24px\"viewBox=\"0 0 24 24\"\n",
              "       width=\"24px\">\n",
              "    <path d=\"M0 0h24v24H0V0z\" fill=\"none\"/>\n",
              "    <path d=\"M18.56 5.44l.94 2.06.94-2.06 2.06-.94-2.06-.94-.94-2.06-.94 2.06-2.06.94zm-11 1L8.5 8.5l.94-2.06 2.06-.94-2.06-.94L8.5 2.5l-.94 2.06-2.06.94zm10 10l.94 2.06.94-2.06 2.06-.94-2.06-.94-.94-2.06-.94 2.06-2.06.94z\"/><path d=\"M17.41 7.96l-1.37-1.37c-.4-.4-.92-.59-1.43-.59-.52 0-1.04.2-1.43.59L10.3 9.45l-7.72 7.72c-.78.78-.78 2.05 0 2.83L4 21.41c.39.39.9.59 1.41.59.51 0 1.02-.2 1.41-.59l7.78-7.78 2.81-2.81c.8-.78.8-2.07 0-2.86zM5.41 20L4 18.59l7.72-7.72 1.47 1.35L5.41 20z\"/>\n",
              "  </svg>\n",
              "      </button>\n",
              "      \n",
              "  <style>\n",
              "    .colab-df-container {\n",
              "      display:flex;\n",
              "      flex-wrap:wrap;\n",
              "      gap: 12px;\n",
              "    }\n",
              "\n",
              "    .colab-df-convert {\n",
              "      background-color: #E8F0FE;\n",
              "      border: none;\n",
              "      border-radius: 50%;\n",
              "      cursor: pointer;\n",
              "      display: none;\n",
              "      fill: #1967D2;\n",
              "      height: 32px;\n",
              "      padding: 0 0 0 0;\n",
              "      width: 32px;\n",
              "    }\n",
              "\n",
              "    .colab-df-convert:hover {\n",
              "      background-color: #E2EBFA;\n",
              "      box-shadow: 0px 1px 2px rgba(60, 64, 67, 0.3), 0px 1px 3px 1px rgba(60, 64, 67, 0.15);\n",
              "      fill: #174EA6;\n",
              "    }\n",
              "\n",
              "    [theme=dark] .colab-df-convert {\n",
              "      background-color: #3B4455;\n",
              "      fill: #D2E3FC;\n",
              "    }\n",
              "\n",
              "    [theme=dark] .colab-df-convert:hover {\n",
              "      background-color: #434B5C;\n",
              "      box-shadow: 0px 1px 3px 1px rgba(0, 0, 0, 0.15);\n",
              "      filter: drop-shadow(0px 1px 2px rgba(0, 0, 0, 0.3));\n",
              "      fill: #FFFFFF;\n",
              "    }\n",
              "  </style>\n",
              "\n",
              "      <script>\n",
              "        const buttonEl =\n",
              "          document.querySelector('#df-01d14d4d-e077-4641-a29a-48f48fc9e6cb button.colab-df-convert');\n",
              "        buttonEl.style.display =\n",
              "          google.colab.kernel.accessAllowed ? 'block' : 'none';\n",
              "\n",
              "        async function convertToInteractive(key) {\n",
              "          const element = document.querySelector('#df-01d14d4d-e077-4641-a29a-48f48fc9e6cb');\n",
              "          const dataTable =\n",
              "            await google.colab.kernel.invokeFunction('convertToInteractive',\n",
              "                                                     [key], {});\n",
              "          if (!dataTable) return;\n",
              "\n",
              "          const docLinkHtml = 'Like what you see? Visit the ' +\n",
              "            '<a target=\"_blank\" href=https://colab.research.google.com/notebooks/data_table.ipynb>data table notebook</a>'\n",
              "            + ' to learn more about interactive tables.';\n",
              "          element.innerHTML = '';\n",
              "          dataTable['output_type'] = 'display_data';\n",
              "          await google.colab.output.renderOutput(dataTable, element);\n",
              "          const docLink = document.createElement('div');\n",
              "          docLink.innerHTML = docLinkHtml;\n",
              "          element.appendChild(docLink);\n",
              "        }\n",
              "      </script>\n",
              "    </div>\n",
              "  </div>\n",
              "  "
            ],
            "text/plain": [
              "       ISO3 Province City       Date  Population  Susceptible  Confirmed  \\\n",
              "208839  ZWE        -    - 2022-07-22    14439018     14182801     256217   \n",
              "208840  ZWE        -    - 2022-07-23    14439018     14182772     256246   \n",
              "208841  ZWE        -    - 2022-07-24    14439018     14182764     256254   \n",
              "208842  ZWE        -    - 2022-07-25    14439018     14182748     256270   \n",
              "208843  ZWE        -    - 2022-07-26    14439018     14182748     256270   \n",
              "\n",
              "        Infected  Fatal  Recovered  \n",
              "208839    167653   5570      82994  \n",
              "208840    167680   5572      82994  \n",
              "208841    167688   5572      82994  \n",
              "208842    167704   5572      82994  \n",
              "208843    167704   5572      82994  "
            ]
          },
          "execution_count": 83,
          "metadata": {},
          "output_type": "execute_result"
        }
      ],
      "source": [
        "eng.transform()\n",
        "eng.all(variables=main_variables).tail()"
      ]
    },
    {
      "cell_type": "markdown",
      "metadata": {
        "id": "M5K_aB8xUvtH"
      },
      "source": [
        "Recalculation of \"Population\" and \"Confirmed\" can be performed with `DataEngineer().inverse_transform()`, if necessary. (No impact with this example data.)"
      ]
    },
    {
      "cell_type": "code",
      "execution_count": 84,
      "metadata": {
        "colab": {
          "base_uri": "https://localhost:8080/",
          "height": 206
        },
        "id": "qYJoz5-tVKFh",
        "outputId": "2cc7cb0a-8827-4806-a20c-09df395aac41"
      },
      "outputs": [
        {
          "data": {
            "text/html": [
              "\n",
              "  <div id=\"df-a931366d-dc26-4cb4-a958-f3c31fb4e5b1\">\n",
              "    <div class=\"colab-df-container\">\n",
              "      <div>\n",
              "<style scoped>\n",
              "    .dataframe tbody tr th:only-of-type {\n",
              "        vertical-align: middle;\n",
              "    }\n",
              "\n",
              "    .dataframe tbody tr th {\n",
              "        vertical-align: top;\n",
              "    }\n",
              "\n",
              "    .dataframe thead th {\n",
              "        text-align: right;\n",
              "    }\n",
              "</style>\n",
              "<table border=\"1\" class=\"dataframe\">\n",
              "  <thead>\n",
              "    <tr style=\"text-align: right;\">\n",
              "      <th></th>\n",
              "      <th>ISO3</th>\n",
              "      <th>Province</th>\n",
              "      <th>City</th>\n",
              "      <th>Date</th>\n",
              "      <th>Population</th>\n",
              "      <th>Susceptible</th>\n",
              "      <th>Confirmed</th>\n",
              "      <th>Infected</th>\n",
              "      <th>Fatal</th>\n",
              "      <th>Recovered</th>\n",
              "    </tr>\n",
              "  </thead>\n",
              "  <tbody>\n",
              "    <tr>\n",
              "      <th>208839</th>\n",
              "      <td>ZWE</td>\n",
              "      <td>-</td>\n",
              "      <td>-</td>\n",
              "      <td>2022-07-22</td>\n",
              "      <td>14439018</td>\n",
              "      <td>14182801</td>\n",
              "      <td>256217</td>\n",
              "      <td>167653</td>\n",
              "      <td>5570</td>\n",
              "      <td>82994</td>\n",
              "    </tr>\n",
              "    <tr>\n",
              "      <th>208840</th>\n",
              "      <td>ZWE</td>\n",
              "      <td>-</td>\n",
              "      <td>-</td>\n",
              "      <td>2022-07-23</td>\n",
              "      <td>14439018</td>\n",
              "      <td>14182772</td>\n",
              "      <td>256246</td>\n",
              "      <td>167680</td>\n",
              "      <td>5572</td>\n",
              "      <td>82994</td>\n",
              "    </tr>\n",
              "    <tr>\n",
              "      <th>208841</th>\n",
              "      <td>ZWE</td>\n",
              "      <td>-</td>\n",
              "      <td>-</td>\n",
              "      <td>2022-07-24</td>\n",
              "      <td>14439018</td>\n",
              "      <td>14182764</td>\n",
              "      <td>256254</td>\n",
              "      <td>167688</td>\n",
              "      <td>5572</td>\n",
              "      <td>82994</td>\n",
              "    </tr>\n",
              "    <tr>\n",
              "      <th>208842</th>\n",
              "      <td>ZWE</td>\n",
              "      <td>-</td>\n",
              "      <td>-</td>\n",
              "      <td>2022-07-25</td>\n",
              "      <td>14439018</td>\n",
              "      <td>14182748</td>\n",
              "      <td>256270</td>\n",
              "      <td>167704</td>\n",
              "      <td>5572</td>\n",
              "      <td>82994</td>\n",
              "    </tr>\n",
              "    <tr>\n",
              "      <th>208843</th>\n",
              "      <td>ZWE</td>\n",
              "      <td>-</td>\n",
              "      <td>-</td>\n",
              "      <td>2022-07-26</td>\n",
              "      <td>14439018</td>\n",
              "      <td>14182748</td>\n",
              "      <td>256270</td>\n",
              "      <td>167704</td>\n",
              "      <td>5572</td>\n",
              "      <td>82994</td>\n",
              "    </tr>\n",
              "  </tbody>\n",
              "</table>\n",
              "</div>\n",
              "      <button class=\"colab-df-convert\" onclick=\"convertToInteractive('df-a931366d-dc26-4cb4-a958-f3c31fb4e5b1')\"\n",
              "              title=\"Convert this dataframe to an interactive table.\"\n",
              "              style=\"display:none;\">\n",
              "        \n",
              "  <svg xmlns=\"http://www.w3.org/2000/svg\" height=\"24px\"viewBox=\"0 0 24 24\"\n",
              "       width=\"24px\">\n",
              "    <path d=\"M0 0h24v24H0V0z\" fill=\"none\"/>\n",
              "    <path d=\"M18.56 5.44l.94 2.06.94-2.06 2.06-.94-2.06-.94-.94-2.06-.94 2.06-2.06.94zm-11 1L8.5 8.5l.94-2.06 2.06-.94-2.06-.94L8.5 2.5l-.94 2.06-2.06.94zm10 10l.94 2.06.94-2.06 2.06-.94-2.06-.94-.94-2.06-.94 2.06-2.06.94z\"/><path d=\"M17.41 7.96l-1.37-1.37c-.4-.4-.92-.59-1.43-.59-.52 0-1.04.2-1.43.59L10.3 9.45l-7.72 7.72c-.78.78-.78 2.05 0 2.83L4 21.41c.39.39.9.59 1.41.59.51 0 1.02-.2 1.41-.59l7.78-7.78 2.81-2.81c.8-.78.8-2.07 0-2.86zM5.41 20L4 18.59l7.72-7.72 1.47 1.35L5.41 20z\"/>\n",
              "  </svg>\n",
              "      </button>\n",
              "      \n",
              "  <style>\n",
              "    .colab-df-container {\n",
              "      display:flex;\n",
              "      flex-wrap:wrap;\n",
              "      gap: 12px;\n",
              "    }\n",
              "\n",
              "    .colab-df-convert {\n",
              "      background-color: #E8F0FE;\n",
              "      border: none;\n",
              "      border-radius: 50%;\n",
              "      cursor: pointer;\n",
              "      display: none;\n",
              "      fill: #1967D2;\n",
              "      height: 32px;\n",
              "      padding: 0 0 0 0;\n",
              "      width: 32px;\n",
              "    }\n",
              "\n",
              "    .colab-df-convert:hover {\n",
              "      background-color: #E2EBFA;\n",
              "      box-shadow: 0px 1px 2px rgba(60, 64, 67, 0.3), 0px 1px 3px 1px rgba(60, 64, 67, 0.15);\n",
              "      fill: #174EA6;\n",
              "    }\n",
              "\n",
              "    [theme=dark] .colab-df-convert {\n",
              "      background-color: #3B4455;\n",
              "      fill: #D2E3FC;\n",
              "    }\n",
              "\n",
              "    [theme=dark] .colab-df-convert:hover {\n",
              "      background-color: #434B5C;\n",
              "      box-shadow: 0px 1px 3px 1px rgba(0, 0, 0, 0.15);\n",
              "      filter: drop-shadow(0px 1px 2px rgba(0, 0, 0, 0.3));\n",
              "      fill: #FFFFFF;\n",
              "    }\n",
              "  </style>\n",
              "\n",
              "      <script>\n",
              "        const buttonEl =\n",
              "          document.querySelector('#df-a931366d-dc26-4cb4-a958-f3c31fb4e5b1 button.colab-df-convert');\n",
              "        buttonEl.style.display =\n",
              "          google.colab.kernel.accessAllowed ? 'block' : 'none';\n",
              "\n",
              "        async function convertToInteractive(key) {\n",
              "          const element = document.querySelector('#df-a931366d-dc26-4cb4-a958-f3c31fb4e5b1');\n",
              "          const dataTable =\n",
              "            await google.colab.kernel.invokeFunction('convertToInteractive',\n",
              "                                                     [key], {});\n",
              "          if (!dataTable) return;\n",
              "\n",
              "          const docLinkHtml = 'Like what you see? Visit the ' +\n",
              "            '<a target=\"_blank\" href=https://colab.research.google.com/notebooks/data_table.ipynb>data table notebook</a>'\n",
              "            + ' to learn more about interactive tables.';\n",
              "          element.innerHTML = '';\n",
              "          dataTable['output_type'] = 'display_data';\n",
              "          await google.colab.output.renderOutput(dataTable, element);\n",
              "          const docLink = document.createElement('div');\n",
              "          docLink.innerHTML = docLinkHtml;\n",
              "          element.appendChild(docLink);\n",
              "        }\n",
              "      </script>\n",
              "    </div>\n",
              "  </div>\n",
              "  "
            ],
            "text/plain": [
              "       ISO3 Province City       Date  Population  Susceptible  Confirmed  \\\n",
              "208839  ZWE        -    - 2022-07-22    14439018     14182801     256217   \n",
              "208840  ZWE        -    - 2022-07-23    14439018     14182772     256246   \n",
              "208841  ZWE        -    - 2022-07-24    14439018     14182764     256254   \n",
              "208842  ZWE        -    - 2022-07-25    14439018     14182748     256270   \n",
              "208843  ZWE        -    - 2022-07-26    14439018     14182748     256270   \n",
              "\n",
              "        Infected  Fatal  Recovered  \n",
              "208839    167653   5570      82994  \n",
              "208840    167680   5572      82994  \n",
              "208841    167688   5572      82994  \n",
              "208842    167704   5572      82994  \n",
              "208843    167704   5572      82994  "
            ]
          },
          "execution_count": 84,
          "metadata": {},
          "output_type": "execute_result"
        }
      ],
      "source": [
        "eng.inverse_transform()\n",
        "eng.all(variables=main_variables).tail()"
      ]
    },
    {
      "cell_type": "markdown",
      "metadata": {
        "id": "DBQhq6sSVzaD"
      },
      "source": [
        "## 3. Arithmetic operations\n",
        "We can perform arithmetic operations to add new columns.\n",
        "\n",
        "- `.diff(column, suffix=\"_diff\", freq=\"D\")`: Calculate daily new cases with \"f(x>0) = F(x) - F(x-1), x(0) = 0 when F is cumulative numbers\".\n",
        "- `.add(columns, new=None, fill_value=0)`: Calculate element-wise addition with pandas.DataFrame.sum(axis=1), X1 + X2 + X3 +...\n",
        "- `.mul(columns, new=None, fill_value=0)`: Calculate element-wise multiplication with pandas.DataFrame.product(axis=1), X1 * X2 * X3 *...\n",
        "- `.sub(minuend, subtrahend, new=None, fill_value=0)`: Calculate element-wise subtraction with pandas.Series.sub(), minuend - subtrahend.\n",
        "- `.div(columns, new=None, fill_value=0)`: Calculate element-wise floating division with pandas.Series.div(), numerator / denominator.\n",
        "- `.assign(**kwargs))`: Assign a new column with pandas.DataFrame.assign().\n"
      ]
    },
    {
      "cell_type": "code",
      "execution_count": 85,
      "metadata": {
        "colab": {
          "base_uri": "https://localhost:8080/",
          "height": 206
        },
        "id": "qK40wmeuXUw1",
        "outputId": "b15e7b0b-30f1-49c2-a177-3a61d530f372"
      },
      "outputs": [
        {
          "data": {
            "text/html": [
              "\n",
              "  <div id=\"df-c3d5b03e-5738-47a4-ba43-1f46ed6e2fbe\">\n",
              "    <div class=\"colab-df-container\">\n",
              "      <div>\n",
              "<style scoped>\n",
              "    .dataframe tbody tr th:only-of-type {\n",
              "        vertical-align: middle;\n",
              "    }\n",
              "\n",
              "    .dataframe tbody tr th {\n",
              "        vertical-align: top;\n",
              "    }\n",
              "\n",
              "    .dataframe thead th {\n",
              "        text-align: right;\n",
              "    }\n",
              "</style>\n",
              "<table border=\"1\" class=\"dataframe\">\n",
              "  <thead>\n",
              "    <tr style=\"text-align: right;\">\n",
              "      <th></th>\n",
              "      <th>ISO3</th>\n",
              "      <th>Province</th>\n",
              "      <th>City</th>\n",
              "      <th>Date</th>\n",
              "      <th>Confirmed</th>\n",
              "      <th>Confirmed_diff</th>\n",
              "    </tr>\n",
              "  </thead>\n",
              "  <tbody>\n",
              "    <tr>\n",
              "      <th>208839</th>\n",
              "      <td>ZWE</td>\n",
              "      <td>-</td>\n",
              "      <td>-</td>\n",
              "      <td>2022-07-22</td>\n",
              "      <td>256217</td>\n",
              "      <td>0</td>\n",
              "    </tr>\n",
              "    <tr>\n",
              "      <th>208840</th>\n",
              "      <td>ZWE</td>\n",
              "      <td>-</td>\n",
              "      <td>-</td>\n",
              "      <td>2022-07-23</td>\n",
              "      <td>256246</td>\n",
              "      <td>29</td>\n",
              "    </tr>\n",
              "    <tr>\n",
              "      <th>208841</th>\n",
              "      <td>ZWE</td>\n",
              "      <td>-</td>\n",
              "      <td>-</td>\n",
              "      <td>2022-07-24</td>\n",
              "      <td>256254</td>\n",
              "      <td>8</td>\n",
              "    </tr>\n",
              "    <tr>\n",
              "      <th>208842</th>\n",
              "      <td>ZWE</td>\n",
              "      <td>-</td>\n",
              "      <td>-</td>\n",
              "      <td>2022-07-25</td>\n",
              "      <td>256270</td>\n",
              "      <td>16</td>\n",
              "    </tr>\n",
              "    <tr>\n",
              "      <th>208843</th>\n",
              "      <td>ZWE</td>\n",
              "      <td>-</td>\n",
              "      <td>-</td>\n",
              "      <td>2022-07-26</td>\n",
              "      <td>256270</td>\n",
              "      <td>0</td>\n",
              "    </tr>\n",
              "  </tbody>\n",
              "</table>\n",
              "</div>\n",
              "      <button class=\"colab-df-convert\" onclick=\"convertToInteractive('df-c3d5b03e-5738-47a4-ba43-1f46ed6e2fbe')\"\n",
              "              title=\"Convert this dataframe to an interactive table.\"\n",
              "              style=\"display:none;\">\n",
              "        \n",
              "  <svg xmlns=\"http://www.w3.org/2000/svg\" height=\"24px\"viewBox=\"0 0 24 24\"\n",
              "       width=\"24px\">\n",
              "    <path d=\"M0 0h24v24H0V0z\" fill=\"none\"/>\n",
              "    <path d=\"M18.56 5.44l.94 2.06.94-2.06 2.06-.94-2.06-.94-.94-2.06-.94 2.06-2.06.94zm-11 1L8.5 8.5l.94-2.06 2.06-.94-2.06-.94L8.5 2.5l-.94 2.06-2.06.94zm10 10l.94 2.06.94-2.06 2.06-.94-2.06-.94-.94-2.06-.94 2.06-2.06.94z\"/><path d=\"M17.41 7.96l-1.37-1.37c-.4-.4-.92-.59-1.43-.59-.52 0-1.04.2-1.43.59L10.3 9.45l-7.72 7.72c-.78.78-.78 2.05 0 2.83L4 21.41c.39.39.9.59 1.41.59.51 0 1.02-.2 1.41-.59l7.78-7.78 2.81-2.81c.8-.78.8-2.07 0-2.86zM5.41 20L4 18.59l7.72-7.72 1.47 1.35L5.41 20z\"/>\n",
              "  </svg>\n",
              "      </button>\n",
              "      \n",
              "  <style>\n",
              "    .colab-df-container {\n",
              "      display:flex;\n",
              "      flex-wrap:wrap;\n",
              "      gap: 12px;\n",
              "    }\n",
              "\n",
              "    .colab-df-convert {\n",
              "      background-color: #E8F0FE;\n",
              "      border: none;\n",
              "      border-radius: 50%;\n",
              "      cursor: pointer;\n",
              "      display: none;\n",
              "      fill: #1967D2;\n",
              "      height: 32px;\n",
              "      padding: 0 0 0 0;\n",
              "      width: 32px;\n",
              "    }\n",
              "\n",
              "    .colab-df-convert:hover {\n",
              "      background-color: #E2EBFA;\n",
              "      box-shadow: 0px 1px 2px rgba(60, 64, 67, 0.3), 0px 1px 3px 1px rgba(60, 64, 67, 0.15);\n",
              "      fill: #174EA6;\n",
              "    }\n",
              "\n",
              "    [theme=dark] .colab-df-convert {\n",
              "      background-color: #3B4455;\n",
              "      fill: #D2E3FC;\n",
              "    }\n",
              "\n",
              "    [theme=dark] .colab-df-convert:hover {\n",
              "      background-color: #434B5C;\n",
              "      box-shadow: 0px 1px 3px 1px rgba(0, 0, 0, 0.15);\n",
              "      filter: drop-shadow(0px 1px 2px rgba(0, 0, 0, 0.3));\n",
              "      fill: #FFFFFF;\n",
              "    }\n",
              "  </style>\n",
              "\n",
              "      <script>\n",
              "        const buttonEl =\n",
              "          document.querySelector('#df-c3d5b03e-5738-47a4-ba43-1f46ed6e2fbe button.colab-df-convert');\n",
              "        buttonEl.style.display =\n",
              "          google.colab.kernel.accessAllowed ? 'block' : 'none';\n",
              "\n",
              "        async function convertToInteractive(key) {\n",
              "          const element = document.querySelector('#df-c3d5b03e-5738-47a4-ba43-1f46ed6e2fbe');\n",
              "          const dataTable =\n",
              "            await google.colab.kernel.invokeFunction('convertToInteractive',\n",
              "                                                     [key], {});\n",
              "          if (!dataTable) return;\n",
              "\n",
              "          const docLinkHtml = 'Like what you see? Visit the ' +\n",
              "            '<a target=\"_blank\" href=https://colab.research.google.com/notebooks/data_table.ipynb>data table notebook</a>'\n",
              "            + ' to learn more about interactive tables.';\n",
              "          element.innerHTML = '';\n",
              "          dataTable['output_type'] = 'display_data';\n",
              "          await google.colab.output.renderOutput(dataTable, element);\n",
              "          const docLink = document.createElement('div');\n",
              "          docLink.innerHTML = docLinkHtml;\n",
              "          element.appendChild(docLink);\n",
              "        }\n",
              "      </script>\n",
              "    </div>\n",
              "  </div>\n",
              "  "
            ],
            "text/plain": [
              "       ISO3 Province City       Date  Confirmed  Confirmed_diff\n",
              "208839  ZWE        -    - 2022-07-22     256217               0\n",
              "208840  ZWE        -    - 2022-07-23     256246              29\n",
              "208841  ZWE        -    - 2022-07-24     256254               8\n",
              "208842  ZWE        -    - 2022-07-25     256270              16\n",
              "208843  ZWE        -    - 2022-07-26     256270               0"
            ]
          },
          "execution_count": 85,
          "metadata": {},
          "output_type": "execute_result"
        }
      ],
      "source": [
        "# Diff\n",
        "eng.diff(column=\"Confirmed\", suffix=\"_diff\", freq=\"D\")\n",
        "eng.all(variables=[\"Confirmed\", \"Confirmed_diff\"]).tail()"
      ]
    },
    {
      "cell_type": "code",
      "execution_count": 86,
      "metadata": {
        "colab": {
          "base_uri": "https://localhost:8080/",
          "height": 206
        },
        "id": "7lyYpt0ZXjX7",
        "outputId": "bd23a810-b72b-4798-bf2a-3c168d56de86"
      },
      "outputs": [
        {
          "data": {
            "text/html": [
              "\n",
              "  <div id=\"df-163bbffc-e98f-4b2a-bac9-661671face07\">\n",
              "    <div class=\"colab-df-container\">\n",
              "      <div>\n",
              "<style scoped>\n",
              "    .dataframe tbody tr th:only-of-type {\n",
              "        vertical-align: middle;\n",
              "    }\n",
              "\n",
              "    .dataframe tbody tr th {\n",
              "        vertical-align: top;\n",
              "    }\n",
              "\n",
              "    .dataframe thead th {\n",
              "        text-align: right;\n",
              "    }\n",
              "</style>\n",
              "<table border=\"1\" class=\"dataframe\">\n",
              "  <thead>\n",
              "    <tr style=\"text-align: right;\">\n",
              "      <th></th>\n",
              "      <th>ISO3</th>\n",
              "      <th>Province</th>\n",
              "      <th>City</th>\n",
              "      <th>Date</th>\n",
              "      <th>Fatal</th>\n",
              "      <th>Recovered</th>\n",
              "      <th>Fatal+Recovered</th>\n",
              "    </tr>\n",
              "  </thead>\n",
              "  <tbody>\n",
              "    <tr>\n",
              "      <th>208839</th>\n",
              "      <td>ZWE</td>\n",
              "      <td>-</td>\n",
              "      <td>-</td>\n",
              "      <td>2022-07-22</td>\n",
              "      <td>5570</td>\n",
              "      <td>82994</td>\n",
              "      <td>88564</td>\n",
              "    </tr>\n",
              "    <tr>\n",
              "      <th>208840</th>\n",
              "      <td>ZWE</td>\n",
              "      <td>-</td>\n",
              "      <td>-</td>\n",
              "      <td>2022-07-23</td>\n",
              "      <td>5572</td>\n",
              "      <td>82994</td>\n",
              "      <td>88566</td>\n",
              "    </tr>\n",
              "    <tr>\n",
              "      <th>208841</th>\n",
              "      <td>ZWE</td>\n",
              "      <td>-</td>\n",
              "      <td>-</td>\n",
              "      <td>2022-07-24</td>\n",
              "      <td>5572</td>\n",
              "      <td>82994</td>\n",
              "      <td>88566</td>\n",
              "    </tr>\n",
              "    <tr>\n",
              "      <th>208842</th>\n",
              "      <td>ZWE</td>\n",
              "      <td>-</td>\n",
              "      <td>-</td>\n",
              "      <td>2022-07-25</td>\n",
              "      <td>5572</td>\n",
              "      <td>82994</td>\n",
              "      <td>88566</td>\n",
              "    </tr>\n",
              "    <tr>\n",
              "      <th>208843</th>\n",
              "      <td>ZWE</td>\n",
              "      <td>-</td>\n",
              "      <td>-</td>\n",
              "      <td>2022-07-26</td>\n",
              "      <td>5572</td>\n",
              "      <td>82994</td>\n",
              "      <td>88566</td>\n",
              "    </tr>\n",
              "  </tbody>\n",
              "</table>\n",
              "</div>\n",
              "      <button class=\"colab-df-convert\" onclick=\"convertToInteractive('df-163bbffc-e98f-4b2a-bac9-661671face07')\"\n",
              "              title=\"Convert this dataframe to an interactive table.\"\n",
              "              style=\"display:none;\">\n",
              "        \n",
              "  <svg xmlns=\"http://www.w3.org/2000/svg\" height=\"24px\"viewBox=\"0 0 24 24\"\n",
              "       width=\"24px\">\n",
              "    <path d=\"M0 0h24v24H0V0z\" fill=\"none\"/>\n",
              "    <path d=\"M18.56 5.44l.94 2.06.94-2.06 2.06-.94-2.06-.94-.94-2.06-.94 2.06-2.06.94zm-11 1L8.5 8.5l.94-2.06 2.06-.94-2.06-.94L8.5 2.5l-.94 2.06-2.06.94zm10 10l.94 2.06.94-2.06 2.06-.94-2.06-.94-.94-2.06-.94 2.06-2.06.94z\"/><path d=\"M17.41 7.96l-1.37-1.37c-.4-.4-.92-.59-1.43-.59-.52 0-1.04.2-1.43.59L10.3 9.45l-7.72 7.72c-.78.78-.78 2.05 0 2.83L4 21.41c.39.39.9.59 1.41.59.51 0 1.02-.2 1.41-.59l7.78-7.78 2.81-2.81c.8-.78.8-2.07 0-2.86zM5.41 20L4 18.59l7.72-7.72 1.47 1.35L5.41 20z\"/>\n",
              "  </svg>\n",
              "      </button>\n",
              "      \n",
              "  <style>\n",
              "    .colab-df-container {\n",
              "      display:flex;\n",
              "      flex-wrap:wrap;\n",
              "      gap: 12px;\n",
              "    }\n",
              "\n",
              "    .colab-df-convert {\n",
              "      background-color: #E8F0FE;\n",
              "      border: none;\n",
              "      border-radius: 50%;\n",
              "      cursor: pointer;\n",
              "      display: none;\n",
              "      fill: #1967D2;\n",
              "      height: 32px;\n",
              "      padding: 0 0 0 0;\n",
              "      width: 32px;\n",
              "    }\n",
              "\n",
              "    .colab-df-convert:hover {\n",
              "      background-color: #E2EBFA;\n",
              "      box-shadow: 0px 1px 2px rgba(60, 64, 67, 0.3), 0px 1px 3px 1px rgba(60, 64, 67, 0.15);\n",
              "      fill: #174EA6;\n",
              "    }\n",
              "\n",
              "    [theme=dark] .colab-df-convert {\n",
              "      background-color: #3B4455;\n",
              "      fill: #D2E3FC;\n",
              "    }\n",
              "\n",
              "    [theme=dark] .colab-df-convert:hover {\n",
              "      background-color: #434B5C;\n",
              "      box-shadow: 0px 1px 3px 1px rgba(0, 0, 0, 0.15);\n",
              "      filter: drop-shadow(0px 1px 2px rgba(0, 0, 0, 0.3));\n",
              "      fill: #FFFFFF;\n",
              "    }\n",
              "  </style>\n",
              "\n",
              "      <script>\n",
              "        const buttonEl =\n",
              "          document.querySelector('#df-163bbffc-e98f-4b2a-bac9-661671face07 button.colab-df-convert');\n",
              "        buttonEl.style.display =\n",
              "          google.colab.kernel.accessAllowed ? 'block' : 'none';\n",
              "\n",
              "        async function convertToInteractive(key) {\n",
              "          const element = document.querySelector('#df-163bbffc-e98f-4b2a-bac9-661671face07');\n",
              "          const dataTable =\n",
              "            await google.colab.kernel.invokeFunction('convertToInteractive',\n",
              "                                                     [key], {});\n",
              "          if (!dataTable) return;\n",
              "\n",
              "          const docLinkHtml = 'Like what you see? Visit the ' +\n",
              "            '<a target=\"_blank\" href=https://colab.research.google.com/notebooks/data_table.ipynb>data table notebook</a>'\n",
              "            + ' to learn more about interactive tables.';\n",
              "          element.innerHTML = '';\n",
              "          dataTable['output_type'] = 'display_data';\n",
              "          await google.colab.output.renderOutput(dataTable, element);\n",
              "          const docLink = document.createElement('div');\n",
              "          docLink.innerHTML = docLinkHtml;\n",
              "          element.appendChild(docLink);\n",
              "        }\n",
              "      </script>\n",
              "    </div>\n",
              "  </div>\n",
              "  "
            ],
            "text/plain": [
              "       ISO3 Province City       Date  Fatal  Recovered  Fatal+Recovered\n",
              "208839  ZWE        -    - 2022-07-22   5570      82994            88564\n",
              "208840  ZWE        -    - 2022-07-23   5572      82994            88566\n",
              "208841  ZWE        -    - 2022-07-24   5572      82994            88566\n",
              "208842  ZWE        -    - 2022-07-25   5572      82994            88566\n",
              "208843  ZWE        -    - 2022-07-26   5572      82994            88566"
            ]
          },
          "execution_count": 86,
          "metadata": {},
          "output_type": "execute_result"
        }
      ],
      "source": [
        "# Addition\n",
        "eng.add(columns=[\"Fatal\", \"Recovered\"])\n",
        "eng.all(variables=[\"Fatal\", \"Recovered\", \"Fatal+Recovered\"]).tail()"
      ]
    },
    {
      "cell_type": "code",
      "execution_count": 87,
      "metadata": {
        "colab": {
          "base_uri": "https://localhost:8080/",
          "height": 206
        },
        "id": "1mKRoxUVX1zh",
        "outputId": "1e528fd4-dad9-4f2d-a42d-5c8c64eeb9da"
      },
      "outputs": [
        {
          "data": {
            "text/html": [
              "\n",
              "  <div id=\"df-035fc4a1-60d1-47bf-b0ed-20bbcf65978e\">\n",
              "    <div class=\"colab-df-container\">\n",
              "      <div>\n",
              "<style scoped>\n",
              "    .dataframe tbody tr th:only-of-type {\n",
              "        vertical-align: middle;\n",
              "    }\n",
              "\n",
              "    .dataframe tbody tr th {\n",
              "        vertical-align: top;\n",
              "    }\n",
              "\n",
              "    .dataframe thead th {\n",
              "        text-align: right;\n",
              "    }\n",
              "</style>\n",
              "<table border=\"1\" class=\"dataframe\">\n",
              "  <thead>\n",
              "    <tr style=\"text-align: right;\">\n",
              "      <th></th>\n",
              "      <th>ISO3</th>\n",
              "      <th>Province</th>\n",
              "      <th>City</th>\n",
              "      <th>Date</th>\n",
              "      <th>Confirmed</th>\n",
              "      <th>Recovered</th>\n",
              "      <th>Confirmed*Recovered</th>\n",
              "    </tr>\n",
              "  </thead>\n",
              "  <tbody>\n",
              "    <tr>\n",
              "      <th>208839</th>\n",
              "      <td>ZWE</td>\n",
              "      <td>-</td>\n",
              "      <td>-</td>\n",
              "      <td>2022-07-22</td>\n",
              "      <td>256217</td>\n",
              "      <td>82994</td>\n",
              "      <td>21264473698</td>\n",
              "    </tr>\n",
              "    <tr>\n",
              "      <th>208840</th>\n",
              "      <td>ZWE</td>\n",
              "      <td>-</td>\n",
              "      <td>-</td>\n",
              "      <td>2022-07-23</td>\n",
              "      <td>256246</td>\n",
              "      <td>82994</td>\n",
              "      <td>21266880524</td>\n",
              "    </tr>\n",
              "    <tr>\n",
              "      <th>208841</th>\n",
              "      <td>ZWE</td>\n",
              "      <td>-</td>\n",
              "      <td>-</td>\n",
              "      <td>2022-07-24</td>\n",
              "      <td>256254</td>\n",
              "      <td>82994</td>\n",
              "      <td>21267544476</td>\n",
              "    </tr>\n",
              "    <tr>\n",
              "      <th>208842</th>\n",
              "      <td>ZWE</td>\n",
              "      <td>-</td>\n",
              "      <td>-</td>\n",
              "      <td>2022-07-25</td>\n",
              "      <td>256270</td>\n",
              "      <td>82994</td>\n",
              "      <td>21268872380</td>\n",
              "    </tr>\n",
              "    <tr>\n",
              "      <th>208843</th>\n",
              "      <td>ZWE</td>\n",
              "      <td>-</td>\n",
              "      <td>-</td>\n",
              "      <td>2022-07-26</td>\n",
              "      <td>256270</td>\n",
              "      <td>82994</td>\n",
              "      <td>21268872380</td>\n",
              "    </tr>\n",
              "  </tbody>\n",
              "</table>\n",
              "</div>\n",
              "      <button class=\"colab-df-convert\" onclick=\"convertToInteractive('df-035fc4a1-60d1-47bf-b0ed-20bbcf65978e')\"\n",
              "              title=\"Convert this dataframe to an interactive table.\"\n",
              "              style=\"display:none;\">\n",
              "        \n",
              "  <svg xmlns=\"http://www.w3.org/2000/svg\" height=\"24px\"viewBox=\"0 0 24 24\"\n",
              "       width=\"24px\">\n",
              "    <path d=\"M0 0h24v24H0V0z\" fill=\"none\"/>\n",
              "    <path d=\"M18.56 5.44l.94 2.06.94-2.06 2.06-.94-2.06-.94-.94-2.06-.94 2.06-2.06.94zm-11 1L8.5 8.5l.94-2.06 2.06-.94-2.06-.94L8.5 2.5l-.94 2.06-2.06.94zm10 10l.94 2.06.94-2.06 2.06-.94-2.06-.94-.94-2.06-.94 2.06-2.06.94z\"/><path d=\"M17.41 7.96l-1.37-1.37c-.4-.4-.92-.59-1.43-.59-.52 0-1.04.2-1.43.59L10.3 9.45l-7.72 7.72c-.78.78-.78 2.05 0 2.83L4 21.41c.39.39.9.59 1.41.59.51 0 1.02-.2 1.41-.59l7.78-7.78 2.81-2.81c.8-.78.8-2.07 0-2.86zM5.41 20L4 18.59l7.72-7.72 1.47 1.35L5.41 20z\"/>\n",
              "  </svg>\n",
              "      </button>\n",
              "      \n",
              "  <style>\n",
              "    .colab-df-container {\n",
              "      display:flex;\n",
              "      flex-wrap:wrap;\n",
              "      gap: 12px;\n",
              "    }\n",
              "\n",
              "    .colab-df-convert {\n",
              "      background-color: #E8F0FE;\n",
              "      border: none;\n",
              "      border-radius: 50%;\n",
              "      cursor: pointer;\n",
              "      display: none;\n",
              "      fill: #1967D2;\n",
              "      height: 32px;\n",
              "      padding: 0 0 0 0;\n",
              "      width: 32px;\n",
              "    }\n",
              "\n",
              "    .colab-df-convert:hover {\n",
              "      background-color: #E2EBFA;\n",
              "      box-shadow: 0px 1px 2px rgba(60, 64, 67, 0.3), 0px 1px 3px 1px rgba(60, 64, 67, 0.15);\n",
              "      fill: #174EA6;\n",
              "    }\n",
              "\n",
              "    [theme=dark] .colab-df-convert {\n",
              "      background-color: #3B4455;\n",
              "      fill: #D2E3FC;\n",
              "    }\n",
              "\n",
              "    [theme=dark] .colab-df-convert:hover {\n",
              "      background-color: #434B5C;\n",
              "      box-shadow: 0px 1px 3px 1px rgba(0, 0, 0, 0.15);\n",
              "      filter: drop-shadow(0px 1px 2px rgba(0, 0, 0, 0.3));\n",
              "      fill: #FFFFFF;\n",
              "    }\n",
              "  </style>\n",
              "\n",
              "      <script>\n",
              "        const buttonEl =\n",
              "          document.querySelector('#df-035fc4a1-60d1-47bf-b0ed-20bbcf65978e button.colab-df-convert');\n",
              "        buttonEl.style.display =\n",
              "          google.colab.kernel.accessAllowed ? 'block' : 'none';\n",
              "\n",
              "        async function convertToInteractive(key) {\n",
              "          const element = document.querySelector('#df-035fc4a1-60d1-47bf-b0ed-20bbcf65978e');\n",
              "          const dataTable =\n",
              "            await google.colab.kernel.invokeFunction('convertToInteractive',\n",
              "                                                     [key], {});\n",
              "          if (!dataTable) return;\n",
              "\n",
              "          const docLinkHtml = 'Like what you see? Visit the ' +\n",
              "            '<a target=\"_blank\" href=https://colab.research.google.com/notebooks/data_table.ipynb>data table notebook</a>'\n",
              "            + ' to learn more about interactive tables.';\n",
              "          element.innerHTML = '';\n",
              "          dataTable['output_type'] = 'display_data';\n",
              "          await google.colab.output.renderOutput(dataTable, element);\n",
              "          const docLink = document.createElement('div');\n",
              "          docLink.innerHTML = docLinkHtml;\n",
              "          element.appendChild(docLink);\n",
              "        }\n",
              "      </script>\n",
              "    </div>\n",
              "  </div>\n",
              "  "
            ],
            "text/plain": [
              "       ISO3 Province City       Date  Confirmed  Recovered  \\\n",
              "208839  ZWE        -    - 2022-07-22     256217      82994   \n",
              "208840  ZWE        -    - 2022-07-23     256246      82994   \n",
              "208841  ZWE        -    - 2022-07-24     256254      82994   \n",
              "208842  ZWE        -    - 2022-07-25     256270      82994   \n",
              "208843  ZWE        -    - 2022-07-26     256270      82994   \n",
              "\n",
              "        Confirmed*Recovered  \n",
              "208839          21264473698  \n",
              "208840          21266880524  \n",
              "208841          21267544476  \n",
              "208842          21268872380  \n",
              "208843          21268872380  "
            ]
          },
          "execution_count": 87,
          "metadata": {},
          "output_type": "execute_result"
        }
      ],
      "source": [
        "# Multiplication\n",
        "eng.mul(columns=[\"Confirmed\", \"Recovered\"])\n",
        "eng.all(variables=[\"Confirmed\", \"Recovered\", \"Confirmed*Recovered\"]).tail()"
      ]
    },
    {
      "cell_type": "code",
      "execution_count": 88,
      "metadata": {
        "colab": {
          "base_uri": "https://localhost:8080/",
          "height": 206
        },
        "id": "5gMi1iFIXB8K",
        "outputId": "07a49263-e93a-4dc6-f043-0001168ae81a"
      },
      "outputs": [
        {
          "data": {
            "text/html": [
              "\n",
              "  <div id=\"df-55376408-4069-4038-aa24-f4b0250f0e12\">\n",
              "    <div class=\"colab-df-container\">\n",
              "      <div>\n",
              "<style scoped>\n",
              "    .dataframe tbody tr th:only-of-type {\n",
              "        vertical-align: middle;\n",
              "    }\n",
              "\n",
              "    .dataframe tbody tr th {\n",
              "        vertical-align: top;\n",
              "    }\n",
              "\n",
              "    .dataframe thead th {\n",
              "        text-align: right;\n",
              "    }\n",
              "</style>\n",
              "<table border=\"1\" class=\"dataframe\">\n",
              "  <thead>\n",
              "    <tr style=\"text-align: right;\">\n",
              "      <th></th>\n",
              "      <th>ISO3</th>\n",
              "      <th>Province</th>\n",
              "      <th>City</th>\n",
              "      <th>Date</th>\n",
              "      <th>Tests</th>\n",
              "      <th>Confirmed</th>\n",
              "      <th>Positive_rate_%</th>\n",
              "    </tr>\n",
              "  </thead>\n",
              "  <tbody>\n",
              "    <tr>\n",
              "      <th>208839</th>\n",
              "      <td>ZWE</td>\n",
              "      <td>-</td>\n",
              "      <td>-</td>\n",
              "      <td>2022-07-22</td>\n",
              "      <td>2379907</td>\n",
              "      <td>256217</td>\n",
              "      <td>10.765841</td>\n",
              "    </tr>\n",
              "    <tr>\n",
              "      <th>208840</th>\n",
              "      <td>ZWE</td>\n",
              "      <td>-</td>\n",
              "      <td>-</td>\n",
              "      <td>2022-07-23</td>\n",
              "      <td>2379907</td>\n",
              "      <td>256246</td>\n",
              "      <td>10.767059</td>\n",
              "    </tr>\n",
              "    <tr>\n",
              "      <th>208841</th>\n",
              "      <td>ZWE</td>\n",
              "      <td>-</td>\n",
              "      <td>-</td>\n",
              "      <td>2022-07-24</td>\n",
              "      <td>2379907</td>\n",
              "      <td>256254</td>\n",
              "      <td>10.767396</td>\n",
              "    </tr>\n",
              "    <tr>\n",
              "      <th>208842</th>\n",
              "      <td>ZWE</td>\n",
              "      <td>-</td>\n",
              "      <td>-</td>\n",
              "      <td>2022-07-25</td>\n",
              "      <td>2379907</td>\n",
              "      <td>256270</td>\n",
              "      <td>10.768068</td>\n",
              "    </tr>\n",
              "    <tr>\n",
              "      <th>208843</th>\n",
              "      <td>ZWE</td>\n",
              "      <td>-</td>\n",
              "      <td>-</td>\n",
              "      <td>2022-07-26</td>\n",
              "      <td>2379907</td>\n",
              "      <td>256270</td>\n",
              "      <td>10.768068</td>\n",
              "    </tr>\n",
              "  </tbody>\n",
              "</table>\n",
              "</div>\n",
              "      <button class=\"colab-df-convert\" onclick=\"convertToInteractive('df-55376408-4069-4038-aa24-f4b0250f0e12')\"\n",
              "              title=\"Convert this dataframe to an interactive table.\"\n",
              "              style=\"display:none;\">\n",
              "        \n",
              "  <svg xmlns=\"http://www.w3.org/2000/svg\" height=\"24px\"viewBox=\"0 0 24 24\"\n",
              "       width=\"24px\">\n",
              "    <path d=\"M0 0h24v24H0V0z\" fill=\"none\"/>\n",
              "    <path d=\"M18.56 5.44l.94 2.06.94-2.06 2.06-.94-2.06-.94-.94-2.06-.94 2.06-2.06.94zm-11 1L8.5 8.5l.94-2.06 2.06-.94-2.06-.94L8.5 2.5l-.94 2.06-2.06.94zm10 10l.94 2.06.94-2.06 2.06-.94-2.06-.94-.94-2.06-.94 2.06-2.06.94z\"/><path d=\"M17.41 7.96l-1.37-1.37c-.4-.4-.92-.59-1.43-.59-.52 0-1.04.2-1.43.59L10.3 9.45l-7.72 7.72c-.78.78-.78 2.05 0 2.83L4 21.41c.39.39.9.59 1.41.59.51 0 1.02-.2 1.41-.59l7.78-7.78 2.81-2.81c.8-.78.8-2.07 0-2.86zM5.41 20L4 18.59l7.72-7.72 1.47 1.35L5.41 20z\"/>\n",
              "  </svg>\n",
              "      </button>\n",
              "      \n",
              "  <style>\n",
              "    .colab-df-container {\n",
              "      display:flex;\n",
              "      flex-wrap:wrap;\n",
              "      gap: 12px;\n",
              "    }\n",
              "\n",
              "    .colab-df-convert {\n",
              "      background-color: #E8F0FE;\n",
              "      border: none;\n",
              "      border-radius: 50%;\n",
              "      cursor: pointer;\n",
              "      display: none;\n",
              "      fill: #1967D2;\n",
              "      height: 32px;\n",
              "      padding: 0 0 0 0;\n",
              "      width: 32px;\n",
              "    }\n",
              "\n",
              "    .colab-df-convert:hover {\n",
              "      background-color: #E2EBFA;\n",
              "      box-shadow: 0px 1px 2px rgba(60, 64, 67, 0.3), 0px 1px 3px 1px rgba(60, 64, 67, 0.15);\n",
              "      fill: #174EA6;\n",
              "    }\n",
              "\n",
              "    [theme=dark] .colab-df-convert {\n",
              "      background-color: #3B4455;\n",
              "      fill: #D2E3FC;\n",
              "    }\n",
              "\n",
              "    [theme=dark] .colab-df-convert:hover {\n",
              "      background-color: #434B5C;\n",
              "      box-shadow: 0px 1px 3px 1px rgba(0, 0, 0, 0.15);\n",
              "      filter: drop-shadow(0px 1px 2px rgba(0, 0, 0, 0.3));\n",
              "      fill: #FFFFFF;\n",
              "    }\n",
              "  </style>\n",
              "\n",
              "      <script>\n",
              "        const buttonEl =\n",
              "          document.querySelector('#df-55376408-4069-4038-aa24-f4b0250f0e12 button.colab-df-convert');\n",
              "        buttonEl.style.display =\n",
              "          google.colab.kernel.accessAllowed ? 'block' : 'none';\n",
              "\n",
              "        async function convertToInteractive(key) {\n",
              "          const element = document.querySelector('#df-55376408-4069-4038-aa24-f4b0250f0e12');\n",
              "          const dataTable =\n",
              "            await google.colab.kernel.invokeFunction('convertToInteractive',\n",
              "                                                     [key], {});\n",
              "          if (!dataTable) return;\n",
              "\n",
              "          const docLinkHtml = 'Like what you see? Visit the ' +\n",
              "            '<a target=\"_blank\" href=https://colab.research.google.com/notebooks/data_table.ipynb>data table notebook</a>'\n",
              "            + ' to learn more about interactive tables.';\n",
              "          element.innerHTML = '';\n",
              "          dataTable['output_type'] = 'display_data';\n",
              "          await google.colab.output.renderOutput(dataTable, element);\n",
              "          const docLink = document.createElement('div');\n",
              "          docLink.innerHTML = docLinkHtml;\n",
              "          element.appendChild(docLink);\n",
              "        }\n",
              "      </script>\n",
              "    </div>\n",
              "  </div>\n",
              "  "
            ],
            "text/plain": [
              "       ISO3 Province City       Date    Tests  Confirmed  Positive_rate_%\n",
              "208839  ZWE        -    - 2022-07-22  2379907     256217        10.765841\n",
              "208840  ZWE        -    - 2022-07-23  2379907     256246        10.767059\n",
              "208841  ZWE        -    - 2022-07-24  2379907     256254        10.767396\n",
              "208842  ZWE        -    - 2022-07-25  2379907     256270        10.768068\n",
              "208843  ZWE        -    - 2022-07-26  2379907     256270        10.768068"
            ]
          },
          "execution_count": 88,
          "metadata": {},
          "output_type": "execute_result"
        }
      ],
      "source": [
        "# Division\n",
        "eng.div(numerator=\"Confirmed\", denominator=\"Tests\", new=\"Positive_rate\")\n",
        "# Assignment of new a new column\n",
        "eng.assign(**{\"Positive_rate_%\": lambda x: x[\"Positive_rate\"] * 100})\n",
        "eng.all(variables=[\"Tests\", \"Confirmed\", \"Positive_rate_%\"]).tail()"
      ]
    },
    {
      "cell_type": "markdown",
      "metadata": {
        "id": "iIXznltKQiCI"
      },
      "source": [
        "## 4. EDA at a geospatial layer\n",
        "`DataEngineer().layer()` returns the data at the selected layer in the date range.\n",
        "\n",
        "Arguments:\n",
        "- geo (tuple(list[str] or tuple(str) or str) or str or None): location names to specify the layer or None (the top level)\n",
        "- start_date (str or None): start date, like 22Jan2020\n",
        "- end_date (str or None): end date, like 01Feb2020\n",
        "- variables (list[str] or None): list of variables to add or None (all available columns)"
      ]
    },
    {
      "cell_type": "code",
      "execution_count": 89,
      "metadata": {
        "colab": {
          "base_uri": "https://localhost:8080/",
          "height": 300
        },
        "id": "I2MkSuAOZd7L",
        "outputId": "fabc3cd0-599d-4d51-bdd2-343124acfeae"
      },
      "outputs": [
        {
          "data": {
            "text/html": [
              "\n",
              "  <div id=\"df-3dcc1775-7bab-4e7a-bafd-cab607674bca\">\n",
              "    <div class=\"colab-df-container\">\n",
              "      <div>\n",
              "<style scoped>\n",
              "    .dataframe tbody tr th:only-of-type {\n",
              "        vertical-align: middle;\n",
              "    }\n",
              "\n",
              "    .dataframe tbody tr th {\n",
              "        vertical-align: top;\n",
              "    }\n",
              "\n",
              "    .dataframe thead th {\n",
              "        text-align: right;\n",
              "    }\n",
              "</style>\n",
              "<table border=\"1\" class=\"dataframe\">\n",
              "  <thead>\n",
              "    <tr style=\"text-align: right;\">\n",
              "      <th></th>\n",
              "      <th>ISO3</th>\n",
              "      <th>Province</th>\n",
              "      <th>City</th>\n",
              "      <th>Date</th>\n",
              "      <th>Cancel_events</th>\n",
              "      <th>Confirmed</th>\n",
              "      <th>Confirmed*Recovered</th>\n",
              "      <th>Confirmed_diff</th>\n",
              "      <th>Contact_tracing</th>\n",
              "      <th>Country</th>\n",
              "      <th>...</th>\n",
              "      <th>Tests</th>\n",
              "      <th>Transport_closing</th>\n",
              "      <th>Vaccinated_1st</th>\n",
              "      <th>Vaccinated_2nd</th>\n",
              "      <th>Vaccinated_3rd</th>\n",
              "      <th>Vaccinated_full</th>\n",
              "      <th>Vaccinated_once</th>\n",
              "      <th>Vaccinations</th>\n",
              "      <th>Vaccinations_boosters</th>\n",
              "      <th>Workplace_closing</th>\n",
              "    </tr>\n",
              "  </thead>\n",
              "  <tbody>\n",
              "    <tr>\n",
              "      <th>208839</th>\n",
              "      <td>ZWE</td>\n",
              "      <td>-</td>\n",
              "      <td>-</td>\n",
              "      <td>2022-07-22</td>\n",
              "      <td>1</td>\n",
              "      <td>256217</td>\n",
              "      <td>21264473698</td>\n",
              "      <td>0</td>\n",
              "      <td>1</td>\n",
              "      <td>Zimbabwe</td>\n",
              "      <td>...</td>\n",
              "      <td>2379907</td>\n",
              "      <td>0</td>\n",
              "      <td>0</td>\n",
              "      <td>0</td>\n",
              "      <td>0</td>\n",
              "      <td>4637374</td>\n",
              "      <td>6331851</td>\n",
              "      <td>12045572</td>\n",
              "      <td>1076347</td>\n",
              "      <td>1</td>\n",
              "    </tr>\n",
              "    <tr>\n",
              "      <th>208840</th>\n",
              "      <td>ZWE</td>\n",
              "      <td>-</td>\n",
              "      <td>-</td>\n",
              "      <td>2022-07-23</td>\n",
              "      <td>1</td>\n",
              "      <td>256246</td>\n",
              "      <td>21266880524</td>\n",
              "      <td>29</td>\n",
              "      <td>1</td>\n",
              "      <td>Zimbabwe</td>\n",
              "      <td>...</td>\n",
              "      <td>2379907</td>\n",
              "      <td>0</td>\n",
              "      <td>0</td>\n",
              "      <td>0</td>\n",
              "      <td>0</td>\n",
              "      <td>4637374</td>\n",
              "      <td>6331851</td>\n",
              "      <td>12045572</td>\n",
              "      <td>1076347</td>\n",
              "      <td>1</td>\n",
              "    </tr>\n",
              "    <tr>\n",
              "      <th>208841</th>\n",
              "      <td>ZWE</td>\n",
              "      <td>-</td>\n",
              "      <td>-</td>\n",
              "      <td>2022-07-24</td>\n",
              "      <td>1</td>\n",
              "      <td>256254</td>\n",
              "      <td>21267544476</td>\n",
              "      <td>8</td>\n",
              "      <td>1</td>\n",
              "      <td>Zimbabwe</td>\n",
              "      <td>...</td>\n",
              "      <td>2379907</td>\n",
              "      <td>0</td>\n",
              "      <td>0</td>\n",
              "      <td>0</td>\n",
              "      <td>0</td>\n",
              "      <td>4637374</td>\n",
              "      <td>6331851</td>\n",
              "      <td>12045572</td>\n",
              "      <td>1076347</td>\n",
              "      <td>1</td>\n",
              "    </tr>\n",
              "    <tr>\n",
              "      <th>208842</th>\n",
              "      <td>ZWE</td>\n",
              "      <td>-</td>\n",
              "      <td>-</td>\n",
              "      <td>2022-07-25</td>\n",
              "      <td>1</td>\n",
              "      <td>256270</td>\n",
              "      <td>21268872380</td>\n",
              "      <td>16</td>\n",
              "      <td>1</td>\n",
              "      <td>Zimbabwe</td>\n",
              "      <td>...</td>\n",
              "      <td>2379907</td>\n",
              "      <td>0</td>\n",
              "      <td>0</td>\n",
              "      <td>0</td>\n",
              "      <td>0</td>\n",
              "      <td>4637374</td>\n",
              "      <td>6331851</td>\n",
              "      <td>12045572</td>\n",
              "      <td>1076347</td>\n",
              "      <td>1</td>\n",
              "    </tr>\n",
              "    <tr>\n",
              "      <th>208843</th>\n",
              "      <td>ZWE</td>\n",
              "      <td>-</td>\n",
              "      <td>-</td>\n",
              "      <td>2022-07-26</td>\n",
              "      <td>1</td>\n",
              "      <td>256270</td>\n",
              "      <td>21268872380</td>\n",
              "      <td>0</td>\n",
              "      <td>1</td>\n",
              "      <td>Zimbabwe</td>\n",
              "      <td>...</td>\n",
              "      <td>2379907</td>\n",
              "      <td>0</td>\n",
              "      <td>0</td>\n",
              "      <td>0</td>\n",
              "      <td>0</td>\n",
              "      <td>4637374</td>\n",
              "      <td>6331851</td>\n",
              "      <td>12045572</td>\n",
              "      <td>1076347</td>\n",
              "      <td>1</td>\n",
              "    </tr>\n",
              "  </tbody>\n",
              "</table>\n",
              "<p>5 rows × 43 columns</p>\n",
              "</div>\n",
              "      <button class=\"colab-df-convert\" onclick=\"convertToInteractive('df-3dcc1775-7bab-4e7a-bafd-cab607674bca')\"\n",
              "              title=\"Convert this dataframe to an interactive table.\"\n",
              "              style=\"display:none;\">\n",
              "        \n",
              "  <svg xmlns=\"http://www.w3.org/2000/svg\" height=\"24px\"viewBox=\"0 0 24 24\"\n",
              "       width=\"24px\">\n",
              "    <path d=\"M0 0h24v24H0V0z\" fill=\"none\"/>\n",
              "    <path d=\"M18.56 5.44l.94 2.06.94-2.06 2.06-.94-2.06-.94-.94-2.06-.94 2.06-2.06.94zm-11 1L8.5 8.5l.94-2.06 2.06-.94-2.06-.94L8.5 2.5l-.94 2.06-2.06.94zm10 10l.94 2.06.94-2.06 2.06-.94-2.06-.94-.94-2.06-.94 2.06-2.06.94z\"/><path d=\"M17.41 7.96l-1.37-1.37c-.4-.4-.92-.59-1.43-.59-.52 0-1.04.2-1.43.59L10.3 9.45l-7.72 7.72c-.78.78-.78 2.05 0 2.83L4 21.41c.39.39.9.59 1.41.59.51 0 1.02-.2 1.41-.59l7.78-7.78 2.81-2.81c.8-.78.8-2.07 0-2.86zM5.41 20L4 18.59l7.72-7.72 1.47 1.35L5.41 20z\"/>\n",
              "  </svg>\n",
              "      </button>\n",
              "      \n",
              "  <style>\n",
              "    .colab-df-container {\n",
              "      display:flex;\n",
              "      flex-wrap:wrap;\n",
              "      gap: 12px;\n",
              "    }\n",
              "\n",
              "    .colab-df-convert {\n",
              "      background-color: #E8F0FE;\n",
              "      border: none;\n",
              "      border-radius: 50%;\n",
              "      cursor: pointer;\n",
              "      display: none;\n",
              "      fill: #1967D2;\n",
              "      height: 32px;\n",
              "      padding: 0 0 0 0;\n",
              "      width: 32px;\n",
              "    }\n",
              "\n",
              "    .colab-df-convert:hover {\n",
              "      background-color: #E2EBFA;\n",
              "      box-shadow: 0px 1px 2px rgba(60, 64, 67, 0.3), 0px 1px 3px 1px rgba(60, 64, 67, 0.15);\n",
              "      fill: #174EA6;\n",
              "    }\n",
              "\n",
              "    [theme=dark] .colab-df-convert {\n",
              "      background-color: #3B4455;\n",
              "      fill: #D2E3FC;\n",
              "    }\n",
              "\n",
              "    [theme=dark] .colab-df-convert:hover {\n",
              "      background-color: #434B5C;\n",
              "      box-shadow: 0px 1px 3px 1px rgba(0, 0, 0, 0.15);\n",
              "      filter: drop-shadow(0px 1px 2px rgba(0, 0, 0, 0.3));\n",
              "      fill: #FFFFFF;\n",
              "    }\n",
              "  </style>\n",
              "\n",
              "      <script>\n",
              "        const buttonEl =\n",
              "          document.querySelector('#df-3dcc1775-7bab-4e7a-bafd-cab607674bca button.colab-df-convert');\n",
              "        buttonEl.style.display =\n",
              "          google.colab.kernel.accessAllowed ? 'block' : 'none';\n",
              "\n",
              "        async function convertToInteractive(key) {\n",
              "          const element = document.querySelector('#df-3dcc1775-7bab-4e7a-bafd-cab607674bca');\n",
              "          const dataTable =\n",
              "            await google.colab.kernel.invokeFunction('convertToInteractive',\n",
              "                                                     [key], {});\n",
              "          if (!dataTable) return;\n",
              "\n",
              "          const docLinkHtml = 'Like what you see? Visit the ' +\n",
              "            '<a target=\"_blank\" href=https://colab.research.google.com/notebooks/data_table.ipynb>data table notebook</a>'\n",
              "            + ' to learn more about interactive tables.';\n",
              "          element.innerHTML = '';\n",
              "          dataTable['output_type'] = 'display_data';\n",
              "          await google.colab.output.renderOutput(dataTable, element);\n",
              "          const docLink = document.createElement('div');\n",
              "          docLink.innerHTML = docLinkHtml;\n",
              "          element.appendChild(docLink);\n",
              "        }\n",
              "      </script>\n",
              "    </div>\n",
              "  </div>\n",
              "  "
            ],
            "text/plain": [
              "       ISO3 Province City       Date  Cancel_events  Confirmed  \\\n",
              "208839  ZWE        -    - 2022-07-22              1     256217   \n",
              "208840  ZWE        -    - 2022-07-23              1     256246   \n",
              "208841  ZWE        -    - 2022-07-24              1     256254   \n",
              "208842  ZWE        -    - 2022-07-25              1     256270   \n",
              "208843  ZWE        -    - 2022-07-26              1     256270   \n",
              "\n",
              "        Confirmed*Recovered  Confirmed_diff  Contact_tracing   Country  ...  \\\n",
              "208839          21264473698               0                1  Zimbabwe  ...   \n",
              "208840          21266880524              29                1  Zimbabwe  ...   \n",
              "208841          21267544476               8                1  Zimbabwe  ...   \n",
              "208842          21268872380              16                1  Zimbabwe  ...   \n",
              "208843          21268872380               0                1  Zimbabwe  ...   \n",
              "\n",
              "          Tests  Transport_closing  Vaccinated_1st  Vaccinated_2nd  \\\n",
              "208839  2379907                  0               0               0   \n",
              "208840  2379907                  0               0               0   \n",
              "208841  2379907                  0               0               0   \n",
              "208842  2379907                  0               0               0   \n",
              "208843  2379907                  0               0               0   \n",
              "\n",
              "        Vaccinated_3rd  Vaccinated_full  Vaccinated_once  Vaccinations  \\\n",
              "208839               0          4637374          6331851      12045572   \n",
              "208840               0          4637374          6331851      12045572   \n",
              "208841               0          4637374          6331851      12045572   \n",
              "208842               0          4637374          6331851      12045572   \n",
              "208843               0          4637374          6331851      12045572   \n",
              "\n",
              "        Vaccinations_boosters  Workplace_closing  \n",
              "208839                1076347                  1  \n",
              "208840                1076347                  1  \n",
              "208841                1076347                  1  \n",
              "208842                1076347                  1  \n",
              "208843                1076347                  1  \n",
              "\n",
              "[5 rows x 43 columns]"
            ]
          },
          "execution_count": 89,
          "metadata": {},
          "output_type": "execute_result"
        }
      ],
      "source": [
        "eng.layer().tail()"
      ]
    },
    {
      "cell_type": "markdown",
      "metadata": {
        "id": "vBEavSL6Z9uX"
      },
      "source": [
        "This dataset has only country-level data and `geo` should be country name.\n",
        "\n",
        " We can select the followings as `geo` argument for EDA at a geospatial layer when we have adequate data.\n",
        "- When `geo=None` or `geo=(None,)`, returns country-level data, assuming we have country/province/city as layers here.\n",
        "- When `geo=(\"Japan\",)` or `geo=\"Japan\"`, returns province-level data in Japan.\n",
        "- When `geo=([\"Japan\", \"UK\"],)`, returns province-level data in Japan and UK.\n",
        "- When `geo=(\"Japan\", \"Kanagawa\")`, returns city-level data in Kanagawa/Japan.\n",
        "- When `geo=(\"Japan\", [\"Tokyo\", \"Kanagawa\"])`, returns city-level data in Tokyo/Japan and Kanagawa/Japan."
      ]
    },
    {
      "cell_type": "markdown",
      "metadata": {
        "id": "-JB4eLvta5Hy"
      },
      "source": [
        "Additionally, we can create a choropleth map with a data at a geospatial layer on a date.\n",
        "\n",
        "arguments of `DataEngineer().choropleth()`:\n",
        "- geo (tuple(list[str] or tuple(str) or str) or str or None): location names to specify the layer or None (the top level)\n",
        "- variable (str): variable name to show\n",
        "- on (str or None): the date, like 22Jan2020, or None (the last date of each location)\n",
        "- title (str): title of the map\n",
        "- filename (str or None): filename to save the figure or None (display)\n",
        "- logscale (bool): whether convert the value to log10 scale values or not\n",
        "- directory (str): directory to save GeoJSON file of \"Natural Earth\" GitHub repository\n",
        "- natural_earth (str or None): title of GeoJSON file (without extension) of \"Natural Earth\" GitHub repository or None (automatically determined)\n",
        "- **kwargs: keyword arguments of the following classes and methods.\n",
        "    - matplotlib.pyplot.savefig(), matplotlib.pyplot.legend(), and\n",
        "    - pandas.DataFrame.plot()"
      ]
    },
    {
      "cell_type": "code",
      "execution_count": 90,
      "metadata": {
        "colab": {
          "base_uri": "https://localhost:8080/",
          "height": 247
        },
        "id": "V1K8EXyDayT9",
        "outputId": "76b4690d-d09a-4cfa-8cd2-14565c170471"
      },
      "outputs": [
        {
          "data": {
            "image/png": "[encoded data removed]",
            "text/plain": [
              "<Figure size 432x288 with 2 Axes>"
            ]
          },
          "metadata": {
            "needs_background": "light"
          },
          "output_type": "display_data"
        }
      ],
      "source": [
        "eng.choropleth(geo=None, variable=\"Confirmed\", title=\"Choropleth map: Confirmed on the last date of records\", filename=None)"
      ]
    },
    {
      "cell_type": "markdown",
      "metadata": {
        "id": "1I6lrlFEX5ck"
      },
      "source": [
        "## 5. Data subsetting for a location and data complement\n",
        "The dataset is a geospatial time-series data. By selecting a location, the dataset will be converted to a time-series data, which is easier to analyze."
      ]
    },
    {
      "cell_type": "markdown",
      "metadata": {
        "id": "WaTFw2EtQiFJ"
      },
      "source": [
        "### 5.1 Subsetting\n",
        "We will create a subset for selected location (eg. country, province/prefecture/state, city). Because the loaded dataset has country-level data, total values in United Kingdom (UK) on dates will be created here as an example.\n",
        "\n",
        "Arguments of `DataEngineer().subset()`:\n",
        "- geo (tuple(list[str] or tuple(str) or str) or str or None): location names to filter or None (total at the top level)\n",
        "- start_date (str or None): start date, like 22Jan2020\n",
        "- end_date (str or None): end date, like 01Feb2020\n",
        "- variables (list[str] or None): list of variables to add or None (all available columns)\n",
        "- complement (bool): whether perform data complement or not, True as default\n",
        "- **Kwargs: keyword arguments for complement and default values\n",
        "    - recovery_period (int): expected value of recovery period [days], 17\n",
        "    - interval (int): expected update interval of the number of recovered cases [days], 2\n",
        "    - max_ignored (int): Max number of recovered cases to be ignored [cases], 100\n",
        "    - max_ending_unupdated (int): Max number of days to apply full complement, where max recovered cases are not updated [days], 14\n",
        "    - upper_limit_days (int): maximum number of valid partial recovery periods [days], 90\n",
        "    - lower_limit_days (int): minimum number of valid partial recovery periods [days], 7\n",
        "    - upper_percentage (float): fraction of partial recovery periods with value greater than upper_limit_days, 0.5\n",
        "    - lower_percentage (float): fraction of partial recovery periods with value less than lower_limit_days, 0.5"
      ]
    },
    {
      "cell_type": "markdown",
      "metadata": {
        "id": "ZabXVUsySIPU"
      },
      "source": [
        "NOTE:  \n",
        "We can select the followings as `geo` argument for subsetting when we have adequate data.\n",
        "- When `geo=None` or `geo=(None,)`, returns total values of all country-level data, assuming we have country/province/city as layers here.\n",
        "- When `geo=(\"Japan\",)` or `geo=\"Japan\"`, returns country-level data in Japan.\n",
        "- When `geo=([\"Japan\", \"UK\"],)`, returns country-level data of Japan and UK.\n",
        "- When `geo=(\"Japan\", \"Tokyo\")`, returns province-level data of Tokyo/Japan.\n",
        "- When `geo=(\"Japan\", [\"Tokyo\", \"Kanagawa\"])`, returns total values of province-level data of Tokyo/Japan and Kanagawa/Japan.\n",
        "- When `geo=(\"Japan\", \"Kanagawa\", \"Yokohama\")`, returns city-level data of Yokohama/Kanagawa/Japan.\n",
        "- When `geo=((\"Japan\", \"Kanagawa\", [\"Yokohama\", \"Kawasaki\"])`, returns total values of city-level data of Yokohama/Kanagawa/Japan and Kawasaki/Kanagawa/Japan."
      ]
    },
    {
      "cell_type": "code",
      "execution_count": 91,
      "metadata": {
        "colab": {
          "base_uri": "https://localhost:8080/",
          "height": 349
        },
        "id": "iENpcOUYTd0G",
        "outputId": "659350fe-e8ef-40b0-9fcd-0157e69dc30f"
      },
      "outputs": [
        {
          "name": "stdout",
          "output_type": "stream",
          "text": [
            "\n",
            "\n",
            "{}\n"
          ]
        },
        {
          "data": {
            "image/png": "[encoded data removed]",
            "text/plain": [
              "<Figure size 432x288 with 1 Axes>"
            ]
          },
          "metadata": {
            "needs_background": "light"
          },
          "output_type": "display_data"
        }
      ],
      "source": [
        "# Without complement\n",
        "without_df, status, status_dict = eng.subset(geo=\"UK\", complement=False)\n",
        "print(f\"{status}\\n\")\n",
        "pprint(status_dict)\n",
        "cs.line_plot(without_df[[\"Confirmed\", \"Fatal\", \"Recovered\"]], title=\"UK: records WITHOUT complement\")"
      ]
    },
    {
      "cell_type": "code",
      "execution_count": 92,
      "metadata": {
        "colab": {
          "base_uri": "https://localhost:8080/",
          "height": 453
        },
        "id": "9l4AWOqcQnEH",
        "outputId": "a9241c22-425f-460e-cca6-7233f27506b8"
      },
      "outputs": [
        {
          "name": "stdout",
          "output_type": "stream",
          "text": [
            "monotonic increasing complemented confirmed data and \n",
            "monotonic increasing complemented fatal data and \n",
            "partially complemented recovered data\n",
            "\n",
            "{'Full_recovered': False,\n",
            " 'Monotonic_confirmed': True,\n",
            " 'Monotonic_fatal': True,\n",
            " 'Monotonic_recovered': True,\n",
            " 'Partial_recovered': True}\n"
          ]
        },
        {
          "data": {
            "image/png": "[encoded data removed]",
            "text/plain": [
              "<Figure size 432x288 with 1 Axes>"
            ]
          },
          "metadata": {
            "needs_background": "light"
          },
          "output_type": "display_data"
        }
      ],
      "source": [
        "# With complement (default)\n",
        "with_df, status, status_dict = eng.subset(geo=\"Japan\", complement=True)\n",
        "print(f\"{status}\\n\")\n",
        "pprint(status_dict)\n",
        "cs.line_plot(with_df[[\"Confirmed\", \"Fatal\", \"Recovered\"]], title=\"UK: records WITH complement\")"
      ]
    },
    {
      "cell_type": "markdown",
      "metadata": {
        "id": "pBc-JlShXyOu"
      },
      "source": [
        "### 5.2 Details of data complement\n",
        "When `complement=True` (default), data complement will be performed for confirmed/fatal/recovered data. This may be required for analysis because reported cumulative values sometimes show decreasing by changing accidentally for an example. Additionally, some countries, including UK, do not report the number of recovered cases.\n",
        "\n",
        "The possible kinds of complement for each country are the following:\n",
        "\n",
        "- \"Monotonic_confirmed/fatal/recovered\" (monotonic increasing complement) Force the variable show monotonic increasing.\n",
        "- \"Full_recovered\" (full complement of recovered data) Estimate the number of recovered cases using the value of estimated average recovery period.\n",
        "- \"Partial_recovered\" (partial complement of recovered data) When recovered values are not updated for some days, extrapolate the values."
      ]
    },
    {
      "cell_type": "markdown",
      "metadata": {
        "id": "3jTq-GXnVpJP"
      },
      "source": [
        "### 5.3 Recovery period\n",
        "What is \"recovery period\"?  \n",
        "We defined \"recovery period\" as the time period between case confirmation and recovery (as it is subjectively defined per country). We can estimate the mode value of recovery period with class method `DataEngineer.recovery_period(data)`."
      ]
    },
    {
      "cell_type": "code",
      "execution_count": 93,
      "metadata": {
        "colab": {
          "base_uri": "https://localhost:8080/"
        },
        "id": "61jqclzxWCxU",
        "outputId": "b216c251-0c24-4f8c-8c03-19c093570a00"
      },
      "outputs": [
        {
          "name": "stdout",
          "output_type": "stream",
          "text": [
            "Mode value of recovery period in Japan: 10 [days]\n"
          ]
        }
      ],
      "source": [
        "jpn_df, *_ = eng.subset(geo=\"Japan\", variables=[\"Confirmed\", \"Fatal\", \"Recovered\"], complement=False)\n",
        "recovery_period = cs.DataEngineer.recovery_period(data=jpn_df)\n",
        "print(f\"Mode value of recovery period in Japan: {recovery_period} [days]\")"
      ]
    },
    {
      "cell_type": "markdown",
      "metadata": {
        "id": "x4Sym5mFXnS7"
      },
      "source": [
        "Details of recovery period calculation:"
      ]
    },
    {
      "cell_type": "code",
      "execution_count": 94,
      "metadata": {
        "colab": {
          "base_uri": "https://localhost:8080/",
          "height": 278
        },
        "id": "CS84PGfbXusE",
        "outputId": "52f2589d-f555-4731-a4f4-b76ea875e1ec"
      },
      "outputs": [
        {
          "data": {
            "image/png": "[encoded data removed]",
            "text/plain": [
              "<Figure size 432x288 with 1 Axes>"
            ]
          },
          "metadata": {
            "needs_background": "light"
          },
          "output_type": "display_data"
        }
      ],
      "source": [
        "df = jpn_df.resample(\"D\").sum()\n",
        "df[\"diff\"] = df[\"Confirmed\"] - df[\"Fatal\"]\n",
        "df = df.loc[:, [\"diff\", \"Recovered\"]].unstack().reset_index()\n",
        "df.columns = [\"Variable\", \"Date\", \"Number\"]\n",
        "df[\"Days\"] = (df[\"Date\"] - df[\"Date\"].min()).dt.days\n",
        "df = df.pivot_table(values=\"Days\", index=\"Number\", columns=\"Variable\")\n",
        "df = df.interpolate(limit_area=\"inside\").dropna().astype(np.int64)\n",
        "df[\"Elapsed\"] = df[\"Recovered\"] - df[\"diff\"]\n",
        "df = df.loc[df[\"Elapsed\"] > 0]\n",
        "# Calculate mode value\n",
        "mode_value = round(df[\"Elapsed\"].mode().mean())\n",
        "df[\"Elapsed\"].plot.hist(title=f\"Histogram of elapsed days of recovery, mode value: {mode_value} days\");"
      ]
    },
    {
      "cell_type": "markdown",
      "metadata": {
        "id": "TYLSYjYZaA5m"
      },
      "source": [
        "### 5.4 Alias of subsets\n",
        "We can register alias names of subsets with `DataEngineer().subset_alias()`.\n",
        "\n",
        "Arguments:  \n",
        "- alias (str or None): alias name or None (list-up alias names)\n",
        "- update (bool): force updating the alias when @alias is not None\n",
        "- **kwargs: keyword arguments of covsirphy.DataEngineer().subset()"
      ]
    },
    {
      "cell_type": "code",
      "execution_count": 95,
      "metadata": {
        "colab": {
          "base_uri": "https://localhost:8080/"
        },
        "id": "9LNOkwRKaQm3",
        "outputId": "1b29e590-b3de-49da-836a-82e5c4d392b3"
      },
      "outputs": [
        {
          "data": {
            "text/plain": [
              "True"
            ]
          },
          "execution_count": 95,
          "metadata": {},
          "output_type": "execute_result"
        }
      ],
      "source": [
        "# Register\n",
        "sub1, *_ = eng.subset_alias(alias=\"UK_with\", geo=\"UK\", complement=True)\n",
        "# Retrieve with alias\n",
        "sub2, *_ = eng.subset_alias(alias=\"UK_with\")\n",
        "# Comparison\n",
        "sub1.equals(sub2)"
      ]
    },
    {
      "cell_type": "markdown",
      "metadata": {
        "id": "5tubFNqgRObT"
      },
      "source": [
        "## 7. EDA of subset\n",
        "With explanatory data analysis, we will get the figure of datasets."
      ]
    },
    {
      "cell_type": "markdown",
      "metadata": {
        "id": "Fby-jSMtb7KY"
      },
      "source": [
        "### 7.1 Alias of variables\n",
        "We can specify variables with alias. For example, \"CIFR\" is equivalent to list `['Confirmed', 'Infected', 'Recovered', 'Fatal']`."
      ]
    },
    {
      "cell_type": "code",
      "execution_count": 96,
      "metadata": {
        "colab": {
          "base_uri": "https://localhost:8080/",
          "height": 238
        },
        "id": "mtRJ2D0sclri",
        "outputId": "8c6b2e3c-b80d-46d1-ac25-6c7d0f08d639"
      },
      "outputs": [
        {
          "data": {
            "text/html": [
              "\n",
              "  <div id=\"df-3f6c073b-7651-4f41-baa9-da73ab4a5fa1\">\n",
              "    <div class=\"colab-df-container\">\n",
              "      <div>\n",
              "<style scoped>\n",
              "    .dataframe tbody tr th:only-of-type {\n",
              "        vertical-align: middle;\n",
              "    }\n",
              "\n",
              "    .dataframe tbody tr th {\n",
              "        vertical-align: top;\n",
              "    }\n",
              "\n",
              "    .dataframe thead th {\n",
              "        text-align: right;\n",
              "    }\n",
              "</style>\n",
              "<table border=\"1\" class=\"dataframe\">\n",
              "  <thead>\n",
              "    <tr style=\"text-align: right;\">\n",
              "      <th></th>\n",
              "      <th>Confirmed</th>\n",
              "      <th>Infected</th>\n",
              "      <th>Fatal</th>\n",
              "      <th>Recovered</th>\n",
              "    </tr>\n",
              "    <tr>\n",
              "      <th>Date</th>\n",
              "      <th></th>\n",
              "      <th></th>\n",
              "      <th></th>\n",
              "      <th></th>\n",
              "    </tr>\n",
              "  </thead>\n",
              "  <tbody>\n",
              "    <tr>\n",
              "      <th>2022-07-23</th>\n",
              "      <td>10981802</td>\n",
              "      <td>1085567</td>\n",
              "      <td>31799</td>\n",
              "      <td>9864436</td>\n",
              "    </tr>\n",
              "    <tr>\n",
              "      <th>2022-07-24</th>\n",
              "      <td>11388696</td>\n",
              "      <td>1405698</td>\n",
              "      <td>31901</td>\n",
              "      <td>9951097</td>\n",
              "    </tr>\n",
              "    <tr>\n",
              "      <th>2022-07-25</th>\n",
              "      <td>11515272</td>\n",
              "      <td>1454421</td>\n",
              "      <td>31949</td>\n",
              "      <td>10028902</td>\n",
              "    </tr>\n",
              "    <tr>\n",
              "      <th>2022-07-26</th>\n",
              "      <td>11515272</td>\n",
              "      <td>1454421</td>\n",
              "      <td>31949</td>\n",
              "      <td>10028902</td>\n",
              "    </tr>\n",
              "    <tr>\n",
              "      <th>2022-07-27</th>\n",
              "      <td>11515272</td>\n",
              "      <td>1454421</td>\n",
              "      <td>31949</td>\n",
              "      <td>10028902</td>\n",
              "    </tr>\n",
              "  </tbody>\n",
              "</table>\n",
              "</div>\n",
              "      <button class=\"colab-df-convert\" onclick=\"convertToInteractive('df-3f6c073b-7651-4f41-baa9-da73ab4a5fa1')\"\n",
              "              title=\"Convert this dataframe to an interactive table.\"\n",
              "              style=\"display:none;\">\n",
              "        \n",
              "  <svg xmlns=\"http://www.w3.org/2000/svg\" height=\"24px\"viewBox=\"0 0 24 24\"\n",
              "       width=\"24px\">\n",
              "    <path d=\"M0 0h24v24H0V0z\" fill=\"none\"/>\n",
              "    <path d=\"M18.56 5.44l.94 2.06.94-2.06 2.06-.94-2.06-.94-.94-2.06-.94 2.06-2.06.94zm-11 1L8.5 8.5l.94-2.06 2.06-.94-2.06-.94L8.5 2.5l-.94 2.06-2.06.94zm10 10l.94 2.06.94-2.06 2.06-.94-2.06-.94-.94-2.06-.94 2.06-2.06.94z\"/><path d=\"M17.41 7.96l-1.37-1.37c-.4-.4-.92-.59-1.43-.59-.52 0-1.04.2-1.43.59L10.3 9.45l-7.72 7.72c-.78.78-.78 2.05 0 2.83L4 21.41c.39.39.9.59 1.41.59.51 0 1.02-.2 1.41-.59l7.78-7.78 2.81-2.81c.8-.78.8-2.07 0-2.86zM5.41 20L4 18.59l7.72-7.72 1.47 1.35L5.41 20z\"/>\n",
              "  </svg>\n",
              "      </button>\n",
              "      \n",
              "  <style>\n",
              "    .colab-df-container {\n",
              "      display:flex;\n",
              "      flex-wrap:wrap;\n",
              "      gap: 12px;\n",
              "    }\n",
              "\n",
              "    .colab-df-convert {\n",
              "      background-color: #E8F0FE;\n",
              "      border: none;\n",
              "      border-radius: 50%;\n",
              "      cursor: pointer;\n",
              "      display: none;\n",
              "      fill: #1967D2;\n",
              "      height: 32px;\n",
              "      padding: 0 0 0 0;\n",
              "      width: 32px;\n",
              "    }\n",
              "\n",
              "    .colab-df-convert:hover {\n",
              "      background-color: #E2EBFA;\n",
              "      box-shadow: 0px 1px 2px rgba(60, 64, 67, 0.3), 0px 1px 3px 1px rgba(60, 64, 67, 0.15);\n",
              "      fill: #174EA6;\n",
              "    }\n",
              "\n",
              "    [theme=dark] .colab-df-convert {\n",
              "      background-color: #3B4455;\n",
              "      fill: #D2E3FC;\n",
              "    }\n",
              "\n",
              "    [theme=dark] .colab-df-convert:hover {\n",
              "      background-color: #434B5C;\n",
              "      box-shadow: 0px 1px 3px 1px rgba(0, 0, 0, 0.15);\n",
              "      filter: drop-shadow(0px 1px 2px rgba(0, 0, 0, 0.3));\n",
              "      fill: #FFFFFF;\n",
              "    }\n",
              "  </style>\n",
              "\n",
              "      <script>\n",
              "        const buttonEl =\n",
              "          document.querySelector('#df-3f6c073b-7651-4f41-baa9-da73ab4a5fa1 button.colab-df-convert');\n",
              "        buttonEl.style.display =\n",
              "          google.colab.kernel.accessAllowed ? 'block' : 'none';\n",
              "\n",
              "        async function convertToInteractive(key) {\n",
              "          const element = document.querySelector('#df-3f6c073b-7651-4f41-baa9-da73ab4a5fa1');\n",
              "          const dataTable =\n",
              "            await google.colab.kernel.invokeFunction('convertToInteractive',\n",
              "                                                     [key], {});\n",
              "          if (!dataTable) return;\n",
              "\n",
              "          const docLinkHtml = 'Like what you see? Visit the ' +\n",
              "            '<a target=\"_blank\" href=https://colab.research.google.com/notebooks/data_table.ipynb>data table notebook</a>'\n",
              "            + ' to learn more about interactive tables.';\n",
              "          element.innerHTML = '';\n",
              "          dataTable['output_type'] = 'display_data';\n",
              "          await google.colab.output.renderOutput(dataTable, element);\n",
              "          const docLink = document.createElement('div');\n",
              "          docLink.innerHTML = docLinkHtml;\n",
              "          element.appendChild(docLink);\n",
              "        }\n",
              "      </script>\n",
              "    </div>\n",
              "  </div>\n",
              "  "
            ],
            "text/plain": [
              "            Confirmed  Infected  Fatal  Recovered\n",
              "Date                                             \n",
              "2022-07-23   10981802   1085567  31799    9864436\n",
              "2022-07-24   11388696   1405698  31901    9951097\n",
              "2022-07-25   11515272   1454421  31949   10028902\n",
              "2022-07-26   11515272   1454421  31949   10028902\n",
              "2022-07-27   11515272   1454421  31949   10028902"
            ]
          },
          "execution_count": 96,
          "metadata": {},
          "output_type": "execute_result"
        }
      ],
      "source": [
        "eng.subset(geo=\"Japan\", variables=\"CIRF\")[0].tail()"
      ]
    },
    {
      "cell_type": "markdown",
      "metadata": {
        "id": "f8vRCthxczbK"
      },
      "source": [
        "All aliases can be checked with `DataEngineer().variables_alias()`."
      ]
    },
    {
      "cell_type": "code",
      "execution_count": 97,
      "metadata": {
        "colab": {
          "base_uri": "https://localhost:8080/"
        },
        "id": "5SjIOtZPRSUf",
        "outputId": "793ede08-3971-4fe1-a996-e13f22ee592b"
      },
      "outputs": [
        {
          "data": {
            "text/plain": [
              "{'C': ['Confirmed'],\n",
              " 'CFR': ['Confirmed', 'Fatal', 'Recovered'],\n",
              " 'CIFR': ['Confirmed', 'Infected', 'Fatal', 'Recovered'],\n",
              " 'CR': ['Confirmed', 'Recovered'],\n",
              " 'F': ['Fatal'],\n",
              " 'I': ['Infected'],\n",
              " 'N': ['Population'],\n",
              " 'R': ['Recovered'],\n",
              " 'S': ['Susceptible'],\n",
              " 'T': ['Tests']}"
            ]
          },
          "execution_count": 97,
          "metadata": {},
          "output_type": "execute_result"
        }
      ],
      "source": [
        "eng.variables_alias()"
      ]
    },
    {
      "cell_type": "markdown",
      "metadata": {
        "id": "r4sftrXic-5M"
      },
      "source": [
        "We can register new alias \"p\" with `[\"Tests\", \"Confirmed\", \"Positive_rate_%\"]` as an example."
      ]
    },
    {
      "cell_type": "code",
      "execution_count": 98,
      "metadata": {
        "colab": {
          "base_uri": "https://localhost:8080/",
          "height": 238
        },
        "id": "dyqvSZPIcFv4",
        "outputId": "cbf348d3-24e6-49ff-e225-0989d8925095"
      },
      "outputs": [
        {
          "data": {
            "text/html": [
              "\n",
              "  <div id=\"df-2c592da8-f80f-45a5-a877-0ad3bb3bccda\">\n",
              "    <div class=\"colab-df-container\">\n",
              "      <div>\n",
              "<style scoped>\n",
              "    .dataframe tbody tr th:only-of-type {\n",
              "        vertical-align: middle;\n",
              "    }\n",
              "\n",
              "    .dataframe tbody tr th {\n",
              "        vertical-align: top;\n",
              "    }\n",
              "\n",
              "    .dataframe thead th {\n",
              "        text-align: right;\n",
              "    }\n",
              "</style>\n",
              "<table border=\"1\" class=\"dataframe\">\n",
              "  <thead>\n",
              "    <tr style=\"text-align: right;\">\n",
              "      <th></th>\n",
              "      <th>Tests</th>\n",
              "      <th>Confirmed</th>\n",
              "      <th>Positive_rate_%</th>\n",
              "    </tr>\n",
              "    <tr>\n",
              "      <th>Date</th>\n",
              "      <th></th>\n",
              "      <th></th>\n",
              "      <th></th>\n",
              "    </tr>\n",
              "  </thead>\n",
              "  <tbody>\n",
              "    <tr>\n",
              "      <th>2022-07-23</th>\n",
              "      <td>60384408</td>\n",
              "      <td>10981802</td>\n",
              "      <td>18.186486</td>\n",
              "    </tr>\n",
              "    <tr>\n",
              "      <th>2022-07-24</th>\n",
              "      <td>60594911</td>\n",
              "      <td>11388696</td>\n",
              "      <td>18.794806</td>\n",
              "    </tr>\n",
              "    <tr>\n",
              "      <th>2022-07-25</th>\n",
              "      <td>60736524</td>\n",
              "      <td>11515272</td>\n",
              "      <td>18.959386</td>\n",
              "    </tr>\n",
              "    <tr>\n",
              "      <th>2022-07-26</th>\n",
              "      <td>60736524</td>\n",
              "      <td>11515272</td>\n",
              "      <td>18.959386</td>\n",
              "    </tr>\n",
              "    <tr>\n",
              "      <th>2022-07-27</th>\n",
              "      <td>60736524</td>\n",
              "      <td>11515272</td>\n",
              "      <td>18.959386</td>\n",
              "    </tr>\n",
              "  </tbody>\n",
              "</table>\n",
              "</div>\n",
              "      <button class=\"colab-df-convert\" onclick=\"convertToInteractive('df-2c592da8-f80f-45a5-a877-0ad3bb3bccda')\"\n",
              "              title=\"Convert this dataframe to an interactive table.\"\n",
              "              style=\"display:none;\">\n",
              "        \n",
              "  <svg xmlns=\"http://www.w3.org/2000/svg\" height=\"24px\"viewBox=\"0 0 24 24\"\n",
              "       width=\"24px\">\n",
              "    <path d=\"M0 0h24v24H0V0z\" fill=\"none\"/>\n",
              "    <path d=\"M18.56 5.44l.94 2.06.94-2.06 2.06-.94-2.06-.94-.94-2.06-.94 2.06-2.06.94zm-11 1L8.5 8.5l.94-2.06 2.06-.94-2.06-.94L8.5 2.5l-.94 2.06-2.06.94zm10 10l.94 2.06.94-2.06 2.06-.94-2.06-.94-.94-2.06-.94 2.06-2.06.94z\"/><path d=\"M17.41 7.96l-1.37-1.37c-.4-.4-.92-.59-1.43-.59-.52 0-1.04.2-1.43.59L10.3 9.45l-7.72 7.72c-.78.78-.78 2.05 0 2.83L4 21.41c.39.39.9.59 1.41.59.51 0 1.02-.2 1.41-.59l7.78-7.78 2.81-2.81c.8-.78.8-2.07 0-2.86zM5.41 20L4 18.59l7.72-7.72 1.47 1.35L5.41 20z\"/>\n",
              "  </svg>\n",
              "      </button>\n",
              "      \n",
              "  <style>\n",
              "    .colab-df-container {\n",
              "      display:flex;\n",
              "      flex-wrap:wrap;\n",
              "      gap: 12px;\n",
              "    }\n",
              "\n",
              "    .colab-df-convert {\n",
              "      background-color: #E8F0FE;\n",
              "      border: none;\n",
              "      border-radius: 50%;\n",
              "      cursor: pointer;\n",
              "      display: none;\n",
              "      fill: #1967D2;\n",
              "      height: 32px;\n",
              "      padding: 0 0 0 0;\n",
              "      width: 32px;\n",
              "    }\n",
              "\n",
              "    .colab-df-convert:hover {\n",
              "      background-color: #E2EBFA;\n",
              "      box-shadow: 0px 1px 2px rgba(60, 64, 67, 0.3), 0px 1px 3px 1px rgba(60, 64, 67, 0.15);\n",
              "      fill: #174EA6;\n",
              "    }\n",
              "\n",
              "    [theme=dark] .colab-df-convert {\n",
              "      background-color: #3B4455;\n",
              "      fill: #D2E3FC;\n",
              "    }\n",
              "\n",
              "    [theme=dark] .colab-df-convert:hover {\n",
              "      background-color: #434B5C;\n",
              "      box-shadow: 0px 1px 3px 1px rgba(0, 0, 0, 0.15);\n",
              "      filter: drop-shadow(0px 1px 2px rgba(0, 0, 0, 0.3));\n",
              "      fill: #FFFFFF;\n",
              "    }\n",
              "  </style>\n",
              "\n",
              "      <script>\n",
              "        const buttonEl =\n",
              "          document.querySelector('#df-2c592da8-f80f-45a5-a877-0ad3bb3bccda button.colab-df-convert');\n",
              "        buttonEl.style.display =\n",
              "          google.colab.kernel.accessAllowed ? 'block' : 'none';\n",
              "\n",
              "        async function convertToInteractive(key) {\n",
              "          const element = document.querySelector('#df-2c592da8-f80f-45a5-a877-0ad3bb3bccda');\n",
              "          const dataTable =\n",
              "            await google.colab.kernel.invokeFunction('convertToInteractive',\n",
              "                                                     [key], {});\n",
              "          if (!dataTable) return;\n",
              "\n",
              "          const docLinkHtml = 'Like what you see? Visit the ' +\n",
              "            '<a target=\"_blank\" href=https://colab.research.google.com/notebooks/data_table.ipynb>data table notebook</a>'\n",
              "            + ' to learn more about interactive tables.';\n",
              "          element.innerHTML = '';\n",
              "          dataTable['output_type'] = 'display_data';\n",
              "          await google.colab.output.renderOutput(dataTable, element);\n",
              "          const docLink = document.createElement('div');\n",
              "          docLink.innerHTML = docLinkHtml;\n",
              "          element.appendChild(docLink);\n",
              "        }\n",
              "      </script>\n",
              "    </div>\n",
              "  </div>\n",
              "  "
            ],
            "text/plain": [
              "               Tests  Confirmed  Positive_rate_%\n",
              "Date                                            \n",
              "2022-07-23  60384408   10981802        18.186486\n",
              "2022-07-24  60594911   11388696        18.794806\n",
              "2022-07-25  60736524   11515272        18.959386\n",
              "2022-07-26  60736524   11515272        18.959386\n",
              "2022-07-27  60736524   11515272        18.959386"
            ]
          },
          "execution_count": 98,
          "metadata": {},
          "output_type": "execute_result"
        }
      ],
      "source": [
        "# Register new alias\n",
        "eng.variables_alias(alias=\"p\", variables=[\"Tests\", \"Confirmed\", \"Positive_rate_%\"])\n",
        "# Check the contents of an alias\n",
        "eng.variables_alias(alias=\"p\")\n",
        "# Subsetting with the variable alias\n",
        "eng.subset_alias(alias=\"jp\", geo=\"Japan\", variables=\"p\")[0].tail()"
      ]
    },
    {
      "cell_type": "markdown",
      "metadata": {
        "id": "bRHNdhpHd7Y_"
      },
      "source": [
        "### 7.2 Line plot\n",
        "Show data with line plot. We can select function `line_plot` or class `LinePlot`."
      ]
    },
    {
      "cell_type": "code",
      "execution_count": 99,
      "metadata": {
        "id": "_Eb2dNUCdjVb"
      },
      "outputs": [],
      "source": [
        "line_df, *_ = eng.subset_alias(alias=\"jp\")"
      ]
    },
    {
      "cell_type": "markdown",
      "metadata": {
        "id": "LUbB7XaNfSNP"
      },
      "source": [
        "With function:"
      ]
    },
    {
      "cell_type": "code",
      "execution_count": 100,
      "metadata": {
        "colab": {
          "base_uri": "https://localhost:8080/",
          "height": 297
        },
        "id": "ka4av_kcedN9",
        "outputId": "0eb8346c-426e-49c7-99ad-032d867a3913"
      },
      "outputs": [
        {
          "data": {
            "image/png": "[encoded data removed]",
            "text/plain": [
              "<Figure size 432x288 with 1 Axes>"
            ]
          },
          "metadata": {
            "needs_background": "light"
          },
          "output_type": "display_data"
        }
      ],
      "source": [
        "cs.line_plot(\n",
        "    line_df[\"Positive_rate_%\"],\n",
        "    title=\"Positive rate % in Japan\",\n",
        "    ylabel=\"Positive rate %\",\n",
        "    math_scale=False,\n",
        "    show_legend=False,\n",
        "    filename=None,\n",
        ")"
      ]
    },
    {
      "cell_type": "markdown",
      "metadata": {
        "id": "8XSY2RTbfUb4"
      },
      "source": [
        "With class:"
      ]
    },
    {
      "cell_type": "code",
      "execution_count": 101,
      "metadata": {
        "colab": {
          "base_uri": "https://localhost:8080/",
          "height": 297
        },
        "id": "XXY-PDyEemL4",
        "outputId": "1b5448ce-ed54-439d-d22a-3af6b7a3bfc8"
      },
      "outputs": [
        {
          "data": {
            "image/png": "[encoded data removed]",
            "text/plain": [
              "<Figure size 432x288 with 1 Axes>"
            ]
          },
          "metadata": {
            "needs_background": "light"
          },
          "output_type": "display_data"
        }
      ],
      "source": [
        "with cs.LinePlot(filename=None) as lp:\n",
        "    lp.plot(line_df[\"Positive_rate_%\"])\n",
        "    lp.title = \"Positive rate % in Japan\"\n",
        "    lp.x_axis(xlabel=None)\n",
        "    lp.y_axis(ylabel=\"Positive rate %\", math_scale=False)\n",
        "    lp.legend_hide()"
      ]
    },
    {
      "cell_type": "markdown",
      "metadata": {
        "id": "uoRQJ3V2goeO"
      },
      "source": [
        "### 7.3 Scatter plot\n",
        "Show data with scatter plot. We can select function `scatter_plot` or class `ScatterPlot`."
      ]
    },
    {
      "cell_type": "code",
      "execution_count": 102,
      "metadata": {
        "id": "suqWC1TxfG4b"
      },
      "outputs": [],
      "source": [
        "sc_df, *_ = eng.subset_alias(alias=\"jp\")\n",
        "sc_df.rename(columns={\"Tests\": \"x\", \"Confirmed\": \"y\"}, inplace=True)"
      ]
    },
    {
      "cell_type": "code",
      "execution_count": 103,
      "metadata": {
        "colab": {
          "base_uri": "https://localhost:8080/",
          "height": 297
        },
        "id": "77i3iMO-g0ZZ",
        "outputId": "ede1005e-42a9-48ef-b62a-cdfe970b1ea7"
      },
      "outputs": [
        {
          "data": {
            "image/png": "[encoded data removed]",
            "text/plain": [
              "<Figure size 432x288 with 1 Axes>"
            ]
          },
          "metadata": {
            "needs_background": "light"
          },
          "output_type": "display_data"
        }
      ],
      "source": [
        "cs.scatter_plot(\n",
        "    sc_df,\n",
        "    title=\"Scatter plot\",\n",
        "    xlabel=\"Tests\", xlim=(0, None),\n",
        "    ylabel=\"Confirmed\",\n",
        "    filename=None,\n",
        ")"
      ]
    },
    {
      "cell_type": "code",
      "execution_count": 104,
      "metadata": {
        "colab": {
          "base_uri": "https://localhost:8080/",
          "height": 297
        },
        "id": "hnGua7mJhOB5",
        "outputId": "d360ce08-94d5-42f2-e1a8-4df0673d8906"
      },
      "outputs": [
        {
          "data": {
            "image/png": "[encoded data removed]",
            "text/plain": [
              "<Figure size 432x288 with 1 Axes>"
            ]
          },
          "metadata": {
            "needs_background": "light"
          },
          "output_type": "display_data"
        }
      ],
      "source": [
        "with cs.ScatterPlot(filename=None) as sp:\n",
        "    sp.plot(sc_df)\n",
        "    sp.title = \"Scatter plot\"\n",
        "    sp.x_axis(xlabel=\"Tests\", xlim=(0, None))\n",
        "    sp.y_axis(ylabel=\"Confirmed\")\n",
        "    sp.line_straight(p1=(0, 0), p2=(max(sc_df[\"x\"]), max(sc_df[\"y\"])))"
      ]
    },
    {
      "cell_type": "markdown",
      "metadata": {
        "id": "9a6fyDXKiPnm"
      },
      "source": [
        "Thank you!"
      ]
    }
  ],
  "metadata": {
    "colab": {
      "authorship_tag": "ABX9TyM7KxszmayKl9CCu37aY9yd",
      "collapsed_sections": [],
      "include_colab_link": true,
      "name": "02_data_engineering.ipynb",
      "provenance": [],
      "toc_visible": true
    },
    "kernelspec": {
      "display_name": "Python 3.9.8 ('.venv': poetry)",
      "language": "python",
      "name": "python3"
    },
    "language_info": {
      "name": "python",
      "version": "3.9.8"
    },
    "vscode": {
      "interpreter": {
        "hash": "22bb74880181aee4909a67ef083e714bf83db977b91038d43aef8b1870a4f681"
      }
    }
  },
  "nbformat": 4,
  "nbformat_minor": 0
}
