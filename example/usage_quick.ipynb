{
 "cells": [
  {
   "cell_type": "markdown",
   "metadata": {},
   "source": [
    "# Usage: scenario analysis\n",
    "\n",
    "[![Open In Colab](https://colab.research.google.com/assets/colab-badge.svg)](https://colab.research.google.com/github/lisphilar/covid19-sir/blob/master/example/usage_quick.ipynb)\n",
    "\n",
    "This is a quick tour of CovsirPhy. Details scenario analysis will be explained.\n",
    "\"Scenario analysis\" means that we calculate the number of cases in the future phases with some sets of ODE parameter values. With this analysis, we can estimate the impact of our activities against the outbreak on the number of cases."
   ]
  },
  {
   "cell_type": "markdown",
   "metadata": {},
   "source": [
    "### Preparation\n",
    "Prepare the packages."
   ]
  },
  {
   "cell_type": "code",
   "execution_count": null,
   "metadata": {
    "tags": []
   },
   "outputs": [],
   "source": [
    "# !pip install covsirphy --upgrade\n",
    "from pprint import pprint\n",
    "import covsirphy as cs\n",
    "cs.__version__"
   ]
  },
  {
   "cell_type": "markdown",
   "metadata": {},
   "source": [
    "### Dataset preparation\n",
    "Download the datasets to \"../input\" directory and load them.  \n",
    "Please refer to [Usage: datasets](https://lisphilar.github.io/covid19-sir/usage_dataset.html) for the details."
   ]
  },
  {
   "cell_type": "code",
   "execution_count": null,
   "metadata": {
    "tags": []
   },
   "outputs": [],
   "source": [
    "loader = cs.DataLoader(\"../input\")\n",
    "# The number of cases and population values\n",
    "jhu_data = loader.jhu()\n",
    "# Government Response Tracker (OxCGRT)\n",
    "oxcgrt_data = loader.oxcgrt()\n",
    "# The number of tests\n",
    "pcr_data = loader.pcr()\n",
    "# The number of vaccinations\n",
    "vaccine_data = loader.vaccine()\n",
    "# Mobility data\n",
    "mobility_data = loader.mobility()"
   ]
  },
  {
   "cell_type": "markdown",
   "metadata": {},
   "source": [
    "From development version 2.22.0, we can collect datasets and get them as dictionary with `DataLoader.collect()`.\n",
    "\n",
    "```Python\n",
    "data_dict = loader.collect()\n",
    "snl = cs.Scenario(country=\"Japan\", province=None)\n",
    "snl.register(**data_dict)\n",
    "```"
   ]
  },
  {
   "cell_type": "markdown",
   "metadata": {},
   "source": [
    "### Start scenario analysis\n",
    "\n",
    "As an example, we will analysis the number of cases in Japan. `covsirphy.Scenario` is the interface for analysis. Please specify the area (country: required, province: optional) when creating the instance and register the datasets with `Scenario.register()`. As the extra datasets, we can select `OxCGRTData`, `PCRData` and `VaccineData`."
   ]
  },
  {
   "cell_type": "code",
   "execution_count": null,
   "metadata": {},
   "outputs": [],
   "source": [
    "# Specify country and province (optional) names\n",
    "snl = cs.Scenario(country=\"Japan\", province=None)\n",
    "# Register datasets\n",
    "snl.register(jhu_data, extras=[oxcgrt_data, pcr_data, vaccine_data])"
   ]
  },
  {
   "cell_type": "markdown",
   "metadata": {},
   "source": [
    "We call `JHUData` as \"the main datasets\" because they are required to calculate the number of susceptible/infected/recovered/fatal cases. These variables are used in SIR-F model.  \n",
    "The other datasets are called as \"the extra datasets\" and they will be used to predict the future parameter values of SIR-F model for forecasting the number of cases with some scenarios.\n",
    "\n",
    "Additional information:  \n",
    "\n",
    "- Details of the datasets: [Usage: datasets](https://lisphilar.github.io/covid19-sir/usage_dataset.html)\n",
    "- Details of SIR-F model: [Usage: SIR-derived models](https://lisphilar.github.io/covid19-sir/usage_theoretical.html)"
   ]
  },
  {
   "cell_type": "markdown",
   "metadata": {},
   "source": [
    "#### Display/save figures\n",
    "We have interactive mode and script mode to display/save figures."
   ]
  },
  {
   "cell_type": "markdown",
   "metadata": {},
   "source": [
    "When use use interactive shells, including Jupyter Notebook, we can choose either \"interactive shell mode\" or \"script mode\" as follows."
   ]
  },
  {
   "cell_type": "markdown",
   "metadata": {},
   "source": [
    "Interactive mode:  \n",
    "Figures will be displayed as the output of code cells."
   ]
  },
  {
   "cell_type": "code",
   "execution_count": null,
   "metadata": {},
   "outputs": [],
   "source": [
    "# Choose interactive mode (default is True when we use interactive shells)\n",
    "snl.interactive = True"
   ]
  },
  {
   "cell_type": "markdown",
   "metadata": {},
   "source": [
    "When you want to turn-off interactive mode temporally, set `False` as `Scenario.interactive` or apply `show_figure=False` as an argument of methods, including `Scenario.records()`. Methods with figures will be shown later in this tutorial."
   ]
  },
  {
   "cell_type": "code",
   "execution_count": null,
   "metadata": {},
   "outputs": [],
   "source": [
    "# apply \"show_figures=False\" to turn-off interactive mode temporally\n",
    "# snl.records(show_figure=False)"
   ]
  },
  {
   "cell_type": "markdown",
   "metadata": {},
   "source": [
    "Script mode:  \n",
    "In script mode, figures will not be displayed. When filenames were applied to the methods as `filename` argument, figures will be saved in your local environment."
   ]
  },
  {
   "cell_type": "markdown",
   "metadata": {},
   "source": [
    "```Python\n",
    "# Stop displaying figures\n",
    "snl.interactive = False\n",
    "# With this mode we can save figures, specifying \"filename\" argument\n",
    "snl.records(filename=\"records.jpg\")\n",
    "```"
   ]
  },
  {
   "cell_type": "markdown",
   "metadata": {},
   "source": [
    "`covsirphy` uses Matplotlib backend and `Scenario.records()` etc. accepts keyword arguments of `matplotlib.pyplot.savefig()`. For example, we can export TIFF images with high resolution by specifying `filename` (.tiff) and `dpi` argument.\n",
    "\n",
    "```Python\n",
    "snl.records(filename=\"records.tiff\", dpi=500)\n",
    "```"
   ]
  },
  {
   "cell_type": "markdown",
   "metadata": {},
   "source": [
    "When we run codes as a script (eg. `python scenario_analysis.py`), only \"script mode\" is selectable and `Scenario.interactive` is always `False`. Figures will be saved when filenames are specified with `filename` argument."
   ]
  },
  {
   "cell_type": "markdown",
   "metadata": {},
   "source": [
    "Because some methods, including `Scenario.summary()`, return dataframes (`pandas.DataFrame`), we can save them as CSV files etc. using `.to_csv(filename, index=True)`."
   ]
  },
  {
   "cell_type": "markdown",
   "metadata": {},
   "source": [
    "We can produce filenames more easily with `Filer` class. Please refer to the scripts in [example directory of the repository](https://github.com/lisphilar/covid19-sir/tree/master/example)."
   ]
  },
  {
   "cell_type": "markdown",
   "metadata": {},
   "source": [
    "```Python\n",
    "filer = cs.Filer(directory=\"output\", prefix=\"jpn\", suffix=None, numbering=\"01\")\n",
    "filer.png(\"records\")\n",
    "# -> {\"filename\": \"<absolute path>/output/jpn_01_records.png\"}\n",
    "filer.jpg(\"records\")\n",
    "# -> {\"filename\": \"<absolute path>/output/jpn_01_records.jpg\"}\n",
    "filer.csv(\"records\", index=True)\n",
    "# -> {\"path_or_buf\": \"<absolute path>/output/jpn_01_records.csv\", index: True}\n",
    "```"
   ]
  },
  {
   "cell_type": "markdown",
   "metadata": {},
   "source": [
    "We can save files more easily with `Filer` as follows."
   ]
  },
  {
   "cell_type": "markdown",
   "metadata": {},
   "source": [
    "```Python\n",
    "record_df = snl.records(**filer.png(\"records\"))\n",
    "record_df.to_csv(**filer.csv(\"records\", index=False))\n",
    "````"
   ]
  },
  {
   "cell_type": "markdown",
   "metadata": {},
   "source": [
    "#### Backup/restore scenario\n",
    "\n",
    "We have `Scenario.backup(filename)` and `Scenario.restore(filename)` to backup/restore time points and phase information. This will be helpful when we perform parameter estimation using a server and simulate with the estimated parameter values using local machines.  \n",
    "\n",
    "Note that we need to execute `Scenario.register()` in advance to set time points with `Scenario.restore()`."
   ]
  },
  {
   "cell_type": "markdown",
   "metadata": {},
   "source": [
    "Backup information:"
   ]
  },
  {
   "cell_type": "markdown",
   "metadata": {},
   "source": [
    "```Python\n",
    "backupfile_dict = cs.Filer(directory=\"output\")\n",
    "snl.backup(**backupfile_dict)\n",
    "```"
   ]
  },
  {
   "cell_type": "markdown",
   "metadata": {},
   "source": [
    "Restore information:"
   ]
  },
  {
   "cell_type": "markdown",
   "metadata": {},
   "source": [
    "```Python\n",
    "backupfile_dict = cs.Filer(directory=\"output\")\n",
    "snl = cs.Scenario(country=\"Japan\")\n",
    "snl.register(jhu_data)\n",
    "snl.restore(**backupfile_dict).summary()\n",
    "```"
   ]
  },
  {
   "cell_type": "markdown",
   "metadata": {},
   "source": [
    "After restoring information, we can skip `Scenario.trend()` and `Scenario.estimate()` (their functionalities will be explained later)."
   ]
  },
  {
   "cell_type": "markdown",
   "metadata": {},
   "source": [
    "### Check records\n",
    "Let's see the records at first. `Scenario.records()` method return the records as a pandas dataframe and show a line plot. Some kind of complement will be done for analysis, if necessary."
   ]
  },
  {
   "cell_type": "markdown",
   "metadata": {},
   "source": [
    "`Scenario.records()` shows the number of infected/recovered/fatal cases as default. Using `variables` argument, we can set the variables to show. Here, we check the number of confirmed/fatal/recovered cases. They are cumulative values."
   ]
  },
  {
   "cell_type": "code",
   "execution_count": null,
   "metadata": {},
   "outputs": [],
   "source": [
    "snl.records(variables=\"CFR\").tail()\n",
    "# This is the same as\n",
    "# snl.records(variables=[\"Confirmed\", \"Fatal\", \"Recovered\"])"
   ]
  },
  {
   "cell_type": "markdown",
   "metadata": {},
   "source": [
    "The number of infected cases on date:"
   ]
  },
  {
   "cell_type": "code",
   "execution_count": null,
   "metadata": {},
   "outputs": [],
   "source": [
    "snl.records(variables=\"I\");\n",
    "# This is the same as\n",
    "# snl.records(variables=[\"Infected\"])"
   ]
  },
  {
   "cell_type": "markdown",
   "metadata": {},
   "source": [
    "All available variables can be retrieved with `variables=\"all\"`."
   ]
  },
  {
   "cell_type": "code",
   "execution_count": null,
   "metadata": {},
   "outputs": [],
   "source": [
    "df = snl.records(variables=\"all\", show_figure=False)\n",
    "pprint(df.set_index(\"Date\").columns.tolist(), compact=True)"
   ]
  },
  {
   "cell_type": "markdown",
   "metadata": {},
   "source": [
    "We can specify the variables to show."
   ]
  },
  {
   "cell_type": "code",
   "execution_count": null,
   "metadata": {},
   "outputs": [],
   "source": [
    "snl.records(variables=[\"Vaccinations\"]).tail()"
   ]
  },
  {
   "cell_type": "markdown",
   "metadata": {},
   "source": [
    "We can calculate the number of daily new cases with `Scenario.record_diff()` method."
   ]
  },
  {
   "cell_type": "code",
   "execution_count": null,
   "metadata": {},
   "outputs": [],
   "source": [
    "# Acceptable variables are the same as Scenario.records()\n",
    "snl.records_diff(variables=\"C\", window=7);"
   ]
  },
  {
   "cell_type": "markdown",
   "metadata": {},
   "source": [
    "`Scenario.show_complement()` method is useful to show the kinds of complement. The details of complement are explained in [Usage: datasets](https://lisphilar.github.io/covid19-sir/usage_dataset.html#The-number-of-cases-(JHU-style)) section."
   ]
  },
  {
   "cell_type": "code",
   "execution_count": null,
   "metadata": {},
   "outputs": [],
   "source": [
    "# Show the details of complement\n",
    "snl.show_complement()"
   ]
  },
  {
   "cell_type": "markdown",
   "metadata": {},
   "source": [
    "### S-R trend analysis\n",
    "S-R trend analysis finds the change points of SIR-derived ODE parameters. Details will be explained in [Usage (details: phases)](https://lisphilar.github.io/covid19-sir/usage_phases.html). Phases will be separated with dotted lines. i.e. Dot lines indicate the start dates of phases."
   ]
  },
  {
   "cell_type": "code",
   "execution_count": null,
   "metadata": {},
   "outputs": [],
   "source": [
    "snl.trend().summary()"
   ]
  },
  {
   "cell_type": "markdown",
   "metadata": {},
   "source": [
    "### Parameter estimation of ODE models\n",
    "Here, we will estimate the tau value [min] (using grid search) and parameter values of SIR-derived models using [Optuna](https://github.com/optuna/optuna) package (automated hyperparameter optimization framework). As an example, we use SIR-F model. Details of models will be explained in [Usage (details: theoretical datasets)](https://lisphilar.github.io/covid19-sir/usage_theoretical.html).  \n",
    "\n",
    "Note that ODE parameters are NOT universal and varies from model to model. Theta/kappa/rho/sigma are the model-specific parameters of SIR-F model. They are non-dimensionalized parameters of the differential equations of the models.\n",
    "\n",
    "**We can select the model from SIR, SIRD and SIR-F model for parameter estimation. SIR-FV model (completely deprecated) and SEWIR-F model cannot be used.**"
   ]
  },
  {
   "cell_type": "code",
   "execution_count": null,
   "metadata": {
    "tags": []
   },
   "outputs": [],
   "source": [
    "# Estimate the tau value and parameter values of SIR-F model\n",
    "snl.estimate(cs.SIRF)"
   ]
  },
  {
   "cell_type": "code",
   "execution_count": null,
   "metadata": {},
   "outputs": [],
   "source": [
    "# Show the summary of parameter estimation\n",
    "snl.summary()"
   ]
  },
  {
   "cell_type": "markdown",
   "metadata": {},
   "source": [
    "### Evaluation of estimation accuracy\n",
    "Accuracy of parameter estimation can be evaluated with RMSLE (Root Mean Squared Log Error) score.  \n",
    "\n",
    "\\begin{align*}\n",
    "\\mathrm{RMSLE} = \\sqrt{\\cfrac{1}{n}\\sum_{i=1}^{n}(log_{10}(A_{i} + 1) - log_{10}(P_{i} + 1))^2}\n",
    "\\end{align*}\n",
    "\n",
    "Where $A$ is the observed (actual) values, $P$ is estimated (predicted) values. Variables are $S (i=1), I (i=2), R (i=3)\\ \\mathrm{and}\\ F (i=n=4)$ for SIR-F model. When RMSLE score is low, hyperparameter estimation is highly accurate.\n",
    "Please refer to external sites, including [Medium: What’s the Difference Between RMSE and RMSLE?](https://medium.com/analytics-vidhya/root-mean-square-log-error-rmse-vs-rmlse-935c6cc1802a)"
   ]
  },
  {
   "cell_type": "code",
   "execution_count": null,
   "metadata": {},
   "outputs": [],
   "source": [
    "# Show RMSLE scores with the number of optimization trials and runtime for phases\n",
    "snl.summary(columns=[\"Start\", \"End\", \"RMSLE\", \"Trials\", \"Runtime\"])"
   ]
  },
  {
   "cell_type": "markdown",
   "metadata": {},
   "source": [
    "Additionally, we can visualize the accuracy with `Scenario.estimate_accuracy()`, specifying phase name."
   ]
  },
  {
   "cell_type": "code",
   "execution_count": null,
   "metadata": {},
   "outputs": [],
   "source": [
    "# Visualize the accuracy for the 2nd phase\n",
    "snl.estimate_accuracy(phase=\"2nd\")\n",
    "# phase=\"last\" means the last phases\n",
    "# snl.estimate_accuracy(phase=\"last\")"
   ]
  },
  {
   "cell_type": "markdown",
   "metadata": {},
   "source": [
    "We can calculate total score for all phases using `Scenario.score()` method. Metrics can be selected from MAE, MSE, MSLE, RMSE, RMSLE and MAPE."
   ]
  },
  {
   "cell_type": "code",
   "execution_count": null,
   "metadata": {},
   "outputs": [],
   "source": [
    "# Get total score\n",
    "# snl.score(metrics=\"RMSLE\")\n",
    "metrics_list = [\"MAE\", \"MSE\", \"MSLE\", \"RMSE\", \"RMSLE\", \"MAPE\"]\n",
    "for metrics in metrics_list:\n",
    "    metrics_name = metrics.rjust(len(max(metrics_list, key=len)))\n",
    "    print(f\"{metrics_name}: {snl.score(metrics=metrics):.3f}\")"
   ]
  },
  {
   "cell_type": "markdown",
   "metadata": {},
   "source": [
    "### Get parameter value\n",
    "We can get the parameter values of a phase using `Scenario.get()` method."
   ]
  },
  {
   "cell_type": "code",
   "execution_count": null,
   "metadata": {},
   "outputs": [],
   "source": [
    "# Get parameter values\n",
    "snl.get(\"Rt\", phase=\"4th\")"
   ]
  },
  {
   "cell_type": "code",
   "execution_count": null,
   "metadata": {},
   "outputs": [],
   "source": [
    "# phase=\"last\" means the last phases\n",
    "snl.get(\"Rt\", phase=\"last\")"
   ]
  },
  {
   "cell_type": "markdown",
   "metadata": {},
   "source": [
    "### Show parameter history\n",
    "We can get the history of parameter values with a dataframe and a figure."
   ]
  },
  {
   "cell_type": "code",
   "execution_count": null,
   "metadata": {},
   "outputs": [],
   "source": [
    "# Get the parameter values as a dataframe\n",
    "snl.summary(columns=[*cs.SIRF.PARAMETERS, \"Rt\"])"
   ]
  },
  {
   "cell_type": "markdown",
   "metadata": {},
   "source": [
    "`Scenario.history()` method shows the trajectories of parameters (and the number of cases)."
   ]
  },
  {
   "cell_type": "code",
   "execution_count": null,
   "metadata": {},
   "outputs": [],
   "source": [
    "snl.history(target=\"theta\", show_legend=False);"
   ]
  },
  {
   "cell_type": "code",
   "execution_count": null,
   "metadata": {},
   "outputs": [],
   "source": [
    "snl.history(target=\"kappa\", show_legend=False);"
   ]
  },
  {
   "cell_type": "code",
   "execution_count": null,
   "metadata": {},
   "outputs": [],
   "source": [
    "snl.history(target=\"rho\", show_legend=False);"
   ]
  },
  {
   "cell_type": "code",
   "execution_count": null,
   "metadata": {},
   "outputs": [],
   "source": [
    "snl.history(target=\"sigma\", show_legend=False);"
   ]
  },
  {
   "cell_type": "markdown",
   "metadata": {},
   "source": [
    "Notes on the history of $\\sigma$ value in japan (last updated: 28Dec2020):  \n",
    "In Japan, we experienced two waves and we are in third wave. In the first wave (Apr - May), recovery period was too long because collapse of the medical care system occurred and no medicines were found.\n",
    "\n",
    "Sigma values: the first wave < the second wave > the third wave\n",
    "\n",
    "However, in the second wave (Jul - Oct), recovery period appears short because we have some effective medicines (not approved, in clinical study), younger people (people un-associated to sever diseases) were infected.\n",
    "\n",
    "In the third wave (Nov - ), older people tend to be infected and we are facing with medical collapse at this time..."
   ]
  },
  {
   "cell_type": "markdown",
   "metadata": {},
   "source": [
    "### Show the history of reproduction number\n",
    "$R_0$ (\"R naught\") means \"the average number of secondary infections caused by an infected host\" ([Infection Modeling — Part 1](https://towardsdatascience.com/infection-modeling-part-1-87e74645568a)). When this value is larger than 1, the infection is going around."
   ]
  },
  {
   "cell_type": "code",
   "execution_count": null,
   "metadata": {},
   "outputs": [],
   "source": [
    "snl.history(target=\"Rt\", show_legend=False);"
   ]
  },
  {
   "cell_type": "markdown",
   "metadata": {},
   "source": [
    "### Simulate the number of cases\n",
    "We can compare the actual and simulated (with estimated parameter values) number of confirmed/infected/recovered/fatal cases using `Scenario.history()` method."
   ]
  },
  {
   "cell_type": "code",
   "execution_count": null,
   "metadata": {},
   "outputs": [],
   "source": [
    "# Compare the actual values and the main scenario\n",
    "snl.history(\"Infected\");"
   ]
  },
  {
   "cell_type": "markdown",
   "metadata": {},
   "source": [
    "When we want to show only one scenario with all variables, we use `Scenario.simulate()` method."
   ]
  },
  {
   "cell_type": "code",
   "execution_count": null,
   "metadata": {},
   "outputs": [],
   "source": [
    "snl.simulate(name=\"Main\");"
   ]
  },
  {
   "cell_type": "markdown",
   "metadata": {},
   "source": [
    "### Main scenario\n",
    "To investigate the effect of parameter changes, we will perform scenario analysis. In the main scenario, we will assume that the parameter values do not change after the last past phase.\n",
    "\n",
    "i.e. If the parameter values will not be changed until 31May2022, how many cases will be? We call this scenario as \"Main\" scenario."
   ]
  },
  {
   "cell_type": "code",
   "execution_count": null,
   "metadata": {},
   "outputs": [],
   "source": [
    "# Clear future phases in Main scenario\n",
    "snl.clear(name=\"Main\")\n",
    "# Add one future phase 30 days with the parameter set of the last past phase\n",
    "snl.add(days=30, name=\"Main\")\n",
    "# Add one future phase until 31May2022 with the same parameter set\n",
    "snl.add(end_date=\"31May2022\", name=\"Main\")\n",
    "# Simulate the number of cases\n",
    "snl.simulate(name=\"Main\").tail()"
   ]
  },
  {
   "cell_type": "markdown",
   "metadata": {},
   "source": [
    "### Medicine scenario\n",
    "To investigate the effect of new medicines, we will assume that $\\sigma$ will be changed in the future phases.\n",
    "\n",
    "If $\\sigma$ will be 1.2 times in 30 days, how many cases will be? We will call this scenario as \"Medicine\" scenario."
   ]
  },
  {
   "cell_type": "code",
   "execution_count": null,
   "metadata": {},
   "outputs": [],
   "source": [
    "# Calculate the current sigma value of the last phase\n",
    "sigma_current = snl.get(\"sigma\", name=\"Main\", phase=\"last\")\n",
    "sigma_current"
   ]
  },
  {
   "cell_type": "code",
   "execution_count": null,
   "metadata": {},
   "outputs": [],
   "source": [
    "# Sigma value will be double\n",
    "sigma_new = sigma_current * 1.2\n",
    "sigma_new"
   ]
  },
  {
   "cell_type": "code",
   "execution_count": null,
   "metadata": {},
   "outputs": [],
   "source": [
    "# Initialize \"Medicine\" scenario (with the same past phases as that of Main scenario)\n",
    "snl.clear(name=\"Medicine\")\n",
    "# Add 30 days as a new future phases with the same parameter set\n",
    "snl.add(name=\"Medicine\", days=30, sigma=sigma_current)\n",
    "# Add a phase with doubled sigma value and the same end date with main date\n",
    "snl.add(name=\"Medicine\", end_date=\"31May2022\", sigma=sigma_new)"
   ]
  },
  {
   "cell_type": "markdown",
   "metadata": {},
   "source": [
    "Check summary of future phases."
   ]
  },
  {
   "cell_type": "code",
   "execution_count": null,
   "metadata": {},
   "outputs": [],
   "source": [
    "df = snl.summary()\n",
    "df.loc[df[\"Type\"] == \"Future\"]"
   ]
  },
  {
   "cell_type": "markdown",
   "metadata": {},
   "source": [
    "Simulate the number of cases."
   ]
  },
  {
   "cell_type": "code",
   "execution_count": null,
   "metadata": {},
   "outputs": [],
   "source": [
    "snl.simulate(name=\"Medicine\").tail();"
   ]
  },
  {
   "cell_type": "markdown",
   "metadata": {},
   "source": [
    "### Prediction of parameter values\n",
    "With extra datasets, we can predict the ODE parameter values in the future phases because [OxCGRT indicators](https://github.com/OxCGRT/covid-policy-tracker) (policy measures), vaccinations and so on impact on parameter values.\n",
    "\n",
    "OxCGRT indicators are\n",
    "\n",
    "- school_closing,\n",
    "- workplace_closing,\n",
    "- cancel_events, \n",
    "- gatherings_restrictions,\n",
    "- transport_closing,\n",
    "- stay_home_restrictions,\n",
    "- internal_movement_restrictions,\n",
    "- international_movement_restrictions,\n",
    "- information_campaigns,\n",
    "- testing_policy, and\n",
    "- contact_tracing."
   ]
  },
  {
   "cell_type": "markdown",
   "metadata": {},
   "source": [
    "As method of prediction, we can select\n",
    "\n",
    "- `method=\"multivariate_regression\"` (default, multivariate forecasting of ODE parameter values with the other ODE parameter values and indicators), and\n",
    "- `method=\"univariate\"` (univariate forecasting of ODE parameter values).\n",
    "\n",
    "[AutoTS](https://github.com/winedarksea/AutoTS) (library for automated time series forecasting) is used for prediction. AutoTS returns the most likely values and lower/upper values of forecasting. When we have four ODE parameters in Y, we will have $2^4=16$ scenarios in addition to \"Likely\" scenario."
   ]
  },
  {
   "cell_type": "markdown",
   "metadata": {},
   "source": [
    "`Scenario.estimate()` must be done in advance to get Y for training. Indicators should be registered in advance with `Scenario.register()` to get X for training."
   ]
  },
  {
   "cell_type": "markdown",
   "metadata": {},
   "source": [
    "`Scenario.predict()` predicts the parameter values of future phases."
   ]
  },
  {
   "cell_type": "code",
   "execution_count": null,
   "metadata": {},
   "outputs": [],
   "source": [
    "# When using Y of the main scenario for training\n",
    "# From version 2.23.0-beta\n",
    "snl.predict(name=\"Main\", days=30);"
   ]
  },
  {
   "cell_type": "markdown",
   "metadata": {},
   "source": [
    "### Adjust the end dates to align\n",
    "To compare this scenario with the other scenarios, we should align the last end date with `Scenario.adjust_end()` because the last end date is different from the other scenarios at this time."
   ]
  },
  {
   "cell_type": "code",
   "execution_count": null,
   "metadata": {},
   "outputs": [],
   "source": [
    "# Adjust the last end dates\n",
    "snl.adjust_end()\n",
    "# Check the last phases of all scenarios\n",
    "all_df = snl.summary().reset_index()\n",
    "for name in all_df[\"Scenario\"].unique():\n",
    "    df = snl.summary(name=name)\n",
    "    last_end_date = df.loc[df.index[-1], \"End\"]\n",
    "    print(f\"{name} scenario: to {last_end_date}\")"
   ]
  },
  {
   "cell_type": "markdown",
   "metadata": {},
   "source": [
    "### Compare the scenarios\n",
    "We will compare the scenarios with representative values, reproduction number and parameter values. Currently, we can compare the scenarios with the following indexes.\n",
    "\n",
    "- max(Infected): max value of Infected\n",
    "- argmax(Infected): the date when Infected shows max value\n",
    "- Infected on …: Infected on the end date of the last phase\n",
    "- Fatal on …: Fatal on the end date of the last phase"
   ]
  },
  {
   "cell_type": "code",
   "execution_count": null,
   "metadata": {},
   "outputs": [],
   "source": [
    "snl.describe()"
   ]
  },
  {
   "cell_type": "markdown",
   "metadata": {},
   "source": [
    "We have too many scenarios. To discuss the forecasted number of cases deeply, we will focus on baseline (\"Main\"), \"Medicine\", the most likely, the best, the worst scenario. First, rename \"Multivariate_regression_Likely\" with \"Likely\"."
   ]
  },
  {
   "cell_type": "code",
   "execution_count": null,
   "metadata": {},
   "outputs": [],
   "source": [
    "# From 2.23.1-theta\n",
    "snl.rename(old=\"Multivariate_regression_Likely\", new=\"Likely\");"
   ]
  },
  {
   "cell_type": "markdown",
   "metadata": {},
   "source": [
    "Next, we will find the representative scenarios. `Scenario.represent(q, variable, date=None, included=None, excluded=None)` (default) returns the names of scenarios which have the quantile values as `variable` on `date` (`None` means the last end date). All scenarios will be the target for quantile calculation when `included=None` and `excluded=None`. Applying lists to the arguments, users can specify the target.\n",
    "\n",
    "Here, \"Main\" and \"Likely\" will be excluded from the target scenarios for quantile calculation so that we find the representative scenarios from the 16 scenarios which were created with the combinations of the upper/lower values.\n",
    "\n",
    "We define here \"scenario with 0.05-quantile Fatal on the last end date (= (today) + (days to predict))\" as the best scenario. \"Scenario with 0.95-quantile Fatal on the last end date\" as the worst scenario."
   ]
  },
  {
   "cell_type": "code",
   "execution_count": null,
   "metadata": {},
   "outputs": [],
   "source": [
    "# From 2.23.1-iota\n",
    "best, worst = snl.represent(q=[0.05, 0.95], variable=\"Fatal\", date=None, excluded=[\"Main\", \"Likely\"])\n",
    "print({\"best\": best, \"worst\": worst})"
   ]
  },
  {
   "cell_type": "markdown",
   "metadata": {},
   "source": [
    "Rename them with `Scenario.rename()`."
   ]
  },
  {
   "cell_type": "code",
   "execution_count": null,
   "metadata": {},
   "outputs": [],
   "source": [
    "# From 2.23.1-theta\n",
    "snl.rename(old=best, new=\"Best\")\n",
    "snl.rename(old=worst, new=\"Worst\");"
   ]
  },
  {
   "cell_type": "markdown",
   "metadata": {},
   "source": [
    "Then, delete the un-necessary scenarios (i.e. scenarios represented by the best/worst scenarios) with regular expressions."
   ]
  },
  {
   "cell_type": "code",
   "execution_count": null,
   "metadata": {},
   "outputs": [],
   "source": [
    "# From 2.23.1-theta\n",
    "snl.delete_matched(pattern=r\"^Multi\")"
   ]
  },
  {
   "cell_type": "markdown",
   "metadata": {},
   "source": [
    "Finally, check the representative values of the scenarios with `Scenario.describe()`."
   ]
  },
  {
   "cell_type": "code",
   "execution_count": null,
   "metadata": {},
   "outputs": [],
   "source": [
    "snl.describe()"
   ]
  },
  {
   "cell_type": "markdown",
   "metadata": {},
   "source": [
    "Show summary of future phases. The most likely scenario and scenarios with combinations of the predicted upper/lower ODE parameter values."
   ]
  },
  {
   "cell_type": "code",
   "execution_count": null,
   "metadata": {},
   "outputs": [],
   "source": [
    "df = snl.summary()\n",
    "df.loc[df[\"Type\"] == \"Future\"]\n"
   ]
  },
  {
   "cell_type": "markdown",
   "metadata": {},
   "source": [
    "Simulate the number of cases of the most likely scenario."
   ]
  },
  {
   "cell_type": "code",
   "execution_count": null,
   "metadata": {},
   "outputs": [],
   "source": [
    "snl.simulate(variables=\"CFR\", name=\"Likely\").tail();"
   ]
  },
  {
   "cell_type": "markdown",
   "metadata": {},
   "source": [
    "### History of a variable/parameter"
   ]
  },
  {
   "cell_type": "markdown",
   "metadata": {},
   "source": [
    "Compare the number of cases of the all scenario with `Scenario.history()` and variable name."
   ]
  },
  {
   "cell_type": "code",
   "execution_count": null,
   "metadata": {},
   "outputs": [],
   "source": [
    "snl.history(\"Infected\");"
   ]
  },
  {
   "cell_type": "markdown",
   "metadata": {},
   "source": [
    "We can focus on the values in specified date range with the following arguments.\n",
    "\n",
    "- `dates`: tuple of start date and end date\n",
    "- `past_days` (integer): how many past days to use in calculation from today (`Scenario.today` property)\n",
    "- `phases` (list of str): phase names to use in calculation\n",
    "\n",
    "These arguments are effective with `Scenario.history()`, `Scenario.simulate()`, `Scenario.track()` and `Scenario.score()`."
   ]
  },
  {
   "cell_type": "code",
   "execution_count": null,
   "metadata": {},
   "outputs": [],
   "source": [
    "# Get the minimum value (from today to future) to set lower limit of y-axis\n",
    "lower_limit = snl.history(\"Infected\", dates=(snl.today, None), show_figure=False).min().min()\n",
    "# From today to future (no limitation regarding end date)\n",
    "snl.history(\"Infected\", dates=(snl.today, None), ylim=(lower_limit, None));"
   ]
  },
  {
   "cell_type": "markdown",
   "metadata": {},
   "source": [
    "In the past 20 days. Reference date is today (`Scenario.today` property)."
   ]
  },
  {
   "cell_type": "code",
   "execution_count": null,
   "metadata": {},
   "outputs": [],
   "source": [
    "snl.history(\"Infected\", past_days=20);"
   ]
  },
  {
   "cell_type": "markdown",
   "metadata": {},
   "source": [
    "In the selected phases. Here, we will show the 3rd, 4th and 5th phase."
   ]
  },
  {
   "cell_type": "code",
   "execution_count": null,
   "metadata": {},
   "outputs": [],
   "source": [
    "snl.history(\"Infected\", phases=[\"3rd\", \"4th\", \"5th\"]);"
   ]
  },
  {
   "cell_type": "code",
   "execution_count": null,
   "metadata": {},
   "outputs": [],
   "source": [
    "snl.history(target=\"Infected\");"
   ]
  },
  {
   "cell_type": "markdown",
   "metadata": {},
   "source": [
    "We can also compare the values of reproduction number and ODE parameters."
   ]
  },
  {
   "cell_type": "code",
   "execution_count": null,
   "metadata": {},
   "outputs": [],
   "source": [
    "snl.history(target=\"Rt\");"
   ]
  },
  {
   "cell_type": "code",
   "execution_count": null,
   "metadata": {},
   "outputs": [],
   "source": [
    "snl.history(target=\"rho\");"
   ]
  },
  {
   "cell_type": "code",
   "execution_count": null,
   "metadata": {},
   "outputs": [],
   "source": [
    "snl.history(target=\"sigma\");"
   ]
  },
  {
   "cell_type": "code",
   "execution_count": null,
   "metadata": {},
   "outputs": [],
   "source": [
    "snl.history(target=\"theta\");"
   ]
  },
  {
   "cell_type": "code",
   "execution_count": null,
   "metadata": {},
   "outputs": [],
   "source": [
    "snl.history(target=\"kappa\");"
   ]
  },
  {
   "cell_type": "markdown",
   "metadata": {},
   "source": [
    "### Change rate of parameters in main scenario\n",
    "History of each parameter will be shown. Values will be divided by the values in 0th phase."
   ]
  },
  {
   "cell_type": "code",
   "execution_count": null,
   "metadata": {},
   "outputs": [],
   "source": [
    "snl.history_rate(name=\"Main\");"
   ]
  },
  {
   "cell_type": "markdown",
   "metadata": {},
   "source": [
    "### Retrospective analysis\n",
    "We can evaluate the impact of measures using past records. How many people were infected if the parameter values have not changed since 01Sep2020?"
   ]
  },
  {
   "cell_type": "code",
   "execution_count": null,
   "metadata": {},
   "outputs": [],
   "source": [
    "# Perform retrospective analysis\n",
    "snl_retro = cs.Scenario(country=\"Japan\")\n",
    "snl_retro.register(jhu_data)\n",
    "snl_retro.retrospective(\n",
    "    \"01Jan2021\", model=cs.SIRF, control=\"Main\", target=\"Retrospective\", timeout=10)"
   ]
  },
  {
   "cell_type": "code",
   "execution_count": null,
   "metadata": {},
   "outputs": [],
   "source": [
    "# Show the summary of estimation\n",
    "cols = [\"Start\", \"End\", \"ODE\", \"Rt\", *cs.SIRF.PARAMETERS] + [\"RMSLE\", \"Trials\", \"Runtime\"]\n",
    "snl_retro.summary(columns=cols)"
   ]
  },
  {
   "cell_type": "code",
   "execution_count": null,
   "metadata": {},
   "outputs": [],
   "source": [
    "# History of reproduction number\n",
    "snl_retro.history(\"Rt\");"
   ]
  },
  {
   "cell_type": "code",
   "execution_count": null,
   "metadata": {},
   "outputs": [],
   "source": [
    "# History of Infected\n",
    "snl_retro.history(\"Infected\");"
   ]
  },
  {
   "cell_type": "code",
   "execution_count": null,
   "metadata": {},
   "outputs": [],
   "source": [
    "# Show the representative values\n",
    "snl_retro.describe()"
   ]
  }
 ],
 "metadata": {
  "interpreter": {
   "hash": "aa53c8c6e6798222a2084c11cc25017700a8d3ad495b587e3a634f357767115f"
  },
  "kernelspec": {
   "display_name": "Python 3.9.5 64-bit ('.venv': poetry)",
   "name": "python3"
  },
  "language_info": {
   "name": "python",
   "version": "3.9.8"
  },
  "orig_nbformat": 2
 },
 "nbformat": 4,
 "nbformat_minor": 2
}
