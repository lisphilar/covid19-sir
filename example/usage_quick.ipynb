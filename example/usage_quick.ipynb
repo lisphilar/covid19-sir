{
 "cells": [
  {
   "cell_type": "markdown",
   "source": [
    "# Usage: scenario analysis\n",
    "\n",
    "[![Open In Colab](https://colab.research.google.com/assets/colab-badge.svg)](https://colab.research.google.com/github/lisphilar/covid19-sir/blob/master/example/usage_quick.ipynb)\n",
    "\n",
    "This is a quick tour of CovsirPhy. Details scenario analysis will be explained.\n",
    "\"Scenario analysis\" means that we calculate the number of cases in the future phases with some sets of ODE parameter values. With this analysis, we can estimate the impact of our activities against the outbreak on the number of cases."
   ],
   "metadata": {}
  },
  {
   "cell_type": "markdown",
   "source": [
    "### Preparation\n",
    "Prepare the packages."
   ],
   "metadata": {}
  },
  {
   "cell_type": "code",
   "execution_count": null,
   "source": [
    "# !pip install covsirphy --upgrade\n",
    "from pprint import pprint\n",
    "import covsirphy as cs\n",
    "cs.__version__"
   ],
   "outputs": [],
   "metadata": {
    "tags": []
   }
  },
  {
   "cell_type": "markdown",
   "source": [
    "### Dataset preparation\n",
    "Download the datasets to \"../input\" directory and load them.  \n",
    "Please refer to [Usage: datasets](https://lisphilar.github.io/covid19-sir/usage_dataset.html) for the details."
   ],
   "metadata": {}
  },
  {
   "cell_type": "code",
   "execution_count": null,
   "source": [
    "loader = cs.DataLoader(\"../input\")\n",
    "# The number of cases and population values\n",
    "jhu_data = loader.jhu()\n",
    "# Government Response Tracker (OxCGRT)\n",
    "oxcgrt_data = loader.oxcgrt()\n",
    "# The number of tests\n",
    "pcr_data = loader.pcr()\n",
    "# The number of vaccinations\n",
    "vaccine_data = loader.vaccine()"
   ],
   "outputs": [],
   "metadata": {
    "tags": []
   }
  },
  {
   "cell_type": "markdown",
   "source": [
    "From development version 2.21.0-gamma, we can collect datasets and get them as dictionary with `DataLoader.collect()`. This will be implemented in stable version 2.22.0.\n",
    "\n",
    "```Python\n",
    "data_dict = loader.collect()\n",
    "snl = cs.Scenario(country=\"Japan\", province=None)\n",
    "snl.register(**data_dict)\n",
    "```"
   ],
   "metadata": {}
  },
  {
   "cell_type": "markdown",
   "source": [
    "### Start scenario analysis\n",
    "\n",
    "As an example, we will analysis the number of cases in Japan. `covsirphy.Scenario` is the interface for analysis. Please specify the area (country: required, province: optional) when creating the instance and register the datasets with `Scenario.register()`. As the extra datasets, we can select `OxCGRTData`, `PCRData` and `VaccineData`."
   ],
   "metadata": {}
  },
  {
   "cell_type": "code",
   "execution_count": null,
   "source": [
    "# Specify country and province (optinal) names\n",
    "snl = cs.Scenario(country=\"Japan\", province=None)\n",
    "# Register datasets\n",
    "snl.register(jhu_data, extras=[oxcgrt_data, pcr_data, vaccine_data])"
   ],
   "outputs": [],
   "metadata": {}
  },
  {
   "cell_type": "markdown",
   "source": [
    "We call `JHUData` as \"the main datasets\" because they are required to calculate the number of susceptible/infected/recovered/fatal cases. These variables are used in SIR-F model.  \n",
    "The other datasets are called as \"the extra datasets\" and they will be used to predict the futute parameter values of SIR-F model for forecasting the number of cases with some scenarios.\n",
    "\n",
    "Note:  \n",
    "When we use version <= 2.19.1, instance of `PopulationData` is required because `JHUData` does not include population values.  \n",
    "\n",
    "```Python\n",
    "population_data = data_loader.population()\n",
    "snl.register(jhu_data, population_data)\n",
    "```\n",
    "\n",
    "Additional information:  \n",
    "\n",
    "- Details of the datasets: [Usage: datasets](https://lisphilar.github.io/covid19-sir/usage_dataset.html)\n",
    "- Details of SIR-F model: [Usage: SIR-derived models](https://lisphilar.github.io/covid19-sir/usage_theoretical.html)"
   ],
   "metadata": {}
  },
  {
   "cell_type": "markdown",
   "source": [
    "#### Display/save figures\n",
    "We have intactive mode and script mode to display/save figures."
   ],
   "metadata": {}
  },
  {
   "cell_type": "markdown",
   "source": [
    "When use use interactive shells, including Jupyter Notebook, we can choose either \"interactive shell mode\" or \"script mode\" as follows."
   ],
   "metadata": {}
  },
  {
   "cell_type": "markdown",
   "source": [
    "Interactive mode:  \n",
    "Figures will be displayed as the output of code cells."
   ],
   "metadata": {}
  },
  {
   "cell_type": "code",
   "execution_count": null,
   "source": [
    "# Choose interactive mode (default is True when we use interactive shells)\n",
    "snl.interactive = True"
   ],
   "outputs": [],
   "metadata": {}
  },
  {
   "cell_type": "markdown",
   "source": [
    "When you want to turn-off interactive mode temporarlly, set `False` as `Scenario.interactive` or apply `show_figure=False` as an argument of methods, including `Scenario.records()`. Methods with figures will be shown later in this tutorial."
   ],
   "metadata": {}
  },
  {
   "cell_type": "code",
   "execution_count": null,
   "source": [
    "# apply \"show_figures=False\" to turn-off intaractive mode temporally\n",
    "# snl.records(show_figure=False)"
   ],
   "outputs": [],
   "metadata": {}
  },
  {
   "cell_type": "markdown",
   "source": [
    "Script mode:  \n",
    "In script mode, figures will not be displayed. When filenames were applied to the methods as `filename` argument, figures will be saved in your local environment."
   ],
   "metadata": {}
  },
  {
   "cell_type": "markdown",
   "source": [
    "```Python\n",
    "# Stop displaying figures\n",
    "snl.interactive = False\n",
    "# With this mode we can save figures, specifying \"filename\" argument\n",
    "snl.records(filename=\"records.jpg\")\n",
    "```"
   ],
   "metadata": {}
  },
  {
   "cell_type": "markdown",
   "source": [
    "`covsirphy` uses Matplotlib backend and `Scenario.records()` etc. accepts keyword arguments of `matplotlib.pyplot.savefig()`. For example, we can export TIFF images with high resolution by specifying `filename` (.tiff) and `dpi` argument.\n",
    "\n",
    "```Python\n",
    "snl.records(filename=\"records.tiff\", dpi=500)\n",
    "```"
   ],
   "metadata": {}
  },
  {
   "cell_type": "markdown",
   "source": [
    "When we run codes as a script (eg. `python scenario_analysis.py`), only \"script mode\" is selectable and `Scenario.interactive` is always `False`. Figures will be saved when filenames are specified with `filename` argument."
   ],
   "metadata": {}
  },
  {
   "cell_type": "markdown",
   "source": [
    "Because some methods, including `Scenario.summary()`, return dataframes (`pandas.DataFrame`), we can save them as CSV files etc. using `.to_csv(filename, index=True)`."
   ],
   "metadata": {}
  },
  {
   "cell_type": "markdown",
   "source": [
    "We can produce filenames more easily with `Filer` class. Please refer to the scripts in [example directory of the repository](https://github.com/lisphilar/covid19-sir/tree/master/example)."
   ],
   "metadata": {}
  },
  {
   "cell_type": "markdown",
   "source": [
    "```Python\n",
    "filer = cs.Filer(directory=\"output\", prefix=\"jpn\", suffix=None, numbering=\"01\")\n",
    "filer.png(\"records\")\n",
    "# -> {\"filename\": \"<absolute path>/output/jpn_01_records.png\"}\n",
    "filer.jpg(\"records\")\n",
    "# -> {\"filename\": \"<absolute path>/output/jpn_01_records.jpg\"}\n",
    "filer.csv(\"records\", index=True)\n",
    "# -> {\"path_or_buf\": \"<absolute path>/output/jpn_01_records.csv\", index: True}\n",
    "```"
   ],
   "metadata": {}
  },
  {
   "cell_type": "markdown",
   "source": [
    "We can save files more easily with `Filer` as follows."
   ],
   "metadata": {}
  },
  {
   "cell_type": "markdown",
   "source": [
    "```Python\n",
    "record_df = snl.records(**filer.png(\"records\"))\n",
    "record_df.to_csv(**filer.csv(\"records\", index=False))\n",
    "````"
   ],
   "metadata": {}
  },
  {
   "cell_type": "markdown",
   "source": [
    "#### Backup/restore scenario\n",
    "\n",
    "From development version 2.19.1-kappa, we have `Scenario.backup(filename)` and `Scenario.restore(filename)` to backup/restore timepoints and phase information. This will be helpful when we perform parameter estimation using a server and simulate with the estimated parameter values using local machines.  \n",
    "\n",
    "Note that we need to execute `Scenario.register()` in advance to set timepoints with `Scenario.restore()`."
   ],
   "metadata": {}
  },
  {
   "cell_type": "markdown",
   "source": [
    "Backup information:"
   ],
   "metadata": {}
  },
  {
   "cell_type": "markdown",
   "source": [
    "```Python\n",
    "backupfile_dict = cs.Filer(directory=\"output\")\n",
    "snl.backup(**backupfile_dict)\n",
    "```"
   ],
   "metadata": {}
  },
  {
   "cell_type": "markdown",
   "source": [
    "Restore information:"
   ],
   "metadata": {}
  },
  {
   "cell_type": "markdown",
   "source": [
    "```Python\n",
    "backupfile_dict = cs.Filer(directory=\"output\")\n",
    "snl = cs.Scenario(country=\"Japan\")\n",
    "snl.register(jhu_data)\n",
    "snl.restore(**backupfile_dict).summary()\n",
    "```"
   ],
   "metadata": {}
  },
  {
   "cell_type": "markdown",
   "source": [
    "After restoring information, we can skip `Scenario.trend()` and `Scenario.estiate()` (their functionarities will be explaiend later)."
   ],
   "metadata": {}
  },
  {
   "cell_type": "markdown",
   "source": [
    "### Check records\n",
    "Let's see the records at first. `Scenario.records()` method return the records as a pandas dataframe and show a line plot. Some kind of complement will be done for analysis, if necessary."
   ],
   "metadata": {}
  },
  {
   "cell_type": "markdown",
   "source": [
    "`Scenario.records()` shows the number of infected/recovered/fatal cases as default. Using `variables` argument, we can set the variables to show. Here, we chack the number of confirmed/fatal/recovered cases. They are cumurative values."
   ],
   "metadata": {}
  },
  {
   "cell_type": "code",
   "execution_count": null,
   "source": [
    "snl.records(variables=\"CFR\").tail()\n",
    "# This is the same as\n",
    "# snl.records(variables=[\"Confirmed\", \"Fatal\", \"Recovered\"])"
   ],
   "outputs": [],
   "metadata": {}
  },
  {
   "cell_type": "markdown",
   "source": [
    "The number of infected cases on date:"
   ],
   "metadata": {}
  },
  {
   "cell_type": "code",
   "execution_count": null,
   "source": [
    "_ = snl.records(variables=\"I\")\n",
    "# This is the same as\n",
    "# snl.records(variables=[\"Infected\"])"
   ],
   "outputs": [],
   "metadata": {}
  },
  {
   "cell_type": "markdown",
   "source": [
    "All available variables can be retrieved with `variables=\"all\"`."
   ],
   "metadata": {}
  },
  {
   "cell_type": "code",
   "execution_count": null,
   "source": [
    "df = snl.records(variables=\"all\", show_figure=False)\n",
    "pprint(df.set_index(\"Date\").columns.tolist(), compact=True)"
   ],
   "outputs": [],
   "metadata": {}
  },
  {
   "cell_type": "markdown",
   "source": [
    "We can specify the variables to show."
   ],
   "metadata": {}
  },
  {
   "cell_type": "code",
   "execution_count": null,
   "source": [
    "snl.records(variables=[\"Vaccinated_once\"]).tail()"
   ],
   "outputs": [],
   "metadata": {}
  },
  {
   "cell_type": "markdown",
   "source": [
    "We can calculate the number of daily new cases with `Scenario.record_diff()` method."
   ],
   "metadata": {}
  },
  {
   "cell_type": "code",
   "execution_count": null,
   "source": [
    "# Acceptable variables are the same as Scenario.records()\n",
    "_ = snl.records_diff(variables=\"C\", window=7)"
   ],
   "outputs": [],
   "metadata": {}
  },
  {
   "cell_type": "markdown",
   "source": [
    "`Scenario.show_complement()` method is useful to show the kinds of complement. The details of complement are explained in [Usage: datasets](https://lisphilar.github.io/covid19-sir/usage_dataset.html#The-number-of-cases-(JHU-style)) section."
   ],
   "metadata": {}
  },
  {
   "cell_type": "code",
   "execution_count": null,
   "source": [
    "# Show the details of complement\n",
    "snl.show_complement()"
   ],
   "outputs": [],
   "metadata": {}
  },
  {
   "cell_type": "markdown",
   "source": [
    "### S-R trend analysis\n",
    "S-R trend analysis finds the change points of SIR-derived ODE parameters. Details will be explained in [Usage (details: phases)](https://lisphilar.github.io/covid19-sir/usage_phases.html). Phases will be separated with dotted lines. i.e. Dot lines indicate the start dates of phases."
   ],
   "metadata": {}
  },
  {
   "cell_type": "code",
   "execution_count": null,
   "source": [
    "snl.trend().summary()"
   ],
   "outputs": [],
   "metadata": {}
  },
  {
   "cell_type": "markdown",
   "source": [
    "### Parameter estimation of ODE models\n",
    "Here, we will estimate the tau value [min] (using grid search) and parameter values of SIR-derived models using [Optuna](https://github.com/optuna/optuna) package (automated hyperparameter optimization framework). As an example, we use SIR-F model. Details of models will be explained in [Usage (details: theoritical datasets)](https://lisphilar.github.io/covid19-sir/usage_theoretical.html).  \n",
    "\n",
    "**We can select the model from SIR, SIRD and SIR-F model for parameter estimation. SIR-FV model (completely deprecated) and SEWIR-F model cannot be used.**"
   ],
   "metadata": {}
  },
  {
   "cell_type": "code",
   "execution_count": null,
   "source": [
    "# Estimate the tau value and parameter values of SIR-F model\n",
    "snl.estimate(cs.SIRF)"
   ],
   "outputs": [],
   "metadata": {
    "tags": []
   }
  },
  {
   "cell_type": "code",
   "execution_count": null,
   "source": [
    "# Show the summary of parameter estimation\n",
    "snl.summary()"
   ],
   "outputs": [],
   "metadata": {}
  },
  {
   "cell_type": "markdown",
   "source": [
    "### Evaluation of estimation accuracy\n",
    "Accuracy of parameter estimation can be evaluated with RMSLE (Root Mean Squared Log Error) score.  \n",
    "\n",
    "\\begin{align*}\n",
    "\\mathrm{RMSLE} = \\sqrt{\\cfrac{1}{n}\\sum_{i=1}^{n}(log_{10}(A_{i} + 1) - log_{10}(P_{i} + 1))^2}\n",
    "\\end{align*}\n",
    "\n",
    "Where $A$ is the observed (actual) values, $P$ is estimated (predicted) values. Variables are $S (i=1), I (i=2), R (i=3)\\ \\mathrm{and}\\ F (i=n=4)$ for SIR-F model. When RMSLE score is low, hyperparameter estimation is highly accurate.\n",
    "Please refer to external sites, including [Medium: What’s the Difference Between RMSE and RMSLE?](https://medium.com/analytics-vidhya/root-mean-square-log-error-rmse-vs-rmlse-935c6cc1802a)"
   ],
   "metadata": {}
  },
  {
   "cell_type": "code",
   "execution_count": null,
   "source": [
    "# Show RMSLE scores with the number of optimization trials and runtime for phases\n",
    "snl.summary(columns=[\"Start\", \"End\", \"RMSLE\", \"Trials\", \"Runtime\"])"
   ],
   "outputs": [],
   "metadata": {}
  },
  {
   "cell_type": "markdown",
   "source": [
    "Additionally, we can visualize the accuracy with `Scenario.estimate_accuracy()`, specifing phase name."
   ],
   "metadata": {}
  },
  {
   "cell_type": "code",
   "execution_count": null,
   "source": [
    "# Visualize the accuracy for the 2nd phase\n",
    "snl.estimate_accuracy(phase=\"2nd\")\n",
    "# phase=\"last\" means the last phases\n",
    "# snl.estimate_accuracy(phase=\"last\")"
   ],
   "outputs": [],
   "metadata": {}
  },
  {
   "cell_type": "markdown",
   "source": [
    "We can calculate total score for all phases using `Scenario.score()` method. Metrics can be selected from MAE, MSE, MSLE, RMSE, RMSLE and MAPE."
   ],
   "metadata": {}
  },
  {
   "cell_type": "code",
   "execution_count": null,
   "source": [
    "# Get total score\n",
    "# snl.score(metrics=\"RMSLE\")\n",
    "metrics_list = [\"MAE\", \"MSE\", \"MSLE\", \"RMSE\", \"RMSLE\", \"MAPE\"]\n",
    "for metrics in metrics_list:\n",
    "    metrics_name = metrics.rjust(len(max(metrics_list, key=len)))\n",
    "    print(f\"{metrics_name}: {snl.score(metrics=metrics):.3f}\")"
   ],
   "outputs": [],
   "metadata": {}
  },
  {
   "cell_type": "markdown",
   "source": [
    "### Get parameter value\n",
    "We can get the parameter values of a phase using `Scenario.get()` method."
   ],
   "metadata": {}
  },
  {
   "cell_type": "code",
   "execution_count": null,
   "source": [
    "# Get parameter values\n",
    "snl.get(\"Rt\", phase=\"4th\")"
   ],
   "outputs": [],
   "metadata": {}
  },
  {
   "cell_type": "code",
   "execution_count": null,
   "source": [
    "# phase=\"last\" means the last phases\n",
    "snl.get(\"Rt\", phase=\"last\")"
   ],
   "outputs": [],
   "metadata": {}
  },
  {
   "cell_type": "markdown",
   "source": [
    "### Show parameter history\n",
    "We can get the history of parameter values with a dataframe and a figure."
   ],
   "metadata": {}
  },
  {
   "cell_type": "code",
   "execution_count": null,
   "source": [
    "# Get the parameter values as a dataframe\n",
    "snl.summary(columns=[*cs.SIRF.PARAMETERS, \"Rt\"])"
   ],
   "outputs": [],
   "metadata": {}
  },
  {
   "cell_type": "markdown",
   "source": [
    "`Scenario.history()` method shows the trajectories of parameters (and the number of cases)."
   ],
   "metadata": {}
  },
  {
   "cell_type": "code",
   "execution_count": null,
   "source": [
    "_ = snl.history(target=\"theta\", show_legend=False)"
   ],
   "outputs": [],
   "metadata": {}
  },
  {
   "cell_type": "code",
   "execution_count": null,
   "source": [
    "_ = snl.history(target=\"kappa\", show_legend=False)"
   ],
   "outputs": [],
   "metadata": {}
  },
  {
   "cell_type": "code",
   "execution_count": null,
   "source": [
    "_ = snl.history(target=\"rho\", show_legend=False)"
   ],
   "outputs": [],
   "metadata": {}
  },
  {
   "cell_type": "code",
   "execution_count": null,
   "source": [
    "_ = snl.history(target=\"sigma\", show_legend=False)"
   ],
   "outputs": [],
   "metadata": {}
  },
  {
   "cell_type": "markdown",
   "source": [
    "Notes on the history of $\\sigma$ value in japan (last updated: 28Dec2020):  \n",
    "In Japan, we experienced two waves and we are in third wave. In the first wave (Apr - May), recovery period was too long because collapse of the medical care system occurred and no medicines were found.\n",
    "\n",
    "Sigma values: the first wave < the second wave > the third wave\n",
    "\n",
    "However, in the second wave (Jul - Oct), recovery period appears short because we have some effective medicines (not approved, in clinical study), yonger people (people un-associated to sever diseases) were infected.\n",
    "\n",
    "In the third wave (Nov - ), older people tend to be infected and we are facing with medical collapse at this time..."
   ],
   "metadata": {}
  },
  {
   "cell_type": "markdown",
   "source": [
    "### Show the history of reproduction number\n",
    "$R_0$ (\"R naught\") means \"the average number of secondary infections caused by an infected host\" ([Infection Modeling — Part 1](https://towardsdatascience.com/infection-modeling-part-1-87e74645568a)). When this value is larger than 1, the infection disease is outbreaking."
   ],
   "metadata": {}
  },
  {
   "cell_type": "code",
   "execution_count": null,
   "source": [
    "_ = snl.history(target=\"Rt\", show_legend=False)"
   ],
   "outputs": [],
   "metadata": {}
  },
  {
   "cell_type": "markdown",
   "source": [
    "### Simulate the number of cases\n",
    "We can compare the actual and simulated (with estimated parameter values) number of confirmed/infected/recovered/fatal cases using `Scenario.history()` method."
   ],
   "metadata": {}
  },
  {
   "cell_type": "code",
   "execution_count": null,
   "source": [
    "# Compare the actual values and the main scenario\n",
    "_ = snl.history(\"Infected\")"
   ],
   "outputs": [],
   "metadata": {}
  },
  {
   "cell_type": "markdown",
   "source": [
    "When we want to show only one scenario with all variables, we use `Scenario.simulate()` method."
   ],
   "metadata": {}
  },
  {
   "cell_type": "code",
   "execution_count": null,
   "source": [
    "_ =snl.simulate(name=\"Main\")"
   ],
   "outputs": [],
   "metadata": {}
  },
  {
   "cell_type": "markdown",
   "source": [
    "### Main scenario\n",
    "To investigate the effect of parameter changes, we will perform scenario analysis. In the main scenario, we will assume that the parameter values do not change after the last past phase.\n",
    "\n",
    "i.e. If the parameter velues will not be changed until 31Oct2021, how many cases will be? We call this scenario as \"Main\" scenario."
   ],
   "metadata": {}
  },
  {
   "cell_type": "code",
   "execution_count": null,
   "source": [
    "# Clear future phases in Main scenario\n",
    "snl.clear(name=\"Main\")\n",
    "# Add one future phase 30 days with the parameter set of the last past phase\n",
    "snl.add(days=30, name=\"Main\")\n",
    "# Add one future phase until 31Oct2021 with the same parameter set\n",
    "snl.add(end_date=\"31Oct2021\", name=\"Main\")\n",
    "# Simulate the number of cases\n",
    "snl.simulate(name=\"Main\").tail()"
   ],
   "outputs": [],
   "metadata": {}
  },
  {
   "cell_type": "markdown",
   "source": [
    "### Medicine scenario\n",
    "To investigate the effect of new medicines, we will assume that $\\sigma$ will be changed in the future phases.\n",
    "\n",
    "If $\\sigma$ will be 1.2 times in 30 days, how many cases will be? We will call this scenario as \"Medicine\" scenario."
   ],
   "metadata": {}
  },
  {
   "cell_type": "code",
   "execution_count": null,
   "source": [
    "# Calcuate the current sigma value of the last phase\n",
    "sigma_current = snl.get(\"sigma\", name=\"Main\", phase=\"last\")\n",
    "sigma_current"
   ],
   "outputs": [],
   "metadata": {}
  },
  {
   "cell_type": "code",
   "execution_count": null,
   "source": [
    "# Sigma value will be double\n",
    "sigma_new = sigma_current * 1.2\n",
    "sigma_new"
   ],
   "outputs": [],
   "metadata": {}
  },
  {
   "cell_type": "code",
   "execution_count": null,
   "source": [
    "# Initialize \"Medicine\" scenario (with the same past phases as that of Main scenario)\n",
    "snl.clear(name=\"Medicine\")\n",
    "# Add 30 days as a new future phases with the same parameter set\n",
    "snl.add(name=\"Medicine\", days=30, sigma=sigma_current)\n",
    "# Add a phase with doubled sigma value and the same end date with main date\n",
    "snl.add(name=\"Medicine\", end_date=\"31Oct2021\", sigma=sigma_new)"
   ],
   "outputs": [],
   "metadata": {}
  },
  {
   "cell_type": "markdown",
   "source": [
    "Check summary of future phases."
   ],
   "metadata": {}
  },
  {
   "cell_type": "code",
   "execution_count": null,
   "source": [
    "df = snl.summary()\n",
    "df.loc[df[\"Type\"] == \"Future\"]"
   ],
   "outputs": [],
   "metadata": {}
  },
  {
   "cell_type": "markdown",
   "source": [
    "Simulate the number of cases."
   ],
   "metadata": {}
  },
  {
   "cell_type": "code",
   "execution_count": null,
   "source": [
    "_ = snl.simulate(name=\"Medicine\").tail()"
   ],
   "outputs": [],
   "metadata": {}
  },
  {
   "cell_type": "markdown",
   "source": [
    "### Short-term prediction of parameter values\n",
    "With extra datasets, we can predict the ODE parameter values in the future phases because [OxCGRT indicators](https://github.com/OxCGRT/covid-policy-tracker) (policy measures), vaccinations and so on impact on parameter values with delay period (the number of days that indicators take for the ODE parameter values to be changed).\n",
    "\n",
    "OxCGRT indicators are\n",
    "\n",
    "- school_closing,\n",
    "- workplace_closing,\n",
    "- cancel_events, \n",
    "- gatherings_restrictions,\n",
    "- transport_closing,\n",
    "- stay_home_restrictions,\n",
    "- internal_movement_restrictions,\n",
    "- international_movement_restrictions,\n",
    "- information_campaigns,\n",
    "- testing_policy, and\n",
    "- contact_tracing."
   ],
   "metadata": {}
  },
  {
   "cell_type": "markdown",
   "source": [
    "`Scenario.fit()` method learns the relationship of indicators (X) and the parameter values (y) with regresion models. X was registered with `Scenario.register()` and y was calculated with `Scenario.estimate()` in advance respectively.\n",
    "\n",
    "Regression models and abbreviations:  \n",
    "\n",
    "- \"en\": Indicators -> Parameters with Elastic Net\n",
    "- \"dt\": Indicators -> Parameters with Decision Tree Regressor\n",
    "- \"lgbm\": Indicators -> Parameters with Light Gradient Boosting Machine Regressor (Light GBM, from version 2.21.0)\n",
    "- \"svr\": Indicators -> Parameters with Epsilon-Support Vector Regressor (SVR, from version 2.21.0)\n",
    "\n",
    "From version 2.21.0, we can specify regressors with `regressors` argument of `Scenario.fit()` and abbreviations. When `regreesors=[\"en\", \"svr\"]`, only Elastic Net and SVR will be used. As default, `regressors=None` and we use all registered regressors."
   ],
   "metadata": {}
  },
  {
   "cell_type": "markdown",
   "source": [
    "`Scenario.fit()` has `delay` argument and we can apply the following values.\n",
    "\n",
    "- `delay=20`: Exact value of delay period [days].\n",
    "- `delay=(7, 31)` (default): All values 7, 9,...,31 will be inculded in X and some values will be selected by feature selection or PCA.\n",
    "- `delay=None`: Delay period will be calculated with `Scenario.estimate_delay()` method. In this method, change point analysis will be done with one selected indicator (\"Stringency_index\" as default) and variable (\"Confirmed\" as default) to estimate delay period.\n",
    "\n",
    "When we use `delay=None`, the indicator used to estimate delay period (\"Stringency_index\" as default) will be automatically removed from X dataset. If you have some indicators to be removed additionally, please use `removed_cols` argument (list of indicator names) of `Scenario.fit()`."
   ],
   "metadata": {}
  },
  {
   "cell_type": "markdown",
   "source": [
    "As an example, we only use he number of vaccinated (once/full) people and OxCGRT indicators (except for \"Stringency_index\" because this is calculated with the other OxCGRT indicators)."
   ],
   "metadata": {}
  },
  {
   "cell_type": "markdown",
   "source": [
    "From development version 2.21.0, `Scenario.fit()` shows \"predicted vs. actual parameter values\" figure and train/test score when `show_figure=True` (default) via `Scenario.fit_accuracy()`."
   ],
   "metadata": {}
  },
  {
   "cell_type": "code",
   "execution_count": null,
   "source": [
    "# Create Forecast scenario (copy Main scenario and delete future phases)\n",
    "snl.clear(name=\"Forecast\", template=\"Main\")\n",
    "# Fitting with linear regression model (Elastic Net regression)\n",
    "fit_dict = snl.fit(\n",
    "    name=\"Forecast\", metric=\"MAPE\", regressors=None,\n",
    "    removed_cols=[\"Stringency_index\", \"Tests\", \"Tests_diff\", \"Vaccinations\"]\n",
    ")"
   ],
   "outputs": [],
   "metadata": {}
  },
  {
   "cell_type": "markdown",
   "source": [
    "`Scenario.predict()` predicts the parameter values of future phases."
   ],
   "metadata": {}
  },
  {
   "cell_type": "code",
   "execution_count": null,
   "source": [
    "# Short-term prediction\n",
    "snl.predict(name=\"Forecast\")\n",
    "# We can select list of days to predict optionally\n",
    "# snl.predict(days=[1, 4], name=\"Forecast\")"
   ],
   "outputs": [],
   "metadata": {}
  },
  {
   "cell_type": "markdown",
   "source": [
    "Show summary of future phases."
   ],
   "metadata": {}
  },
  {
   "cell_type": "code",
   "execution_count": null,
   "source": [
    "df = snl.summary()\n",
    "df.loc[df[\"Type\"] == \"Future\"]"
   ],
   "outputs": [],
   "metadata": {}
  },
  {
   "cell_type": "markdown",
   "source": [
    "Or, short-cut `.fit()` and `.predict()` with `Scenario.fit_predict()`. We can apply all arguments (of `.fit()` and `.predict()`) to `Scenario.fit_predict()`."
   ],
   "metadata": {}
  },
  {
   "cell_type": "code",
   "execution_count": null,
   "source": [
    "# Or, when you do not need 'fit_dict',\n",
    "# snl.fit_predict(name=\"Forecast\").summary(name=\"Forecast\")"
   ],
   "outputs": [],
   "metadata": {}
  },
  {
   "cell_type": "markdown",
   "source": [
    "To compare this scenario with the other scenarios, we should adjust the last end date with `Scenario.adjust_end()` because the last end date is differenct from the other scenarios at this time."
   ],
   "metadata": {}
  },
  {
   "cell_type": "code",
   "execution_count": null,
   "source": [
    "# Adjust the last end dates\n",
    "snl.adjust_end()\n",
    "# Show the last phases of all scenarios\n",
    "all_df = snl.summary().reset_index()\n",
    "for name in all_df[\"Scenario\"].unique():\n",
    "    df = snl.summary(name=name)\n",
    "    last_end_date = df.loc[df.index[-1], \"End\"]\n",
    "    print(f\"{name} scenario: to {last_end_date}\")"
   ],
   "outputs": [],
   "metadata": {}
  },
  {
   "cell_type": "markdown",
   "source": [
    "Simulate the number of cases of forecast scenario."
   ],
   "metadata": {}
  },
  {
   "cell_type": "code",
   "execution_count": null,
   "source": [
    "_ = snl.simulate(variables=\"CFR\", name=\"Forecast\").tail()"
   ],
   "outputs": [],
   "metadata": {}
  },
  {
   "cell_type": "markdown",
   "source": [
    "Compare the number of cases of the all scenario with `Scenario.history()` and variable name."
   ],
   "metadata": {}
  },
  {
   "cell_type": "code",
   "execution_count": null,
   "source": [
    "_ = snl.history(\"Infected\")"
   ],
   "outputs": [],
   "metadata": {}
  },
  {
   "cell_type": "markdown",
   "source": [
    "We can focus on the values in specified date range with the following arguments.\n",
    "\n",
    "- `dates`: tuple of start date and end date\n",
    "- `past_days` (integer): how many past days to use in calculation from today (`Scenario.today` property)\n",
    "- `phases` (list of str): phase names to use in calculation\n",
    "\n",
    "These arguments are effective with `Scenario.history()`, `Scenario.simulate()`, `Scenario.track()` and `Scenario.score()`."
   ],
   "metadata": {}
  },
  {
   "cell_type": "code",
   "execution_count": null,
   "source": [
    "# Get the minimum value (from today to future) to set lower limit of y-axis\n",
    "lower_limit = snl.history(\"Infected\", dates=(snl.today, None), show_figure=False).min().min()\n",
    "# From today to future (no limitation regarding end date)\n",
    "_ = snl.history(\"Infected\", dates=(snl.today, None), ylim=(lower_limit, None))"
   ],
   "outputs": [],
   "metadata": {}
  },
  {
   "cell_type": "markdown",
   "source": [
    "In the past 20 days. Reference date is today (`Scenario.today` property)."
   ],
   "metadata": {}
  },
  {
   "cell_type": "code",
   "execution_count": null,
   "source": [
    "_ = snl.history(\"Infected\", past_days=20)"
   ],
   "outputs": [],
   "metadata": {}
  },
  {
   "cell_type": "markdown",
   "source": [
    "In the selected phases. Here, we will show the 3rd, 4th and 5th phase."
   ],
   "metadata": {}
  },
  {
   "cell_type": "code",
   "execution_count": null,
   "source": [
    "_ = snl.history(\"Infected\", phases=[\"3rd\", \"4th\", \"5th\"])"
   ],
   "outputs": [],
   "metadata": {}
  },
  {
   "cell_type": "markdown",
   "source": [
    "### Compare the scenarios\n",
    "We will compare the scenarios with representative values, reproduction number and parameter values. Currently, we can compare the scenarios with the following indexes.\n",
    "\n",
    "- max(Infected): max value of Infected\n",
    "- argmax(Infected): the date when Infected shows max value\n",
    "- Infected on …: Infected on the end date of the last phase\n",
    "- Fatal on …: Fatal on the end date of the last phase"
   ],
   "metadata": {}
  },
  {
   "cell_type": "code",
   "execution_count": null,
   "source": [
    "snl.describe()"
   ],
   "outputs": [],
   "metadata": {}
  },
  {
   "cell_type": "code",
   "execution_count": null,
   "source": [
    "_ = snl.history(target=\"Infected\")"
   ],
   "outputs": [],
   "metadata": {}
  },
  {
   "cell_type": "code",
   "execution_count": null,
   "source": [
    "_ = snl.history(target=\"Rt\")"
   ],
   "outputs": [],
   "metadata": {}
  },
  {
   "cell_type": "code",
   "execution_count": null,
   "source": [
    "_ = snl.history(target=\"rho\")"
   ],
   "outputs": [],
   "metadata": {}
  },
  {
   "cell_type": "code",
   "execution_count": null,
   "source": [
    "_ = snl.history(target=\"sigma\")"
   ],
   "outputs": [],
   "metadata": {}
  },
  {
   "cell_type": "code",
   "execution_count": null,
   "source": [
    "_ = snl.history(target=\"theta\")"
   ],
   "outputs": [],
   "metadata": {}
  },
  {
   "cell_type": "code",
   "execution_count": null,
   "source": [
    "_ = snl.history(target=\"kappa\")"
   ],
   "outputs": [],
   "metadata": {}
  },
  {
   "cell_type": "markdown",
   "source": [
    "### Change rate of parameters in main scenario\n",
    "History of each parameter will be shown. Values will be divided by the values in 0th phase."
   ],
   "metadata": {}
  },
  {
   "cell_type": "code",
   "execution_count": null,
   "source": [
    "_ = snl.history_rate(name=\"Main\")"
   ],
   "outputs": [],
   "metadata": {}
  },
  {
   "cell_type": "markdown",
   "source": [
    "### Retrospective analysis\n",
    "We can evaluate the impact of measures using past records. How many people were infected if the parameter values have not changed sinse 01Sep2020?"
   ],
   "metadata": {}
  },
  {
   "cell_type": "code",
   "execution_count": null,
   "source": [
    "# Perform retrospective analysis\n",
    "snl_retro = cs.Scenario(country=\"Japan\")\n",
    "snl_retro.register(jhu_data)\n",
    "snl_retro.retrospective(\n",
    "    \"01Jan2021\", model=cs.SIRF, control=\"Main\", target=\"Retrospective\", timeout=10)"
   ],
   "outputs": [],
   "metadata": {}
  },
  {
   "cell_type": "code",
   "execution_count": null,
   "source": [
    "# Show the summary of estimation\n",
    "cols = [\"Start\", \"End\", \"ODE\", \"Rt\", *cs.SIRF.PARAMETERS] + [\"RMSLE\", \"Trials\", \"Runtime\"]\n",
    "snl_retro.summary(columns=cols)"
   ],
   "outputs": [],
   "metadata": {}
  },
  {
   "cell_type": "code",
   "execution_count": null,
   "source": [
    "# History of reproduction number\n",
    "_ = snl_retro.history(\"Rt\")"
   ],
   "outputs": [],
   "metadata": {}
  },
  {
   "cell_type": "code",
   "execution_count": null,
   "source": [
    "# History of Infected\n",
    "_ = snl_retro.history(\"Infected\")"
   ],
   "outputs": [],
   "metadata": {}
  },
  {
   "cell_type": "code",
   "execution_count": null,
   "source": [
    "# Show the representative values\n",
    "snl_retro.describe()"
   ],
   "outputs": [],
   "metadata": {}
  }
 ],
 "metadata": {
  "interpreter": {
   "hash": "aa53c8c6e6798222a2084c11cc25017700a8d3ad495b587e3a634f357767115f"
  },
  "kernelspec": {
   "display_name": "Python 3.9.5 64-bit ('.venv': poetry)",
   "name": "python3"
  },
  "language_info": {
   "name": "python",
   "version": ""
  },
  "orig_nbformat": 2
 },
 "nbformat": 4,
 "nbformat_minor": 2
}