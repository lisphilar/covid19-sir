{
 "cells": [
  {
   "cell_type": "markdown",
   "metadata": {},
   "source": [
    "# Usage (details: policy measures)\n",
    "Here, we will analyse the relationship of policy measures and parameter values of SIR-derived ODE models. Policy measures are tracked by [Oxford Covid-19 Government Response Tracker (OxCGRT)](https://github.com/OxCGRT/covid-policy-tracker)."
   ]
  },
  {
   "cell_type": "markdown",
   "metadata": {},
   "source": [
    "## Preparation"
   ]
  },
  {
   "cell_type": "code",
   "execution_count": 1,
   "metadata": {
    "collapsed": false
   },
   "outputs": [],
   "source": [
    "# Standard users\n",
    "# !pip install covsirphy\n",
    "# Developers (Note: this notebook is in example directory)\n",
    "import os\n",
    "os.chdir(\"../\")"
   ]
  },
  {
   "cell_type": "code",
   "execution_count": 2,
   "metadata": {
    "collapsed": false
   },
   "outputs": [],
   "source": [
    "from pprint import pprint"
   ]
  },
  {
   "cell_type": "code",
   "execution_count": 3,
   "metadata": {
    "collapsed": false
   },
   "outputs": [
    {
     "data": {
      "text/plain": [
       "'2.13.3-epsilon-fu5.new.420.422.429.fix.438.441'"
      ]
     },
     "execution_count": 3,
     "metadata": {},
     "output_type": "execute_result"
    }
   ],
   "source": [
    "import covsirphy as cs\n",
    "cs.__version__"
   ]
  },
  {
   "cell_type": "code",
   "execution_count": 4,
   "metadata": {
    "collapsed": false,
    "tags": []
   },
   "outputs": [
    {
     "name": "stdout",
     "output_type": "stream",
     "text": [
      "(Secondary source) Guidotti, E., Ardia, D., (2020), \"COVID-19 Data Hub\", Journal of Open Source Software 5(51):2376, doi: 10.21105/joss.02376.\n"
     ]
    }
   ],
   "source": [
    "# Standard users and developers\n",
    "data_loader = cs.DataLoader(\"input\")\n",
    "# The number of cases (JHU style)\n",
    "jhu_data = data_loader.jhu(verbose=False)\n",
    "# Population in each country\n",
    "population_data = data_loader.population(verbose=False)\n",
    "# Government Response Tracker (OxCGRT)\n",
    "oxcgrt_data = data_loader.oxcgrt(verbose=False)\n",
    "# Description/citation\n",
    "print(oxcgrt_data.citation)"
   ]
  },
  {
   "cell_type": "markdown",
   "metadata": {},
   "source": [
    "## Class for policy measure analysis\n",
    "We will `PolicyMeasures` class to find relationship of policy measures and parameter values of SIR-derived ODE models."
   ]
  },
  {
   "cell_type": "code",
   "execution_count": 5,
   "metadata": {
    "collapsed": false,
    "tags": []
   },
   "outputs": [
    {
     "data": {
      "text/plain": [
       "196"
      ]
     },
     "execution_count": 5,
     "metadata": {},
     "output_type": "execute_result"
    }
   ],
   "source": [
    "# Create analyser with tau value 360 [min] (can be changed)\n",
    "analyser = cs.PolicyMeasures(jhu_data, population_data, oxcgrt_data, tau=360)\n",
    "# The number of registerd countries\n",
    "len(analyser.countries)"
   ]
  },
  {
   "cell_type": "code",
   "execution_count": 6,
   "metadata": {
    "collapsed": false
   },
   "outputs": [
    {
     "data": {
      "text/plain": [
       "covsirphy.analysis.scenario.Scenario"
      ]
     },
     "execution_count": 6,
     "metadata": {},
     "output_type": "execute_result"
    }
   ],
   "source": [
    "# We can get Scenario instance for detailed scenario analysis\n",
    "type(analyser.scenario(\"Japan\"))"
   ]
  },
  {
   "cell_type": "markdown",
   "metadata": {},
   "source": [
    "## Set phases with S-R trend analysis\n",
    "We will perform S-R trend analysis to set phases in all countries. Countries which do not have **17th phases** will be un-registered for the next analysis. This number will be adjusted for your analysis."
   ]
  },
  {
   "cell_type": "code",
   "execution_count": 7,
   "metadata": {
    "collapsed": false
   },
   "outputs": [
    {
     "name": "stdout",
     "output_type": "stream",
     "text": [
      "{2: ['Solomon Islands', 'Holy See', 'Laos', 'Timor-Leste'],\n",
      " 3: ['Saint Kitts and Nevis'],\n",
      " 4: ['Dominica', 'Tanzania', 'Fiji', 'Brunei'],\n",
      " 5: ['Saint Lucia', 'Equatorial Guinea', 'Grenada'],\n",
      " 6: ['Cambodia', 'Mauritius', 'Antigua and Barbuda'],\n",
      " 7: ['Saint Vincent and the Grenadines'],\n",
      " 8: ['Barbados', 'Northern Mariana Islands', 'Kyrgyzstan', 'Madagascar',\n",
      "     'Trinidad and Tobago', 'Bahamas'],\n",
      " 9: ['Bhutan', 'Uzbekistan', 'Gambia', 'Malawi', 'Ghana', 'Seychelles',\n",
      "     'Jamaica', 'Liechtenstein', 'Australia', 'Republic of the Congo',\n",
      "     'Sao Tome and Principe', 'Monaco', 'Vietnam', 'Bolivia', 'Djibouti',\n",
      "     'Kazakhstan', 'Oman'],\n",
      " 10: ['Lesotho', 'South Africa', 'El Salvador', 'Zimbabwe', 'Iraq',\n",
      "      'Philippines', 'Colombia', 'Ethiopia', 'Mongolia', 'Kenya', 'Namibia',\n",
      "      'Papua New Guinea', 'Suriname', 'Guatemala', 'Virgin Islands, U.S.',\n",
      "      'India', 'Maldives', 'Bahrain', 'Venezuela', 'Cape Verde', 'Guam',\n",
      "      'Kuwait', 'Libya', 'Mozambique', 'Zambia', 'Chile', 'Burundi', 'Guyana',\n",
      "      'Senegal', 'Benin', 'Swaziland', 'Singapore', 'Honduras', 'Bermuda',\n",
      "      'Angola'],\n",
      " 11: ['Ecuador', 'Belize', 'Dominican Republic', 'Uganda', 'New Zealand',\n",
      "      'Nicaragua', 'Peru', 'Saudi Arabia', 'Gabon', 'Togo', 'Israel',\n",
      "      'Costa Rica', 'Liberia', 'Rwanda', 'Pakistan', 'Nigeria', 'Syria',\n",
      "      'Algeria', 'Taiwan', 'Egypt', 'Mexico', 'Andorra', 'Argentina',\n",
      "      'Paraguay', \"Cote d'Ivoire\", 'Comoros', 'Iceland', 'Bangladesh', 'Yemen',\n",
      "      'Eritrea', 'Brazil'],\n",
      " 12: ['Latvia', 'Guinea-Bissau', 'Sierra Leone', 'Nepal', 'South Sudan',\n",
      "      'Panama', 'Georgia', 'Montenegro', 'Slovenia', 'Sudan', 'Somalia',\n",
      "      'Puerto Rico', 'Botswana', 'Central African Republic', 'Guinea', 'Kosovo',\n",
      "      'Jordan', 'Cameroon'],\n",
      " 13: ['Burkina Faso', 'Hungary', 'Moldova', 'Myanmar', 'United Arab Emirates',\n",
      "      'Morocco', 'Chad', 'Azerbaijan', 'Democratic Republic of the Congo',\n",
      "      'San Marino', 'Niger', 'Croatia', 'Qatar', 'Malta', 'Serbia',\n",
      "      'Afghanistan', 'Slovakia', 'China', 'Armenia', 'Japan', 'Cuba',\n",
      "      'Palestine', 'Indonesia', 'Tajikistan', 'Haiti'],\n",
      " 14: ['Turkey', 'Tunisia', 'Russia', 'Spain', 'Estonia',\n",
      "      'Bosnia and Herzegovina', 'Lithuania', 'United States', 'Greece',\n",
      "      'Ireland', 'Bulgaria', 'Mali', 'Belarus', 'Lebanon'],\n",
      " 15: ['Albania', 'Italy', 'Switzerland', 'Iran', 'Cyprus', 'Luxembourg',\n",
      "      'Poland', 'North Macedonia', 'Sri Lanka', 'Denmark', 'Czech Republic',\n",
      "      'Mauritania', 'Thailand', 'Uruguay'],\n",
      " 16: ['Sweden', 'Canada', 'France', 'Finland', 'Romania', 'Austria', 'Ukraine',\n",
      "      'Malaysia', 'Netherlands', 'Belgium'],\n",
      " 17: ['United Kingdom', 'Portugal', 'Norway', 'Germany']}\n"
     ]
    }
   ],
   "source": [
    "# Show the number of phases of all countries\n",
    "analyser.trend()\n",
    "pprint(analyser.phase_len(), compact=True)"
   ]
  },
  {
   "cell_type": "code",
   "execution_count": 8,
   "metadata": {
    "collapsed": false
   },
   "outputs": [
    {
     "data": {
      "text/plain": [
       "4"
      ]
     },
     "execution_count": 8,
     "metadata": {},
     "output_type": "execute_result"
    }
   ],
   "source": [
    "# Set phases with S-R trend analysis\n",
    "analyser.trend(min_len=17)\n",
    "# The number of countries\n",
    "len(analyser.countries)"
   ]
  },
  {
   "cell_type": "code",
   "execution_count": 9,
   "metadata": {
    "collapsed": false,
    "tags": []
   },
   "outputs": [
    {
     "name": "stdout",
     "output_type": "stream",
     "text": [
      "{17: ['United Kingdom', 'Portugal', 'Norway', 'Germany']}\n"
     ]
    }
   ],
   "source": [
    "phase_len_dict = analyser.phase_len()\n",
    "pprint(phase_len_dict, compact=True)"
   ]
  },
  {
   "cell_type": "code",
   "execution_count": 10,
   "metadata": {
    "collapsed": false,
    "tags": []
   },
   "outputs": [
    {
     "data": {
      "text/html": [
       "<div>\n",
       "<style scoped>\n",
       "    .dataframe tbody tr th:only-of-type {\n",
       "        vertical-align: middle;\n",
       "    }\n",
       "\n",
       "    .dataframe tbody tr th {\n",
       "        vertical-align: top;\n",
       "    }\n",
       "\n",
       "    .dataframe thead th {\n",
       "        text-align: right;\n",
       "    }\n",
       "</style>\n",
       "<table border=\"1\" class=\"dataframe\">\n",
       "  <thead>\n",
       "    <tr style=\"text-align: right;\">\n",
       "      <th></th>\n",
       "      <th></th>\n",
       "      <th>Type</th>\n",
       "      <th>Start</th>\n",
       "      <th>End</th>\n",
       "      <th>Population</th>\n",
       "    </tr>\n",
       "    <tr>\n",
       "      <th>Country</th>\n",
       "      <th>Phase</th>\n",
       "      <th></th>\n",
       "      <th></th>\n",
       "      <th></th>\n",
       "      <th></th>\n",
       "    </tr>\n",
       "  </thead>\n",
       "  <tbody>\n",
       "    <tr>\n",
       "      <th rowspan=\"5\" valign=\"top\">United Kingdom</th>\n",
       "      <th>0th</th>\n",
       "      <td>Past</td>\n",
       "      <td>23Feb2020</td>\n",
       "      <td>09Apr2020</td>\n",
       "      <td>66460344</td>\n",
       "    </tr>\n",
       "    <tr>\n",
       "      <th>1st</th>\n",
       "      <td>Past</td>\n",
       "      <td>10Apr2020</td>\n",
       "      <td>30Apr2020</td>\n",
       "      <td>66460344</td>\n",
       "    </tr>\n",
       "    <tr>\n",
       "      <th>2nd</th>\n",
       "      <td>Past</td>\n",
       "      <td>01May2020</td>\n",
       "      <td>27May2020</td>\n",
       "      <td>66460344</td>\n",
       "    </tr>\n",
       "    <tr>\n",
       "      <th>3rd</th>\n",
       "      <td>Past</td>\n",
       "      <td>28May2020</td>\n",
       "      <td>05Aug2020</td>\n",
       "      <td>66460344</td>\n",
       "    </tr>\n",
       "    <tr>\n",
       "      <th>4th</th>\n",
       "      <td>Past</td>\n",
       "      <td>06Aug2020</td>\n",
       "      <td>15Sep2020</td>\n",
       "      <td>66460344</td>\n",
       "    </tr>\n",
       "    <tr>\n",
       "      <th>...</th>\n",
       "      <th>...</th>\n",
       "      <td>...</td>\n",
       "      <td>...</td>\n",
       "      <td>...</td>\n",
       "      <td>...</td>\n",
       "    </tr>\n",
       "    <tr>\n",
       "      <th rowspan=\"5\" valign=\"top\">Germany</th>\n",
       "      <th>12th</th>\n",
       "      <td>Past</td>\n",
       "      <td>18Nov2020</td>\n",
       "      <td>24Nov2020</td>\n",
       "      <td>82905782</td>\n",
       "    </tr>\n",
       "    <tr>\n",
       "      <th>13th</th>\n",
       "      <td>Past</td>\n",
       "      <td>25Nov2020</td>\n",
       "      <td>01Dec2020</td>\n",
       "      <td>82905782</td>\n",
       "    </tr>\n",
       "    <tr>\n",
       "      <th>14th</th>\n",
       "      <td>Past</td>\n",
       "      <td>02Dec2020</td>\n",
       "      <td>08Dec2020</td>\n",
       "      <td>82905782</td>\n",
       "    </tr>\n",
       "    <tr>\n",
       "      <th>15th</th>\n",
       "      <td>Past</td>\n",
       "      <td>09Dec2020</td>\n",
       "      <td>14Dec2020</td>\n",
       "      <td>82905782</td>\n",
       "    </tr>\n",
       "    <tr>\n",
       "      <th>16th</th>\n",
       "      <td>Past</td>\n",
       "      <td>15Dec2020</td>\n",
       "      <td>25Dec2020</td>\n",
       "      <td>82905782</td>\n",
       "    </tr>\n",
       "  </tbody>\n",
       "</table>\n",
       "<p>68 rows × 4 columns</p>\n",
       "</div>"
      ],
      "text/plain": [
       "                      Type      Start        End  Population\n",
       "Country        Phase                                        \n",
       "United Kingdom 0th    Past  23Feb2020  09Apr2020    66460344\n",
       "               1st    Past  10Apr2020  30Apr2020    66460344\n",
       "               2nd    Past  01May2020  27May2020    66460344\n",
       "               3rd    Past  28May2020  05Aug2020    66460344\n",
       "               4th    Past  06Aug2020  15Sep2020    66460344\n",
       "...                    ...        ...        ...         ...\n",
       "Germany        12th   Past  18Nov2020  24Nov2020    82905782\n",
       "               13th   Past  25Nov2020  01Dec2020    82905782\n",
       "               14th   Past  02Dec2020  08Dec2020    82905782\n",
       "               15th   Past  09Dec2020  14Dec2020    82905782\n",
       "               16th   Past  15Dec2020  25Dec2020    82905782\n",
       "\n",
       "[68 rows x 4 columns]"
      ]
     },
     "execution_count": 10,
     "metadata": {},
     "output_type": "execute_result"
    }
   ],
   "source": [
    "# Here, only show the countries which have the most phases\n",
    "countries_show = max(phase_len_dict.items(), key=lambda x: x[0])[1]\n",
    "# Show summary\n",
    "analyser.summary(countries=countries_show)"
   ]
  },
  {
   "cell_type": "markdown",
   "metadata": {},
   "source": [
    "## Parameter estimation\n",
    "we will estimate the parameter values with SIR-derived ODE models in each country."
   ]
  },
  {
   "cell_type": "code",
   "execution_count": 11,
   "metadata": {
    "collapsed": false,
    "tags": []
   },
   "outputs": [
    {
     "name": "stdout",
     "output_type": "stream",
     "text": [
      "\n",
      "<SIR-F model: parameter estimation>\n",
      "Running optimization with 4 CPUs...\n"
     ]
    },
    {
     "name": "stdout",
     "output_type": "stream",
     "text": [
      "\tNOR, 11th phase (04Nov2020 - 09Nov2020): finished  366 trials in 0 min 10 sec"
     ]
    },
    {
     "name": "stdout",
     "output_type": "stream",
     "text": [
      "\n"
     ]
    },
    {
     "name": "stdout",
     "output_type": "stream",
     "text": [
      "\tNOR, 14th phase (01Dec2020 - 08Dec2020): finished  363 trials in 0 min 10 sec"
     ]
    },
    {
     "name": "stdout",
     "output_type": "stream",
     "text": [
      "\n"
     ]
    },
    {
     "name": "stdout",
     "output_type": "stream",
     "text": [
      "\tGBR, 11th phase (11Nov2020 - 16Nov2020): finished  366 trials in 0 min 10 sec"
     ]
    },
    {
     "name": "stdout",
     "output_type": "stream",
     "text": [
      "\n"
     ]
    },
    {
     "name": "stdout",
     "output_type": "stream",
     "text": [
      "\tNOR, 10th phase (29Oct2020 - 03Nov2020): finished  367 trials in 0 min 10 sec"
     ]
    },
    {
     "name": "stdout",
     "output_type": "stream",
     "text": [
      "\n"
     ]
    },
    {
     "name": "stdout",
     "output_type": "stream",
     "text": [
      "\tNOR,  9th phase (21Oct2020 - 28Oct2020): finished  349 trials in 0 min 10 sec"
     ]
    },
    {
     "name": "stdout",
     "output_type": "stream",
     "text": [
      "\n"
     ]
    },
    {
     "name": "stdout",
     "output_type": "stream",
     "text": [
      "\tGBR,  1st phase (10Apr2020 - 30Apr2020): finished  340 trials in 0 min 10 sec"
     ]
    },
    {
     "name": "stdout",
     "output_type": "stream",
     "text": [
      "\n"
     ]
    },
    {
     "name": "stdout",
     "output_type": "stream",
     "text": [
      "\tPRT,  3rd phase (02Jun2020 - 02Jul2020): finished  336 trials in 0 min 10 sec"
     ]
    },
    {
     "name": "stdout",
     "output_type": "stream",
     "text": [
      "\n"
     ]
    },
    {
     "name": "stdout",
     "output_type": "stream",
     "text": [
      "\tGBR,  7th phase (12Oct2020 - 19Oct2020): finished  346 trials in 0 min 10 sec"
     ]
    },
    {
     "name": "stdout",
     "output_type": "stream",
     "text": [
      "\n"
     ]
    },
    {
     "name": "stdout",
     "output_type": "stream",
     "text": [
      "\tNOR,  0th phase (15Mar2020 - 24Mar2020): finished  340 trials in 0 min 10 sec"
     ]
    },
    {
     "name": "stdout",
     "output_type": "stream",
     "text": [
      "\n"
     ]
    },
    {
     "name": "stdout",
     "output_type": "stream",
     "text": [
      "\tGBR, 16th phase (15Dec2020 - 25Dec2020): finished  339 trials in 0 min 10 sec"
     ]
    },
    {
     "name": "stdout",
     "output_type": "stream",
     "text": [
      "\n"
     ]
    },
    {
     "name": "stdout",
     "output_type": "stream",
     "text": [
      "\tPRT, 12th phase (15Nov2020 - 25Nov2020): finished  338 trials in 0 min 10 sec"
     ]
    },
    {
     "name": "stdout",
     "output_type": "stream",
     "text": [
      "\n"
     ]
    },
    {
     "name": "stdout",
     "output_type": "stream",
     "text": [
      "\tGBR,  8th phase (20Oct2020 - 27Oct2020): finished  341 trials in 0 min 10 sec"
     ]
    },
    {
     "name": "stdout",
     "output_type": "stream",
     "text": [
      "\n"
     ]
    },
    {
     "name": "stdout",
     "output_type": "stream",
     "text": [
      "\tNOR,  2nd phase (03Apr2020 - 20Apr2020): finished  348 trials in 0 min 10 sec"
     ]
    },
    {
     "name": "stdout",
     "output_type": "stream",
     "text": [
      "\n"
     ]
    },
    {
     "name": "stdout",
     "output_type": "stream",
     "text": [
      "\tGBR,  4th phase (06Aug2020 - 15Sep2020): finished  342 trials in 0 min 10 sec"
     ]
    },
    {
     "name": "stdout",
     "output_type": "stream",
     "text": [
      "\n"
     ]
    },
    {
     "name": "stdout",
     "output_type": "stream",
     "text": [
      "\tPRT,  7th phase (01Oct2020 - 13Oct2020): finished  350 trials in 0 min 10 sec"
     ]
    },
    {
     "name": "stdout",
     "output_type": "stream",
     "text": [
      "\n"
     ]
    },
    {
     "name": "stdout",
     "output_type": "stream",
     "text": [
      "\tDEU,  7th phase (09Oct2020 - 20Oct2020): finished  350 trials in 0 min 10 sec"
     ]
    },
    {
     "name": "stdout",
     "output_type": "stream",
     "text": [
      "\n"
     ]
    },
    {
     "name": "stdout",
     "output_type": "stream",
     "text": [
      "\tGBR, 10th phase (04Nov2020 - 10Nov2020): finished  344 trials in 0 min 10 sec"
     ]
    },
    {
     "name": "stdout",
     "output_type": "stream",
     "text": [
      "\n"
     ]
    },
    {
     "name": "stdout",
     "output_type": "stream",
     "text": [
      "\tPRT, 16th phase (17Dec2020 - 25Dec2020): finished  343 trials in 0 min 10 sec"
     ]
    },
    {
     "name": "stdout",
     "output_type": "stream",
     "text": [
      "\n"
     ]
    },
    {
     "name": "stdout",
     "output_type": "stream",
     "text": [
      "\tNOR,  8th phase (06Oct2020 - 20Oct2020): finished  340 trials in 0 min 10 sec"
     ]
    },
    {
     "name": "stdout",
     "output_type": "stream",
     "text": [
      "\n"
     ]
    },
    {
     "name": "stdout",
     "output_type": "stream",
     "text": [
      "\tNOR, 15th phase (09Dec2020 - 16Dec2020): finished  342 trials in 0 min 10 sec"
     ]
    },
    {
     "name": "stdout",
     "output_type": "stream",
     "text": [
      "\n"
     ]
    },
    {
     "name": "stdout",
     "output_type": "stream",
     "text": [
      "\tPRT,  4th phase (03Jul2020 - 11Aug2020): finished  330 trials in 0 min 10 sec"
     ]
    },
    {
     "name": "stdout",
     "output_type": "stream",
     "text": [
      "\n"
     ]
    },
    {
     "name": "stdout",
     "output_type": "stream",
     "text": [
      "\tDEU,  6th phase (16Sep2020 - 08Oct2020): finished  338 trials in 0 min 10 sec"
     ]
    },
    {
     "name": "stdout",
     "output_type": "stream",
     "text": [
      "\n"
     ]
    },
    {
     "name": "stdout",
     "output_type": "stream",
     "text": [
      "\tDEU, 13th phase (25Nov2020 - 01Dec2020): finished  344 trials in 0 min 10 sec"
     ]
    },
    {
     "name": "stdout",
     "output_type": "stream",
     "text": [
      "\n"
     ]
    },
    {
     "name": "stdout",
     "output_type": "stream",
     "text": [
      "\tDEU,  5th phase (16Aug2020 - 15Sep2020): finished  335 trials in 0 min 10 sec"
     ]
    },
    {
     "name": "stdout",
     "output_type": "stream",
     "text": [
      "\n"
     ]
    },
    {
     "name": "stdout",
     "output_type": "stream",
     "text": [
      "\tGBR,  3rd phase (28May2020 - 05Aug2020): finished  327 trials in 0 min 10 sec"
     ]
    },
    {
     "name": "stdout",
     "output_type": "stream",
     "text": [
      "\n"
     ]
    },
    {
     "name": "stdout",
     "output_type": "stream",
     "text": [
      "\tDEU,  3rd phase (22Apr2020 - 17Jun2020): finished  329 trials in 0 min 10 sec"
     ]
    },
    {
     "name": "stdout",
     "output_type": "stream",
     "text": [
      "\n"
     ]
    },
    {
     "name": "stdout",
     "output_type": "stream",
     "text": [
      "\tPRT,  1st phase (04Apr2020 - 22Apr2020): finished  346 trials in 0 min 10 sec"
     ]
    },
    {
     "name": "stdout",
     "output_type": "stream",
     "text": [
      "\n"
     ]
    },
    {
     "name": "stdout",
     "output_type": "stream",
     "text": [
      "\tNOR,  7th phase (21Sep2020 - 05Oct2020): finished  347 trials in 0 min 10 sec"
     ]
    },
    {
     "name": "stdout",
     "output_type": "stream",
     "text": [
      "\n"
     ]
    },
    {
     "name": "stdout",
     "output_type": "stream",
     "text": [
      "\tGBR, 14th phase (02Dec2020 - 08Dec2020): finished  323 trials in 0 min 10 sec"
     ]
    },
    {
     "name": "stdout",
     "output_type": "stream",
     "text": [
      "\n"
     ]
    },
    {
     "name": "stdout",
     "output_type": "stream",
     "text": [
      "\tNOR,  4th phase (03Jun2020 - 09Aug2020): finished  299 trials in 0 min 10 sec"
     ]
    },
    {
     "name": "stdout",
     "output_type": "stream",
     "text": [
      "\n"
     ]
    },
    {
     "name": "stdout",
     "output_type": "stream",
     "text": [
      "\tGBR,  0th phase (23Feb2020 - 09Apr2020): finished  305 trials in 0 min 10 sec"
     ]
    },
    {
     "name": "stdout",
     "output_type": "stream",
     "text": [
      "\n"
     ]
    },
    {
     "name": "stdout",
     "output_type": "stream",
     "text": [
      "\tPRT, 13th phase (26Nov2020 - 02Dec2020): finished  318 trials in 0 min 10 sec"
     ]
    },
    {
     "name": "stdout",
     "output_type": "stream",
     "text": [
      "\n"
     ]
    },
    {
     "name": "stdout",
     "output_type": "stream",
     "text": [
      "\tPRT,  9th phase (22Oct2020 - 28Oct2020): finished  336 trials in 0 min 10 sec"
     ]
    },
    {
     "name": "stdout",
     "output_type": "stream",
     "text": [
      "\n"
     ]
    },
    {
     "name": "stdout",
     "output_type": "stream",
     "text": [
      "\tDEU,  8th phase (21Oct2020 - 27Oct2020): finished  336 trials in 0 min 10 sec"
     ]
    },
    {
     "name": "stdout",
     "output_type": "stream",
     "text": [
      "\n"
     ]
    },
    {
     "name": "stdout",
     "output_type": "stream",
     "text": [
      "\tPRT,  6th phase (12Sep2020 - 30Sep2020): finished  332 trials in 0 min 10 sec"
     ]
    },
    {
     "name": "stdout",
     "output_type": "stream",
     "text": [
      "\n"
     ]
    },
    {
     "name": "stdout",
     "output_type": "stream",
     "text": [
      "\tGBR,  5th phase (16Sep2020 - 02Oct2020): finished  332 trials in 0 min 10 sec"
     ]
    },
    {
     "name": "stdout",
     "output_type": "stream",
     "text": [
      "\n"
     ]
    },
    {
     "name": "stdout",
     "output_type": "stream",
     "text": [
      "\tNOR,  6th phase (05Sep2020 - 20Sep2020): finished  329 trials in 0 min 10 sec"
     ]
    },
    {
     "name": "stdout",
     "output_type": "stream",
     "text": [
      "\n"
     ]
    },
    {
     "name": "stdout",
     "output_type": "stream",
     "text": [
      "\tDEU,  2nd phase (05Apr2020 - 21Apr2020): finished  330 trials in 0 min 10 sec"
     ]
    },
    {
     "name": "stdout",
     "output_type": "stream",
     "text": [
      "\n"
     ]
    },
    {
     "name": "stdout",
     "output_type": "stream",
     "text": [
      "\tPRT, 10th phase (29Oct2020 - 04Nov2020): finished  336 trials in 0 min 10 sec"
     ]
    },
    {
     "name": "stdout",
     "output_type": "stream",
     "text": [
      "\n"
     ]
    },
    {
     "name": "stdout",
     "output_type": "stream",
     "text": [
      "\tPRT, 15th phase (10Dec2020 - 16Dec2020): finished  336 trials in 0 min 10 sec"
     ]
    },
    {
     "name": "stdout",
     "output_type": "stream",
     "text": [
      "\n"
     ]
    },
    {
     "name": "stdout",
     "output_type": "stream",
     "text": [
      "\tDEU,  4th phase (18Jun2020 - 15Aug2020): finished  326 trials in 0 min 10 sec"
     ]
    },
    {
     "name": "stdout",
     "output_type": "stream",
     "text": [
      "\n"
     ]
    },
    {
     "name": "stdout",
     "output_type": "stream",
     "text": [
      "\tNOR, 12th phase (10Nov2020 - 22Nov2020): finished  342 trials in 0 min 10 sec"
     ]
    },
    {
     "name": "stdout",
     "output_type": "stream",
     "text": [
      "\n"
     ]
    },
    {
     "name": "stdout",
     "output_type": "stream",
     "text": [
      "\tNOR,  1st phase (25Mar2020 - 02Apr2020): finished  344 trials in 0 min 10 sec"
     ]
    },
    {
     "name": "stdout",
     "output_type": "stream",
     "text": [
      "\n"
     ]
    },
    {
     "name": "stdout",
     "output_type": "stream",
     "text": [
      "\tPRT,  0th phase (14Mar2020 - 03Apr2020): finished  335 trials in 0 min 10 sec"
     ]
    },
    {
     "name": "stdout",
     "output_type": "stream",
     "text": [
      "\n"
     ]
    },
    {
     "name": "stdout",
     "output_type": "stream",
     "text": [
      "\tDEU, 11th phase (11Nov2020 - 17Nov2020): finished  330 trials in 0 min 10 sec"
     ]
    },
    {
     "name": "stdout",
     "output_type": "stream",
     "text": [
      "\n"
     ]
    },
    {
     "name": "stdout",
     "output_type": "stream",
     "text": [
      "\tDEU,  0th phase (19Jan2020 - 23Mar2020): finished  313 trials in 0 min 10 sec"
     ]
    },
    {
     "name": "stdout",
     "output_type": "stream",
     "text": [
      "\n"
     ]
    },
    {
     "name": "stdout",
     "output_type": "stream",
     "text": [
      "\tPRT, 14th phase (03Dec2020 - 09Dec2020): finished  329 trials in 0 min 10 sec"
     ]
    },
    {
     "name": "stdout",
     "output_type": "stream",
     "text": [
      "\n"
     ]
    },
    {
     "name": "stdout",
     "output_type": "stream",
     "text": [
      "\tGBR,  6th phase (03Oct2020 - 11Oct2020): finished  324 trials in 0 min 10 sec"
     ]
    },
    {
     "name": "stdout",
     "output_type": "stream",
     "text": [
      "\n"
     ]
    },
    {
     "name": "stdout",
     "output_type": "stream",
     "text": [
      "\tGBR,  9th phase (28Oct2020 - 03Nov2020): finished  335 trials in 0 min 10 sec"
     ]
    },
    {
     "name": "stdout",
     "output_type": "stream",
     "text": [
      "\n"
     ]
    },
    {
     "name": "stdout",
     "output_type": "stream",
     "text": [
      "\tNOR, 13th phase (23Nov2020 - 30Nov2020): finished  329 trials in 0 min 10 sec"
     ]
    },
    {
     "name": "stdout",
     "output_type": "stream",
     "text": [
      "\n"
     ]
    },
    {
     "name": "stdout",
     "output_type": "stream",
     "text": [
      "\tGBR, 15th phase (09Dec2020 - 14Dec2020): finished  323 trials in 0 min 10 sec"
     ]
    },
    {
     "name": "stdout",
     "output_type": "stream",
     "text": [
      "\n"
     ]
    },
    {
     "name": "stdout",
     "output_type": "stream",
     "text": [
      "\tNOR,  5th phase (10Aug2020 - 04Sep2020): finished  313 trials in 0 min 10 sec"
     ]
    },
    {
     "name": "stdout",
     "output_type": "stream",
     "text": [
      "\n"
     ]
    },
    {
     "name": "stdout",
     "output_type": "stream",
     "text": [
      "\tGBR, 13th phase (24Nov2020 - 01Dec2020): finished  330 trials in 0 min 10 sec"
     ]
    },
    {
     "name": "stdout",
     "output_type": "stream",
     "text": [
      "\n"
     ]
    },
    {
     "name": "stdout",
     "output_type": "stream",
     "text": [
      "\tDEU, 12th phase (18Nov2020 - 24Nov2020): finished  331 trials in 0 min 10 sec"
     ]
    },
    {
     "name": "stdout",
     "output_type": "stream",
     "text": [
      "\n"
     ]
    },
    {
     "name": "stdout",
     "output_type": "stream",
     "text": [
      "\tPRT,  5th phase (12Aug2020 - 11Sep2020): finished  320 trials in 0 min 10 sec"
     ]
    },
    {
     "name": "stdout",
     "output_type": "stream",
     "text": [
      "\n"
     ]
    },
    {
     "name": "stdout",
     "output_type": "stream",
     "text": [
      "\tGBR,  2nd phase (01May2020 - 27May2020): finished  324 trials in 0 min 10 sec"
     ]
    },
    {
     "name": "stdout",
     "output_type": "stream",
     "text": [
      "\n"
     ]
    },
    {
     "name": "stdout",
     "output_type": "stream",
     "text": [
      "\tGBR, 12th phase (17Nov2020 - 23Nov2020): finished  348 trials in 0 min 10 sec"
     ]
    },
    {
     "name": "stdout",
     "output_type": "stream",
     "text": [
      "\n"
     ]
    },
    {
     "name": "stdout",
     "output_type": "stream",
     "text": [
      "\tPRT,  2nd phase (23Apr2020 - 01Jun2020): finished  332 trials in 0 min 10 sec"
     ]
    },
    {
     "name": "stdout",
     "output_type": "stream",
     "text": [
      "\n"
     ]
    },
    {
     "name": "stdout",
     "output_type": "stream",
     "text": [
      "\tNOR,  3rd phase (21Apr2020 - 02Jun2020): finished  329 trials in 0 min 10 sec"
     ]
    },
    {
     "name": "stdout",
     "output_type": "stream",
     "text": [
      "\n"
     ]
    },
    {
     "name": "stdout",
     "output_type": "stream",
     "text": [
      "\tDEU,  1st phase (24Mar2020 - 04Apr2020): finished  342 trials in 0 min 10 sec"
     ]
    },
    {
     "name": "stdout",
     "output_type": "stream",
     "text": [
      "\n"
     ]
    },
    {
     "name": "stdout",
     "output_type": "stream",
     "text": [
      "\tPRT, 11th phase (05Nov2020 - 14Nov2020): finished  341 trials in 0 min 10 sec"
     ]
    },
    {
     "name": "stdout",
     "output_type": "stream",
     "text": [
      "\n"
     ]
    },
    {
     "name": "stdout",
     "output_type": "stream",
     "text": [
      "\tPRT,  8th phase (14Oct2020 - 21Oct2020): finished  342 trials in 0 min 10 sec"
     ]
    },
    {
     "name": "stdout",
     "output_type": "stream",
     "text": [
      "\n"
     ]
    },
    {
     "name": "stdout",
     "output_type": "stream",
     "text": [
      "Completed optimization. Total: 2 min 51 sec\n"
     ]
    }
   ],
   "source": [
    "# Parameter estimation with SIR-F model\n",
    "analyser.estimate(cs.SIRF, timeout=10)"
   ]
  },
  {
   "cell_type": "code",
   "execution_count": 12,
   "metadata": {
    "collapsed": false
   },
   "outputs": [
    {
     "data": {
      "text/html": [
       "<div>\n",
       "<style scoped>\n",
       "    .dataframe tbody tr th:only-of-type {\n",
       "        vertical-align: middle;\n",
       "    }\n",
       "\n",
       "    .dataframe tbody tr th {\n",
       "        vertical-align: top;\n",
       "    }\n",
       "\n",
       "    .dataframe thead th {\n",
       "        text-align: right;\n",
       "    }\n",
       "</style>\n",
       "<table border=\"1\" class=\"dataframe\">\n",
       "  <thead>\n",
       "    <tr style=\"text-align: right;\">\n",
       "      <th></th>\n",
       "      <th></th>\n",
       "      <th>Type</th>\n",
       "      <th>Start</th>\n",
       "      <th>End</th>\n",
       "      <th>Population</th>\n",
       "      <th>ODE</th>\n",
       "      <th>Rt</th>\n",
       "      <th>theta</th>\n",
       "      <th>kappa</th>\n",
       "      <th>rho</th>\n",
       "      <th>sigma</th>\n",
       "      <th>tau</th>\n",
       "      <th>1/alpha2 [day]</th>\n",
       "      <th>alpha1 [-]</th>\n",
       "      <th>1/beta [day]</th>\n",
       "      <th>1/gamma [day]</th>\n",
       "      <th>RMSLE</th>\n",
       "      <th>Trials</th>\n",
       "      <th>Runtime</th>\n",
       "    </tr>\n",
       "    <tr>\n",
       "      <th>Country</th>\n",
       "      <th>Phase</th>\n",
       "      <th></th>\n",
       "      <th></th>\n",
       "      <th></th>\n",
       "      <th></th>\n",
       "      <th></th>\n",
       "      <th></th>\n",
       "      <th></th>\n",
       "      <th></th>\n",
       "      <th></th>\n",
       "      <th></th>\n",
       "      <th></th>\n",
       "      <th></th>\n",
       "      <th></th>\n",
       "      <th></th>\n",
       "      <th></th>\n",
       "      <th></th>\n",
       "      <th></th>\n",
       "      <th></th>\n",
       "    </tr>\n",
       "  </thead>\n",
       "  <tbody>\n",
       "    <tr>\n",
       "      <th rowspan=\"5\" valign=\"top\">United Kingdom</th>\n",
       "      <th>0th</th>\n",
       "      <td>Past</td>\n",
       "      <td>23Feb2020</td>\n",
       "      <td>09Apr2020</td>\n",
       "      <td>66460344</td>\n",
       "      <td>SIR-F</td>\n",
       "      <td>32.44</td>\n",
       "      <td>0.0343094</td>\n",
       "      <td>0.000727181</td>\n",
       "      <td>0.0579224</td>\n",
       "      <td>0.00099718</td>\n",
       "      <td>360</td>\n",
       "      <td>343</td>\n",
       "      <td>0.034</td>\n",
       "      <td>4</td>\n",
       "      <td>250</td>\n",
       "      <td>0.713456</td>\n",
       "      <td>305</td>\n",
       "      <td>0 min 10 sec</td>\n",
       "    </tr>\n",
       "    <tr>\n",
       "      <th>1st</th>\n",
       "      <td>Past</td>\n",
       "      <td>10Apr2020</td>\n",
       "      <td>30Apr2020</td>\n",
       "      <td>66460344</td>\n",
       "      <td>SIR-F</td>\n",
       "      <td>1.38</td>\n",
       "      <td>0.196243</td>\n",
       "      <td>9.84009e-05</td>\n",
       "      <td>0.0194493</td>\n",
       "      <td>0.0112076</td>\n",
       "      <td>360</td>\n",
       "      <td>2540</td>\n",
       "      <td>0.196</td>\n",
       "      <td>12</td>\n",
       "      <td>22</td>\n",
       "      <td>0.0740106</td>\n",
       "      <td>340</td>\n",
       "      <td>0 min 10 sec</td>\n",
       "    </tr>\n",
       "    <tr>\n",
       "      <th>2nd</th>\n",
       "      <td>Past</td>\n",
       "      <td>01May2020</td>\n",
       "      <td>27May2020</td>\n",
       "      <td>66460344</td>\n",
       "      <td>SIR-F</td>\n",
       "      <td>0.82</td>\n",
       "      <td>0.0817904</td>\n",
       "      <td>0.000427021</td>\n",
       "      <td>0.0145314</td>\n",
       "      <td>0.0158694</td>\n",
       "      <td>360</td>\n",
       "      <td>585</td>\n",
       "      <td>0.082</td>\n",
       "      <td>17</td>\n",
       "      <td>15</td>\n",
       "      <td>0.0547342</td>\n",
       "      <td>324</td>\n",
       "      <td>0 min 10 sec</td>\n",
       "    </tr>\n",
       "    <tr>\n",
       "      <th>3rd</th>\n",
       "      <td>Past</td>\n",
       "      <td>28May2020</td>\n",
       "      <td>05Aug2020</td>\n",
       "      <td>66460344</td>\n",
       "      <td>SIR-F</td>\n",
       "      <td>0.69</td>\n",
       "      <td>0.048902</td>\n",
       "      <td>0.000288267</td>\n",
       "      <td>0.0138294</td>\n",
       "      <td>0.0187235</td>\n",
       "      <td>360</td>\n",
       "      <td>867</td>\n",
       "      <td>0.049</td>\n",
       "      <td>18</td>\n",
       "      <td>13</td>\n",
       "      <td>0.111747</td>\n",
       "      <td>327</td>\n",
       "      <td>0 min 10 sec</td>\n",
       "    </tr>\n",
       "    <tr>\n",
       "      <th>4th</th>\n",
       "      <td>Past</td>\n",
       "      <td>06Aug2020</td>\n",
       "      <td>15Sep2020</td>\n",
       "      <td>66460344</td>\n",
       "      <td>SIR-F</td>\n",
       "      <td>1.47</td>\n",
       "      <td>0.00138213</td>\n",
       "      <td>0.000194556</td>\n",
       "      <td>0.0187618</td>\n",
       "      <td>0.0125128</td>\n",
       "      <td>360</td>\n",
       "      <td>1284</td>\n",
       "      <td>0.001</td>\n",
       "      <td>13</td>\n",
       "      <td>19</td>\n",
       "      <td>0.0616086</td>\n",
       "      <td>342</td>\n",
       "      <td>0 min 10 sec</td>\n",
       "    </tr>\n",
       "    <tr>\n",
       "      <th>...</th>\n",
       "      <th>...</th>\n",
       "      <td>...</td>\n",
       "      <td>...</td>\n",
       "      <td>...</td>\n",
       "      <td>...</td>\n",
       "      <td>...</td>\n",
       "      <td>...</td>\n",
       "      <td>...</td>\n",
       "      <td>...</td>\n",
       "      <td>...</td>\n",
       "      <td>...</td>\n",
       "      <td>...</td>\n",
       "      <td>...</td>\n",
       "      <td>...</td>\n",
       "      <td>...</td>\n",
       "      <td>...</td>\n",
       "      <td>...</td>\n",
       "      <td>...</td>\n",
       "      <td>...</td>\n",
       "    </tr>\n",
       "    <tr>\n",
       "      <th rowspan=\"5\" valign=\"top\">Germany</th>\n",
       "      <th>12th</th>\n",
       "      <td>Past</td>\n",
       "      <td>18Nov2020</td>\n",
       "      <td>24Nov2020</td>\n",
       "      <td>82905782</td>\n",
       "      <td>SIR-F</td>\n",
       "      <td>0.86</td>\n",
       "      <td>0.0163381</td>\n",
       "      <td>4.55898e-06</td>\n",
       "      <td>0.0152919</td>\n",
       "      <td>0.0174286</td>\n",
       "      <td>360</td>\n",
       "      <td>54836</td>\n",
       "      <td>0.016</td>\n",
       "      <td>16</td>\n",
       "      <td>14</td>\n",
       "      <td>0.0207958</td>\n",
       "      <td>331</td>\n",
       "      <td>0 min 10 sec</td>\n",
       "    </tr>\n",
       "    <tr>\n",
       "      <th>13th</th>\n",
       "      <td>Past</td>\n",
       "      <td>25Nov2020</td>\n",
       "      <td>01Dec2020</td>\n",
       "      <td>82905782</td>\n",
       "      <td>SIR-F</td>\n",
       "      <td>0.96</td>\n",
       "      <td>0.000256219</td>\n",
       "      <td>0.000256566</td>\n",
       "      <td>0.0153736</td>\n",
       "      <td>0.015748</td>\n",
       "      <td>360</td>\n",
       "      <td>974</td>\n",
       "      <td>0</td>\n",
       "      <td>16</td>\n",
       "      <td>15</td>\n",
       "      <td>0.0221536</td>\n",
       "      <td>344</td>\n",
       "      <td>0 min 10 sec</td>\n",
       "    </tr>\n",
       "    <tr>\n",
       "      <th>14th</th>\n",
       "      <td>Past</td>\n",
       "      <td>02Dec2020</td>\n",
       "      <td>08Dec2020</td>\n",
       "      <td>82905782</td>\n",
       "      <td>-</td>\n",
       "      <td>-</td>\n",
       "      <td>-</td>\n",
       "      <td>-</td>\n",
       "      <td>-</td>\n",
       "      <td>-</td>\n",
       "      <td>-</td>\n",
       "      <td>-</td>\n",
       "      <td>-</td>\n",
       "      <td>-</td>\n",
       "      <td>-</td>\n",
       "      <td>-</td>\n",
       "      <td>-</td>\n",
       "      <td>-</td>\n",
       "    </tr>\n",
       "    <tr>\n",
       "      <th>15th</th>\n",
       "      <td>Past</td>\n",
       "      <td>09Dec2020</td>\n",
       "      <td>14Dec2020</td>\n",
       "      <td>82905782</td>\n",
       "      <td>-</td>\n",
       "      <td>-</td>\n",
       "      <td>-</td>\n",
       "      <td>-</td>\n",
       "      <td>-</td>\n",
       "      <td>-</td>\n",
       "      <td>-</td>\n",
       "      <td>-</td>\n",
       "      <td>-</td>\n",
       "      <td>-</td>\n",
       "      <td>-</td>\n",
       "      <td>-</td>\n",
       "      <td>-</td>\n",
       "      <td>-</td>\n",
       "    </tr>\n",
       "    <tr>\n",
       "      <th>16th</th>\n",
       "      <td>Past</td>\n",
       "      <td>15Dec2020</td>\n",
       "      <td>25Dec2020</td>\n",
       "      <td>82905782</td>\n",
       "      <td>-</td>\n",
       "      <td>-</td>\n",
       "      <td>-</td>\n",
       "      <td>-</td>\n",
       "      <td>-</td>\n",
       "      <td>-</td>\n",
       "      <td>-</td>\n",
       "      <td>-</td>\n",
       "      <td>-</td>\n",
       "      <td>-</td>\n",
       "      <td>-</td>\n",
       "      <td>-</td>\n",
       "      <td>-</td>\n",
       "      <td>-</td>\n",
       "    </tr>\n",
       "  </tbody>\n",
       "</table>\n",
       "<p>68 rows × 18 columns</p>\n",
       "</div>"
      ],
      "text/plain": [
       "                      Type      Start        End  Population    ODE     Rt  \\\n",
       "Country        Phase                                                         \n",
       "United Kingdom 0th    Past  23Feb2020  09Apr2020    66460344  SIR-F  32.44   \n",
       "               1st    Past  10Apr2020  30Apr2020    66460344  SIR-F   1.38   \n",
       "               2nd    Past  01May2020  27May2020    66460344  SIR-F   0.82   \n",
       "               3rd    Past  28May2020  05Aug2020    66460344  SIR-F   0.69   \n",
       "               4th    Past  06Aug2020  15Sep2020    66460344  SIR-F   1.47   \n",
       "...                    ...        ...        ...         ...    ...    ...   \n",
       "Germany        12th   Past  18Nov2020  24Nov2020    82905782  SIR-F   0.86   \n",
       "               13th   Past  25Nov2020  01Dec2020    82905782  SIR-F   0.96   \n",
       "               14th   Past  02Dec2020  08Dec2020    82905782      -      -   \n",
       "               15th   Past  09Dec2020  14Dec2020    82905782      -      -   \n",
       "               16th   Past  15Dec2020  25Dec2020    82905782      -      -   \n",
       "\n",
       "                            theta        kappa        rho       sigma  tau  \\\n",
       "Country        Phase                                                         \n",
       "United Kingdom 0th      0.0343094  0.000727181  0.0579224  0.00099718  360   \n",
       "               1st       0.196243  9.84009e-05  0.0194493   0.0112076  360   \n",
       "               2nd      0.0817904  0.000427021  0.0145314   0.0158694  360   \n",
       "               3rd       0.048902  0.000288267  0.0138294   0.0187235  360   \n",
       "               4th     0.00138213  0.000194556  0.0187618   0.0125128  360   \n",
       "...                           ...          ...        ...         ...  ...   \n",
       "Germany        12th     0.0163381  4.55898e-06  0.0152919   0.0174286  360   \n",
       "               13th   0.000256219  0.000256566  0.0153736    0.015748  360   \n",
       "               14th             -            -          -           -    -   \n",
       "               15th             -            -          -           -    -   \n",
       "               16th             -            -          -           -    -   \n",
       "\n",
       "                     1/alpha2 [day] alpha1 [-] 1/beta [day] 1/gamma [day]  \\\n",
       "Country        Phase                                                        \n",
       "United Kingdom 0th              343      0.034            4           250   \n",
       "               1st             2540      0.196           12            22   \n",
       "               2nd              585      0.082           17            15   \n",
       "               3rd              867      0.049           18            13   \n",
       "               4th             1284      0.001           13            19   \n",
       "...                             ...        ...          ...           ...   \n",
       "Germany        12th           54836      0.016           16            14   \n",
       "               13th             974          0           16            15   \n",
       "               14th               -          -            -             -   \n",
       "               15th               -          -            -             -   \n",
       "               16th               -          -            -             -   \n",
       "\n",
       "                          RMSLE Trials       Runtime  \n",
       "Country        Phase                                  \n",
       "United Kingdom 0th     0.713456    305  0 min 10 sec  \n",
       "               1st    0.0740106    340  0 min 10 sec  \n",
       "               2nd    0.0547342    324  0 min 10 sec  \n",
       "               3rd     0.111747    327  0 min 10 sec  \n",
       "               4th    0.0616086    342  0 min 10 sec  \n",
       "...                         ...    ...           ...  \n",
       "Germany        12th   0.0207958    331  0 min 10 sec  \n",
       "               13th   0.0221536    344  0 min 10 sec  \n",
       "               14th           -      -             -  \n",
       "               15th           -      -             -  \n",
       "               16th           -      -             -  \n",
       "\n",
       "[68 rows x 18 columns]"
      ]
     },
     "execution_count": 12,
     "metadata": {},
     "output_type": "execute_result"
    }
   ],
   "source": [
    "# Show summary\n",
    "analyser.summary(countries=countries_show)"
   ]
  },
  {
   "cell_type": "markdown",
   "metadata": {},
   "source": [
    "## Compare the history of parameters\n",
    "Here, compare the history of parameter values if countries."
   ]
  },
  {
   "cell_type": "code",
   "execution_count": 13,
   "metadata": {
    "collapsed": false
   },
   "outputs": [
    {
     "data": {
      "text/html": [
       "<div>\n",
       "<style scoped>\n",
       "    .dataframe tbody tr th:only-of-type {\n",
       "        vertical-align: middle;\n",
       "    }\n",
       "\n",
       "    .dataframe tbody tr th {\n",
       "        vertical-align: top;\n",
       "    }\n",
       "\n",
       "    .dataframe thead th {\n",
       "        text-align: right;\n",
       "    }\n",
       "</style>\n",
       "<table border=\"1\" class=\"dataframe\">\n",
       "  <thead>\n",
       "    <tr style=\"text-align: right;\">\n",
       "      <th></th>\n",
       "      <th>Date</th>\n",
       "      <th>Country</th>\n",
       "      <th>theta</th>\n",
       "      <th>kappa</th>\n",
       "      <th>rho</th>\n",
       "      <th>sigma</th>\n",
       "      <th>alpha1 [-]</th>\n",
       "      <th>1/alpha2 [day]</th>\n",
       "      <th>1/beta [day]</th>\n",
       "      <th>1/gamma [day]</th>\n",
       "      <th>...</th>\n",
       "      <th>Cancel_events</th>\n",
       "      <th>Gatherings_restrictions</th>\n",
       "      <th>Transport_closing</th>\n",
       "      <th>Stay_home_restrictions</th>\n",
       "      <th>Internal_movement_restrictions</th>\n",
       "      <th>International_movement_restrictions</th>\n",
       "      <th>Information_campaigns</th>\n",
       "      <th>Testing_policy</th>\n",
       "      <th>Contact_tracing</th>\n",
       "      <th>Stringency_index</th>\n",
       "    </tr>\n",
       "  </thead>\n",
       "  <tbody>\n",
       "    <tr>\n",
       "      <th>0</th>\n",
       "      <td>2020-02-23</td>\n",
       "      <td>United Kingdom</td>\n",
       "      <td>0.0343094</td>\n",
       "      <td>0.000727181</td>\n",
       "      <td>0.0579224</td>\n",
       "      <td>0.00099718</td>\n",
       "      <td>0.034</td>\n",
       "      <td>343</td>\n",
       "      <td>4</td>\n",
       "      <td>250</td>\n",
       "      <td>...</td>\n",
       "      <td>0</td>\n",
       "      <td>0</td>\n",
       "      <td>0</td>\n",
       "      <td>0</td>\n",
       "      <td>0</td>\n",
       "      <td>0</td>\n",
       "      <td>2</td>\n",
       "      <td>1</td>\n",
       "      <td>2</td>\n",
       "      <td>11.11</td>\n",
       "    </tr>\n",
       "    <tr>\n",
       "      <th>1</th>\n",
       "      <td>2020-02-23</td>\n",
       "      <td>United Kingdom</td>\n",
       "      <td>0.0343094</td>\n",
       "      <td>0.000727181</td>\n",
       "      <td>0.0579224</td>\n",
       "      <td>0.00099718</td>\n",
       "      <td>0.034</td>\n",
       "      <td>343</td>\n",
       "      <td>4</td>\n",
       "      <td>250</td>\n",
       "      <td>...</td>\n",
       "      <td>0</td>\n",
       "      <td>0</td>\n",
       "      <td>0</td>\n",
       "      <td>0</td>\n",
       "      <td>0</td>\n",
       "      <td>0</td>\n",
       "      <td>2</td>\n",
       "      <td>1</td>\n",
       "      <td>2</td>\n",
       "      <td>11.11</td>\n",
       "    </tr>\n",
       "    <tr>\n",
       "      <th>2</th>\n",
       "      <td>2020-02-23</td>\n",
       "      <td>United Kingdom</td>\n",
       "      <td>0.0343094</td>\n",
       "      <td>0.000727181</td>\n",
       "      <td>0.0579224</td>\n",
       "      <td>0.00099718</td>\n",
       "      <td>0.034</td>\n",
       "      <td>343</td>\n",
       "      <td>4</td>\n",
       "      <td>250</td>\n",
       "      <td>...</td>\n",
       "      <td>0</td>\n",
       "      <td>0</td>\n",
       "      <td>0</td>\n",
       "      <td>0</td>\n",
       "      <td>0</td>\n",
       "      <td>0</td>\n",
       "      <td>0</td>\n",
       "      <td>0</td>\n",
       "      <td>0</td>\n",
       "      <td>0.00</td>\n",
       "    </tr>\n",
       "    <tr>\n",
       "      <th>3</th>\n",
       "      <td>2020-02-23</td>\n",
       "      <td>United Kingdom</td>\n",
       "      <td>0.0343094</td>\n",
       "      <td>0.000727181</td>\n",
       "      <td>0.0579224</td>\n",
       "      <td>0.00099718</td>\n",
       "      <td>0.034</td>\n",
       "      <td>343</td>\n",
       "      <td>4</td>\n",
       "      <td>250</td>\n",
       "      <td>...</td>\n",
       "      <td>0</td>\n",
       "      <td>0</td>\n",
       "      <td>0</td>\n",
       "      <td>0</td>\n",
       "      <td>0</td>\n",
       "      <td>0</td>\n",
       "      <td>2</td>\n",
       "      <td>1</td>\n",
       "      <td>2</td>\n",
       "      <td>11.11</td>\n",
       "    </tr>\n",
       "    <tr>\n",
       "      <th>4</th>\n",
       "      <td>2020-02-23</td>\n",
       "      <td>United Kingdom</td>\n",
       "      <td>0.0343094</td>\n",
       "      <td>0.000727181</td>\n",
       "      <td>0.0579224</td>\n",
       "      <td>0.00099718</td>\n",
       "      <td>0.034</td>\n",
       "      <td>343</td>\n",
       "      <td>4</td>\n",
       "      <td>250</td>\n",
       "      <td>...</td>\n",
       "      <td>0</td>\n",
       "      <td>0</td>\n",
       "      <td>0</td>\n",
       "      <td>0</td>\n",
       "      <td>0</td>\n",
       "      <td>0</td>\n",
       "      <td>2</td>\n",
       "      <td>1</td>\n",
       "      <td>2</td>\n",
       "      <td>11.11</td>\n",
       "    </tr>\n",
       "  </tbody>\n",
       "</table>\n",
       "<p>5 rows × 23 columns</p>\n",
       "</div>"
      ],
      "text/plain": [
       "        Date         Country      theta        kappa        rho       sigma  \\\n",
       "0 2020-02-23  United Kingdom  0.0343094  0.000727181  0.0579224  0.00099718   \n",
       "1 2020-02-23  United Kingdom  0.0343094  0.000727181  0.0579224  0.00099718   \n",
       "2 2020-02-23  United Kingdom  0.0343094  0.000727181  0.0579224  0.00099718   \n",
       "3 2020-02-23  United Kingdom  0.0343094  0.000727181  0.0579224  0.00099718   \n",
       "4 2020-02-23  United Kingdom  0.0343094  0.000727181  0.0579224  0.00099718   \n",
       "\n",
       "  alpha1 [-] 1/alpha2 [day] 1/beta [day] 1/gamma [day]  ... Cancel_events  \\\n",
       "0      0.034            343            4           250  ...             0   \n",
       "1      0.034            343            4           250  ...             0   \n",
       "2      0.034            343            4           250  ...             0   \n",
       "3      0.034            343            4           250  ...             0   \n",
       "4      0.034            343            4           250  ...             0   \n",
       "\n",
       "   Gatherings_restrictions  Transport_closing  Stay_home_restrictions  \\\n",
       "0                        0                  0                       0   \n",
       "1                        0                  0                       0   \n",
       "2                        0                  0                       0   \n",
       "3                        0                  0                       0   \n",
       "4                        0                  0                       0   \n",
       "\n",
       "   Internal_movement_restrictions  International_movement_restrictions  \\\n",
       "0                               0                                    0   \n",
       "1                               0                                    0   \n",
       "2                               0                                    0   \n",
       "3                               0                                    0   \n",
       "4                               0                                    0   \n",
       "\n",
       "   Information_campaigns  Testing_policy  Contact_tracing  Stringency_index  \n",
       "0                      2               1                2             11.11  \n",
       "1                      2               1                2             11.11  \n",
       "2                      0               0                0              0.00  \n",
       "3                      2               1                2             11.11  \n",
       "4                      2               1                2             11.11  \n",
       "\n",
       "[5 rows x 23 columns]"
      ]
     },
     "execution_count": 13,
     "metadata": {},
     "output_type": "execute_result"
    }
   ],
   "source": [
    "# All parameter/day parameter/Rt/OxCGRT\n",
    "analyser.track().head()"
   ]
  },
  {
   "cell_type": "markdown",
   "metadata": {},
   "source": [
    "### $Rt$: Reprodcution number $\\mathrm{[-]}$"
   ]
  },
  {
   "cell_type": "code",
   "execution_count": 14,
   "metadata": {
    "collapsed": false
   },
   "outputs": [
    {
     "data": {
      "image/png": "[encoded data removed]",
      "text/plain": [
       "<Figure size 648x432 with 1 Axes>"
      ]
     },
     "metadata": {},
     "output_type": "display_data"
    },
    {
     "data": {
      "text/html": [
       "<div>\n",
       "<style scoped>\n",
       "    .dataframe tbody tr th:only-of-type {\n",
       "        vertical-align: middle;\n",
       "    }\n",
       "\n",
       "    .dataframe tbody tr th {\n",
       "        vertical-align: top;\n",
       "    }\n",
       "\n",
       "    .dataframe thead th {\n",
       "        text-align: right;\n",
       "    }\n",
       "</style>\n",
       "<table border=\"1\" class=\"dataframe\">\n",
       "  <thead>\n",
       "    <tr style=\"text-align: right;\">\n",
       "      <th>Country</th>\n",
       "      <th>Germany</th>\n",
       "      <th>Norway</th>\n",
       "      <th>Portugal</th>\n",
       "      <th>United Kingdom</th>\n",
       "    </tr>\n",
       "    <tr>\n",
       "      <th>Date</th>\n",
       "      <th></th>\n",
       "      <th></th>\n",
       "      <th></th>\n",
       "      <th></th>\n",
       "    </tr>\n",
       "  </thead>\n",
       "  <tbody>\n",
       "    <tr>\n",
       "      <th>2020-12-21</th>\n",
       "      <td>0.96</td>\n",
       "      <td>0.8</td>\n",
       "      <td>0.95</td>\n",
       "      <td>2.35</td>\n",
       "    </tr>\n",
       "    <tr>\n",
       "      <th>2020-12-22</th>\n",
       "      <td>0.96</td>\n",
       "      <td>0.8</td>\n",
       "      <td>0.95</td>\n",
       "      <td>2.35</td>\n",
       "    </tr>\n",
       "    <tr>\n",
       "      <th>2020-12-23</th>\n",
       "      <td>0.96</td>\n",
       "      <td>0.8</td>\n",
       "      <td>0.95</td>\n",
       "      <td>2.35</td>\n",
       "    </tr>\n",
       "    <tr>\n",
       "      <th>2020-12-24</th>\n",
       "      <td>0.96</td>\n",
       "      <td>0.8</td>\n",
       "      <td>0.95</td>\n",
       "      <td>2.35</td>\n",
       "    </tr>\n",
       "    <tr>\n",
       "      <th>2020-12-25</th>\n",
       "      <td>0.96</td>\n",
       "      <td>0.8</td>\n",
       "      <td>0.95</td>\n",
       "      <td>2.35</td>\n",
       "    </tr>\n",
       "  </tbody>\n",
       "</table>\n",
       "</div>"
      ],
      "text/plain": [
       "Country     Germany  Norway  Portugal  United Kingdom\n",
       "Date                                                 \n",
       "2020-12-21     0.96     0.8      0.95            2.35\n",
       "2020-12-22     0.96     0.8      0.95            2.35\n",
       "2020-12-23     0.96     0.8      0.95            2.35\n",
       "2020-12-24     0.96     0.8      0.95            2.35\n",
       "2020-12-25     0.96     0.8      0.95            2.35"
      ]
     },
     "execution_count": 14,
     "metadata": {},
     "output_type": "execute_result"
    }
   ],
   "source": [
    "analyser.history(\"Rt\", roll_window=None).tail()"
   ]
  },
  {
   "cell_type": "markdown",
   "metadata": {},
   "source": [
    "### $\\rho$: Effective contact rate $\\mathrm{[-]}$"
   ]
  },
  {
   "cell_type": "code",
   "execution_count": 15,
   "metadata": {
    "collapsed": false
   },
   "outputs": [
    {
     "data": {
      "image/png": "[encoded data removed]",
      "text/plain": [
       "<Figure size 648x432 with 1 Axes>"
      ]
     },
     "metadata": {},
     "output_type": "display_data"
    },
    {
     "data": {
      "text/html": [
       "<div>\n",
       "<style scoped>\n",
       "    .dataframe tbody tr th:only-of-type {\n",
       "        vertical-align: middle;\n",
       "    }\n",
       "\n",
       "    .dataframe tbody tr th {\n",
       "        vertical-align: top;\n",
       "    }\n",
       "\n",
       "    .dataframe thead th {\n",
       "        text-align: right;\n",
       "    }\n",
       "</style>\n",
       "<table border=\"1\" class=\"dataframe\">\n",
       "  <thead>\n",
       "    <tr style=\"text-align: right;\">\n",
       "      <th>Country</th>\n",
       "      <th>Germany</th>\n",
       "      <th>Norway</th>\n",
       "      <th>Portugal</th>\n",
       "      <th>United Kingdom</th>\n",
       "    </tr>\n",
       "    <tr>\n",
       "      <th>Date</th>\n",
       "      <th></th>\n",
       "      <th></th>\n",
       "      <th></th>\n",
       "      <th></th>\n",
       "    </tr>\n",
       "  </thead>\n",
       "  <tbody>\n",
       "    <tr>\n",
       "      <th>2020-12-21</th>\n",
       "      <td>0.015374</td>\n",
       "      <td>0.015725</td>\n",
       "      <td>0.008974</td>\n",
       "      <td>0.023994</td>\n",
       "    </tr>\n",
       "    <tr>\n",
       "      <th>2020-12-22</th>\n",
       "      <td>0.015374</td>\n",
       "      <td>0.015725</td>\n",
       "      <td>0.008974</td>\n",
       "      <td>0.023994</td>\n",
       "    </tr>\n",
       "    <tr>\n",
       "      <th>2020-12-23</th>\n",
       "      <td>0.015374</td>\n",
       "      <td>0.015725</td>\n",
       "      <td>0.008974</td>\n",
       "      <td>0.023994</td>\n",
       "    </tr>\n",
       "    <tr>\n",
       "      <th>2020-12-24</th>\n",
       "      <td>0.015374</td>\n",
       "      <td>0.015725</td>\n",
       "      <td>0.008974</td>\n",
       "      <td>0.023994</td>\n",
       "    </tr>\n",
       "    <tr>\n",
       "      <th>2020-12-25</th>\n",
       "      <td>0.015374</td>\n",
       "      <td>0.015725</td>\n",
       "      <td>0.008974</td>\n",
       "      <td>0.023994</td>\n",
       "    </tr>\n",
       "  </tbody>\n",
       "</table>\n",
       "</div>"
      ],
      "text/plain": [
       "Country      Germany    Norway  Portugal  United Kingdom\n",
       "Date                                                    \n",
       "2020-12-21  0.015374  0.015725  0.008974        0.023994\n",
       "2020-12-22  0.015374  0.015725  0.008974        0.023994\n",
       "2020-12-23  0.015374  0.015725  0.008974        0.023994\n",
       "2020-12-24  0.015374  0.015725  0.008974        0.023994\n",
       "2020-12-25  0.015374  0.015725  0.008974        0.023994"
      ]
     },
     "execution_count": 15,
     "metadata": {},
     "output_type": "execute_result"
    }
   ],
   "source": [
    "analyser.history(\"rho\", roll_window=None).tail()"
   ]
  },
  {
   "cell_type": "markdown",
   "metadata": {},
   "source": [
    "### $\\sigma$: Recovery rate $\\mathrm{[-]}$"
   ]
  },
  {
   "cell_type": "code",
   "execution_count": 16,
   "metadata": {
    "collapsed": false
   },
   "outputs": [
    {
     "data": {
      "image/png": "[encoded data removed]",
      "text/plain": [
       "<Figure size 648x432 with 1 Axes>"
      ]
     },
     "metadata": {},
     "output_type": "display_data"
    },
    {
     "data": {
      "text/html": [
       "<div>\n",
       "<style scoped>\n",
       "    .dataframe tbody tr th:only-of-type {\n",
       "        vertical-align: middle;\n",
       "    }\n",
       "\n",
       "    .dataframe tbody tr th {\n",
       "        vertical-align: top;\n",
       "    }\n",
       "\n",
       "    .dataframe thead th {\n",
       "        text-align: right;\n",
       "    }\n",
       "</style>\n",
       "<table border=\"1\" class=\"dataframe\">\n",
       "  <thead>\n",
       "    <tr style=\"text-align: right;\">\n",
       "      <th>Country</th>\n",
       "      <th>Germany</th>\n",
       "      <th>Norway</th>\n",
       "      <th>Portugal</th>\n",
       "      <th>United Kingdom</th>\n",
       "    </tr>\n",
       "    <tr>\n",
       "      <th>Date</th>\n",
       "      <th></th>\n",
       "      <th></th>\n",
       "      <th></th>\n",
       "      <th></th>\n",
       "    </tr>\n",
       "  </thead>\n",
       "  <tbody>\n",
       "    <tr>\n",
       "      <th>2020-12-21</th>\n",
       "      <td>0.015748</td>\n",
       "      <td>0.019389</td>\n",
       "      <td>0.009326</td>\n",
       "      <td>0.009774</td>\n",
       "    </tr>\n",
       "    <tr>\n",
       "      <th>2020-12-22</th>\n",
       "      <td>0.015748</td>\n",
       "      <td>0.019389</td>\n",
       "      <td>0.009326</td>\n",
       "      <td>0.009774</td>\n",
       "    </tr>\n",
       "    <tr>\n",
       "      <th>2020-12-23</th>\n",
       "      <td>0.015748</td>\n",
       "      <td>0.019389</td>\n",
       "      <td>0.009326</td>\n",
       "      <td>0.009774</td>\n",
       "    </tr>\n",
       "    <tr>\n",
       "      <th>2020-12-24</th>\n",
       "      <td>0.015748</td>\n",
       "      <td>0.019389</td>\n",
       "      <td>0.009326</td>\n",
       "      <td>0.009774</td>\n",
       "    </tr>\n",
       "    <tr>\n",
       "      <th>2020-12-25</th>\n",
       "      <td>0.015748</td>\n",
       "      <td>0.019389</td>\n",
       "      <td>0.009326</td>\n",
       "      <td>0.009774</td>\n",
       "    </tr>\n",
       "  </tbody>\n",
       "</table>\n",
       "</div>"
      ],
      "text/plain": [
       "Country      Germany    Norway  Portugal  United Kingdom\n",
       "Date                                                    \n",
       "2020-12-21  0.015748  0.019389  0.009326        0.009774\n",
       "2020-12-22  0.015748  0.019389  0.009326        0.009774\n",
       "2020-12-23  0.015748  0.019389  0.009326        0.009774\n",
       "2020-12-24  0.015748  0.019389  0.009326        0.009774\n",
       "2020-12-25  0.015748  0.019389  0.009326        0.009774"
      ]
     },
     "execution_count": 16,
     "metadata": {},
     "output_type": "execute_result"
    }
   ],
   "source": [
    "analyser.history(\"sigma\", roll_window=None).tail()"
   ]
  },
  {
   "cell_type": "markdown",
   "metadata": {},
   "source": [
    "### $\\kappa$: Mortality rate of infected cases $\\mathrm{[-]}$"
   ]
  },
  {
   "cell_type": "code",
   "execution_count": 17,
   "metadata": {
    "collapsed": false
   },
   "outputs": [
    {
     "data": {
      "image/png": "[encoded data removed]",
      "text/plain": [
       "<Figure size 648x432 with 1 Axes>"
      ]
     },
     "metadata": {},
     "output_type": "display_data"
    },
    {
     "data": {
      "text/html": [
       "<div>\n",
       "<style scoped>\n",
       "    .dataframe tbody tr th:only-of-type {\n",
       "        vertical-align: middle;\n",
       "    }\n",
       "\n",
       "    .dataframe tbody tr th {\n",
       "        vertical-align: top;\n",
       "    }\n",
       "\n",
       "    .dataframe thead th {\n",
       "        text-align: right;\n",
       "    }\n",
       "</style>\n",
       "<table border=\"1\" class=\"dataframe\">\n",
       "  <thead>\n",
       "    <tr style=\"text-align: right;\">\n",
       "      <th>Country</th>\n",
       "      <th>Germany</th>\n",
       "      <th>Norway</th>\n",
       "      <th>Portugal</th>\n",
       "      <th>United Kingdom</th>\n",
       "    </tr>\n",
       "    <tr>\n",
       "      <th>Date</th>\n",
       "      <th></th>\n",
       "      <th></th>\n",
       "      <th></th>\n",
       "      <th></th>\n",
       "    </tr>\n",
       "  </thead>\n",
       "  <tbody>\n",
       "    <tr>\n",
       "      <th>2020-12-21</th>\n",
       "      <td>0.000257</td>\n",
       "      <td>0.000257</td>\n",
       "      <td>0.000158</td>\n",
       "      <td>0.000426</td>\n",
       "    </tr>\n",
       "    <tr>\n",
       "      <th>2020-12-22</th>\n",
       "      <td>0.000257</td>\n",
       "      <td>0.000257</td>\n",
       "      <td>0.000158</td>\n",
       "      <td>0.000426</td>\n",
       "    </tr>\n",
       "    <tr>\n",
       "      <th>2020-12-23</th>\n",
       "      <td>0.000257</td>\n",
       "      <td>0.000257</td>\n",
       "      <td>0.000158</td>\n",
       "      <td>0.000426</td>\n",
       "    </tr>\n",
       "    <tr>\n",
       "      <th>2020-12-24</th>\n",
       "      <td>0.000257</td>\n",
       "      <td>0.000257</td>\n",
       "      <td>0.000158</td>\n",
       "      <td>0.000426</td>\n",
       "    </tr>\n",
       "    <tr>\n",
       "      <th>2020-12-25</th>\n",
       "      <td>0.000257</td>\n",
       "      <td>0.000257</td>\n",
       "      <td>0.000158</td>\n",
       "      <td>0.000426</td>\n",
       "    </tr>\n",
       "  </tbody>\n",
       "</table>\n",
       "</div>"
      ],
      "text/plain": [
       "Country      Germany    Norway  Portugal  United Kingdom\n",
       "Date                                                    \n",
       "2020-12-21  0.000257  0.000257  0.000158        0.000426\n",
       "2020-12-22  0.000257  0.000257  0.000158        0.000426\n",
       "2020-12-23  0.000257  0.000257  0.000158        0.000426\n",
       "2020-12-24  0.000257  0.000257  0.000158        0.000426\n",
       "2020-12-25  0.000257  0.000257  0.000158        0.000426"
      ]
     },
     "execution_count": 17,
     "metadata": {},
     "output_type": "execute_result"
    }
   ],
   "source": [
    "analyser.history(\"kappa\", roll_window=None).tail()"
   ]
  },
  {
   "cell_type": "markdown",
   "metadata": {},
   "source": [
    "### $\\theta$: Mortality rate of S$^\\ast$ cases $\\mathrm{[-]}$"
   ]
  },
  {
   "cell_type": "code",
   "execution_count": 18,
   "metadata": {
    "collapsed": false
   },
   "outputs": [
    {
     "data": {
      "image/png": "[encoded data removed]",
      "text/plain": [
       "<Figure size 648x432 with 1 Axes>"
      ]
     },
     "metadata": {},
     "output_type": "display_data"
    },
    {
     "data": {
      "text/html": [
       "<div>\n",
       "<style scoped>\n",
       "    .dataframe tbody tr th:only-of-type {\n",
       "        vertical-align: middle;\n",
       "    }\n",
       "\n",
       "    .dataframe tbody tr th {\n",
       "        vertical-align: top;\n",
       "    }\n",
       "\n",
       "    .dataframe thead th {\n",
       "        text-align: right;\n",
       "    }\n",
       "</style>\n",
       "<table border=\"1\" class=\"dataframe\">\n",
       "  <thead>\n",
       "    <tr style=\"text-align: right;\">\n",
       "      <th>Country</th>\n",
       "      <th>Germany</th>\n",
       "      <th>Norway</th>\n",
       "      <th>Portugal</th>\n",
       "      <th>United Kingdom</th>\n",
       "    </tr>\n",
       "    <tr>\n",
       "      <th>Date</th>\n",
       "      <th></th>\n",
       "      <th></th>\n",
       "      <th></th>\n",
       "      <th></th>\n",
       "    </tr>\n",
       "  </thead>\n",
       "  <tbody>\n",
       "    <tr>\n",
       "      <th>2020-12-21</th>\n",
       "      <td>0.000256</td>\n",
       "      <td>0.000204</td>\n",
       "      <td>0.000353</td>\n",
       "      <td>0.000569</td>\n",
       "    </tr>\n",
       "    <tr>\n",
       "      <th>2020-12-22</th>\n",
       "      <td>0.000256</td>\n",
       "      <td>0.000204</td>\n",
       "      <td>0.000353</td>\n",
       "      <td>0.000569</td>\n",
       "    </tr>\n",
       "    <tr>\n",
       "      <th>2020-12-23</th>\n",
       "      <td>0.000256</td>\n",
       "      <td>0.000204</td>\n",
       "      <td>0.000353</td>\n",
       "      <td>0.000569</td>\n",
       "    </tr>\n",
       "    <tr>\n",
       "      <th>2020-12-24</th>\n",
       "      <td>0.000256</td>\n",
       "      <td>0.000204</td>\n",
       "      <td>0.000353</td>\n",
       "      <td>0.000569</td>\n",
       "    </tr>\n",
       "    <tr>\n",
       "      <th>2020-12-25</th>\n",
       "      <td>0.000256</td>\n",
       "      <td>0.000204</td>\n",
       "      <td>0.000353</td>\n",
       "      <td>0.000569</td>\n",
       "    </tr>\n",
       "  </tbody>\n",
       "</table>\n",
       "</div>"
      ],
      "text/plain": [
       "Country      Germany    Norway  Portugal  United Kingdom\n",
       "Date                                                    \n",
       "2020-12-21  0.000256  0.000204  0.000353        0.000569\n",
       "2020-12-22  0.000256  0.000204  0.000353        0.000569\n",
       "2020-12-23  0.000256  0.000204  0.000353        0.000569\n",
       "2020-12-24  0.000256  0.000204  0.000353        0.000569\n",
       "2020-12-25  0.000256  0.000204  0.000353        0.000569"
      ]
     },
     "execution_count": 18,
     "metadata": {},
     "output_type": "execute_result"
    }
   ],
   "source": [
    "analyser.history(\"theta\", roll_window=None).tail()"
   ]
  },
  {
   "cell_type": "markdown",
   "metadata": {},
   "source": [
    "## (Experimental): Relationship of OxCGRT index and parameter values\n",
    "Government responses will impact on parameter values of ODE models about 14 days later. Here, we will investigate on the relationship of [stringency index (from OxCGRT)](https://github.com/OxCGRT/covid-policy-tracker/blob/master/documentation/index_methodology.md) and reproduction number/model parameters.\n"
   ]
  },
  {
   "cell_type": "code",
   "execution_count": 19,
   "metadata": {
    "collapsed": false
   },
   "outputs": [],
   "source": [
    "%matplotlib inline\n",
    "from matplotlib import pyplot as plt\n",
    "import seaborn as sns\n",
    "import pandas as pd"
   ]
  },
  {
   "cell_type": "code",
   "execution_count": 20,
   "metadata": {
    "collapsed": false
   },
   "outputs": [
    {
     "name": "stdout",
     "output_type": "stream",
     "text": [
      "<class 'pandas.core.frame.DataFrame'>\n",
      "Int64Index: 15708 entries, 0 to 15749\n",
      "Data columns (total 19 columns):\n",
      " #   Column                               Non-Null Count  Dtype         \n",
      "---  ------                               --------------  -----         \n",
      " 0   Date                                 15708 non-null  datetime64[ns]\n",
      " 1   Country                              15708 non-null  object        \n",
      " 2   Rt                                   15708 non-null  float64       \n",
      " 3   theta                                15708 non-null  float64       \n",
      " 4   kappa                                15708 non-null  float64       \n",
      " 5   rho                                  15708 non-null  float64       \n",
      " 6   sigma                                15708 non-null  float64       \n",
      " 7   School_closing                       15708 non-null  int64         \n",
      " 8   Workplace_closing                    15708 non-null  int64         \n",
      " 9   Cancel_events                        15708 non-null  int64         \n",
      " 10  Gatherings_restrictions              15708 non-null  int64         \n",
      " 11  Transport_closing                    15708 non-null  int64         \n",
      " 12  Stay_home_restrictions               15708 non-null  int64         \n",
      " 13  Internal_movement_restrictions       15708 non-null  int64         \n",
      " 14  International_movement_restrictions  15708 non-null  int64         \n",
      " 15  Information_campaigns                15708 non-null  int64         \n",
      " 16  Testing_policy                       15708 non-null  int64         \n",
      " 17  Contact_tracing                      15708 non-null  int64         \n",
      " 18  Stringency_index                     15708 non-null  float64       \n",
      "dtypes: datetime64[ns](1), float64(6), int64(11), object(1)\n",
      "memory usage: 2.4+ MB\n"
     ]
    }
   ],
   "source": [
    "df = analyser.track()\n",
    "param_cols = [\"Rt\", *cs.SIRF.PARAMETERS]\n",
    "oxcgrt_cols = oxcgrt_data.OXCGRT_VARS[:]\n",
    "cols = param_cols + oxcgrt_cols\n",
    "delay = 14\n",
    "\n",
    "for col in param_cols:\n",
    "    df[col] = pd.to_numeric(df[col], errors=\"coerce\")\n",
    "    df[col] = df.groupby(\"Country\")[col].shift(0 - delay)\n",
    "\n",
    "df = df.dropna(how=\"any\")\n",
    "df = df.loc[:, [\"Date\", \"Country\", *cols]]\n",
    "track_df = df.copy()\n",
    "track_df.info()"
   ]
  },
  {
   "cell_type": "code",
   "execution_count": 21,
   "metadata": {
    "collapsed": false
   },
   "outputs": [
    {
     "data": {
      "text/html": [
       "<style  type=\"text/css\" >\n",
       "#T_a53640f8_46d0_11eb_a08f_525400626534row0_col0,#T_a53640f8_46d0_11eb_a08f_525400626534row1_col1,#T_a53640f8_46d0_11eb_a08f_525400626534row2_col2,#T_a53640f8_46d0_11eb_a08f_525400626534row3_col3,#T_a53640f8_46d0_11eb_a08f_525400626534row4_col4,#T_a53640f8_46d0_11eb_a08f_525400626534row5_col5,#T_a53640f8_46d0_11eb_a08f_525400626534row6_col6,#T_a53640f8_46d0_11eb_a08f_525400626534row7_col7,#T_a53640f8_46d0_11eb_a08f_525400626534row8_col8,#T_a53640f8_46d0_11eb_a08f_525400626534row9_col9,#T_a53640f8_46d0_11eb_a08f_525400626534row10_col10,#T_a53640f8_46d0_11eb_a08f_525400626534row11_col11,#T_a53640f8_46d0_11eb_a08f_525400626534row12_col12,#T_a53640f8_46d0_11eb_a08f_525400626534row13_col13,#T_a53640f8_46d0_11eb_a08f_525400626534row14_col14,#T_a53640f8_46d0_11eb_a08f_525400626534row15_col15,#T_a53640f8_46d0_11eb_a08f_525400626534row16_col16{\n",
       "            background-color:  #023858;\n",
       "            color:  #f1f1f1;\n",
       "        }#T_a53640f8_46d0_11eb_a08f_525400626534row0_col1,#T_a53640f8_46d0_11eb_a08f_525400626534row1_col0{\n",
       "            background-color:  #96b6d7;\n",
       "            color:  #000000;\n",
       "        }#T_a53640f8_46d0_11eb_a08f_525400626534row0_col2,#T_a53640f8_46d0_11eb_a08f_525400626534row2_col0,#T_a53640f8_46d0_11eb_a08f_525400626534row4_col7,#T_a53640f8_46d0_11eb_a08f_525400626534row7_col4,#T_a53640f8_46d0_11eb_a08f_525400626534row13_col14,#T_a53640f8_46d0_11eb_a08f_525400626534row14_col13{\n",
       "            background-color:  #1278b4;\n",
       "            color:  #f1f1f1;\n",
       "        }#T_a53640f8_46d0_11eb_a08f_525400626534row0_col3,#T_a53640f8_46d0_11eb_a08f_525400626534row3_col0{\n",
       "            background-color:  #034e7b;\n",
       "            color:  #f1f1f1;\n",
       "        }#T_a53640f8_46d0_11eb_a08f_525400626534row0_col4,#T_a53640f8_46d0_11eb_a08f_525400626534row4_col0{\n",
       "            background-color:  #f7f0f7;\n",
       "            color:  #000000;\n",
       "        }#T_a53640f8_46d0_11eb_a08f_525400626534row0_col5,#T_a53640f8_46d0_11eb_a08f_525400626534row0_col10,#T_a53640f8_46d0_11eb_a08f_525400626534row3_col5,#T_a53640f8_46d0_11eb_a08f_525400626534row5_col0,#T_a53640f8_46d0_11eb_a08f_525400626534row5_col3,#T_a53640f8_46d0_11eb_a08f_525400626534row10_col0{\n",
       "            background-color:  #cacee5;\n",
       "            color:  #000000;\n",
       "        }#T_a53640f8_46d0_11eb_a08f_525400626534row0_col6,#T_a53640f8_46d0_11eb_a08f_525400626534row3_col4,#T_a53640f8_46d0_11eb_a08f_525400626534row4_col3,#T_a53640f8_46d0_11eb_a08f_525400626534row6_col0{\n",
       "            background-color:  #e9e5f1;\n",
       "            color:  #000000;\n",
       "        }#T_a53640f8_46d0_11eb_a08f_525400626534row0_col7,#T_a53640f8_46d0_11eb_a08f_525400626534row7_col0{\n",
       "            background-color:  #faf2f8;\n",
       "            color:  #000000;\n",
       "        }#T_a53640f8_46d0_11eb_a08f_525400626534row0_col8,#T_a53640f8_46d0_11eb_a08f_525400626534row8_col0{\n",
       "            background-color:  #fff7fb;\n",
       "            color:  #000000;\n",
       "        }#T_a53640f8_46d0_11eb_a08f_525400626534row0_col9,#T_a53640f8_46d0_11eb_a08f_525400626534row9_col0{\n",
       "            background-color:  #c2cbe2;\n",
       "            color:  #000000;\n",
       "        }#T_a53640f8_46d0_11eb_a08f_525400626534row0_col11,#T_a53640f8_46d0_11eb_a08f_525400626534row1_col12,#T_a53640f8_46d0_11eb_a08f_525400626534row11_col0,#T_a53640f8_46d0_11eb_a08f_525400626534row12_col1{\n",
       "            background-color:  #e0dded;\n",
       "            color:  #000000;\n",
       "        }#T_a53640f8_46d0_11eb_a08f_525400626534row0_col12,#T_a53640f8_46d0_11eb_a08f_525400626534row12_col0{\n",
       "            background-color:  #e6e2ef;\n",
       "            color:  #000000;\n",
       "        }#T_a53640f8_46d0_11eb_a08f_525400626534row0_col13,#T_a53640f8_46d0_11eb_a08f_525400626534row13_col0{\n",
       "            background-color:  #dedcec;\n",
       "            color:  #000000;\n",
       "        }#T_a53640f8_46d0_11eb_a08f_525400626534row0_col14,#T_a53640f8_46d0_11eb_a08f_525400626534row0_col16,#T_a53640f8_46d0_11eb_a08f_525400626534row14_col0,#T_a53640f8_46d0_11eb_a08f_525400626534row16_col0{\n",
       "            background-color:  #f1ebf4;\n",
       "            color:  #000000;\n",
       "        }#T_a53640f8_46d0_11eb_a08f_525400626534row0_col15,#T_a53640f8_46d0_11eb_a08f_525400626534row3_col9,#T_a53640f8_46d0_11eb_a08f_525400626534row9_col3,#T_a53640f8_46d0_11eb_a08f_525400626534row15_col0{\n",
       "            background-color:  #bdc8e1;\n",
       "            color:  #000000;\n",
       "        }#T_a53640f8_46d0_11eb_a08f_525400626534row1_col2,#T_a53640f8_46d0_11eb_a08f_525400626534row2_col1{\n",
       "            background-color:  #67a4cc;\n",
       "            color:  #000000;\n",
       "        }#T_a53640f8_46d0_11eb_a08f_525400626534row1_col3,#T_a53640f8_46d0_11eb_a08f_525400626534row3_col1{\n",
       "            background-color:  #8bb2d4;\n",
       "            color:  #000000;\n",
       "        }#T_a53640f8_46d0_11eb_a08f_525400626534row1_col4,#T_a53640f8_46d0_11eb_a08f_525400626534row1_col8,#T_a53640f8_46d0_11eb_a08f_525400626534row4_col1,#T_a53640f8_46d0_11eb_a08f_525400626534row8_col1{\n",
       "            background-color:  #73a9cf;\n",
       "            color:  #000000;\n",
       "        }#T_a53640f8_46d0_11eb_a08f_525400626534row1_col5,#T_a53640f8_46d0_11eb_a08f_525400626534row5_col1{\n",
       "            background-color:  #0f76b3;\n",
       "            color:  #f1f1f1;\n",
       "        }#T_a53640f8_46d0_11eb_a08f_525400626534row1_col6,#T_a53640f8_46d0_11eb_a08f_525400626534row4_col11,#T_a53640f8_46d0_11eb_a08f_525400626534row6_col1,#T_a53640f8_46d0_11eb_a08f_525400626534row8_col9,#T_a53640f8_46d0_11eb_a08f_525400626534row9_col8,#T_a53640f8_46d0_11eb_a08f_525400626534row10_col13,#T_a53640f8_46d0_11eb_a08f_525400626534row11_col4,#T_a53640f8_46d0_11eb_a08f_525400626534row11_col13,#T_a53640f8_46d0_11eb_a08f_525400626534row12_col15,#T_a53640f8_46d0_11eb_a08f_525400626534row13_col10,#T_a53640f8_46d0_11eb_a08f_525400626534row13_col11,#T_a53640f8_46d0_11eb_a08f_525400626534row15_col12{\n",
       "            background-color:  #2a88bc;\n",
       "            color:  #000000;\n",
       "        }#T_a53640f8_46d0_11eb_a08f_525400626534row1_col7,#T_a53640f8_46d0_11eb_a08f_525400626534row7_col1{\n",
       "            background-color:  #78abd0;\n",
       "            color:  #000000;\n",
       "        }#T_a53640f8_46d0_11eb_a08f_525400626534row1_col9,#T_a53640f8_46d0_11eb_a08f_525400626534row9_col1{\n",
       "            background-color:  #4897c4;\n",
       "            color:  #000000;\n",
       "        }#T_a53640f8_46d0_11eb_a08f_525400626534row1_col10,#T_a53640f8_46d0_11eb_a08f_525400626534row4_col13,#T_a53640f8_46d0_11eb_a08f_525400626534row4_col14,#T_a53640f8_46d0_11eb_a08f_525400626534row10_col1,#T_a53640f8_46d0_11eb_a08f_525400626534row13_col4,#T_a53640f8_46d0_11eb_a08f_525400626534row13_col15,#T_a53640f8_46d0_11eb_a08f_525400626534row14_col4,#T_a53640f8_46d0_11eb_a08f_525400626534row15_col13{\n",
       "            background-color:  #3790c0;\n",
       "            color:  #000000;\n",
       "        }#T_a53640f8_46d0_11eb_a08f_525400626534row1_col11,#T_a53640f8_46d0_11eb_a08f_525400626534row11_col1{\n",
       "            background-color:  #358fc0;\n",
       "            color:  #000000;\n",
       "        }#T_a53640f8_46d0_11eb_a08f_525400626534row1_col13,#T_a53640f8_46d0_11eb_a08f_525400626534row13_col1{\n",
       "            background-color:  #71a8ce;\n",
       "            color:  #000000;\n",
       "        }#T_a53640f8_46d0_11eb_a08f_525400626534row1_col14,#T_a53640f8_46d0_11eb_a08f_525400626534row14_col1{\n",
       "            background-color:  #d1d2e6;\n",
       "            color:  #000000;\n",
       "        }#T_a53640f8_46d0_11eb_a08f_525400626534row1_col15,#T_a53640f8_46d0_11eb_a08f_525400626534row15_col1{\n",
       "            background-color:  #d2d3e7;\n",
       "            color:  #000000;\n",
       "        }#T_a53640f8_46d0_11eb_a08f_525400626534row1_col16,#T_a53640f8_46d0_11eb_a08f_525400626534row16_col1{\n",
       "            background-color:  #4697c4;\n",
       "            color:  #000000;\n",
       "        }#T_a53640f8_46d0_11eb_a08f_525400626534row2_col3,#T_a53640f8_46d0_11eb_a08f_525400626534row3_col2{\n",
       "            background-color:  #0567a2;\n",
       "            color:  #f1f1f1;\n",
       "        }#T_a53640f8_46d0_11eb_a08f_525400626534row2_col4,#T_a53640f8_46d0_11eb_a08f_525400626534row2_col15,#T_a53640f8_46d0_11eb_a08f_525400626534row4_col2,#T_a53640f8_46d0_11eb_a08f_525400626534row15_col2{\n",
       "            background-color:  #b8c6e0;\n",
       "            color:  #000000;\n",
       "        }#T_a53640f8_46d0_11eb_a08f_525400626534row2_col5,#T_a53640f8_46d0_11eb_a08f_525400626534row5_col2{\n",
       "            background-color:  #63a2cb;\n",
       "            color:  #000000;\n",
       "        }#T_a53640f8_46d0_11eb_a08f_525400626534row2_col6,#T_a53640f8_46d0_11eb_a08f_525400626534row2_col16,#T_a53640f8_46d0_11eb_a08f_525400626534row6_col2,#T_a53640f8_46d0_11eb_a08f_525400626534row16_col2{\n",
       "            background-color:  #93b5d6;\n",
       "            color:  #000000;\n",
       "        }#T_a53640f8_46d0_11eb_a08f_525400626534row2_col7,#T_a53640f8_46d0_11eb_a08f_525400626534row7_col2{\n",
       "            background-color:  #bcc7e1;\n",
       "            color:  #000000;\n",
       "        }#T_a53640f8_46d0_11eb_a08f_525400626534row2_col8,#T_a53640f8_46d0_11eb_a08f_525400626534row3_col13,#T_a53640f8_46d0_11eb_a08f_525400626534row8_col2,#T_a53640f8_46d0_11eb_a08f_525400626534row13_col3{\n",
       "            background-color:  #b9c6e0;\n",
       "            color:  #000000;\n",
       "        }#T_a53640f8_46d0_11eb_a08f_525400626534row2_col9,#T_a53640f8_46d0_11eb_a08f_525400626534row2_col13,#T_a53640f8_46d0_11eb_a08f_525400626534row9_col2,#T_a53640f8_46d0_11eb_a08f_525400626534row13_col2{\n",
       "            background-color:  #80aed2;\n",
       "            color:  #000000;\n",
       "        }#T_a53640f8_46d0_11eb_a08f_525400626534row2_col10,#T_a53640f8_46d0_11eb_a08f_525400626534row10_col2{\n",
       "            background-color:  #9cb9d9;\n",
       "            color:  #000000;\n",
       "        }#T_a53640f8_46d0_11eb_a08f_525400626534row2_col11,#T_a53640f8_46d0_11eb_a08f_525400626534row11_col2{\n",
       "            background-color:  #8fb4d6;\n",
       "            color:  #000000;\n",
       "        }#T_a53640f8_46d0_11eb_a08f_525400626534row2_col12,#T_a53640f8_46d0_11eb_a08f_525400626534row12_col2{\n",
       "            background-color:  #d2d2e7;\n",
       "            color:  #000000;\n",
       "        }#T_a53640f8_46d0_11eb_a08f_525400626534row2_col14,#T_a53640f8_46d0_11eb_a08f_525400626534row14_col2{\n",
       "            background-color:  #e7e3f0;\n",
       "            color:  #000000;\n",
       "        }#T_a53640f8_46d0_11eb_a08f_525400626534row3_col6,#T_a53640f8_46d0_11eb_a08f_525400626534row6_col3{\n",
       "            background-color:  #d6d6e9;\n",
       "            color:  #000000;\n",
       "        }#T_a53640f8_46d0_11eb_a08f_525400626534row3_col7,#T_a53640f8_46d0_11eb_a08f_525400626534row7_col3{\n",
       "            background-color:  #ede8f3;\n",
       "            color:  #000000;\n",
       "        }#T_a53640f8_46d0_11eb_a08f_525400626534row3_col8,#T_a53640f8_46d0_11eb_a08f_525400626534row8_col3{\n",
       "            background-color:  #efe9f3;\n",
       "            color:  #000000;\n",
       "        }#T_a53640f8_46d0_11eb_a08f_525400626534row3_col10,#T_a53640f8_46d0_11eb_a08f_525400626534row3_col11,#T_a53640f8_46d0_11eb_a08f_525400626534row10_col3,#T_a53640f8_46d0_11eb_a08f_525400626534row11_col3{\n",
       "            background-color:  #c6cce3;\n",
       "            color:  #000000;\n",
       "        }#T_a53640f8_46d0_11eb_a08f_525400626534row3_col12,#T_a53640f8_46d0_11eb_a08f_525400626534row12_col3{\n",
       "            background-color:  #eae6f1;\n",
       "            color:  #000000;\n",
       "        }#T_a53640f8_46d0_11eb_a08f_525400626534row3_col14,#T_a53640f8_46d0_11eb_a08f_525400626534row14_col3{\n",
       "            background-color:  #ebe6f2;\n",
       "            color:  #000000;\n",
       "        }#T_a53640f8_46d0_11eb_a08f_525400626534row3_col15,#T_a53640f8_46d0_11eb_a08f_525400626534row15_col3{\n",
       "            background-color:  #abbfdc;\n",
       "            color:  #000000;\n",
       "        }#T_a53640f8_46d0_11eb_a08f_525400626534row3_col16,#T_a53640f8_46d0_11eb_a08f_525400626534row16_col3{\n",
       "            background-color:  #e3e0ee;\n",
       "            color:  #000000;\n",
       "        }#T_a53640f8_46d0_11eb_a08f_525400626534row4_col5,#T_a53640f8_46d0_11eb_a08f_525400626534row5_col4,#T_a53640f8_46d0_11eb_a08f_525400626534row12_col13,#T_a53640f8_46d0_11eb_a08f_525400626534row13_col12,#T_a53640f8_46d0_11eb_a08f_525400626534row14_col16,#T_a53640f8_46d0_11eb_a08f_525400626534row16_col14{\n",
       "            background-color:  #2f8bbe;\n",
       "            color:  #000000;\n",
       "        }#T_a53640f8_46d0_11eb_a08f_525400626534row4_col6,#T_a53640f8_46d0_11eb_a08f_525400626534row6_col4{\n",
       "            background-color:  #2d8abd;\n",
       "            color:  #000000;\n",
       "        }#T_a53640f8_46d0_11eb_a08f_525400626534row4_col8,#T_a53640f8_46d0_11eb_a08f_525400626534row8_col4{\n",
       "            background-color:  #056ba9;\n",
       "            color:  #f1f1f1;\n",
       "        }#T_a53640f8_46d0_11eb_a08f_525400626534row4_col9,#T_a53640f8_46d0_11eb_a08f_525400626534row9_col4{\n",
       "            background-color:  #83afd3;\n",
       "            color:  #000000;\n",
       "        }#T_a53640f8_46d0_11eb_a08f_525400626534row4_col10,#T_a53640f8_46d0_11eb_a08f_525400626534row10_col4{\n",
       "            background-color:  #79abd0;\n",
       "            color:  #000000;\n",
       "        }#T_a53640f8_46d0_11eb_a08f_525400626534row4_col12,#T_a53640f8_46d0_11eb_a08f_525400626534row5_col13,#T_a53640f8_46d0_11eb_a08f_525400626534row12_col4,#T_a53640f8_46d0_11eb_a08f_525400626534row13_col5{\n",
       "            background-color:  #348ebf;\n",
       "            color:  #000000;\n",
       "        }#T_a53640f8_46d0_11eb_a08f_525400626534row4_col15,#T_a53640f8_46d0_11eb_a08f_525400626534row9_col13,#T_a53640f8_46d0_11eb_a08f_525400626534row13_col9,#T_a53640f8_46d0_11eb_a08f_525400626534row15_col4{\n",
       "            background-color:  #4a98c5;\n",
       "            color:  #000000;\n",
       "        }#T_a53640f8_46d0_11eb_a08f_525400626534row4_col16,#T_a53640f8_46d0_11eb_a08f_525400626534row16_col4{\n",
       "            background-color:  #1e80b8;\n",
       "            color:  #000000;\n",
       "        }#T_a53640f8_46d0_11eb_a08f_525400626534row5_col6,#T_a53640f8_46d0_11eb_a08f_525400626534row6_col5,#T_a53640f8_46d0_11eb_a08f_525400626534row8_col11,#T_a53640f8_46d0_11eb_a08f_525400626534row11_col8,#T_a53640f8_46d0_11eb_a08f_525400626534row13_col16,#T_a53640f8_46d0_11eb_a08f_525400626534row16_col13{\n",
       "            background-color:  #0567a1;\n",
       "            color:  #f1f1f1;\n",
       "        }#T_a53640f8_46d0_11eb_a08f_525400626534row5_col7,#T_a53640f8_46d0_11eb_a08f_525400626534row7_col5{\n",
       "            background-color:  #0c74b2;\n",
       "            color:  #f1f1f1;\n",
       "        }#T_a53640f8_46d0_11eb_a08f_525400626534row5_col8,#T_a53640f8_46d0_11eb_a08f_525400626534row6_col13,#T_a53640f8_46d0_11eb_a08f_525400626534row8_col5,#T_a53640f8_46d0_11eb_a08f_525400626534row13_col6{\n",
       "            background-color:  #0872b1;\n",
       "            color:  #f1f1f1;\n",
       "        }#T_a53640f8_46d0_11eb_a08f_525400626534row5_col9,#T_a53640f8_46d0_11eb_a08f_525400626534row9_col5{\n",
       "            background-color:  #2987bc;\n",
       "            color:  #000000;\n",
       "        }#T_a53640f8_46d0_11eb_a08f_525400626534row5_col10,#T_a53640f8_46d0_11eb_a08f_525400626534row10_col5{\n",
       "            background-color:  #157ab5;\n",
       "            color:  #000000;\n",
       "        }#T_a53640f8_46d0_11eb_a08f_525400626534row5_col11,#T_a53640f8_46d0_11eb_a08f_525400626534row11_col5{\n",
       "            background-color:  #056dac;\n",
       "            color:  #f1f1f1;\n",
       "        }#T_a53640f8_46d0_11eb_a08f_525400626534row5_col12,#T_a53640f8_46d0_11eb_a08f_525400626534row12_col5{\n",
       "            background-color:  #81aed2;\n",
       "            color:  #000000;\n",
       "        }#T_a53640f8_46d0_11eb_a08f_525400626534row5_col14,#T_a53640f8_46d0_11eb_a08f_525400626534row14_col5{\n",
       "            background-color:  #8eb3d5;\n",
       "            color:  #000000;\n",
       "        }#T_a53640f8_46d0_11eb_a08f_525400626534row5_col15,#T_a53640f8_46d0_11eb_a08f_525400626534row15_col5{\n",
       "            background-color:  #a4bcda;\n",
       "            color:  #000000;\n",
       "        }#T_a53640f8_46d0_11eb_a08f_525400626534row5_col16,#T_a53640f8_46d0_11eb_a08f_525400626534row16_col5{\n",
       "            background-color:  #04629a;\n",
       "            color:  #f1f1f1;\n",
       "        }#T_a53640f8_46d0_11eb_a08f_525400626534row6_col7,#T_a53640f8_46d0_11eb_a08f_525400626534row7_col6{\n",
       "            background-color:  #045382;\n",
       "            color:  #f1f1f1;\n",
       "        }#T_a53640f8_46d0_11eb_a08f_525400626534row6_col8,#T_a53640f8_46d0_11eb_a08f_525400626534row8_col6{\n",
       "            background-color:  #045280;\n",
       "            color:  #f1f1f1;\n",
       "        }#T_a53640f8_46d0_11eb_a08f_525400626534row6_col9,#T_a53640f8_46d0_11eb_a08f_525400626534row9_col6{\n",
       "            background-color:  #0d75b3;\n",
       "            color:  #f1f1f1;\n",
       "        }#T_a53640f8_46d0_11eb_a08f_525400626534row6_col10,#T_a53640f8_46d0_11eb_a08f_525400626534row10_col6{\n",
       "            background-color:  #046096;\n",
       "            color:  #f1f1f1;\n",
       "        }#T_a53640f8_46d0_11eb_a08f_525400626534row6_col11,#T_a53640f8_46d0_11eb_a08f_525400626534row11_col6{\n",
       "            background-color:  #0566a0;\n",
       "            color:  #f1f1f1;\n",
       "        }#T_a53640f8_46d0_11eb_a08f_525400626534row6_col12,#T_a53640f8_46d0_11eb_a08f_525400626534row12_col6{\n",
       "            background-color:  #5a9ec9;\n",
       "            color:  #000000;\n",
       "        }#T_a53640f8_46d0_11eb_a08f_525400626534row6_col14,#T_a53640f8_46d0_11eb_a08f_525400626534row14_col6{\n",
       "            background-color:  #308cbe;\n",
       "            color:  #000000;\n",
       "        }#T_a53640f8_46d0_11eb_a08f_525400626534row6_col15,#T_a53640f8_46d0_11eb_a08f_525400626534row15_col6{\n",
       "            background-color:  #adc1dd;\n",
       "            color:  #000000;\n",
       "        }#T_a53640f8_46d0_11eb_a08f_525400626534row6_col16,#T_a53640f8_46d0_11eb_a08f_525400626534row7_col16,#T_a53640f8_46d0_11eb_a08f_525400626534row16_col6,#T_a53640f8_46d0_11eb_a08f_525400626534row16_col7{\n",
       "            background-color:  #034973;\n",
       "            color:  #f1f1f1;\n",
       "        }#T_a53640f8_46d0_11eb_a08f_525400626534row7_col8,#T_a53640f8_46d0_11eb_a08f_525400626534row8_col7{\n",
       "            background-color:  #034871;\n",
       "            color:  #f1f1f1;\n",
       "        }#T_a53640f8_46d0_11eb_a08f_525400626534row7_col9,#T_a53640f8_46d0_11eb_a08f_525400626534row9_col7{\n",
       "            background-color:  #2081b9;\n",
       "            color:  #000000;\n",
       "        }#T_a53640f8_46d0_11eb_a08f_525400626534row7_col10,#T_a53640f8_46d0_11eb_a08f_525400626534row7_col13,#T_a53640f8_46d0_11eb_a08f_525400626534row10_col7,#T_a53640f8_46d0_11eb_a08f_525400626534row13_col7{\n",
       "            background-color:  #0569a5;\n",
       "            color:  #f1f1f1;\n",
       "        }#T_a53640f8_46d0_11eb_a08f_525400626534row7_col11,#T_a53640f8_46d0_11eb_a08f_525400626534row11_col7{\n",
       "            background-color:  #056aa6;\n",
       "            color:  #f1f1f1;\n",
       "        }#T_a53640f8_46d0_11eb_a08f_525400626534row7_col12,#T_a53640f8_46d0_11eb_a08f_525400626534row10_col11,#T_a53640f8_46d0_11eb_a08f_525400626534row11_col10,#T_a53640f8_46d0_11eb_a08f_525400626534row12_col7{\n",
       "            background-color:  #1379b5;\n",
       "            color:  #f1f1f1;\n",
       "        }#T_a53640f8_46d0_11eb_a08f_525400626534row7_col14,#T_a53640f8_46d0_11eb_a08f_525400626534row9_col16,#T_a53640f8_46d0_11eb_a08f_525400626534row14_col7,#T_a53640f8_46d0_11eb_a08f_525400626534row16_col9{\n",
       "            background-color:  #056ead;\n",
       "            color:  #f1f1f1;\n",
       "        }#T_a53640f8_46d0_11eb_a08f_525400626534row7_col15,#T_a53640f8_46d0_11eb_a08f_525400626534row15_col7{\n",
       "            background-color:  #75a9cf;\n",
       "            color:  #000000;\n",
       "        }#T_a53640f8_46d0_11eb_a08f_525400626534row8_col10,#T_a53640f8_46d0_11eb_a08f_525400626534row10_col8{\n",
       "            background-color:  #0a73b2;\n",
       "            color:  #f1f1f1;\n",
       "        }#T_a53640f8_46d0_11eb_a08f_525400626534row8_col12,#T_a53640f8_46d0_11eb_a08f_525400626534row12_col8{\n",
       "            background-color:  #187cb6;\n",
       "            color:  #000000;\n",
       "        }#T_a53640f8_46d0_11eb_a08f_525400626534row8_col13,#T_a53640f8_46d0_11eb_a08f_525400626534row13_col8{\n",
       "            background-color:  #056fae;\n",
       "            color:  #f1f1f1;\n",
       "        }#T_a53640f8_46d0_11eb_a08f_525400626534row8_col14,#T_a53640f8_46d0_11eb_a08f_525400626534row14_col8{\n",
       "            background-color:  #0570b0;\n",
       "            color:  #f1f1f1;\n",
       "        }#T_a53640f8_46d0_11eb_a08f_525400626534row8_col15,#T_a53640f8_46d0_11eb_a08f_525400626534row10_col12,#T_a53640f8_46d0_11eb_a08f_525400626534row12_col10,#T_a53640f8_46d0_11eb_a08f_525400626534row15_col8{\n",
       "            background-color:  #69a5cc;\n",
       "            color:  #000000;\n",
       "        }#T_a53640f8_46d0_11eb_a08f_525400626534row8_col16,#T_a53640f8_46d0_11eb_a08f_525400626534row16_col8{\n",
       "            background-color:  #034d79;\n",
       "            color:  #f1f1f1;\n",
       "        }#T_a53640f8_46d0_11eb_a08f_525400626534row9_col10,#T_a53640f8_46d0_11eb_a08f_525400626534row10_col9{\n",
       "            background-color:  #167bb6;\n",
       "            color:  #000000;\n",
       "        }#T_a53640f8_46d0_11eb_a08f_525400626534row9_col11,#T_a53640f8_46d0_11eb_a08f_525400626534row11_col9{\n",
       "            background-color:  #056dab;\n",
       "            color:  #f1f1f1;\n",
       "        }#T_a53640f8_46d0_11eb_a08f_525400626534row9_col12,#T_a53640f8_46d0_11eb_a08f_525400626534row12_col9{\n",
       "            background-color:  #b0c2de;\n",
       "            color:  #000000;\n",
       "        }#T_a53640f8_46d0_11eb_a08f_525400626534row9_col14,#T_a53640f8_46d0_11eb_a08f_525400626534row14_col9{\n",
       "            background-color:  #8cb3d5;\n",
       "            color:  #000000;\n",
       "        }#T_a53640f8_46d0_11eb_a08f_525400626534row9_col15,#T_a53640f8_46d0_11eb_a08f_525400626534row15_col9{\n",
       "            background-color:  #bfc9e1;\n",
       "            color:  #000000;\n",
       "        }#T_a53640f8_46d0_11eb_a08f_525400626534row10_col14,#T_a53640f8_46d0_11eb_a08f_525400626534row14_col10{\n",
       "            background-color:  #4496c3;\n",
       "            color:  #000000;\n",
       "        }#T_a53640f8_46d0_11eb_a08f_525400626534row10_col15,#T_a53640f8_46d0_11eb_a08f_525400626534row15_col10{\n",
       "            background-color:  #bbc7e0;\n",
       "            color:  #000000;\n",
       "        }#T_a53640f8_46d0_11eb_a08f_525400626534row10_col16,#T_a53640f8_46d0_11eb_a08f_525400626534row11_col16,#T_a53640f8_46d0_11eb_a08f_525400626534row16_col10,#T_a53640f8_46d0_11eb_a08f_525400626534row16_col11{\n",
       "            background-color:  #046299;\n",
       "            color:  #f1f1f1;\n",
       "        }#T_a53640f8_46d0_11eb_a08f_525400626534row11_col12,#T_a53640f8_46d0_11eb_a08f_525400626534row12_col11{\n",
       "            background-color:  #94b6d7;\n",
       "            color:  #000000;\n",
       "        }#T_a53640f8_46d0_11eb_a08f_525400626534row11_col14,#T_a53640f8_46d0_11eb_a08f_525400626534row14_col11{\n",
       "            background-color:  #76aad0;\n",
       "            color:  #000000;\n",
       "        }#T_a53640f8_46d0_11eb_a08f_525400626534row11_col15,#T_a53640f8_46d0_11eb_a08f_525400626534row15_col11{\n",
       "            background-color:  #9fbad9;\n",
       "            color:  #000000;\n",
       "        }#T_a53640f8_46d0_11eb_a08f_525400626534row12_col14,#T_a53640f8_46d0_11eb_a08f_525400626534row14_col12{\n",
       "            background-color:  #04639b;\n",
       "            color:  #f1f1f1;\n",
       "        }#T_a53640f8_46d0_11eb_a08f_525400626534row12_col16,#T_a53640f8_46d0_11eb_a08f_525400626534row16_col12{\n",
       "            background-color:  #2c89bd;\n",
       "            color:  #000000;\n",
       "        }#T_a53640f8_46d0_11eb_a08f_525400626534row14_col15,#T_a53640f8_46d0_11eb_a08f_525400626534row15_col14{\n",
       "            background-color:  #197db7;\n",
       "            color:  #000000;\n",
       "        }#T_a53640f8_46d0_11eb_a08f_525400626534row15_col16,#T_a53640f8_46d0_11eb_a08f_525400626534row16_col15{\n",
       "            background-color:  #97b7d7;\n",
       "            color:  #000000;\n",
       "        }</style><table id=\"T_a53640f8_46d0_11eb_a08f_525400626534\" ><thead>    <tr>        <th class=\"blank level0\" ></th>        <th class=\"col_heading level0 col0\" >Rt</th>        <th class=\"col_heading level0 col1\" >theta</th>        <th class=\"col_heading level0 col2\" >kappa</th>        <th class=\"col_heading level0 col3\" >rho</th>        <th class=\"col_heading level0 col4\" >sigma</th>        <th class=\"col_heading level0 col5\" >School_closing</th>        <th class=\"col_heading level0 col6\" >Workplace_closing</th>        <th class=\"col_heading level0 col7\" >Cancel_events</th>        <th class=\"col_heading level0 col8\" >Gatherings_restrictions</th>        <th class=\"col_heading level0 col9\" >Transport_closing</th>        <th class=\"col_heading level0 col10\" >Stay_home_restrictions</th>        <th class=\"col_heading level0 col11\" >Internal_movement_restrictions</th>        <th class=\"col_heading level0 col12\" >International_movement_restrictions</th>        <th class=\"col_heading level0 col13\" >Information_campaigns</th>        <th class=\"col_heading level0 col14\" >Testing_policy</th>        <th class=\"col_heading level0 col15\" >Contact_tracing</th>        <th class=\"col_heading level0 col16\" >Stringency_index</th>    </tr></thead><tbody>\n",
       "                <tr>\n",
       "                        <th id=\"T_a53640f8_46d0_11eb_a08f_525400626534level0_row0\" class=\"row_heading level0 row0\" >Rt</th>\n",
       "                        <td id=\"T_a53640f8_46d0_11eb_a08f_525400626534row0_col0\" class=\"data row0 col0\" >1.000000</td>\n",
       "                        <td id=\"T_a53640f8_46d0_11eb_a08f_525400626534row0_col1\" class=\"data row0 col1\" >-0.051750</td>\n",
       "                        <td id=\"T_a53640f8_46d0_11eb_a08f_525400626534row0_col2\" class=\"data row0 col2\" >0.488056</td>\n",
       "                        <td id=\"T_a53640f8_46d0_11eb_a08f_525400626534row0_col3\" class=\"data row0 col3\" >0.851037</td>\n",
       "                        <td id=\"T_a53640f8_46d0_11eb_a08f_525400626534row0_col4\" class=\"data row0 col4\" >-0.700785</td>\n",
       "                        <td id=\"T_a53640f8_46d0_11eb_a08f_525400626534row0_col5\" class=\"data row0 col5\" >-0.316417</td>\n",
       "                        <td id=\"T_a53640f8_46d0_11eb_a08f_525400626534row0_col6\" class=\"data row0 col6\" >-0.549250</td>\n",
       "                        <td id=\"T_a53640f8_46d0_11eb_a08f_525400626534row0_col7\" class=\"data row0 col7\" >-0.731458</td>\n",
       "                        <td id=\"T_a53640f8_46d0_11eb_a08f_525400626534row0_col8\" class=\"data row0 col8\" >-0.799511</td>\n",
       "                        <td id=\"T_a53640f8_46d0_11eb_a08f_525400626534row0_col9\" class=\"data row0 col9\" >-0.273819</td>\n",
       "                        <td id=\"T_a53640f8_46d0_11eb_a08f_525400626534row0_col10\" class=\"data row0 col10\" >-0.316210</td>\n",
       "                        <td id=\"T_a53640f8_46d0_11eb_a08f_525400626534row0_col11\" class=\"data row0 col11\" >-0.476104</td>\n",
       "                        <td id=\"T_a53640f8_46d0_11eb_a08f_525400626534row0_col12\" class=\"data row0 col12\" >-0.520703</td>\n",
       "                        <td id=\"T_a53640f8_46d0_11eb_a08f_525400626534row0_col13\" class=\"data row0 col13\" >-0.455874</td>\n",
       "                        <td id=\"T_a53640f8_46d0_11eb_a08f_525400626534row0_col14\" class=\"data row0 col14\" >-0.624989</td>\n",
       "                        <td id=\"T_a53640f8_46d0_11eb_a08f_525400626534row0_col15\" class=\"data row0 col15\" >-0.244447</td>\n",
       "                        <td id=\"T_a53640f8_46d0_11eb_a08f_525400626534row0_col16\" class=\"data row0 col16\" >-0.625023</td>\n",
       "            </tr>\n",
       "            <tr>\n",
       "                        <th id=\"T_a53640f8_46d0_11eb_a08f_525400626534level0_row1\" class=\"row_heading level0 row1\" >theta</th>\n",
       "                        <td id=\"T_a53640f8_46d0_11eb_a08f_525400626534row1_col0\" class=\"data row1 col0\" >-0.051750</td>\n",
       "                        <td id=\"T_a53640f8_46d0_11eb_a08f_525400626534row1_col1\" class=\"data row1 col1\" >1.000000</td>\n",
       "                        <td id=\"T_a53640f8_46d0_11eb_a08f_525400626534row1_col2\" class=\"data row1 col2\" >0.145444</td>\n",
       "                        <td id=\"T_a53640f8_46d0_11eb_a08f_525400626534row1_col3\" class=\"data row1 col3\" >-0.004093</td>\n",
       "                        <td id=\"T_a53640f8_46d0_11eb_a08f_525400626534row1_col4\" class=\"data row1 col4\" >0.104849</td>\n",
       "                        <td id=\"T_a53640f8_46d0_11eb_a08f_525400626534row1_col5\" class=\"data row1 col5\" >0.507644</td>\n",
       "                        <td id=\"T_a53640f8_46d0_11eb_a08f_525400626534row1_col6\" class=\"data row1 col6\" >0.377873</td>\n",
       "                        <td id=\"T_a53640f8_46d0_11eb_a08f_525400626534row1_col7\" class=\"data row1 col7\" >0.082795</td>\n",
       "                        <td id=\"T_a53640f8_46d0_11eb_a08f_525400626534row1_col8\" class=\"data row1 col8\" >0.105285</td>\n",
       "                        <td id=\"T_a53640f8_46d0_11eb_a08f_525400626534row1_col9\" class=\"data row1 col9\" >0.261615</td>\n",
       "                        <td id=\"T_a53640f8_46d0_11eb_a08f_525400626534row1_col10\" class=\"data row1 col10\" >0.320548</td>\n",
       "                        <td id=\"T_a53640f8_46d0_11eb_a08f_525400626534row1_col11\" class=\"data row1 col11\" >0.329645</td>\n",
       "                        <td id=\"T_a53640f8_46d0_11eb_a08f_525400626534row1_col12\" class=\"data row1 col12\" >-0.471829</td>\n",
       "                        <td id=\"T_a53640f8_46d0_11eb_a08f_525400626534row1_col13\" class=\"data row1 col13\" >0.114260</td>\n",
       "                        <td id=\"T_a53640f8_46d0_11eb_a08f_525400626534row1_col14\" class=\"data row1 col14\" >-0.355981</td>\n",
       "                        <td id=\"T_a53640f8_46d0_11eb_a08f_525400626534row1_col15\" class=\"data row1 col15\" >-0.369372</td>\n",
       "                        <td id=\"T_a53640f8_46d0_11eb_a08f_525400626534row1_col16\" class=\"data row1 col16\" >0.267467</td>\n",
       "            </tr>\n",
       "            <tr>\n",
       "                        <th id=\"T_a53640f8_46d0_11eb_a08f_525400626534level0_row2\" class=\"row_heading level0 row2\" >kappa</th>\n",
       "                        <td id=\"T_a53640f8_46d0_11eb_a08f_525400626534row2_col0\" class=\"data row2 col0\" >0.488056</td>\n",
       "                        <td id=\"T_a53640f8_46d0_11eb_a08f_525400626534row2_col1\" class=\"data row2 col1\" >0.145444</td>\n",
       "                        <td id=\"T_a53640f8_46d0_11eb_a08f_525400626534row2_col2\" class=\"data row2 col2\" >1.000000</td>\n",
       "                        <td id=\"T_a53640f8_46d0_11eb_a08f_525400626534row2_col3\" class=\"data row2 col3\" >0.640668</td>\n",
       "                        <td id=\"T_a53640f8_46d0_11eb_a08f_525400626534row2_col4\" class=\"data row2 col4\" >-0.220473</td>\n",
       "                        <td id=\"T_a53640f8_46d0_11eb_a08f_525400626534row2_col5\" class=\"data row2 col5\" >0.161089</td>\n",
       "                        <td id=\"T_a53640f8_46d0_11eb_a08f_525400626534row2_col6\" class=\"data row2 col6\" >-0.039702</td>\n",
       "                        <td id=\"T_a53640f8_46d0_11eb_a08f_525400626534row2_col7\" class=\"data row2 col7\" >-0.239863</td>\n",
       "                        <td id=\"T_a53640f8_46d0_11eb_a08f_525400626534row2_col8\" class=\"data row2 col8\" >-0.229170</td>\n",
       "                        <td id=\"T_a53640f8_46d0_11eb_a08f_525400626534row2_col9\" class=\"data row2 col9\" >0.047061</td>\n",
       "                        <td id=\"T_a53640f8_46d0_11eb_a08f_525400626534row2_col10\" class=\"data row2 col10\" >-0.078539</td>\n",
       "                        <td id=\"T_a53640f8_46d0_11eb_a08f_525400626534row2_col11\" class=\"data row2 col11\" >-0.020001</td>\n",
       "                        <td id=\"T_a53640f8_46d0_11eb_a08f_525400626534row2_col12\" class=\"data row2 col12\" >-0.361136</td>\n",
       "                        <td id=\"T_a53640f8_46d0_11eb_a08f_525400626534row2_col13\" class=\"data row2 col13\" >0.044811</td>\n",
       "                        <td id=\"T_a53640f8_46d0_11eb_a08f_525400626534row2_col14\" class=\"data row2 col14\" >-0.533877</td>\n",
       "                        <td id=\"T_a53640f8_46d0_11eb_a08f_525400626534row2_col15\" class=\"data row2 col15\" >-0.217687</td>\n",
       "                        <td id=\"T_a53640f8_46d0_11eb_a08f_525400626534row2_col16\" class=\"data row2 col16\" >-0.039953</td>\n",
       "            </tr>\n",
       "            <tr>\n",
       "                        <th id=\"T_a53640f8_46d0_11eb_a08f_525400626534level0_row3\" class=\"row_heading level0 row3\" >rho</th>\n",
       "                        <td id=\"T_a53640f8_46d0_11eb_a08f_525400626534row3_col0\" class=\"data row3 col0\" >0.851037</td>\n",
       "                        <td id=\"T_a53640f8_46d0_11eb_a08f_525400626534row3_col1\" class=\"data row3 col1\" >-0.004093</td>\n",
       "                        <td id=\"T_a53640f8_46d0_11eb_a08f_525400626534row3_col2\" class=\"data row3 col2\" >0.640668</td>\n",
       "                        <td id=\"T_a53640f8_46d0_11eb_a08f_525400626534row3_col3\" class=\"data row3 col3\" >1.000000</td>\n",
       "                        <td id=\"T_a53640f8_46d0_11eb_a08f_525400626534row3_col4\" class=\"data row3 col4\" >-0.550531</td>\n",
       "                        <td id=\"T_a53640f8_46d0_11eb_a08f_525400626534row3_col5\" class=\"data row3 col5\" >-0.316081</td>\n",
       "                        <td id=\"T_a53640f8_46d0_11eb_a08f_525400626534row3_col6\" class=\"data row3 col6\" >-0.392790</td>\n",
       "                        <td id=\"T_a53640f8_46d0_11eb_a08f_525400626534row3_col7\" class=\"data row3 col7\" >-0.586261</td>\n",
       "                        <td id=\"T_a53640f8_46d0_11eb_a08f_525400626534row3_col8\" class=\"data row3 col8\" >-0.603588</td>\n",
       "                        <td id=\"T_a53640f8_46d0_11eb_a08f_525400626534row3_col9\" class=\"data row3 col9\" >-0.250815</td>\n",
       "                        <td id=\"T_a53640f8_46d0_11eb_a08f_525400626534row3_col10\" class=\"data row3 col10\" >-0.296883</td>\n",
       "                        <td id=\"T_a53640f8_46d0_11eb_a08f_525400626534row3_col11\" class=\"data row3 col11\" >-0.297467</td>\n",
       "                        <td id=\"T_a53640f8_46d0_11eb_a08f_525400626534row3_col12\" class=\"data row3 col12\" >-0.556812</td>\n",
       "                        <td id=\"T_a53640f8_46d0_11eb_a08f_525400626534row3_col13\" class=\"data row3 col13\" >-0.225048</td>\n",
       "                        <td id=\"T_a53640f8_46d0_11eb_a08f_525400626534row3_col14\" class=\"data row3 col14\" >-0.565330</td>\n",
       "                        <td id=\"T_a53640f8_46d0_11eb_a08f_525400626534row3_col15\" class=\"data row3 col15\" >-0.147773</td>\n",
       "                        <td id=\"T_a53640f8_46d0_11eb_a08f_525400626534row3_col16\" class=\"data row3 col16\" >-0.497981</td>\n",
       "            </tr>\n",
       "            <tr>\n",
       "                        <th id=\"T_a53640f8_46d0_11eb_a08f_525400626534level0_row4\" class=\"row_heading level0 row4\" >sigma</th>\n",
       "                        <td id=\"T_a53640f8_46d0_11eb_a08f_525400626534row4_col0\" class=\"data row4 col0\" >-0.700785</td>\n",
       "                        <td id=\"T_a53640f8_46d0_11eb_a08f_525400626534row4_col1\" class=\"data row4 col1\" >0.104849</td>\n",
       "                        <td id=\"T_a53640f8_46d0_11eb_a08f_525400626534row4_col2\" class=\"data row4 col2\" >-0.220473</td>\n",
       "                        <td id=\"T_a53640f8_46d0_11eb_a08f_525400626534row4_col3\" class=\"data row4 col3\" >-0.550531</td>\n",
       "                        <td id=\"T_a53640f8_46d0_11eb_a08f_525400626534row4_col4\" class=\"data row4 col4\" >1.000000</td>\n",
       "                        <td id=\"T_a53640f8_46d0_11eb_a08f_525400626534row4_col5\" class=\"data row4 col5\" >0.355610</td>\n",
       "                        <td id=\"T_a53640f8_46d0_11eb_a08f_525400626534row4_col6\" class=\"data row4 col6\" >0.365249</td>\n",
       "                        <td id=\"T_a53640f8_46d0_11eb_a08f_525400626534row4_col7\" class=\"data row4 col7\" >0.493631</td>\n",
       "                        <td id=\"T_a53640f8_46d0_11eb_a08f_525400626534row4_col8\" class=\"data row4 col8\" >0.594661</td>\n",
       "                        <td id=\"T_a53640f8_46d0_11eb_a08f_525400626534row4_col9\" class=\"data row4 col9\" >0.035374</td>\n",
       "                        <td id=\"T_a53640f8_46d0_11eb_a08f_525400626534row4_col10\" class=\"data row4 col10\" >0.072825</td>\n",
       "                        <td id=\"T_a53640f8_46d0_11eb_a08f_525400626534row4_col11\" class=\"data row4 col11\" >0.375330</td>\n",
       "                        <td id=\"T_a53640f8_46d0_11eb_a08f_525400626534row4_col12\" class=\"data row4 col12\" >0.334001</td>\n",
       "                        <td id=\"T_a53640f8_46d0_11eb_a08f_525400626534row4_col13\" class=\"data row4 col13\" >0.324409</td>\n",
       "                        <td id=\"T_a53640f8_46d0_11eb_a08f_525400626534row4_col14\" class=\"data row4 col14\" >0.322847</td>\n",
       "                        <td id=\"T_a53640f8_46d0_11eb_a08f_525400626534row4_col15\" class=\"data row4 col15\" >0.249196</td>\n",
       "                        <td id=\"T_a53640f8_46d0_11eb_a08f_525400626534row4_col16\" class=\"data row4 col16\" >0.435147</td>\n",
       "            </tr>\n",
       "            <tr>\n",
       "                        <th id=\"T_a53640f8_46d0_11eb_a08f_525400626534level0_row5\" class=\"row_heading level0 row5\" >School_closing</th>\n",
       "                        <td id=\"T_a53640f8_46d0_11eb_a08f_525400626534row5_col0\" class=\"data row5 col0\" >-0.316417</td>\n",
       "                        <td id=\"T_a53640f8_46d0_11eb_a08f_525400626534row5_col1\" class=\"data row5 col1\" >0.507644</td>\n",
       "                        <td id=\"T_a53640f8_46d0_11eb_a08f_525400626534row5_col2\" class=\"data row5 col2\" >0.161089</td>\n",
       "                        <td id=\"T_a53640f8_46d0_11eb_a08f_525400626534row5_col3\" class=\"data row5 col3\" >-0.316081</td>\n",
       "                        <td id=\"T_a53640f8_46d0_11eb_a08f_525400626534row5_col4\" class=\"data row5 col4\" >0.355610</td>\n",
       "                        <td id=\"T_a53640f8_46d0_11eb_a08f_525400626534row5_col5\" class=\"data row5 col5\" >1.000000</td>\n",
       "                        <td id=\"T_a53640f8_46d0_11eb_a08f_525400626534row5_col6\" class=\"data row5 col6\" >0.644376</td>\n",
       "                        <td id=\"T_a53640f8_46d0_11eb_a08f_525400626534row5_col7\" class=\"data row5 col7\" >0.518841</td>\n",
       "                        <td id=\"T_a53640f8_46d0_11eb_a08f_525400626534row5_col8\" class=\"data row5 col8\" >0.533913</td>\n",
       "                        <td id=\"T_a53640f8_46d0_11eb_a08f_525400626534row5_col9\" class=\"data row5 col9\" >0.388136</td>\n",
       "                        <td id=\"T_a53640f8_46d0_11eb_a08f_525400626534row5_col10\" class=\"data row5 col10\" >0.476692</td>\n",
       "                        <td id=\"T_a53640f8_46d0_11eb_a08f_525400626534row5_col11\" class=\"data row5 col11\" >0.575175</td>\n",
       "                        <td id=\"T_a53640f8_46d0_11eb_a08f_525400626534row5_col12\" class=\"data row5 col12\" >0.043136</td>\n",
       "                        <td id=\"T_a53640f8_46d0_11eb_a08f_525400626534row5_col13\" class=\"data row5 col13\" >0.338184</td>\n",
       "                        <td id=\"T_a53640f8_46d0_11eb_a08f_525400626534row5_col14\" class=\"data row5 col14\" >-0.015753</td>\n",
       "                        <td id=\"T_a53640f8_46d0_11eb_a08f_525400626534row5_col15\" class=\"data row5 col15\" >-0.111088</td>\n",
       "                        <td id=\"T_a53640f8_46d0_11eb_a08f_525400626534row5_col16\" class=\"data row5 col16\" >0.690643</td>\n",
       "            </tr>\n",
       "            <tr>\n",
       "                        <th id=\"T_a53640f8_46d0_11eb_a08f_525400626534level0_row6\" class=\"row_heading level0 row6\" >Workplace_closing</th>\n",
       "                        <td id=\"T_a53640f8_46d0_11eb_a08f_525400626534row6_col0\" class=\"data row6 col0\" >-0.549250</td>\n",
       "                        <td id=\"T_a53640f8_46d0_11eb_a08f_525400626534row6_col1\" class=\"data row6 col1\" >0.377873</td>\n",
       "                        <td id=\"T_a53640f8_46d0_11eb_a08f_525400626534row6_col2\" class=\"data row6 col2\" >-0.039702</td>\n",
       "                        <td id=\"T_a53640f8_46d0_11eb_a08f_525400626534row6_col3\" class=\"data row6 col3\" >-0.392790</td>\n",
       "                        <td id=\"T_a53640f8_46d0_11eb_a08f_525400626534row6_col4\" class=\"data row6 col4\" >0.365249</td>\n",
       "                        <td id=\"T_a53640f8_46d0_11eb_a08f_525400626534row6_col5\" class=\"data row6 col5\" >0.644376</td>\n",
       "                        <td id=\"T_a53640f8_46d0_11eb_a08f_525400626534row6_col6\" class=\"data row6 col6\" >1.000000</td>\n",
       "                        <td id=\"T_a53640f8_46d0_11eb_a08f_525400626534row6_col7\" class=\"data row6 col7\" >0.822626</td>\n",
       "                        <td id=\"T_a53640f8_46d0_11eb_a08f_525400626534row6_col8\" class=\"data row6 col8\" >0.828454</td>\n",
       "                        <td id=\"T_a53640f8_46d0_11eb_a08f_525400626534row6_col9\" class=\"data row6 col9\" >0.507980</td>\n",
       "                        <td id=\"T_a53640f8_46d0_11eb_a08f_525400626534row6_col10\" class=\"data row6 col10\" >0.712359</td>\n",
       "                        <td id=\"T_a53640f8_46d0_11eb_a08f_525400626534row6_col11\" class=\"data row6 col11\" >0.649749</td>\n",
       "                        <td id=\"T_a53640f8_46d0_11eb_a08f_525400626534row6_col12\" class=\"data row6 col12\" >0.191944</td>\n",
       "                        <td id=\"T_a53640f8_46d0_11eb_a08f_525400626534row6_col13\" class=\"data row6 col13\" >0.531566</td>\n",
       "                        <td id=\"T_a53640f8_46d0_11eb_a08f_525400626534row6_col14\" class=\"data row6 col14\" >0.348816</td>\n",
       "                        <td id=\"T_a53640f8_46d0_11eb_a08f_525400626534row6_col15\" class=\"data row6 col15\" >-0.162629</td>\n",
       "                        <td id=\"T_a53640f8_46d0_11eb_a08f_525400626534row6_col16\" class=\"data row6 col16\" >0.883290</td>\n",
       "            </tr>\n",
       "            <tr>\n",
       "                        <th id=\"T_a53640f8_46d0_11eb_a08f_525400626534level0_row7\" class=\"row_heading level0 row7\" >Cancel_events</th>\n",
       "                        <td id=\"T_a53640f8_46d0_11eb_a08f_525400626534row7_col0\" class=\"data row7 col0\" >-0.731458</td>\n",
       "                        <td id=\"T_a53640f8_46d0_11eb_a08f_525400626534row7_col1\" class=\"data row7 col1\" >0.082795</td>\n",
       "                        <td id=\"T_a53640f8_46d0_11eb_a08f_525400626534row7_col2\" class=\"data row7 col2\" >-0.239863</td>\n",
       "                        <td id=\"T_a53640f8_46d0_11eb_a08f_525400626534row7_col3\" class=\"data row7 col3\" >-0.586261</td>\n",
       "                        <td id=\"T_a53640f8_46d0_11eb_a08f_525400626534row7_col4\" class=\"data row7 col4\" >0.493631</td>\n",
       "                        <td id=\"T_a53640f8_46d0_11eb_a08f_525400626534row7_col5\" class=\"data row7 col5\" >0.518841</td>\n",
       "                        <td id=\"T_a53640f8_46d0_11eb_a08f_525400626534row7_col6\" class=\"data row7 col6\" >0.822626</td>\n",
       "                        <td id=\"T_a53640f8_46d0_11eb_a08f_525400626534row7_col7\" class=\"data row7 col7\" >1.000000</td>\n",
       "                        <td id=\"T_a53640f8_46d0_11eb_a08f_525400626534row7_col8\" class=\"data row7 col8\" >0.893654</td>\n",
       "                        <td id=\"T_a53640f8_46d0_11eb_a08f_525400626534row7_col9\" class=\"data row7 col9\" >0.424860</td>\n",
       "                        <td id=\"T_a53640f8_46d0_11eb_a08f_525400626534row7_col10\" class=\"data row7 col10\" >0.617927</td>\n",
       "                        <td id=\"T_a53640f8_46d0_11eb_a08f_525400626534row7_col11\" class=\"data row7 col11\" >0.610008</td>\n",
       "                        <td id=\"T_a53640f8_46d0_11eb_a08f_525400626534row7_col12\" class=\"data row7 col12\" >0.484040</td>\n",
       "                        <td id=\"T_a53640f8_46d0_11eb_a08f_525400626534row7_col13\" class=\"data row7 col13\" >0.618765</td>\n",
       "                        <td id=\"T_a53640f8_46d0_11eb_a08f_525400626534row7_col14\" class=\"data row7 col14\" >0.566742</td>\n",
       "                        <td id=\"T_a53640f8_46d0_11eb_a08f_525400626534row7_col15\" class=\"data row7 col15\" >0.095175</td>\n",
       "                        <td id=\"T_a53640f8_46d0_11eb_a08f_525400626534row7_col16\" class=\"data row7 col16\" >0.884577</td>\n",
       "            </tr>\n",
       "            <tr>\n",
       "                        <th id=\"T_a53640f8_46d0_11eb_a08f_525400626534level0_row8\" class=\"row_heading level0 row8\" >Gatherings_restrictions</th>\n",
       "                        <td id=\"T_a53640f8_46d0_11eb_a08f_525400626534row8_col0\" class=\"data row8 col0\" >-0.799511</td>\n",
       "                        <td id=\"T_a53640f8_46d0_11eb_a08f_525400626534row8_col1\" class=\"data row8 col1\" >0.105285</td>\n",
       "                        <td id=\"T_a53640f8_46d0_11eb_a08f_525400626534row8_col2\" class=\"data row8 col2\" >-0.229170</td>\n",
       "                        <td id=\"T_a53640f8_46d0_11eb_a08f_525400626534row8_col3\" class=\"data row8 col3\" >-0.603588</td>\n",
       "                        <td id=\"T_a53640f8_46d0_11eb_a08f_525400626534row8_col4\" class=\"data row8 col4\" >0.594661</td>\n",
       "                        <td id=\"T_a53640f8_46d0_11eb_a08f_525400626534row8_col5\" class=\"data row8 col5\" >0.533913</td>\n",
       "                        <td id=\"T_a53640f8_46d0_11eb_a08f_525400626534row8_col6\" class=\"data row8 col6\" >0.828454</td>\n",
       "                        <td id=\"T_a53640f8_46d0_11eb_a08f_525400626534row8_col7\" class=\"data row8 col7\" >0.893654</td>\n",
       "                        <td id=\"T_a53640f8_46d0_11eb_a08f_525400626534row8_col8\" class=\"data row8 col8\" >1.000000</td>\n",
       "                        <td id=\"T_a53640f8_46d0_11eb_a08f_525400626534row8_col9\" class=\"data row8 col9\" >0.380223</td>\n",
       "                        <td id=\"T_a53640f8_46d0_11eb_a08f_525400626534row8_col10\" class=\"data row8 col10\" >0.524146</td>\n",
       "                        <td id=\"T_a53640f8_46d0_11eb_a08f_525400626534row8_col11\" class=\"data row8 col11\" >0.648346</td>\n",
       "                        <td id=\"T_a53640f8_46d0_11eb_a08f_525400626534row8_col12\" class=\"data row8 col12\" >0.464688</td>\n",
       "                        <td id=\"T_a53640f8_46d0_11eb_a08f_525400626534row8_col13\" class=\"data row8 col13\" >0.560281</td>\n",
       "                        <td id=\"T_a53640f8_46d0_11eb_a08f_525400626534row8_col14\" class=\"data row8 col14\" >0.549118</td>\n",
       "                        <td id=\"T_a53640f8_46d0_11eb_a08f_525400626534row8_col15\" class=\"data row8 col15\" >0.137916</td>\n",
       "                        <td id=\"T_a53640f8_46d0_11eb_a08f_525400626534row8_col16\" class=\"data row8 col16\" >0.855399</td>\n",
       "            </tr>\n",
       "            <tr>\n",
       "                        <th id=\"T_a53640f8_46d0_11eb_a08f_525400626534level0_row9\" class=\"row_heading level0 row9\" >Transport_closing</th>\n",
       "                        <td id=\"T_a53640f8_46d0_11eb_a08f_525400626534row9_col0\" class=\"data row9 col0\" >-0.273819</td>\n",
       "                        <td id=\"T_a53640f8_46d0_11eb_a08f_525400626534row9_col1\" class=\"data row9 col1\" >0.261615</td>\n",
       "                        <td id=\"T_a53640f8_46d0_11eb_a08f_525400626534row9_col2\" class=\"data row9 col2\" >0.047061</td>\n",
       "                        <td id=\"T_a53640f8_46d0_11eb_a08f_525400626534row9_col3\" class=\"data row9 col3\" >-0.250815</td>\n",
       "                        <td id=\"T_a53640f8_46d0_11eb_a08f_525400626534row9_col4\" class=\"data row9 col4\" >0.035374</td>\n",
       "                        <td id=\"T_a53640f8_46d0_11eb_a08f_525400626534row9_col5\" class=\"data row9 col5\" >0.388136</td>\n",
       "                        <td id=\"T_a53640f8_46d0_11eb_a08f_525400626534row9_col6\" class=\"data row9 col6\" >0.507980</td>\n",
       "                        <td id=\"T_a53640f8_46d0_11eb_a08f_525400626534row9_col7\" class=\"data row9 col7\" >0.424860</td>\n",
       "                        <td id=\"T_a53640f8_46d0_11eb_a08f_525400626534row9_col8\" class=\"data row9 col8\" >0.380223</td>\n",
       "                        <td id=\"T_a53640f8_46d0_11eb_a08f_525400626534row9_col9\" class=\"data row9 col9\" >1.000000</td>\n",
       "                        <td id=\"T_a53640f8_46d0_11eb_a08f_525400626534row9_col10\" class=\"data row9 col10\" >0.472614</td>\n",
       "                        <td id=\"T_a53640f8_46d0_11eb_a08f_525400626534row9_col11\" class=\"data row9 col11\" >0.578608</td>\n",
       "                        <td id=\"T_a53640f8_46d0_11eb_a08f_525400626534row9_col12\" class=\"data row9 col12\" >-0.178979</td>\n",
       "                        <td id=\"T_a53640f8_46d0_11eb_a08f_525400626534row9_col13\" class=\"data row9 col13\" >0.252835</td>\n",
       "                        <td id=\"T_a53640f8_46d0_11eb_a08f_525400626534row9_col14\" class=\"data row9 col14\" >-0.005281</td>\n",
       "                        <td id=\"T_a53640f8_46d0_11eb_a08f_525400626534row9_col15\" class=\"data row9 col15\" >-0.254568</td>\n",
       "                        <td id=\"T_a53640f8_46d0_11eb_a08f_525400626534row9_col16\" class=\"data row9 col16\" >0.569727</td>\n",
       "            </tr>\n",
       "            <tr>\n",
       "                        <th id=\"T_a53640f8_46d0_11eb_a08f_525400626534level0_row10\" class=\"row_heading level0 row10\" >Stay_home_restrictions</th>\n",
       "                        <td id=\"T_a53640f8_46d0_11eb_a08f_525400626534row10_col0\" class=\"data row10 col0\" >-0.316210</td>\n",
       "                        <td id=\"T_a53640f8_46d0_11eb_a08f_525400626534row10_col1\" class=\"data row10 col1\" >0.320548</td>\n",
       "                        <td id=\"T_a53640f8_46d0_11eb_a08f_525400626534row10_col2\" class=\"data row10 col2\" >-0.078539</td>\n",
       "                        <td id=\"T_a53640f8_46d0_11eb_a08f_525400626534row10_col3\" class=\"data row10 col3\" >-0.296883</td>\n",
       "                        <td id=\"T_a53640f8_46d0_11eb_a08f_525400626534row10_col4\" class=\"data row10 col4\" >0.072825</td>\n",
       "                        <td id=\"T_a53640f8_46d0_11eb_a08f_525400626534row10_col5\" class=\"data row10 col5\" >0.476692</td>\n",
       "                        <td id=\"T_a53640f8_46d0_11eb_a08f_525400626534row10_col6\" class=\"data row10 col6\" >0.712359</td>\n",
       "                        <td id=\"T_a53640f8_46d0_11eb_a08f_525400626534row10_col7\" class=\"data row10 col7\" >0.617927</td>\n",
       "                        <td id=\"T_a53640f8_46d0_11eb_a08f_525400626534row10_col8\" class=\"data row10 col8\" >0.524146</td>\n",
       "                        <td id=\"T_a53640f8_46d0_11eb_a08f_525400626534row10_col9\" class=\"data row10 col9\" >0.472614</td>\n",
       "                        <td id=\"T_a53640f8_46d0_11eb_a08f_525400626534row10_col10\" class=\"data row10 col10\" >1.000000</td>\n",
       "                        <td id=\"T_a53640f8_46d0_11eb_a08f_525400626534row10_col11\" class=\"data row10 col11\" >0.481621</td>\n",
       "                        <td id=\"T_a53640f8_46d0_11eb_a08f_525400626534row10_col12\" class=\"data row10 col12\" >0.140365</td>\n",
       "                        <td id=\"T_a53640f8_46d0_11eb_a08f_525400626534row10_col13\" class=\"data row10 col13\" >0.378860</td>\n",
       "                        <td id=\"T_a53640f8_46d0_11eb_a08f_525400626534row10_col14\" class=\"data row10 col14\" >0.274493</td>\n",
       "                        <td id=\"T_a53640f8_46d0_11eb_a08f_525400626534row10_col15\" class=\"data row10 col15\" >-0.233115</td>\n",
       "                        <td id=\"T_a53640f8_46d0_11eb_a08f_525400626534row10_col16\" class=\"data row10 col16\" >0.692685</td>\n",
       "            </tr>\n",
       "            <tr>\n",
       "                        <th id=\"T_a53640f8_46d0_11eb_a08f_525400626534level0_row11\" class=\"row_heading level0 row11\" >Internal_movement_restrictions</th>\n",
       "                        <td id=\"T_a53640f8_46d0_11eb_a08f_525400626534row11_col0\" class=\"data row11 col0\" >-0.476104</td>\n",
       "                        <td id=\"T_a53640f8_46d0_11eb_a08f_525400626534row11_col1\" class=\"data row11 col1\" >0.329645</td>\n",
       "                        <td id=\"T_a53640f8_46d0_11eb_a08f_525400626534row11_col2\" class=\"data row11 col2\" >-0.020001</td>\n",
       "                        <td id=\"T_a53640f8_46d0_11eb_a08f_525400626534row11_col3\" class=\"data row11 col3\" >-0.297467</td>\n",
       "                        <td id=\"T_a53640f8_46d0_11eb_a08f_525400626534row11_col4\" class=\"data row11 col4\" >0.375330</td>\n",
       "                        <td id=\"T_a53640f8_46d0_11eb_a08f_525400626534row11_col5\" class=\"data row11 col5\" >0.575175</td>\n",
       "                        <td id=\"T_a53640f8_46d0_11eb_a08f_525400626534row11_col6\" class=\"data row11 col6\" >0.649749</td>\n",
       "                        <td id=\"T_a53640f8_46d0_11eb_a08f_525400626534row11_col7\" class=\"data row11 col7\" >0.610008</td>\n",
       "                        <td id=\"T_a53640f8_46d0_11eb_a08f_525400626534row11_col8\" class=\"data row11 col8\" >0.648346</td>\n",
       "                        <td id=\"T_a53640f8_46d0_11eb_a08f_525400626534row11_col9\" class=\"data row11 col9\" >0.578608</td>\n",
       "                        <td id=\"T_a53640f8_46d0_11eb_a08f_525400626534row11_col10\" class=\"data row11 col10\" >0.481621</td>\n",
       "                        <td id=\"T_a53640f8_46d0_11eb_a08f_525400626534row11_col11\" class=\"data row11 col11\" >1.000000</td>\n",
       "                        <td id=\"T_a53640f8_46d0_11eb_a08f_525400626534row11_col12\" class=\"data row11 col12\" >-0.045407</td>\n",
       "                        <td id=\"T_a53640f8_46d0_11eb_a08f_525400626534row11_col13\" class=\"data row11 col13\" >0.378510</td>\n",
       "                        <td id=\"T_a53640f8_46d0_11eb_a08f_525400626534row11_col14\" class=\"data row11 col14\" >0.088596</td>\n",
       "                        <td id=\"T_a53640f8_46d0_11eb_a08f_525400626534row11_col15\" class=\"data row11 col15\" >-0.092750</td>\n",
       "                        <td id=\"T_a53640f8_46d0_11eb_a08f_525400626534row11_col16\" class=\"data row11 col16\" >0.690753</td>\n",
       "            </tr>\n",
       "            <tr>\n",
       "                        <th id=\"T_a53640f8_46d0_11eb_a08f_525400626534level0_row12\" class=\"row_heading level0 row12\" >International_movement_restrictions</th>\n",
       "                        <td id=\"T_a53640f8_46d0_11eb_a08f_525400626534row12_col0\" class=\"data row12 col0\" >-0.520703</td>\n",
       "                        <td id=\"T_a53640f8_46d0_11eb_a08f_525400626534row12_col1\" class=\"data row12 col1\" >-0.471829</td>\n",
       "                        <td id=\"T_a53640f8_46d0_11eb_a08f_525400626534row12_col2\" class=\"data row12 col2\" >-0.361136</td>\n",
       "                        <td id=\"T_a53640f8_46d0_11eb_a08f_525400626534row12_col3\" class=\"data row12 col3\" >-0.556812</td>\n",
       "                        <td id=\"T_a53640f8_46d0_11eb_a08f_525400626534row12_col4\" class=\"data row12 col4\" >0.334001</td>\n",
       "                        <td id=\"T_a53640f8_46d0_11eb_a08f_525400626534row12_col5\" class=\"data row12 col5\" >0.043136</td>\n",
       "                        <td id=\"T_a53640f8_46d0_11eb_a08f_525400626534row12_col6\" class=\"data row12 col6\" >0.191944</td>\n",
       "                        <td id=\"T_a53640f8_46d0_11eb_a08f_525400626534row12_col7\" class=\"data row12 col7\" >0.484040</td>\n",
       "                        <td id=\"T_a53640f8_46d0_11eb_a08f_525400626534row12_col8\" class=\"data row12 col8\" >0.464688</td>\n",
       "                        <td id=\"T_a53640f8_46d0_11eb_a08f_525400626534row12_col9\" class=\"data row12 col9\" >-0.178979</td>\n",
       "                        <td id=\"T_a53640f8_46d0_11eb_a08f_525400626534row12_col10\" class=\"data row12 col10\" >0.140365</td>\n",
       "                        <td id=\"T_a53640f8_46d0_11eb_a08f_525400626534row12_col11\" class=\"data row12 col11\" >-0.045407</td>\n",
       "                        <td id=\"T_a53640f8_46d0_11eb_a08f_525400626534row12_col12\" class=\"data row12 col12\" >1.000000</td>\n",
       "                        <td id=\"T_a53640f8_46d0_11eb_a08f_525400626534row12_col13\" class=\"data row12 col13\" >0.358355</td>\n",
       "                        <td id=\"T_a53640f8_46d0_11eb_a08f_525400626534row12_col14\" class=\"data row12 col14\" >0.679398</td>\n",
       "                        <td id=\"T_a53640f8_46d0_11eb_a08f_525400626534row12_col15\" class=\"data row12 col15\" >0.380244</td>\n",
       "                        <td id=\"T_a53640f8_46d0_11eb_a08f_525400626534row12_col16\" class=\"data row12 col16\" >0.370925</td>\n",
       "            </tr>\n",
       "            <tr>\n",
       "                        <th id=\"T_a53640f8_46d0_11eb_a08f_525400626534level0_row13\" class=\"row_heading level0 row13\" >Information_campaigns</th>\n",
       "                        <td id=\"T_a53640f8_46d0_11eb_a08f_525400626534row13_col0\" class=\"data row13 col0\" >-0.455874</td>\n",
       "                        <td id=\"T_a53640f8_46d0_11eb_a08f_525400626534row13_col1\" class=\"data row13 col1\" >0.114260</td>\n",
       "                        <td id=\"T_a53640f8_46d0_11eb_a08f_525400626534row13_col2\" class=\"data row13 col2\" >0.044811</td>\n",
       "                        <td id=\"T_a53640f8_46d0_11eb_a08f_525400626534row13_col3\" class=\"data row13 col3\" >-0.225048</td>\n",
       "                        <td id=\"T_a53640f8_46d0_11eb_a08f_525400626534row13_col4\" class=\"data row13 col4\" >0.324409</td>\n",
       "                        <td id=\"T_a53640f8_46d0_11eb_a08f_525400626534row13_col5\" class=\"data row13 col5\" >0.338184</td>\n",
       "                        <td id=\"T_a53640f8_46d0_11eb_a08f_525400626534row13_col6\" class=\"data row13 col6\" >0.531566</td>\n",
       "                        <td id=\"T_a53640f8_46d0_11eb_a08f_525400626534row13_col7\" class=\"data row13 col7\" >0.618765</td>\n",
       "                        <td id=\"T_a53640f8_46d0_11eb_a08f_525400626534row13_col8\" class=\"data row13 col8\" >0.560281</td>\n",
       "                        <td id=\"T_a53640f8_46d0_11eb_a08f_525400626534row13_col9\" class=\"data row13 col9\" >0.252835</td>\n",
       "                        <td id=\"T_a53640f8_46d0_11eb_a08f_525400626534row13_col10\" class=\"data row13 col10\" >0.378860</td>\n",
       "                        <td id=\"T_a53640f8_46d0_11eb_a08f_525400626534row13_col11\" class=\"data row13 col11\" >0.378510</td>\n",
       "                        <td id=\"T_a53640f8_46d0_11eb_a08f_525400626534row13_col12\" class=\"data row13 col12\" >0.358355</td>\n",
       "                        <td id=\"T_a53640f8_46d0_11eb_a08f_525400626534row13_col13\" class=\"data row13 col13\" >1.000000</td>\n",
       "                        <td id=\"T_a53640f8_46d0_11eb_a08f_525400626534row13_col14\" class=\"data row13 col14\" >0.488040</td>\n",
       "                        <td id=\"T_a53640f8_46d0_11eb_a08f_525400626534row13_col15\" class=\"data row13 col15\" >0.324863</td>\n",
       "                        <td id=\"T_a53640f8_46d0_11eb_a08f_525400626534row13_col16\" class=\"data row13 col16\" >0.646474</td>\n",
       "            </tr>\n",
       "            <tr>\n",
       "                        <th id=\"T_a53640f8_46d0_11eb_a08f_525400626534level0_row14\" class=\"row_heading level0 row14\" >Testing_policy</th>\n",
       "                        <td id=\"T_a53640f8_46d0_11eb_a08f_525400626534row14_col0\" class=\"data row14 col0\" >-0.624989</td>\n",
       "                        <td id=\"T_a53640f8_46d0_11eb_a08f_525400626534row14_col1\" class=\"data row14 col1\" >-0.355981</td>\n",
       "                        <td id=\"T_a53640f8_46d0_11eb_a08f_525400626534row14_col2\" class=\"data row14 col2\" >-0.533877</td>\n",
       "                        <td id=\"T_a53640f8_46d0_11eb_a08f_525400626534row14_col3\" class=\"data row14 col3\" >-0.565330</td>\n",
       "                        <td id=\"T_a53640f8_46d0_11eb_a08f_525400626534row14_col4\" class=\"data row14 col4\" >0.322847</td>\n",
       "                        <td id=\"T_a53640f8_46d0_11eb_a08f_525400626534row14_col5\" class=\"data row14 col5\" >-0.015753</td>\n",
       "                        <td id=\"T_a53640f8_46d0_11eb_a08f_525400626534row14_col6\" class=\"data row14 col6\" >0.348816</td>\n",
       "                        <td id=\"T_a53640f8_46d0_11eb_a08f_525400626534row14_col7\" class=\"data row14 col7\" >0.566742</td>\n",
       "                        <td id=\"T_a53640f8_46d0_11eb_a08f_525400626534row14_col8\" class=\"data row14 col8\" >0.549118</td>\n",
       "                        <td id=\"T_a53640f8_46d0_11eb_a08f_525400626534row14_col9\" class=\"data row14 col9\" >-0.005281</td>\n",
       "                        <td id=\"T_a53640f8_46d0_11eb_a08f_525400626534row14_col10\" class=\"data row14 col10\" >0.274493</td>\n",
       "                        <td id=\"T_a53640f8_46d0_11eb_a08f_525400626534row14_col11\" class=\"data row14 col11\" >0.088596</td>\n",
       "                        <td id=\"T_a53640f8_46d0_11eb_a08f_525400626534row14_col12\" class=\"data row14 col12\" >0.679398</td>\n",
       "                        <td id=\"T_a53640f8_46d0_11eb_a08f_525400626534row14_col13\" class=\"data row14 col13\" >0.488040</td>\n",
       "                        <td id=\"T_a53640f8_46d0_11eb_a08f_525400626534row14_col14\" class=\"data row14 col14\" >1.000000</td>\n",
       "                        <td id=\"T_a53640f8_46d0_11eb_a08f_525400626534row14_col15\" class=\"data row14 col15\" >0.454789</td>\n",
       "                        <td id=\"T_a53640f8_46d0_11eb_a08f_525400626534row14_col16\" class=\"data row14 col16\" >0.355779</td>\n",
       "            </tr>\n",
       "            <tr>\n",
       "                        <th id=\"T_a53640f8_46d0_11eb_a08f_525400626534level0_row15\" class=\"row_heading level0 row15\" >Contact_tracing</th>\n",
       "                        <td id=\"T_a53640f8_46d0_11eb_a08f_525400626534row15_col0\" class=\"data row15 col0\" >-0.244447</td>\n",
       "                        <td id=\"T_a53640f8_46d0_11eb_a08f_525400626534row15_col1\" class=\"data row15 col1\" >-0.369372</td>\n",
       "                        <td id=\"T_a53640f8_46d0_11eb_a08f_525400626534row15_col2\" class=\"data row15 col2\" >-0.217687</td>\n",
       "                        <td id=\"T_a53640f8_46d0_11eb_a08f_525400626534row15_col3\" class=\"data row15 col3\" >-0.147773</td>\n",
       "                        <td id=\"T_a53640f8_46d0_11eb_a08f_525400626534row15_col4\" class=\"data row15 col4\" >0.249196</td>\n",
       "                        <td id=\"T_a53640f8_46d0_11eb_a08f_525400626534row15_col5\" class=\"data row15 col5\" >-0.111088</td>\n",
       "                        <td id=\"T_a53640f8_46d0_11eb_a08f_525400626534row15_col6\" class=\"data row15 col6\" >-0.162629</td>\n",
       "                        <td id=\"T_a53640f8_46d0_11eb_a08f_525400626534row15_col7\" class=\"data row15 col7\" >0.095175</td>\n",
       "                        <td id=\"T_a53640f8_46d0_11eb_a08f_525400626534row15_col8\" class=\"data row15 col8\" >0.137916</td>\n",
       "                        <td id=\"T_a53640f8_46d0_11eb_a08f_525400626534row15_col9\" class=\"data row15 col9\" >-0.254568</td>\n",
       "                        <td id=\"T_a53640f8_46d0_11eb_a08f_525400626534row15_col10\" class=\"data row15 col10\" >-0.233115</td>\n",
       "                        <td id=\"T_a53640f8_46d0_11eb_a08f_525400626534row15_col11\" class=\"data row15 col11\" >-0.092750</td>\n",
       "                        <td id=\"T_a53640f8_46d0_11eb_a08f_525400626534row15_col12\" class=\"data row15 col12\" >0.380244</td>\n",
       "                        <td id=\"T_a53640f8_46d0_11eb_a08f_525400626534row15_col13\" class=\"data row15 col13\" >0.324863</td>\n",
       "                        <td id=\"T_a53640f8_46d0_11eb_a08f_525400626534row15_col14\" class=\"data row15 col14\" >0.454789</td>\n",
       "                        <td id=\"T_a53640f8_46d0_11eb_a08f_525400626534row15_col15\" class=\"data row15 col15\" >1.000000</td>\n",
       "                        <td id=\"T_a53640f8_46d0_11eb_a08f_525400626534row15_col16\" class=\"data row15 col16\" >-0.059221</td>\n",
       "            </tr>\n",
       "            <tr>\n",
       "                        <th id=\"T_a53640f8_46d0_11eb_a08f_525400626534level0_row16\" class=\"row_heading level0 row16\" >Stringency_index</th>\n",
       "                        <td id=\"T_a53640f8_46d0_11eb_a08f_525400626534row16_col0\" class=\"data row16 col0\" >-0.625023</td>\n",
       "                        <td id=\"T_a53640f8_46d0_11eb_a08f_525400626534row16_col1\" class=\"data row16 col1\" >0.267467</td>\n",
       "                        <td id=\"T_a53640f8_46d0_11eb_a08f_525400626534row16_col2\" class=\"data row16 col2\" >-0.039953</td>\n",
       "                        <td id=\"T_a53640f8_46d0_11eb_a08f_525400626534row16_col3\" class=\"data row16 col3\" >-0.497981</td>\n",
       "                        <td id=\"T_a53640f8_46d0_11eb_a08f_525400626534row16_col4\" class=\"data row16 col4\" >0.435147</td>\n",
       "                        <td id=\"T_a53640f8_46d0_11eb_a08f_525400626534row16_col5\" class=\"data row16 col5\" >0.690643</td>\n",
       "                        <td id=\"T_a53640f8_46d0_11eb_a08f_525400626534row16_col6\" class=\"data row16 col6\" >0.883290</td>\n",
       "                        <td id=\"T_a53640f8_46d0_11eb_a08f_525400626534row16_col7\" class=\"data row16 col7\" >0.884577</td>\n",
       "                        <td id=\"T_a53640f8_46d0_11eb_a08f_525400626534row16_col8\" class=\"data row16 col8\" >0.855399</td>\n",
       "                        <td id=\"T_a53640f8_46d0_11eb_a08f_525400626534row16_col9\" class=\"data row16 col9\" >0.569727</td>\n",
       "                        <td id=\"T_a53640f8_46d0_11eb_a08f_525400626534row16_col10\" class=\"data row16 col10\" >0.692685</td>\n",
       "                        <td id=\"T_a53640f8_46d0_11eb_a08f_525400626534row16_col11\" class=\"data row16 col11\" >0.690753</td>\n",
       "                        <td id=\"T_a53640f8_46d0_11eb_a08f_525400626534row16_col12\" class=\"data row16 col12\" >0.370925</td>\n",
       "                        <td id=\"T_a53640f8_46d0_11eb_a08f_525400626534row16_col13\" class=\"data row16 col13\" >0.646474</td>\n",
       "                        <td id=\"T_a53640f8_46d0_11eb_a08f_525400626534row16_col14\" class=\"data row16 col14\" >0.355779</td>\n",
       "                        <td id=\"T_a53640f8_46d0_11eb_a08f_525400626534row16_col15\" class=\"data row16 col15\" >-0.059221</td>\n",
       "                        <td id=\"T_a53640f8_46d0_11eb_a08f_525400626534row16_col16\" class=\"data row16 col16\" >1.000000</td>\n",
       "            </tr>\n",
       "    </tbody></table>"
      ],
      "text/plain": [
       "<pandas.io.formats.style.Styler at 0x7fc5f1df4970>"
      ]
     },
     "execution_count": 21,
     "metadata": {},
     "output_type": "execute_result"
    }
   ],
   "source": [
    "# Correlation\n",
    "df = track_df.copy()\n",
    "df.corr().style.background_gradient(axis=None)"
   ]
  },
  {
   "cell_type": "code",
   "execution_count": 22,
   "metadata": {
    "collapsed": false
   },
   "outputs": [
    {
     "data": {
      "image/png": "[encoded data removed]",
      "text/plain": [
       "<Figure size 432x288 with 1 Axes>"
      ]
     },
     "metadata": {},
     "output_type": "display_data"
    }
   ],
   "source": [
    "# Scatter plot of Stringency index and Rt\n",
    "df = track_df.copy()\n",
    "sns.scatterplot(data=df, x=\"Stringency_index\", y=\"Rt\", hue=\"Country\", legend=\"brief\", marker=\"+\")\n",
    "bbox_to_anchor=(1.02, 0)\n",
    "bbox_loc=\"lower left\"\n",
    "plt.legend(bbox_to_anchor=bbox_to_anchor, loc=bbox_loc, borderaxespad=0)\n",
    "plt.title(\"Relationship of Stringency index and reproduction number\")\n",
    "plt.ylabel(\"Reproduction number\")\n",
    "plt.xlabel(\"Stringency index\")\n",
    "plt.show()"
   ]
  }
 ],
 "metadata": {
  "kernelspec": {
   "display_name": "Python 3.8.2 64-bit ('.venv': venv)",
   "name": "python_defaultSpec_1597669925034"
  },
  "language_info": {
   "codemirror_mode": {
    "name": "ipython",
    "version": 3
   },
   "file_extension": ".py",
   "mimetype": "text/x-python",
   "name": "python",
   "nbconvert_exporter": "python",
   "pygments_lexer": "ipython3",
   "version": "3.8.2-final"
  }
 },
 "nbformat": 4,
 "nbformat_minor": 4
}
